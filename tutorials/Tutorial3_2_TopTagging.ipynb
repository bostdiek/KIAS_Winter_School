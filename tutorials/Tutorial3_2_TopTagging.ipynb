{
 "cells": [
  {
   "cell_type": "markdown",
   "id": "a5931506-3015-4418-9d72-2b884f532fb2",
   "metadata": {},
   "source": [
    "# Top Tagging\n",
    "Now that we have finished with processing the data files, lets actually get to top tagging."
   ]
  },
  {
   "cell_type": "code",
   "execution_count": 1,
   "id": "5d715b4a-f6ef-4c60-beb3-dbcb729c14ae",
   "metadata": {},
   "outputs": [],
   "source": [
    "# Allows for plotting within the notebook\n",
    "%matplotlib inline\n",
    "\n",
    "# Packages from last time\n",
    "import numpy as np\n",
    "import matplotlib.pyplot as plt"
   ]
  },
  {
   "cell_type": "code",
   "execution_count": 2,
   "id": "4f5342bb-9417-4cad-b46b-42eff7f16b1c",
   "metadata": {},
   "outputs": [],
   "source": [
    "# The commands make the plots look nice\n",
    "plt.rcParams.update({'font.family': 'cmr10',\n",
    "                     'font.size': 12,\n",
    "                     'font.serif': 'cmr10',\n",
    "                     'axes.unicode_minus': False,\n",
    "                     'axes.labelsize': 12,\n",
    "                     'figure.figsize': (3, 3),\n",
    "                     'figure.dpi': 80,\n",
    "                     'mathtext.fontset': 'cm',\n",
    "                     'mathtext.rm': 'serif',\n",
    "                     'xtick.direction': 'in',\n",
    "                     'ytick.direction': 'in',\n",
    "                     'xtick.top': True,\n",
    "                     'ytick.right': True,\n",
    "                     'axes.formatter.use_mathtext': True\n",
    "                     })"
   ]
  },
  {
   "cell_type": "code",
   "execution_count": 3,
   "id": "6121d999-e697-4d15-96c6-112d6327342c",
   "metadata": {},
   "outputs": [],
   "source": [
    "import keras\n",
    "from keras import Sequential    # This is the easiest method to build\n",
    "                                # a network, but not the most flexible\n",
    "    \n",
    "from keras.layers import Dense, Dropout  # For layers which are fully connected\n",
    "from sklearn.metrics import roc_curve, auc\n",
    "from scipy.interpolate import interp1d\n",
    "from sklearn.preprocessing import StandardScaler\n",
    "from keras.callbacks import EarlyStopping, ReduceLROnPlateau\n",
    "from tensorflow.keras.optimizers import Adam"
   ]
  },
  {
   "cell_type": "markdown",
   "id": "44aebfcd-9404-4a3b-8442-2146c55f40dc",
   "metadata": {},
   "source": [
    "## Load Data - N subjettiness"
   ]
  },
  {
   "cell_type": "code",
   "execution_count": 4,
   "id": "847902f1-63ab-49ea-b99a-72b1ad6f0aef",
   "metadata": {},
   "outputs": [],
   "source": [
    "training_n = np.load('../data/top_tagging/smaller_raw/nsubjettiness_training.npy')\n",
    "val_n = np.load('../data/top_tagging/smaller_raw/nsubjettiness_val.npy')\n",
    "test_n = np.load('../data/top_tagging/smaller_raw/nsubjettiness_test.npy')"
   ]
  },
  {
   "cell_type": "code",
   "execution_count": 5,
   "id": "da12ad45-8c9b-4bd5-8a61-308e3db95037",
   "metadata": {},
   "outputs": [],
   "source": [
    "training_labels = np.load('../data/top_tagging/smaller_raw/training_labels.npy')\n",
    "val_labels = np.load('../data/top_tagging/smaller_raw/val_labels.npy')\n",
    "test_labels = np.load('../data/top_tagging/smaller_raw/test_labels.npy')"
   ]
  },
  {
   "cell_type": "markdown",
   "id": "dcd5ada5-6ece-4d82-84a9-7ec1cdb2923a",
   "metadata": {},
   "source": [
    "Scale the data"
   ]
  },
  {
   "cell_type": "code",
   "execution_count": 6,
   "id": "5b232396-3071-4b8b-9f43-db683803a5cc",
   "metadata": {},
   "outputs": [],
   "source": [
    "SS_n = StandardScaler()\n",
    "training_n = SS_n.fit_transform(training_n)\n",
    "val_n = SS_n.transform(val_n)\n",
    "test_n = SS_n.transform(test_n)"
   ]
  },
  {
   "cell_type": "markdown",
   "id": "39b2a691-5825-4e11-b441-1fe5b412cee9",
   "metadata": {},
   "source": [
    "Build a network"
   ]
  },
  {
   "cell_type": "code",
   "execution_count": 7,
   "id": "1d215bb8-59e4-4787-9bc7-a5383ca0e135",
   "metadata": {},
   "outputs": [
    {
     "name": "stderr",
     "output_type": "stream",
     "text": [
      "2021-12-29 12:43:05.766388: W tensorflow/stream_executor/platform/default/dso_loader.cc:64] Could not load dynamic library 'libcuda.so.1'; dlerror: libcuda.so.1: cannot open shared object file: No such file or directory\n",
      "2021-12-29 12:43:05.766519: W tensorflow/stream_executor/cuda/cuda_driver.cc:269] failed call to cuInit: UNKNOWN ERROR (303)\n",
      "2021-12-29 12:43:05.766586: I tensorflow/stream_executor/cuda/cuda_diagnostics.cc:156] kernel driver does not appear to be running on this host (13544a510077): /proc/driver/nvidia/version does not exist\n",
      "2021-12-29 12:43:05.820744: I tensorflow/core/platform/cpu_feature_guard.cc:142] This TensorFlow binary is optimized with oneAPI Deep Neural Network Library (oneDNN) to use the following CPU instructions in performance-critical operations:  SSE4.1 SSE4.2 AVX AVX2 FMA\n",
      "To enable them in other operations, rebuild TensorFlow with the appropriate compiler flags.\n"
     ]
    },
    {
     "name": "stdout",
     "output_type": "stream",
     "text": [
      "Model: \"sequential\"\n",
      "_________________________________________________________________\n",
      "Layer (type)                 Output Shape              Param #   \n",
      "=================================================================\n",
      "dense (Dense)                (None, 100)               1300      \n",
      "_________________________________________________________________\n",
      "dropout (Dropout)            (None, 100)               0         \n",
      "_________________________________________________________________\n",
      "dense_1 (Dense)              (None, 100)               10100     \n",
      "_________________________________________________________________\n",
      "dropout_1 (Dropout)          (None, 100)               0         \n",
      "_________________________________________________________________\n",
      "dense_2 (Dense)              (None, 100)               10100     \n",
      "_________________________________________________________________\n",
      "dropout_2 (Dropout)          (None, 100)               0         \n",
      "_________________________________________________________________\n",
      "dense_3 (Dense)              (None, 100)               10100     \n",
      "_________________________________________________________________\n",
      "dense_4 (Dense)              (None, 1)                 101       \n",
      "=================================================================\n",
      "Total params: 31,701\n",
      "Trainable params: 31,701\n",
      "Non-trainable params: 0\n",
      "_________________________________________________________________\n"
     ]
    }
   ],
   "source": [
    "n_sub_model = Sequential()\n",
    "n_sub_model.add(Dense(100, input_dim=training_n.shape[1], activation='relu'))\n",
    "n_sub_model.add(Dropout(rate=0.2))\n",
    "n_sub_model.add(Dense(100, activation='relu'))\n",
    "n_sub_model.add(Dropout(rate=0.2))\n",
    "n_sub_model.add(Dense(100, activation='relu'))\n",
    "n_sub_model.add(Dropout(rate=0.2))\n",
    "n_sub_model.add(Dense(100, activation='relu'))\n",
    "n_sub_model.add(Dense(1, activation='sigmoid'))\n",
    "\n",
    "# Now we compile, where we tell Adam where to start at.\n",
    "n_sub_model.compile(loss='binary_crossentropy', optimizer=Adam(learning_rate=1e-3))\n",
    "\n",
    "n_sub_model.summary()"
   ]
  },
  {
   "cell_type": "code",
   "execution_count": 8,
   "id": "6583e6b9-0183-46b7-9e0a-700a4890d5f9",
   "metadata": {},
   "outputs": [],
   "source": [
    "es = EarlyStopping(patience=8,                # If the validation loss has not improved for 15 epochs, stop training\n",
    "                   restore_best_weights=True,  # When we stop, go back to when it generalized to the validation data the best\n",
    "                   verbose=1)\n",
    "\n",
    "reduce_rate = ReduceLROnPlateau(patience=3, # If the validation loss has not improved for 5 epochs, lower the rate\n",
    "                                factor=0.1, # cut the rate in half\n",
    "                                verbose=1,  # Tell us when this happens\n",
    "                                min_lr=1e-5 # If the learning rate is too small, the updates don't do very much\n",
    "                               )\n",
    "my_callbacks = [es, reduce_rate]"
   ]
  },
  {
   "cell_type": "code",
   "execution_count": 9,
   "id": "dc349e6f-4ca4-4f1c-91bf-39b8d6df3f0d",
   "metadata": {},
   "outputs": [
    {
     "name": "stderr",
     "output_type": "stream",
     "text": [
      "2021-12-29 12:43:10.298132: I tensorflow/compiler/mlir/mlir_graph_optimization_pass.cc:185] None of the MLIR Optimization Passes are enabled (registered 2)\n"
     ]
    },
    {
     "name": "stdout",
     "output_type": "stream",
     "text": [
      "Epoch 1/200\n",
      "6250/6250 [==============================] - 25s 4ms/step - loss: 0.2852 - val_loss: 0.2615\n",
      "Epoch 2/200\n",
      "6250/6250 [==============================] - 24s 4ms/step - loss: 0.2611 - val_loss: 0.2568\n",
      "Epoch 3/200\n",
      "6250/6250 [==============================] - 31s 5ms/step - loss: 0.2530 - val_loss: 0.2438\n",
      "Epoch 4/200\n",
      "6250/6250 [==============================] - 19s 3ms/step - loss: 0.2496 - val_loss: 0.2421\n",
      "Epoch 5/200\n",
      "6250/6250 [==============================] - 21s 3ms/step - loss: 0.2480 - val_loss: 0.2462\n",
      "Epoch 6/200\n",
      "6250/6250 [==============================] - 22s 4ms/step - loss: 0.2466 - val_loss: 0.2429\n",
      "Epoch 7/200\n",
      "6250/6250 [==============================] - 22s 3ms/step - loss: 0.2454 - val_loss: 0.2410\n",
      "Epoch 8/200\n",
      "6250/6250 [==============================] - 20s 3ms/step - loss: 0.2447 - val_loss: 0.2422\n",
      "Epoch 9/200\n",
      "6250/6250 [==============================] - 21s 3ms/step - loss: 0.2437 - val_loss: 0.2428\n",
      "Epoch 10/200\n",
      "6250/6250 [==============================] - 22s 4ms/step - loss: 0.2433 - val_loss: 0.2410\n",
      "\n",
      "Epoch 00010: ReduceLROnPlateau reducing learning rate to 0.00010000000474974513.\n",
      "Epoch 11/200\n",
      "6250/6250 [==============================] - 30s 5ms/step - loss: 0.2367 - val_loss: 0.2357\n",
      "Epoch 12/200\n",
      "6250/6250 [==============================] - 20s 3ms/step - loss: 0.2356 - val_loss: 0.2356\n",
      "Epoch 13/200\n",
      "6250/6250 [==============================] - 19s 3ms/step - loss: 0.2355 - val_loss: 0.2350\n",
      "Epoch 14/200\n",
      "6250/6250 [==============================] - 19s 3ms/step - loss: 0.2350 - val_loss: 0.2346\n",
      "Epoch 15/200\n",
      "6250/6250 [==============================] - 19s 3ms/step - loss: 0.2345 - val_loss: 0.2345\n",
      "Epoch 16/200\n",
      "6250/6250 [==============================] - 18s 3ms/step - loss: 0.2343 - val_loss: 0.2346\n",
      "Epoch 17/200\n",
      "6250/6250 [==============================] - 19s 3ms/step - loss: 0.2342 - val_loss: 0.2347\n",
      "Epoch 18/200\n",
      "6250/6250 [==============================] - 22s 3ms/step - loss: 0.2337 - val_loss: 0.2343\n",
      "Epoch 19/200\n",
      "6250/6250 [==============================] - 23s 4ms/step - loss: 0.2336 - val_loss: 0.2346\n",
      "Epoch 20/200\n",
      "6250/6250 [==============================] - 23s 4ms/step - loss: 0.2335 - val_loss: 0.2346\n",
      "Epoch 21/200\n",
      "6250/6250 [==============================] - 24s 4ms/step - loss: 0.2335 - val_loss: 0.2347\n",
      "\n",
      "Epoch 00021: ReduceLROnPlateau reducing learning rate to 1.0000000474974514e-05.\n",
      "Epoch 22/200\n",
      "6250/6250 [==============================] - 26s 4ms/step - loss: 0.2325 - val_loss: 0.2341\n",
      "Epoch 23/200\n",
      "6250/6250 [==============================] - 25s 4ms/step - loss: 0.2321 - val_loss: 0.2340\n",
      "Epoch 24/200\n",
      "6250/6250 [==============================] - 41s 7ms/step - loss: 0.2324 - val_loss: 0.2340\n",
      "Epoch 25/200\n",
      "6250/6250 [==============================] - 21s 3ms/step - loss: 0.2322 - val_loss: 0.2340\n",
      "Epoch 26/200\n",
      "6250/6250 [==============================] - 18s 3ms/step - loss: 0.2317 - val_loss: 0.2339\n",
      "Epoch 27/200\n",
      "6250/6250 [==============================] - 21s 3ms/step - loss: 0.2319 - val_loss: 0.2340\n",
      "\n",
      "Epoch 00027: ReduceLROnPlateau reducing learning rate to 1e-05.\n",
      "Epoch 28/200\n",
      "6250/6250 [==============================] - 22s 3ms/step - loss: 0.2319 - val_loss: 0.2340\n",
      "Epoch 29/200\n",
      "6250/6250 [==============================] - 27s 4ms/step - loss: 0.2318 - val_loss: 0.2340\n",
      "Epoch 30/200\n",
      "6250/6250 [==============================] - 24s 4ms/step - loss: 0.2323 - val_loss: 0.2339\n",
      "Epoch 31/200\n",
      "6250/6250 [==============================] - 21s 3ms/step - loss: 0.2318 - val_loss: 0.2338\n",
      "Epoch 32/200\n",
      "6250/6250 [==============================] - 25s 4ms/step - loss: 0.2317 - val_loss: 0.2339\n",
      "Epoch 33/200\n",
      "6250/6250 [==============================] - 31s 5ms/step - loss: 0.2319 - val_loss: 0.2339\n",
      "Epoch 34/200\n",
      "6250/6250 [==============================] - 26s 4ms/step - loss: 0.2317 - val_loss: 0.2339\n",
      "Epoch 35/200\n",
      "6250/6250 [==============================] - 27s 4ms/step - loss: 0.2316 - val_loss: 0.2339\n",
      "Epoch 36/200\n",
      "6250/6250 [==============================] - 24s 4ms/step - loss: 0.2323 - val_loss: 0.2340\n",
      "Epoch 37/200\n",
      "6250/6250 [==============================] - 26s 4ms/step - loss: 0.2314 - val_loss: 0.2339\n",
      "Epoch 38/200\n",
      "6250/6250 [==============================] - 22s 4ms/step - loss: 0.2317 - val_loss: 0.2338\n",
      "Epoch 39/200\n",
      "6250/6250 [==============================] - 22s 4ms/step - loss: 0.2319 - val_loss: 0.2339\n",
      "Restoring model weights from the end of the best epoch.\n",
      "Epoch 00039: early stopping\n"
     ]
    }
   ],
   "source": [
    "training_history_n = n_sub_model.fit(training_n, training_labels,\n",
    "                                     validation_data=(val_n, val_labels),\n",
    "                                     epochs=200,\n",
    "                                     callbacks=my_callbacks,\n",
    "                                     verbose=1\n",
    "                                    )"
   ]
  },
  {
   "cell_type": "code",
   "execution_count": 10,
   "id": "07234bd7-df35-4b2b-82d1-f8834d22b989",
   "metadata": {},
   "outputs": [
    {
     "data": {
      "text/plain": [
       "[<matplotlib.lines.Line2D at 0x7fd813fdc3a0>]"
      ]
     },
     "execution_count": 10,
     "metadata": {},
     "output_type": "execute_result"
    },
    {
     "data": {
      "image/png": "[encoded data removed]",
      "text/plain": [
       "<Figure size 240x240 with 1 Axes>"
      ]
     },
     "metadata": {
      "needs_background": "light"
     },
     "output_type": "display_data"
    }
   ],
   "source": [
    "plt.plot(training_history_n.history['loss'])\n",
    "plt.plot(training_history_n.history['val_loss'])"
   ]
  },
  {
   "cell_type": "markdown",
   "id": "5760d4c4-7aef-43f4-9b07-0a5c0712f2f1",
   "metadata": {},
   "source": [
    "Now, let's get the predictions for the validation set and compute the area under the curve."
   ]
  },
  {
   "cell_type": "code",
   "execution_count": 11,
   "id": "75878b12-0fff-40e4-9d0c-5df8a85af8b6",
   "metadata": {},
   "outputs": [],
   "source": [
    "val_pred_n = n_sub_model.predict(val_n)"
   ]
  },
  {
   "cell_type": "code",
   "execution_count": 12,
   "id": "705a1296-13ca-431d-a6e4-6725b3fe88c4",
   "metadata": {},
   "outputs": [],
   "source": [
    "fpr_n, tpr_n, thresholds_n = roc_curve(y_true=val_labels,\n",
    "                                       y_score=val_pred_n)"
   ]
  },
  {
   "cell_type": "code",
   "execution_count": 13,
   "id": "d7a30182-180a-4022-bf98-cdcb6af45ded",
   "metadata": {},
   "outputs": [
    {
     "name": "stdout",
     "output_type": "stream",
     "text": [
      "The area under the curve is 0.965\n",
      "The backround rejection at signal efficieny 0.3 is 312.500\n"
     ]
    }
   ],
   "source": [
    "auc_n = auc(fpr_n, tpr_n)\n",
    "\n",
    "background_eff_n = interp1d(tpr_n, fpr_n)\n",
    "working_point_n = background_eff_n(0.3)\n",
    "\n",
    "print(f'The area under the curve is {auc_n:0.3f}')\n",
    "print(f'The backround rejection at signal efficieny 0.3 is {1/working_point_n:0.3f}')"
   ]
  },
  {
   "cell_type": "markdown",
   "id": "e40d9723-f22c-418f-a5ac-6afd489b4bfb",
   "metadata": {},
   "source": [
    "## Images\n",
    "\n",
    "To train convolutional networks, a GPU is VERY helpful. I assume that most people are not using a computer with a GPU. Therefore, let's try the technique of _transfer learning_. We will load in a model that is pretrained on a large batch of images (from google, facebook, etc). We will then chop off the last part of the network, and attach a few dense layers, and only allow the dense layers to train. Hopefully, the shape recognition coming from looking at millions of images will help us here."
   ]
  },
  {
   "cell_type": "code",
   "execution_count": 14,
   "id": "319b4306-b683-4875-b957-db119ddd3844",
   "metadata": {},
   "outputs": [],
   "source": [
    "training_images = np.load('../data/top_tagging/smaller_raw/training_images.npy')\n",
    "val_images = np.load('../data/top_tagging/smaller_raw/val_images.npy')\n",
    "test_images = np.load('../data/top_tagging/smaller_raw/test_images.npy')"
   ]
  },
  {
   "cell_type": "code",
   "execution_count": 15,
   "id": "b2db5322-4c1f-4514-97ea-39a787713634",
   "metadata": {},
   "outputs": [
    {
     "data": {
      "text/plain": [
       "(33, 33, 1)"
      ]
     },
     "execution_count": 15,
     "metadata": {},
     "output_type": "execute_result"
    }
   ],
   "source": [
    "training_images[0].shape"
   ]
  },
  {
   "cell_type": "code",
   "execution_count": 16,
   "id": "118b6749-31b7-4ef9-a3ef-9e1bef4c3209",
   "metadata": {},
   "outputs": [
    {
     "ename": "ValueError",
     "evalue": "Input size must be at least 71x71; got `input_shape=(33, 33, 3)`",
     "output_type": "error",
     "traceback": [
      "\u001b[0;31m---------------------------------------------------------------------------\u001b[0m",
      "\u001b[0;31mValueError\u001b[0m                                Traceback (most recent call last)",
      "\u001b[0;32m/tmp/ipykernel_68/2385071049.py\u001b[0m in \u001b[0;36m<module>\u001b[0;34m\u001b[0m\n\u001b[0;32m----> 1\u001b[0;31m base_model = keras.applications.xception.Xception(\n\u001b[0m\u001b[1;32m      2\u001b[0m     \u001b[0minclude_top\u001b[0m\u001b[0;34m=\u001b[0m\u001b[0;32mFalse\u001b[0m\u001b[0;34m,\u001b[0m\u001b[0;34m\u001b[0m\u001b[0;34m\u001b[0m\u001b[0m\n\u001b[1;32m      3\u001b[0m     \u001b[0mweights\u001b[0m\u001b[0;34m=\u001b[0m\u001b[0;34m\"imagenet\"\u001b[0m\u001b[0;34m,\u001b[0m\u001b[0;34m\u001b[0m\u001b[0;34m\u001b[0m\u001b[0m\n\u001b[1;32m      4\u001b[0m     \u001b[0minput_shape\u001b[0m\u001b[0;34m=\u001b[0m\u001b[0;34m(\u001b[0m\u001b[0;36m33\u001b[0m\u001b[0;34m,\u001b[0m \u001b[0;36m33\u001b[0m\u001b[0;34m,\u001b[0m \u001b[0;36m3\u001b[0m\u001b[0;34m)\u001b[0m\u001b[0;34m\u001b[0m\u001b[0;34m\u001b[0m\u001b[0m\n\u001b[1;32m      5\u001b[0m )\n",
      "\u001b[0;32m/opt/conda/lib/python3.9/site-packages/keras/applications/xception.py\u001b[0m in \u001b[0;36mXception\u001b[0;34m(include_top, weights, input_tensor, input_shape, pooling, classes, classifier_activation)\u001b[0m\n\u001b[1;32m    125\u001b[0m \u001b[0;34m\u001b[0m\u001b[0m\n\u001b[1;32m    126\u001b[0m   \u001b[0;31m# Determine proper input shape\u001b[0m\u001b[0;34m\u001b[0m\u001b[0;34m\u001b[0m\u001b[0m\n\u001b[0;32m--> 127\u001b[0;31m   input_shape = imagenet_utils.obtain_input_shape(\n\u001b[0m\u001b[1;32m    128\u001b[0m       \u001b[0minput_shape\u001b[0m\u001b[0;34m,\u001b[0m\u001b[0;34m\u001b[0m\u001b[0;34m\u001b[0m\u001b[0m\n\u001b[1;32m    129\u001b[0m       \u001b[0mdefault_size\u001b[0m\u001b[0;34m=\u001b[0m\u001b[0;36m299\u001b[0m\u001b[0;34m,\u001b[0m\u001b[0;34m\u001b[0m\u001b[0;34m\u001b[0m\u001b[0m\n",
      "\u001b[0;32m/opt/conda/lib/python3.9/site-packages/keras/applications/imagenet_utils.py\u001b[0m in \u001b[0;36mobtain_input_shape\u001b[0;34m(input_shape, default_size, min_size, data_format, require_flatten, weights)\u001b[0m\n\u001b[1;32m    367\u001b[0m         if ((input_shape[0] is not None and input_shape[0] < min_size) or\n\u001b[1;32m    368\u001b[0m             (input_shape[1] is not None and input_shape[1] < min_size)):\n\u001b[0;32m--> 369\u001b[0;31m           raise ValueError('Input size must be at least ' + str(min_size) +\n\u001b[0m\u001b[1;32m    370\u001b[0m                            \u001b[0;34m'x'\u001b[0m \u001b[0;34m+\u001b[0m \u001b[0mstr\u001b[0m\u001b[0;34m(\u001b[0m\u001b[0mmin_size\u001b[0m\u001b[0;34m)\u001b[0m \u001b[0;34m+\u001b[0m \u001b[0;34m'; got `input_shape='\u001b[0m \u001b[0;34m+\u001b[0m\u001b[0;34m\u001b[0m\u001b[0;34m\u001b[0m\u001b[0m\n\u001b[1;32m    371\u001b[0m                            str(input_shape) + '`')\n",
      "\u001b[0;31mValueError\u001b[0m: Input size must be at least 71x71; got `input_shape=(33, 33, 3)`"
     ]
    }
   ],
   "source": [
    "base_model = keras.applications.xception.Xception(\n",
    "    include_top=False,\n",
    "    weights=\"imagenet\",\n",
    "    input_shape=(33, 33, 3)\n",
    ")\n",
    "base_model.trainable = False\n",
    "\n",
    "# Create a new model on top\n",
    "inputs = keras.Input(shape=(33, 33, 3))\n",
    "# We make sure that the base_model is running in inference mode here,\n",
    "# by passing `training=False`. This is important for fine-tuning, as you will\n",
    "# learn in a few paragraphs.\n",
    "x = base_model(inputs, training=False)\n",
    "# Convert features of shape `base_model.output_shape[1:]` to vectors\n",
    "x = keras.layers.GlobalAveragePooling2D()(x)\n",
    "# A Dense classifier with a single unit (binary classification)\n",
    "outputs = Dense(1, activation='sigmoid')(x)\n",
    "model = keras.Model(inputs, outputs)"
   ]
  },
  {
   "cell_type": "markdown",
   "id": "27977748-0992-4357-a5c4-d32ec0f51f2f",
   "metadata": {},
   "source": [
    "Unfortunately, it seems like our images are actually too small to use these methods for. Let's instead try training a basic CNN."
   ]
  },
  {
   "cell_type": "code",
   "execution_count": 17,
   "id": "8c0e1d94-a052-4d78-a003-14cffda16b3f",
   "metadata": {},
   "outputs": [],
   "source": [
    "from keras.layers import Conv2D, MaxPool2D, Flatten"
   ]
  },
  {
   "cell_type": "code",
   "execution_count": 18,
   "id": "17b74085-c685-429a-a4ba-0e0790effe2d",
   "metadata": {},
   "outputs": [],
   "source": [
    "model_images = Sequential()\n",
    "model_images.add(Conv2D(input_shape=(33, 33, 1), filters=10, kernel_size=3, activation='relu'))\n",
    "model_images.add(Conv2D(filters=10, kernel_size=3, activation='relu'))\n",
    "model_images.add(MaxPool2D(pool_size=(2, 2)))\n",
    "model_images.add(Conv2D(input_shape=(33, 33, 1), filters=10, kernel_size=3, activation='relu'))\n",
    "model_images.add(Conv2D(filters=10, kernel_size=3, activation='relu'))\n",
    "model_images.add(MaxPool2D(pool_size=(2, 2)))\n",
    "model_images.add(Flatten())\n",
    "model_images.add(Dense(25, activation='relu'))\n",
    "model_images.add(Dense(1, activation='sigmoid'))"
   ]
  },
  {
   "cell_type": "code",
   "execution_count": 19,
   "id": "59bfa87f-23e3-44a3-b066-380c386eb9d7",
   "metadata": {},
   "outputs": [
    {
     "name": "stdout",
     "output_type": "stream",
     "text": [
      "Model: \"sequential_1\"\n",
      "_________________________________________________________________\n",
      "Layer (type)                 Output Shape              Param #   \n",
      "=================================================================\n",
      "conv2d (Conv2D)              (None, 31, 31, 10)        100       \n",
      "_________________________________________________________________\n",
      "conv2d_1 (Conv2D)            (None, 29, 29, 10)        910       \n",
      "_________________________________________________________________\n",
      "max_pooling2d (MaxPooling2D) (None, 14, 14, 10)        0         \n",
      "_________________________________________________________________\n",
      "conv2d_2 (Conv2D)            (None, 12, 12, 10)        910       \n",
      "_________________________________________________________________\n",
      "conv2d_3 (Conv2D)            (None, 10, 10, 10)        910       \n",
      "_________________________________________________________________\n",
      "max_pooling2d_1 (MaxPooling2 (None, 5, 5, 10)          0         \n",
      "_________________________________________________________________\n",
      "flatten (Flatten)            (None, 250)               0         \n",
      "_________________________________________________________________\n",
      "dense_5 (Dense)              (None, 25)                6275      \n",
      "_________________________________________________________________\n",
      "dense_6 (Dense)              (None, 1)                 26        \n",
      "=================================================================\n",
      "Total params: 9,131\n",
      "Trainable params: 9,131\n",
      "Non-trainable params: 0\n",
      "_________________________________________________________________\n"
     ]
    }
   ],
   "source": [
    "model_images.summary()"
   ]
  },
  {
   "cell_type": "code",
   "execution_count": 20,
   "id": "5c5432a9-0763-4e61-94c2-e43e80c24be5",
   "metadata": {},
   "outputs": [],
   "source": [
    "model_images.compile(loss='binary_crossentropy', optimizer=Adam(learning_rate=1e-3))"
   ]
  },
  {
   "cell_type": "markdown",
   "id": "fc07e52e-47ba-4b4f-a1e4-75b96420b1ae",
   "metadata": {},
   "source": [
    "Similar to dense networks, it can also be useful to normalize the images. Load in the zero_center and standardize functions which will subtract the mean image and divide by the standard deviation per pixel."
   ]
  },
  {
   "cell_type": "code",
   "execution_count": 21,
   "id": "10242aac-699d-48ab-8535-c1acae9bfccf",
   "metadata": {},
   "outputs": [],
   "source": [
    "from energyflow.utils import standardize, zero_center"
   ]
  },
  {
   "cell_type": "code",
   "execution_count": 22,
   "id": "7e5f340e-ab28-44a6-8b37-1e7bb4c60219",
   "metadata": {},
   "outputs": [],
   "source": [
    "training_images_norm, val_images_norm, test_images_norm = standardize(*zero_center(\n",
    "    training_images, val_images, test_images))\n"
   ]
  },
  {
   "cell_type": "code",
   "execution_count": 23,
   "id": "181e8c94-6b3d-4ba7-bae2-634231cebb82",
   "metadata": {},
   "outputs": [
    {
     "name": "stdout",
     "output_type": "stream",
     "text": [
      "Epoch 1/50\n",
      "6250/6250 [==============================] - 179s 29ms/step - loss: 0.2610 - val_loss: 0.2449\n",
      "Epoch 2/50\n",
      "6250/6250 [==============================] - 188s 30ms/step - loss: 0.2344 - val_loss: 0.2376\n",
      "Epoch 3/50\n",
      "6250/6250 [==============================] - 217s 35ms/step - loss: 0.2285 - val_loss: 0.2244\n",
      "Epoch 4/50\n",
      "6250/6250 [==============================] - 196s 31ms/step - loss: 0.2238 - val_loss: 0.2258\n",
      "Epoch 5/50\n",
      "6250/6250 [==============================] - 189s 30ms/step - loss: 0.2212 - val_loss: 0.2277\n",
      "Epoch 6/50\n",
      "6250/6250 [==============================] - 181s 29ms/step - loss: 0.2181 - val_loss: 0.2245\n",
      "\n",
      "Epoch 00006: ReduceLROnPlateau reducing learning rate to 0.00010000000474974513.\n",
      "Epoch 7/50\n",
      "6250/6250 [==============================] - 182s 29ms/step - loss: 0.2050 - val_loss: 0.2162\n",
      "Epoch 8/50\n",
      "6250/6250 [==============================] - 203s 32ms/step - loss: 0.2027 - val_loss: 0.2161\n",
      "Epoch 9/50\n",
      "6250/6250 [==============================] - 181s 29ms/step - loss: 0.2017 - val_loss: 0.2169\n",
      "Epoch 10/50\n",
      "6250/6250 [==============================] - 184s 30ms/step - loss: 0.2008 - val_loss: 0.2159\n",
      "Epoch 11/50\n",
      "6250/6250 [==============================] - 183s 29ms/step - loss: 0.2002 - val_loss: 0.2168\n",
      "Epoch 12/50\n",
      "6250/6250 [==============================] - 190s 30ms/step - loss: 0.1997 - val_loss: 0.2163\n",
      "Epoch 13/50\n",
      "6250/6250 [==============================] - 187s 30ms/step - loss: 0.1989 - val_loss: 0.2161\n",
      "\n",
      "Epoch 00013: ReduceLROnPlateau reducing learning rate to 1.0000000474974514e-05.\n",
      "Epoch 14/50\n",
      "6250/6250 [==============================] - 182s 29ms/step - loss: 0.1970 - val_loss: 0.2162\n",
      "Epoch 15/50\n",
      "6250/6250 [==============================] - 188s 30ms/step - loss: 0.1967 - val_loss: 0.2164\n",
      "Epoch 16/50\n",
      "6250/6250 [==============================] - 182s 29ms/step - loss: 0.1966 - val_loss: 0.2162\n",
      "\n",
      "Epoch 00016: ReduceLROnPlateau reducing learning rate to 1e-05.\n",
      "Epoch 17/50\n",
      "6250/6250 [==============================] - 190s 30ms/step - loss: 0.1965 - val_loss: 0.2163\n",
      "Epoch 18/50\n",
      "6250/6250 [==============================] - 183s 29ms/step - loss: 0.1964 - val_loss: 0.2162\n",
      "Restoring model weights from the end of the best epoch.\n",
      "Epoch 00018: early stopping\n"
     ]
    }
   ],
   "source": [
    "training_history_images = model_images.fit(training_images_norm, training_labels,\n",
    "                                           validation_data=(val_images_norm, val_labels),\n",
    "                                           epochs=50,\n",
    "                                           callbacks=my_callbacks,\n",
    "                                           verbose=1\n",
    "                                          )"
   ]
  },
  {
   "cell_type": "code",
   "execution_count": 24,
   "id": "d6a0e452-e2b3-473b-a233-41ac7de3282f",
   "metadata": {},
   "outputs": [
    {
     "data": {
      "image/png": "[encoded data removed]",
      "text/plain": [
       "<Figure size 240x240 with 1 Axes>"
      ]
     },
     "metadata": {
      "needs_background": "light"
     },
     "output_type": "display_data"
    }
   ],
   "source": [
    "plt.plot(training_history_n.history['loss'], color='C0', label='N-Subjet train')\n",
    "plt.plot(training_history_n.history['val_loss'], color='C0', ls=':', label='N-Subjet val')\n",
    "plt.plot(training_history_images.history['loss'], color='C1', label='Images train')\n",
    "plt.plot(training_history_images.history['val_loss'], color='C1', ls=':', label='Images val')\n",
    "plt.legend(loc='upper right')\n",
    "plt.xlabel('Training Epoch')\n",
    "plt.ylabel('Binary Cross Entropy Loss')\n",
    "plt.show()"
   ]
  },
  {
   "cell_type": "code",
   "execution_count": 25,
   "id": "51240c22-8915-4585-85cb-dcfb452942e8",
   "metadata": {},
   "outputs": [],
   "source": [
    "val_pred_im = model_images.predict(val_images_norm)"
   ]
  },
  {
   "cell_type": "code",
   "execution_count": 26,
   "id": "598c9989-f94d-4a2c-a27e-c3a9735a264b",
   "metadata": {},
   "outputs": [],
   "source": [
    "fpr_im, tpr_im, thresholds_im = roc_curve(y_true=val_labels,\n",
    "                                          y_score=val_pred_im)"
   ]
  },
  {
   "cell_type": "code",
   "execution_count": 27,
   "id": "a00f8b44-af43-402a-99b6-afa78a1745e7",
   "metadata": {},
   "outputs": [
    {
     "name": "stdout",
     "output_type": "stream",
     "text": [
      "The area under the curve is 0.970\n",
      "The backround rejection at signal efficieny 0.3 is 333.333\n"
     ]
    }
   ],
   "source": [
    "auc_im = auc(fpr_im, tpr_im)\n",
    "\n",
    "background_eff_im = interp1d(tpr_im, fpr_im)\n",
    "working_point_im = background_eff_im(0.3)\n",
    "\n",
    "print(f'The area under the curve is {auc_im:0.3f}')\n",
    "print(f'The backround rejection at signal efficieny 0.3 is {1/working_point_im:0.3f}')"
   ]
  },
  {
   "cell_type": "markdown",
   "id": "7dcd4561-6669-48f9-966c-5e52c756de21",
   "metadata": {},
   "source": [
    "## Comparisons"
   ]
  },
  {
   "cell_type": "code",
   "execution_count": 35,
   "id": "a1744033-101b-481d-b122-1064736955c4",
   "metadata": {},
   "outputs": [
    {
     "name": "stderr",
     "output_type": "stream",
     "text": [
      "/tmp/ipykernel_68/4083190323.py:1: RuntimeWarning: divide by zero encountered in true_divide\n",
      "  plt.plot(tpr_n, 1/fpr_n, label='N-Subjet')\n",
      "/tmp/ipykernel_68/4083190323.py:2: RuntimeWarning: divide by zero encountered in true_divide\n",
      "  plt.plot(tpr_im, 1/fpr_im, label='Images')\n"
     ]
    },
    {
     "data": {
      "image/png": "[encoded data removed]",
      "text/plain": [
       "<Figure size 240x240 with 1 Axes>"
      ]
     },
     "metadata": {
      "needs_background": "light"
     },
     "output_type": "display_data"
    }
   ],
   "source": [
    "plt.plot(tpr_n, 1/fpr_n, label='N-Subjet')\n",
    "plt.plot(tpr_im, 1/fpr_im, label='Images')\n",
    "plt.minorticks_on()\n",
    "plt.yscale('log')\n",
    "plt.legend(loc='upper right')\n",
    "plt.xlabel('Signal Efficiency')\n",
    "plt.ylabel('Background Rejection')\n",
    "plt.show()"
   ]
  },
  {
   "cell_type": "code",
   "execution_count": 41,
   "id": "e0994566-3692-4c6d-bb42-54c316ec1282",
   "metadata": {},
   "outputs": [
    {
     "name": "stderr",
     "output_type": "stream",
     "text": [
      "/tmp/ipykernel_68/1687139291.py:1: RuntimeWarning: divide by zero encountered in true_divide\n",
      "  plt.plot(tpr_n, tpr_n/np.sqrt(fpr_n), label='N-Subjet')\n",
      "/tmp/ipykernel_68/1687139291.py:1: RuntimeWarning: invalid value encountered in true_divide\n",
      "  plt.plot(tpr_n, tpr_n/np.sqrt(fpr_n), label='N-Subjet')\n",
      "/tmp/ipykernel_68/1687139291.py:2: RuntimeWarning: divide by zero encountered in true_divide\n",
      "  plt.plot(tpr_im, tpr_im/np.sqrt(fpr_im), label='Images')\n",
      "/tmp/ipykernel_68/1687139291.py:2: RuntimeWarning: invalid value encountered in true_divide\n",
      "  plt.plot(tpr_im, tpr_im/np.sqrt(fpr_im), label='Images')\n"
     ]
    },
    {
     "data": {
      "image/png": "[encoded data removed]",
      "text/plain": [
       "<Figure size 240x240 with 1 Axes>"
      ]
     },
     "metadata": {
      "needs_background": "light"
     },
     "output_type": "display_data"
    }
   ],
   "source": [
    "plt.plot(tpr_n, tpr_n/np.sqrt(fpr_n), label='N-Subjet')\n",
    "plt.plot(tpr_im, tpr_im/np.sqrt(fpr_im), label='Images')\n",
    "plt.minorticks_on()\n",
    "# plt.yscale('log')\n",
    "plt.legend(loc='upper right')\n",
    "plt.xlabel('Signal Efficiency')\n",
    "plt.ylabel(r'Significance Improvement ($\\epsilon_S / \\sqrt{\\epsilon_B}$)')\n",
    "plt.show()"
   ]
  },
  {
   "cell_type": "markdown",
   "id": "58570e1b-dbc9-4814-8393-70f35cb960e5",
   "metadata": {},
   "source": [
    "Questions:\n",
    " * Which basis/method is more efficient?\n",
    " * How do these results compare to the top-tagging challenge?\n",
    " * How could we improve the results?"
   ]
  },
  {
   "cell_type": "markdown",
   "id": "26f595b4-4c8d-4ff9-86ba-c791529fb0fe",
   "metadata": {},
   "source": [
    "# Anomaly Detection"
   ]
  },
  {
   "cell_type": "code",
   "execution_count": null,
   "id": "e1fe359a-010a-44ba-a93f-d56269dc4362",
   "metadata": {},
   "outputs": [],
   "source": []
  }
 ],
 "metadata": {
  "kernelspec": {
   "display_name": "Python 3 (ipykernel)",
   "language": "python",
   "name": "python3"
  },
  "language_info": {
   "codemirror_mode": {
    "name": "ipython",
    "version": 3
   },
   "file_extension": ".py",
   "mimetype": "text/x-python",
   "name": "python",
   "nbconvert_exporter": "python",
   "pygments_lexer": "ipython3",
   "version": "3.9.7"
  }
 },
 "nbformat": 4,
 "nbformat_minor": 5
}
