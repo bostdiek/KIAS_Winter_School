{
 "cells": [
  {
   "cell_type": "markdown",
   "id": "e98ea532-43f6-4590-90cf-2edb698ef8c3",
   "metadata": {},
   "source": [
    "# Raw data for top tagging\n",
    "This notebook reads in the smaller dataset that was generated from `Tutorial3_0_TopTagging_ProcessRawData.ipynb`"
   ]
  },
  {
   "cell_type": "code",
   "execution_count": 1,
   "id": "ac66940b-55a1-4fc6-89b7-47c6e548c463",
   "metadata": {},
   "outputs": [],
   "source": [
    "import os\n",
    "import urllib\n",
    "\n",
    "import pandas as pd\n",
    "import numpy as np\n",
    "import matplotlib.pyplot as plt\n",
    "\n",
    "from tqdm import tqdm"
   ]
  },
  {
   "cell_type": "code",
   "execution_count": 2,
   "id": "dc2cc062-2c17-467a-9223-d9fb80f5868c",
   "metadata": {},
   "outputs": [],
   "source": [
    "# The commands make the plots look nice\n",
    "plt.rcParams.update({'font.family': 'cmr10',\n",
    "                     'font.size': 12,\n",
    "                     'font.serif': 'cmr10',\n",
    "                     'axes.unicode_minus': False,\n",
    "                     'axes.labelsize': 12,\n",
    "                     'figure.figsize': (3, 3),\n",
    "                     'figure.dpi': 80,\n",
    "                     'mathtext.fontset': 'cm',\n",
    "                     'mathtext.rm': 'serif',\n",
    "                     'xtick.direction': 'in',\n",
    "                     'ytick.direction': 'in',\n",
    "                     'xtick.top': True,\n",
    "                     'ytick.right': True,\n",
    "                     'axes.formatter.use_mathtext': True\n",
    "                     })"
   ]
  },
  {
   "cell_type": "markdown",
   "id": "151200e3-d336-4dc8-96c1-758b20853be2",
   "metadata": {},
   "source": [
    "**Description**\n",
    "\n",
    " * 14 TeV, hadronic tops for signal, qcd diets background, delphes ATLAS detector card with pythia \n",
    " * No MPI/pile-up included\n",
    " * We cluster particle-flow entries (produced by Delphes E-flow) into anti-kT 0.8 jets in the pT range [550,650]\n",
    " * All top jets are matched to a parton-level top within ∆R = 0.8, and to all top decay partons within 0.8\n",
    " * We also require |eta|_jet < 2\n",
    " * The leading 200 jet constituent four-momenta are stored, with zero-padding for jets with fewer than 200 (actually this is most of them, so maybe this could be lowered)\n",
    " * Constituents are sorted by pT, with the highest pT one first\n",
    " * The truth top four-momentum is stored as truth_px etc.\n",
    " * A flag (1 for top, 0 for QCD) is kept for each jet. It is called is_signal_new\n",
    " * The variable \"ttv\" (= test/train/validation) is kept for each jet. It indicates to which dataset the jet belongs. It is redundant as the different sets are already distributed as different files.\n"
   ]
  },
  {
   "cell_type": "markdown",
   "id": "a924d785-bdb1-4371-b8d2-f3f9e8fee844",
   "metadata": {},
   "source": [
    "## Training Data"
   ]
  },
  {
   "cell_type": "code",
   "execution_count": 3,
   "id": "ded4fd63-5820-417a-ad4f-d63a5b1e2f7b",
   "metadata": {},
   "outputs": [],
   "source": [
    "training_data_html = 'https://www.dropbox.com/s/c4bghtrmslt6sgg/training_events.npy?dl=0'\n",
    "training_labels_html = 'https://www.dropbox.com/s/8rskjcoq8io1j3h/training_labels.npy?dl=0'"
   ]
  },
  {
   "cell_type": "markdown",
   "id": "c946ca7a-dc6b-4ca2-8170-63b2838f8011",
   "metadata": {},
   "source": [
    "Checks to see if the files exist, if not, it downloads them from Bryan's dropbox."
   ]
  },
  {
   "cell_type": "code",
   "execution_count": 4,
   "id": "c598aaf2-6e67-4263-88eb-0988616300be",
   "metadata": {},
   "outputs": [],
   "source": [
    "train_file = '../data/top_tagging/smaller_raw/training_events.npy'\n",
    "if not os.path.isfile(train_file):\n",
    "    urllib.request.urlretrieve(training_data_html, filename=train_file)\n",
    "    \n",
    "train_label_file = '../data/top_tagging/smaller_raw/training_labels.npy'\n",
    "if not os.path.isfile(train_label_file):\n",
    "    urllib.request.urlretrieve(training_labels_html, filename=train_label_file)"
   ]
  },
  {
   "cell_type": "code",
   "execution_count": 5,
   "id": "936be38f-0630-4544-85cb-c5c33bf0f22b",
   "metadata": {},
   "outputs": [],
   "source": [
    "training_events = np.load(train_file)\n",
    "training_labels = np.load(train_label_file)"
   ]
  },
  {
   "cell_type": "markdown",
   "id": "97b98dc5-d226-4c40-9099-a9436585fef5",
   "metadata": {},
   "source": [
    "If the above code is not working, use the htmls above to dowload the data directly."
   ]
  },
  {
   "cell_type": "code",
   "execution_count": 6,
   "id": "8b55971f-cc50-4459-a961-2e77e29189ac",
   "metadata": {},
   "outputs": [
    {
     "name": "stdout",
     "output_type": "stream",
     "text": [
      "(200000, 100, 4) (200000, 1)\n"
     ]
    }
   ],
   "source": [
    "print(training_events.shape, training_labels.shape)"
   ]
  },
  {
   "cell_type": "markdown",
   "id": "3713ffab-f955-4818-b6c2-e21d57f68d8c",
   "metadata": {},
   "source": [
    "One of the big question in machine learning is how the data should be represented. Each event here contains 100 four vectors (many of them may be 0). We would like to find other representations which will allow us to analyze the data easier."
   ]
  },
  {
   "cell_type": "markdown",
   "id": "97b4d3f3-4f2a-4dc9-8b4d-ec0205055388",
   "metadata": {},
   "source": [
    "## Validation"
   ]
  },
  {
   "cell_type": "code",
   "execution_count": 7,
   "id": "dabb7220-da94-4c6b-8b0a-4069c0ee2531",
   "metadata": {},
   "outputs": [],
   "source": [
    "val_data_html = 'https://www.dropbox.com/s/4251d60timdgc6w/val_events.npy?dl=0'\n",
    "val_labels_html = 'https://www.dropbox.com/s/grg69wn73j6az5l/val_labels.npy?dl=0'"
   ]
  },
  {
   "cell_type": "code",
   "execution_count": 8,
   "id": "7621c3bf-a75c-4956-83b6-6de0dc2e6b39",
   "metadata": {},
   "outputs": [],
   "source": [
    "val_file = '../data/top_tagging/smaller_raw/val_events.npy'\n",
    "if not os.path.isfile(val_file):\n",
    "    urllib.request.urlretrieve(val_data_html, filename=val_file)\n",
    "    \n",
    "val_label_file = '../data/top_tagging/smaller_raw/val_labels.npy'\n",
    "if not os.path.isfile(val_label_file):\n",
    "    urllib.request.urlretrieve(val_labels_html, filename=val_label_file)"
   ]
  },
  {
   "cell_type": "code",
   "execution_count": 9,
   "id": "34d779a3-6657-41df-bf46-4ca9caab360d",
   "metadata": {},
   "outputs": [],
   "source": [
    "val_events = np.load(val_file)\n",
    "val_labels = np.load(val_label_file)"
   ]
  },
  {
   "cell_type": "code",
   "execution_count": 10,
   "id": "9344bb4d-3b77-4ad0-945b-d962055fb58d",
   "metadata": {},
   "outputs": [
    {
     "name": "stdout",
     "output_type": "stream",
     "text": [
      "(20000, 100, 4) (20000, 1)\n"
     ]
    }
   ],
   "source": [
    "print(val_events.shape, val_labels.shape)"
   ]
  },
  {
   "cell_type": "markdown",
   "id": "08c7680f-a2ff-4807-a109-0e89fe083110",
   "metadata": {},
   "source": [
    "## Testing"
   ]
  },
  {
   "cell_type": "code",
   "execution_count": 11,
   "id": "c53487f2-1c20-4143-96c4-402e1a8c9681",
   "metadata": {},
   "outputs": [],
   "source": [
    "test_data_html = 'https://www.dropbox.com/s/4orb8yjn8es1akf/test_events.npy?dl=0'\n",
    "test_labels_html = 'https://www.dropbox.com/s/w8gvrhrpdaqe1e8/test_labels.npy?dl=0'"
   ]
  },
  {
   "cell_type": "code",
   "execution_count": 12,
   "id": "12fdcb0e-2647-46c0-98ef-60a77d100fc3",
   "metadata": {},
   "outputs": [],
   "source": [
    "test_file = '../data/top_tagging/smaller_raw/test_events.npy'\n",
    "if not os.path.isfile(test_file):\n",
    "    urllib.request.urlretrieve(test_data_html, filename=test_file)\n",
    "    \n",
    "test_label_file = '../data/top_tagging/smaller_raw/test_labels.npy'\n",
    "if not os.path.isfile(test_label_file):\n",
    "    urllib.request.urlretrieve(test_label_file, filename=test_label_file)"
   ]
  },
  {
   "cell_type": "code",
   "execution_count": 13,
   "id": "00ffea8a-e511-4355-a45a-7ef79f54df1e",
   "metadata": {},
   "outputs": [],
   "source": [
    "test_events = np.load(test_file)\n",
    "test_labels = np.load(test_label_file)"
   ]
  },
  {
   "cell_type": "code",
   "execution_count": 14,
   "id": "1d2ca47c-380c-4e66-bde5-62ecf9c593b5",
   "metadata": {},
   "outputs": [
    {
     "name": "stdout",
     "output_type": "stream",
     "text": [
      "(20000, 100, 4) (20000, 1)\n"
     ]
    }
   ],
   "source": [
    "print(test_events.shape, test_labels.shape)"
   ]
  },
  {
   "cell_type": "markdown",
   "id": "03a3df19-f3d9-469b-bc54-3967f348c2ab",
   "metadata": {},
   "source": [
    "# Representations\n",
    "Currently, the data has 100 four vectors for each event. However, are they represented as ($p_T$, $\\eta$, $\\phi$, $m$) or are they as ($E$, $p_x$, $p_y$, $p_z$)? Let's make some histograms to find out. We will do this with the validation set since the number of events is smaller."
   ]
  },
  {
   "cell_type": "code",
   "execution_count": 15,
   "id": "b8f75cf8-596e-4491-8196-435b54aae215",
   "metadata": {},
   "outputs": [
    {
     "data": {
      "image/png": "[encoded data removed]",
      "text/plain": [
       "<Figure size 240x240 with 1 Axes>"
      ]
     },
     "metadata": {
      "needs_background": "light"
     },
     "output_type": "display_data"
    },
    {
     "data": {
      "image/png": "[encoded data removed]",
      "text/plain": [
       "<Figure size 240x240 with 1 Axes>"
      ]
     },
     "metadata": {
      "needs_background": "light"
     },
     "output_type": "display_data"
    },
    {
     "data": {
      "image/png": "[encoded data removed]",
      "text/plain": [
       "<Figure size 240x240 with 1 Axes>"
      ]
     },
     "metadata": {
      "needs_background": "light"
     },
     "output_type": "display_data"
    },
    {
     "data": {
      "image/png": "[encoded data removed]",
      "text/plain": [
       "<Figure size 240x240 with 1 Axes>"
      ]
     },
     "metadata": {
      "needs_background": "light"
     },
     "output_type": "display_data"
    }
   ],
   "source": [
    "# Let's look at the hardest object in each event\n",
    "for i in range(4):  # scan over the four vector components\n",
    "    plt.hist(val_events[:, 0, i], bins=50)\n",
    "    plt.title(f\"Component {i+1}\")\n",
    "    plt.show()"
   ]
  },
  {
   "cell_type": "markdown",
   "id": "0929e736-4d6c-4625-9050-028097276fac",
   "metadata": {},
   "source": [
    "We see that the first component has only positive values, while the other components are roughly symmetric about 0. Notice also that none of the values looks like an angle (the ranges are not bounded by $\\pi$ or $2\\pi$. With this, we should use the $(E, p_x, p_y, p_z)$ basis. This can also be confirmed in the previous notebook. In tutorial 2, when we used PyJet, the data used the other representation. We will have to adjust the code a little."
   ]
  },
  {
   "cell_type": "markdown",
   "id": "06efb762-c88a-4314-b637-3909b1fb9889",
   "metadata": {},
   "source": [
    "## Subjet basis"
   ]
  },
  {
   "cell_type": "code",
   "execution_count": 16,
   "id": "0ce7049a-dbaa-4377-92ee-016dc6e7a3e2",
   "metadata": {},
   "outputs": [],
   "source": [
    "from pyjet import cluster,DTYPE_EP"
   ]
  },
  {
   "cell_type": "code",
   "execution_count": 17,
   "id": "cff9b187-75b3-4318-a3c1-138fec1e045d",
   "metadata": {},
   "outputs": [],
   "source": [
    "def DeltaPhi(obj_1, obj_2):\n",
    "    '''\n",
    "    Calculates the delta phi, with values between -pi and pi\n",
    "    inputs should be a list with a length of 3\n",
    "    \n",
    "    arguments:\n",
    "    obj_1 = [pt, eta, phi]\n",
    "    obj_2 = [pt, eta, phi]\n",
    "    \n",
    "    returns:\n",
    "    deltaphi -- float for the angular distance\n",
    "    '''\n",
    "    pt1, eta1, phi1 = obj_1\n",
    "    pt2, eta2, phi2 = obj_2\n",
    "    deltaphi = phi1 - phi2\n",
    "    if deltaphi > np.pi:\n",
    "        deltaphi = (-2 * np.pi) + deltaphi\n",
    "    return deltaphi\n",
    "\n",
    "\n",
    "def DeltaR(obj_1, obj_2):\n",
    "    '''\n",
    "    Calculates the delta R\n",
    "    inputs should be a list with a length of 3\n",
    "    obj_1 = [pt, eta, phi]\n",
    "    obj_2 = [pt, eta, phi]\n",
    "    '''\n",
    "    pt1, eta1, phi1 = obj_1\n",
    "    pt2, eta2, phi2 = obj_2\n",
    "    dr = np.sqrt(np.square(eta1 - eta2) + np.square(DeltaPhi(obj_1, obj_2)))\n",
    "    return dr"
   ]
  },
  {
   "cell_type": "code",
   "execution_count": 18,
   "id": "8ebd7d8a-cc96-496f-94d7-896f5e5086ae",
   "metadata": {},
   "outputs": [],
   "source": [
    "def NSubjettiness(constituents, axes, beta, jetpt):\n",
    "    '''\n",
    "    Computes the n-subjettines\n",
    "    \n",
    "    Arguments:\n",
    "    constituents -- an array of pseudovectors\n",
    "    axes -- an array of pseudovectors\n",
    "    jetpt -- the overall transverse momentum of the jet\n",
    "        \n",
    "    Returns:\n",
    "    tau[0.5] -- n-subjets with the power of 0.5\n",
    "    tau[1] -- n-subjets with the power of 1\n",
    "    tau[2] -- n-subjets with the power of 2\n",
    "    '''\n",
    "    tau = {0.5: 0.0,\n",
    "           1: 0.0,\n",
    "           2: 0.0\n",
    "           }  # starting values for different betas\n",
    "    for particle in constituents:\n",
    "        for beta in [0.5, 1, 2]:\n",
    "            dr = np.min([np.power(DeltaR([particle.pt, particle.eta, particle.phi],\n",
    "                                         [axis.pt, axis.eta, axis.phi]), beta) for axis in axes])\n",
    "            tau[beta] += particle.pt * dr\n",
    "    for beta in [0.5, 1, 2]:\n",
    "        tau[beta] = tau[beta] / jetpt\n",
    "\n",
    "    return tau[0.5], tau[1], tau[2]"
   ]
  },
  {
   "cell_type": "code",
   "execution_count": 19,
   "id": "0a4a8693-9c3c-4f1e-8e0b-97e12b5dc484",
   "metadata": {},
   "outputs": [
    {
     "data": {
      "text/plain": [
       "\u001b[0;31mSignature:\u001b[0m \u001b[0mcluster\u001b[0m\u001b[0;34m(\u001b[0m\u001b[0mvectors\u001b[0m\u001b[0;34m,\u001b[0m \u001b[0malgo\u001b[0m\u001b[0;34m=\u001b[0m\u001b[0;34m'genkt'\u001b[0m\u001b[0;34m,\u001b[0m \u001b[0marea\u001b[0m\u001b[0;34m=\u001b[0m\u001b[0;32mNone\u001b[0m\u001b[0;34m,\u001b[0m \u001b[0mep\u001b[0m\u001b[0;34m=\u001b[0m\u001b[0;32mFalse\u001b[0m\u001b[0;34m,\u001b[0m \u001b[0;34m**\u001b[0m\u001b[0mkwargs\u001b[0m\u001b[0;34m)\u001b[0m\u001b[0;34m\u001b[0m\u001b[0;34m\u001b[0m\u001b[0m\n",
       "\u001b[0;31mDocstring:\u001b[0m\n",
       "Perform jet clustering on a numpy array of 4-vectors in (pT, eta, phi,\n",
       "mass) representation, otherwise (E, px, py, pz) representation if ep=True\n",
       "\n",
       "Parameters\n",
       "----------\n",
       "\n",
       "vectors: np.ndarray or PseudoJet\n",
       "    Array of 4-vectors or a PseudoJet in which case the PseudoJet\n",
       "    constituents are used as inputs to the jet clustering\n",
       "algo: JetDefinition or str (optional, default='genkt')\n",
       "    The jet definition as a JetDefinition or a string naming the jet\n",
       "    algorithm in which case the additional keywork arguments are used to\n",
       "    construct the JetDefinition\n",
       "area: str (optional, default=None)\n",
       "    The type of jet area to compute\n",
       "ep: bool (optional, default=False)\n",
       "    First four fields of ``vectors`` are (pT, eta, phi, mass) if ep=False\n",
       "    or (E, px, py, pz) if ep=True\n",
       "\n",
       "Returns\n",
       "-------\n",
       "\n",
       "sequence : ClusterSequence\n",
       "    A wrapped fastjet::ClusterSequence\n",
       "\u001b[0;31mFile:\u001b[0m      /opt/conda/lib/python3.9/site-packages/pyjet/__init__.py\n",
       "\u001b[0;31mType:\u001b[0m      function\n"
      ]
     },
     "metadata": {},
     "output_type": "display_data"
    }
   ],
   "source": [
    "cluster?"
   ]
  },
  {
   "cell_type": "markdown",
   "id": "f67310fe-7fd5-41a0-aaae-585755f7b5da",
   "metadata": {},
   "source": [
    "These computations take around 30 minutes on my computer, we will save the output so we don't have to recompute them each time."
   ]
  },
  {
   "cell_type": "code",
   "execution_count": 20,
   "id": "1f1d9350-3e5f-4bc3-9d9c-8a775454d320",
   "metadata": {},
   "outputs": [],
   "source": [
    "NSubjettinessData = []\n",
    "\n",
    "for jet_consituents in tqdm(training_events):\n",
    "    pseudojets_input = np.zeros(len([x for x in jet_consituents[::4] if x[0] > 0]), dtype=DTYPE_EP)\n",
    "    \n",
    "    for j in range(pseudojets_input.shape[0]):\n",
    "        pseudojets_input[j]['E'] = jet_consituents[j, 0]\n",
    "        pseudojets_input[j]['px'] = jet_consituents[j, 1]\n",
    "        pseudojets_input[j]['py'] = jet_consituents[j, 2]\n",
    "        pseudojets_input[j]['pz'] = jet_consituents[j, 3]\n",
    "\n",
    "    sequence = cluster(pseudojets_input, R=1, p=1, ep=True)\n",
    "    jet = sequence.exclusive_jets(1)[0]\n",
    "    NSubjet = {}\n",
    "    for pronginess in range(1, 5):\n",
    "        # undo the clustering to a specific number of jets\n",
    "        if len(jet.constituents()) > pronginess:\n",
    "            axes = sequence.exclusive_jets(pronginess)\n",
    "            nsubjettiness = NSubjettiness(jet.constituents(), axes,\n",
    "                                          pronginess, jet.pt\n",
    "                                         )\n",
    "            NSubjet['{0}_0.5'.format(pronginess)] = nsubjettiness[0]\n",
    "            NSubjet['{0}_1'.format(pronginess)] = nsubjettiness[1]\n",
    "            NSubjet['{0}_2'.format(pronginess)] = nsubjettiness[2]\n",
    "        else:\n",
    "            NSubjet['{0}_0.5'.format(pronginess)] = 0\n",
    "            NSubjet['{0}_1'.format(pronginess)] = 0\n",
    "            NSubjet['{0}_2'.format(pronginess)] = 0\n",
    "            \n",
    "    tmp_entry = [jet.pt,\n",
    "                 NSubjet['1_0.5'], NSubjet['1_1'], NSubjet['1_2'],\n",
    "                 NSubjet['2_0.5'], NSubjet['2_1'], NSubjet['2_2'],\n",
    "                 NSubjet['3_0.5'], NSubjet['3_1'], NSubjet['3_2'],\n",
    "                 NSubjet['4_1'], NSubjet['4_2']\n",
    "                ]\n",
    "    NSubjettinessData.append(tmp_entry)\n",
    "NSubjettinessData = np.array(NSubjettinessData)"
   ]
  },
  {
   "cell_type": "code",
   "execution_count": 21,
   "id": "2d0d10aa-d694-4937-89ca-457c3a94be5c",
   "metadata": {},
   "outputs": [],
   "source": [
    "NSubjettinessValData = []\n",
    "\n",
    "for jet_consituents in tqdm(val_events):\n",
    "    pseudojets_input = np.zeros(len([x for x in jet_consituents[::4] if x[0] > 0]), dtype=DTYPE_EP)\n",
    "    \n",
    "    for j in range(pseudojets_input.shape[0]):\n",
    "        pseudojets_input[j]['E'] = jet_consituents[j, 0]\n",
    "        pseudojets_input[j]['px'] = jet_consituents[j, 1]\n",
    "        pseudojets_input[j]['py'] = jet_consituents[j, 2]\n",
    "        pseudojets_input[j]['pz'] = jet_consituents[j, 3]\n",
    "\n",
    "    sequence = cluster(pseudojets_input, R=1, p=1, ep=True)\n",
    "    jet = sequence.exclusive_jets(1)[0]\n",
    "    NSubjet = {}\n",
    "    for pronginess in range(1, 5):\n",
    "        # undo the clustering to a specific number of jets\n",
    "        if len(jet.constituents()) > pronginess:\n",
    "            axes = sequence.exclusive_jets(pronginess)\n",
    "            nsubjettiness = NSubjettiness(jet.constituents(), axes,\n",
    "                                          pronginess, jet.pt\n",
    "                                         )\n",
    "            NSubjet['{0}_0.5'.format(pronginess)] = nsubjettiness[0]\n",
    "            NSubjet['{0}_1'.format(pronginess)] = nsubjettiness[1]\n",
    "            NSubjet['{0}_2'.format(pronginess)] = nsubjettiness[2]\n",
    "        else:\n",
    "            NSubjet['{0}_0.5'.format(pronginess)] = 0\n",
    "            NSubjet['{0}_1'.format(pronginess)] = 0\n",
    "            NSubjet['{0}_2'.format(pronginess)] = 0\n",
    "            \n",
    "    tmp_entry = [jet.pt,\n",
    "                 NSubjet['1_0.5'], NSubjet['1_1'], NSubjet['1_2'],\n",
    "                 NSubjet['2_0.5'], NSubjet['2_1'], NSubjet['2_2'],\n",
    "                 NSubjet['3_0.5'], NSubjet['3_1'], NSubjet['3_2'],\n",
    "                 NSubjet['4_1'], NSubjet['4_2']\n",
    "                ]\n",
    "    NSubjettinessValData.append(tmp_entry)\n",
    "NSubjettinessValData = np.array(NSubjettinessValData)"
   ]
  },
  {
   "cell_type": "code",
   "execution_count": 22,
   "id": "13b4b753-f3c0-4521-8267-5914f087e536",
   "metadata": {},
   "outputs": [],
   "source": [
    "NSubjettinessTestData = []\n",
    "\n",
    "for jet_consituents in tqdm(test_events):\n",
    "    pseudojets_input = np.zeros(len([x for x in jet_consituents[::4] if x[0] > 0]), dtype=DTYPE_EP)\n",
    "    \n",
    "    for j in range(pseudojets_input.shape[0]):\n",
    "        pseudojets_input[j]['E'] = jet_consituents[j, 0]\n",
    "        pseudojets_input[j]['px'] = jet_consituents[j, 1]\n",
    "        pseudojets_input[j]['py'] = jet_consituents[j, 2]\n",
    "        pseudojets_input[j]['pz'] = jet_consituents[j, 3]\n",
    "\n",
    "    sequence = cluster(pseudojets_input, R=1, p=1, ep=True)\n",
    "    jet = sequence.exclusive_jets(1)[0]\n",
    "    NSubjet = {}\n",
    "    for pronginess in range(1, 5):\n",
    "        # undo the clustering to a specific number of jets\n",
    "        if len(jet.constituents()) > pronginess:\n",
    "            axes = sequence.exclusive_jets(pronginess)\n",
    "            nsubjettiness = NSubjettiness(jet.constituents(), axes,\n",
    "                                          pronginess, jet.pt\n",
    "                                         )\n",
    "            NSubjet['{0}_0.5'.format(pronginess)] = nsubjettiness[0]\n",
    "            NSubjet['{0}_1'.format(pronginess)] = nsubjettiness[1]\n",
    "            NSubjet['{0}_2'.format(pronginess)] = nsubjettiness[2]\n",
    "        else:\n",
    "            NSubjet['{0}_0.5'.format(pronginess)] = 0\n",
    "            NSubjet['{0}_1'.format(pronginess)] = 0\n",
    "            NSubjet['{0}_2'.format(pronginess)] = 0\n",
    "            \n",
    "    tmp_entry = [jet.pt,\n",
    "                 NSubjet['1_0.5'], NSubjet['1_1'], NSubjet['1_2'],\n",
    "                 NSubjet['2_0.5'], NSubjet['2_1'], NSubjet['2_2'],\n",
    "                 NSubjet['3_0.5'], NSubjet['3_1'], NSubjet['3_2'],\n",
    "                 NSubjet['4_1'], NSubjet['4_2']\n",
    "                ]\n",
    "    NSubjettinessTestData.append(tmp_entry)\n",
    "NSubjettinessTestData = np.array(NSubjettinessTestData)"
   ]
  },
  {
   "cell_type": "markdown",
   "id": "e0bdc510-30d2-4793-8f8a-049a1af1bd99",
   "metadata": {},
   "source": [
    "### Verification Plots\n",
    "Let's make some histograms to see if we can use this data to seperate the top jets and the qcd jets."
   ]
  },
  {
   "cell_type": "code",
   "execution_count": 23,
   "id": "78f72ec2-46ab-4e61-bb06-51fd3e4da677",
   "metadata": {},
   "outputs": [],
   "source": [
    "NSubjettinessData.shape, training_labels.shape"
   ]
  },
  {
   "cell_type": "markdown",
   "id": "ba06d88b-acbf-4922-a169-1c9b0a64ce9d",
   "metadata": {},
   "source": [
    "We have used 12 N_{subjetiness} variables, make a 3x4 plot."
   ]
  },
  {
   "cell_type": "code",
   "execution_count": 24,
   "id": "07a4344f-c7f5-49e5-a46f-e62ed3bce8e7",
   "metadata": {},
   "outputs": [],
   "source": [
    "plt.figure(figsize=(9, 12))\n",
    "qcd = NSubjettinessData[training_labels[:,0] == 0]\n",
    "tops = NSubjettinessData[training_labels[:,0] == 1]\n",
    "for i in range(12):\n",
    "    plt.subplot(4, 3, i+1)\n",
    "    tmp_qcd = qcd[:, i]\n",
    "    tmp_qcd = tmp_qcd[tmp_qcd > 0]\n",
    "    \n",
    "    tmp_tops = tops[:, i]\n",
    "    tmp_tops = tmp_tops[tmp_tops > 0]\n",
    "    \n",
    "    n, b, p = plt.hist(tmp_qcd, bins=50, density=True, histtype='step')\n",
    "    plt.hist(tmp_tops, bins=b, density=True, histtype='step')\n",
    "    plt.yscale('log')\n",
    "    \n",
    "plt.tight_layout()\n",
    "plt.show()"
   ]
  },
  {
   "cell_type": "code",
   "execution_count": null,
   "id": "aceeb78d-adf5-49a5-98e6-588f8bdfc5d8",
   "metadata": {},
   "outputs": [],
   "source": [
    "np.save('../data/top_tagging/smaller_raw/nsubjettiness_training.npy', NSubjettinessData)\n",
    "np.save('../data/top_tagging/smaller_raw/nsubjettiness_val.npy', NSubjettinessValData)\n",
    "np.save('../data/top_tagging/smaller_raw/nsubjettiness_test.npy', NSubjettinessTestData)"
   ]
  },
  {
   "cell_type": "markdown",
   "id": "c5f1fb6f-9376-4577-91a2-c2e35147a9df",
   "metadata": {},
   "source": [
    "## Images"
   ]
  },
  {
   "cell_type": "markdown",
   "id": "3b68a89e-14ca-425d-9a94-7b187a4a5eff",
   "metadata": {},
   "source": [
    "Now, let's build the raw data into a series of images. We will use the [EnergyFlow](https://energyflow.network/) package for this. We will need to center, rotate, and reflect the fourvectors to take advantage of the natural symmetries."
   ]
  },
  {
   "cell_type": "code",
   "execution_count": 25,
   "id": "d74d4ff5-6d64-4e00-8a82-b124da6694a0",
   "metadata": {},
   "outputs": [],
   "source": [
    "from energyflow.utils import ptyphims_from_p4s\n",
    "from energyflow.utils import center_ptyphims \n",
    "from energyflow.utils import rotate_ptyphims \n",
    "from energyflow.utils import reflect_ptyphims \n",
    "from energyflow.utils import phi_fix\n",
    "from energyflow.utils import pixelate"
   ]
  },
  {
   "cell_type": "markdown",
   "id": "47235509-3ef4-40ff-8ccc-56cbc4b08f54",
   "metadata": {},
   "source": [
    "### Convert"
   ]
  },
  {
   "cell_type": "markdown",
   "id": "f61d804c-cf1d-4b57-a909-4ee16bafc840",
   "metadata": {},
   "source": [
    "First, let's convert the four-vectors into $(p_t, \\eta, \\phi, m)$. This function works on a list of 4-vectors, so we will have to do a for loop over each event in the list."
   ]
  },
  {
   "cell_type": "code",
   "execution_count": 26,
   "id": "649ebaee-67a6-4a5e-9250-301a557c342f",
   "metadata": {},
   "outputs": [
    {
     "name": "stderr",
     "output_type": "stream",
     "text": [
      "100% 200000/200000 [00:38<00:00, 5175.14it/s]\n"
     ]
    },
    {
     "name": "stdout",
     "output_type": "stream",
     "text": [
      "(200000, 100, 4)\n"
     ]
    }
   ],
   "source": [
    "training_ptyphims = []\n",
    "for event in tqdm(training_events):\n",
    "    training_ptyphims.append(ptyphims_from_p4s(event, phi_ref='hardest', mass=True))\n",
    "training_ptyphims = np.array(training_ptyphims)\n",
    "print(training_ptyphims.shape)"
   ]
  },
  {
   "cell_type": "code",
   "execution_count": 27,
   "id": "8a3ce622-265f-4733-867c-5c3d219d9318",
   "metadata": {},
   "outputs": [
    {
     "name": "stderr",
     "output_type": "stream",
     "text": [
      "100% 20000/20000 [00:02<00:00, 9074.09it/s]\n"
     ]
    },
    {
     "name": "stdout",
     "output_type": "stream",
     "text": [
      "(20000, 100, 4)\n"
     ]
    }
   ],
   "source": [
    "val_ptyphims = []\n",
    "for event in tqdm(val_events):\n",
    "    val_ptyphims.append(ptyphims_from_p4s(event, phi_ref='hardest', mass=True))\n",
    "val_ptyphims = np.array(val_ptyphims)\n",
    "print(val_ptyphims.shape)"
   ]
  },
  {
   "cell_type": "code",
   "execution_count": 28,
   "id": "1e717808-8e65-4c69-81d4-2d5cd1c9b514",
   "metadata": {},
   "outputs": [
    {
     "name": "stderr",
     "output_type": "stream",
     "text": [
      "100% 20000/20000 [00:02<00:00, 9112.11it/s]\n"
     ]
    },
    {
     "name": "stdout",
     "output_type": "stream",
     "text": [
      "(20000, 100, 4)\n"
     ]
    }
   ],
   "source": [
    "test_ptyphims = []\n",
    "for event in tqdm(test_events):\n",
    "    test_ptyphims.append(ptyphims_from_p4s(event, phi_ref='hardest', mass=True))\n",
    "test_ptyphims = np.array(test_ptyphims)\n",
    "print(test_ptyphims.shape)"
   ]
  },
  {
   "cell_type": "markdown",
   "id": "5d498a9a-c89a-463d-86c5-b6237324c613",
   "metadata": {},
   "source": [
    "### Center\n",
    "Now we center the image by subtracting the mean $\\eta, \\phi$"
   ]
  },
  {
   "cell_type": "code",
   "execution_count": 29,
   "id": "804bdb19-d018-4d6e-932c-091921fd4297",
   "metadata": {},
   "outputs": [
    {
     "name": "stderr",
     "output_type": "stream",
     "text": [
      "100% 200000/200000 [00:52<00:00, 3796.74it/s]\n"
     ]
    },
    {
     "name": "stdout",
     "output_type": "stream",
     "text": [
      "(200000, 100, 4)\n"
     ]
    }
   ],
   "source": [
    "training_ptyphims_center = []\n",
    "for event in tqdm(training_ptyphims):\n",
    "    training_ptyphims_center.append(center_ptyphims(event))\n",
    "training_ptyphims_center = np.array(training_ptyphims_center)\n",
    "print(training_ptyphims_center.shape)"
   ]
  },
  {
   "cell_type": "code",
   "execution_count": 30,
   "id": "1dc487f9-9be6-467d-994d-49f57c9250c8",
   "metadata": {},
   "outputs": [
    {
     "name": "stderr",
     "output_type": "stream",
     "text": [
      "100% 20000/20000 [00:04<00:00, 4964.98it/s]"
     ]
    },
    {
     "name": "stdout",
     "output_type": "stream",
     "text": [
      "(20000, 100, 4)\n"
     ]
    },
    {
     "name": "stderr",
     "output_type": "stream",
     "text": [
      "\n"
     ]
    }
   ],
   "source": [
    "val_ptyphims_center = []\n",
    "for event in tqdm(val_ptyphims):\n",
    "    val_ptyphims_center.append(center_ptyphims(event))\n",
    "val_ptyphims_center = np.array(val_ptyphims_center)\n",
    "print(val_ptyphims_center.shape)"
   ]
  },
  {
   "cell_type": "code",
   "execution_count": 31,
   "id": "a2e98b55-2592-4790-a5a2-fecf8a9b4c4f",
   "metadata": {},
   "outputs": [
    {
     "name": "stderr",
     "output_type": "stream",
     "text": [
      "100% 20000/20000 [00:03<00:00, 5085.07it/s]"
     ]
    },
    {
     "name": "stdout",
     "output_type": "stream",
     "text": [
      "(20000, 100, 4)\n"
     ]
    },
    {
     "name": "stderr",
     "output_type": "stream",
     "text": [
      "\n"
     ]
    }
   ],
   "source": [
    "test_ptyphims_center = []\n",
    "for event in tqdm(test_ptyphims):\n",
    "    test_ptyphims_center.append(center_ptyphims(event))\n",
    "test_ptyphims_center = np.array(test_ptyphims_center)\n",
    "print(test_ptyphims_center.shape)"
   ]
  },
  {
   "cell_type": "markdown",
   "id": "f2861243-d14d-4f39-a9c1-89f5421d1f52",
   "metadata": {},
   "source": [
    "### Reflect and Rotate"
   ]
  },
  {
   "cell_type": "code",
   "execution_count": 33,
   "id": "cddff5c9-ad5d-4fd5-a2e3-5123d1d8d9bb",
   "metadata": {},
   "outputs": [
    {
     "name": "stderr",
     "output_type": "stream",
     "text": [
      "100% 200000/200000 [01:22<00:00, 2423.46it/s]\n"
     ]
    },
    {
     "name": "stdout",
     "output_type": "stream",
     "text": [
      "(200000, 100, 4)\n"
     ]
    }
   ],
   "source": [
    "training_ptyphims_center_rr = []\n",
    "for event in tqdm(training_ptyphims_center):\n",
    "    training_ptyphims_center_rr.append(reflect_ptyphims(rotate_ptyphims(event)))\n",
    "training_ptyphims_center_rr = np.array(training_ptyphims_center_rr)\n",
    "print(training_ptyphims_center_rr.shape)"
   ]
  },
  {
   "cell_type": "code",
   "execution_count": 34,
   "id": "8fb7cb48-28df-44c7-9364-11f190e39290",
   "metadata": {},
   "outputs": [
    {
     "name": "stderr",
     "output_type": "stream",
     "text": [
      "100% 20000/20000 [00:12<00:00, 1615.41it/s]"
     ]
    },
    {
     "name": "stdout",
     "output_type": "stream",
     "text": [
      "(20000, 100, 4)\n"
     ]
    },
    {
     "name": "stderr",
     "output_type": "stream",
     "text": [
      "\n"
     ]
    }
   ],
   "source": [
    "val_ptyphims_center_rr = []\n",
    "for event in tqdm(val_ptyphims_center):\n",
    "    val_ptyphims_center_rr.append(reflect_ptyphims(rotate_ptyphims(event)))\n",
    "val_ptyphims_center_rr = np.array(val_ptyphims_center_rr)\n",
    "print(val_ptyphims_center_rr.shape)"
   ]
  },
  {
   "cell_type": "code",
   "execution_count": 35,
   "id": "7f630e94-a352-4861-a6cd-3256ca38f4a1",
   "metadata": {},
   "outputs": [
    {
     "name": "stderr",
     "output_type": "stream",
     "text": [
      "100% 20000/20000 [00:08<00:00, 2297.89it/s]\n"
     ]
    },
    {
     "name": "stdout",
     "output_type": "stream",
     "text": [
      "(20000, 100, 4)\n"
     ]
    }
   ],
   "source": [
    "test_ptyphims_center_rr = []\n",
    "for event in tqdm(test_ptyphims_center):\n",
    "    test_ptyphims_center_rr.append(reflect_ptyphims(rotate_ptyphims(event)))\n",
    "test_ptyphims_center_rr = np.array(test_ptyphims_center_rr)\n",
    "print(test_ptyphims_center_rr.shape)"
   ]
  },
  {
   "cell_type": "markdown",
   "id": "ec6c6e8b-161a-4b00-85ed-a010d5250136",
   "metadata": {},
   "source": [
    "### Pixelate the images"
   ]
  },
  {
   "cell_type": "code",
   "execution_count": 36,
   "id": "45b905f4-6bda-44b9-be1c-e46ec78d4119",
   "metadata": {},
   "outputs": [
    {
     "name": "stderr",
     "output_type": "stream",
     "text": [
      "100% 200000/200000 [00:46<00:00, 4294.18it/s]\n"
     ]
    },
    {
     "name": "stdout",
     "output_type": "stream",
     "text": [
      "(200000, 33, 33, 1)\n"
     ]
    }
   ],
   "source": [
    "training_images = []\n",
    "for event in tqdm(training_ptyphims_center_rr):\n",
    "    training_images.append(pixelate(event, \n",
    "                                    npix=33, \n",
    "                                    img_width=0.8, \n",
    "                                    nb_chan=1, \n",
    "                                    norm=False, \n",
    "                                    charged_counts_only=False))\n",
    "training_images = np.array(training_images)\n",
    "print(training_images.shape)"
   ]
  },
  {
   "cell_type": "code",
   "execution_count": 37,
   "id": "cbfb76c4-b339-451e-9650-ed2f31ed3320",
   "metadata": {},
   "outputs": [
    {
     "name": "stderr",
     "output_type": "stream",
     "text": [
      "100% 20000/20000 [00:10<00:00, 1841.72it/s]\n"
     ]
    },
    {
     "name": "stdout",
     "output_type": "stream",
     "text": [
      "(20000, 33, 33, 1)\n"
     ]
    }
   ],
   "source": [
    "val_images = []\n",
    "for event in tqdm(val_ptyphims_center_rr):\n",
    "    val_images.append(pixelate(event, \n",
    "                               npix=33, \n",
    "                               img_width=0.8, \n",
    "                               nb_chan=1, \n",
    "                               norm=False, \n",
    "                               charged_counts_only=False))\n",
    "val_images = np.array(val_images)\n",
    "print(val_images.shape)"
   ]
  },
  {
   "cell_type": "code",
   "execution_count": 38,
   "id": "7d976ec9-ed6c-4c16-b896-5949e4727249",
   "metadata": {},
   "outputs": [
    {
     "name": "stderr",
     "output_type": "stream",
     "text": [
      "100% 20000/20000 [00:04<00:00, 4727.70it/s]\n"
     ]
    },
    {
     "name": "stdout",
     "output_type": "stream",
     "text": [
      "(20000, 33, 33, 1)\n"
     ]
    }
   ],
   "source": [
    "test_images = []\n",
    "for event in tqdm(test_ptyphims_center_rr):\n",
    "    test_images.append(pixelate(event, \n",
    "                                npix=33, \n",
    "                                img_width=0.8, \n",
    "                                nb_chan=1, \n",
    "                                norm=False, \n",
    "                                charged_counts_only=False))\n",
    "test_images = np.array(test_images)\n",
    "print(test_images.shape)"
   ]
  },
  {
   "cell_type": "markdown",
   "id": "71ec1fa0-f248-4673-95b6-212078657aeb",
   "metadata": {},
   "source": [
    "### Examples\n",
    "Now let's look at a few example images from the training set. We will sort out a few top and a few qcd examples."
   ]
  },
  {
   "cell_type": "code",
   "execution_count": 39,
   "id": "1bcbd57f-83c2-4a99-918e-44d5ab3e2cb8",
   "metadata": {},
   "outputs": [],
   "source": [
    "top_images = training_images[training_labels.flatten() == 1]\n",
    "qcd_images = training_images[training_labels.flatten() == 0]"
   ]
  },
  {
   "cell_type": "code",
   "execution_count": 40,
   "id": "124ac0c1-cadd-4020-bacf-b994827f69d1",
   "metadata": {},
   "outputs": [
    {
     "data": {
      "image/png": "[encoded data removed]",
      "text/plain": [
       "<Figure size 640x320 with 2 Axes>"
      ]
     },
     "metadata": {
      "needs_background": "light"
     },
     "output_type": "display_data"
    },
    {
     "data": {
      "image/png": "[encoded data removed]",
      "text/plain": [
       "<Figure size 640x320 with 2 Axes>"
      ]
     },
     "metadata": {
      "needs_background": "light"
     },
     "output_type": "display_data"
    },
    {
     "data": {
      "image/png": "[encoded data removed]",
      "text/plain": [
       "<Figure size 640x320 with 2 Axes>"
      ]
     },
     "metadata": {
      "needs_background": "light"
     },
     "output_type": "display_data"
    },
    {
     "data": {
      "image/png": "[encoded data removed]",
      "text/plain": [
       "<Figure size 640x320 with 2 Axes>"
      ]
     },
     "metadata": {
      "needs_background": "light"
     },
     "output_type": "display_data"
    },
    {
     "data": {
      "image/png": "[encoded data removed]",
      "text/plain": [
       "<Figure size 640x320 with 2 Axes>"
      ]
     },
     "metadata": {
      "needs_background": "light"
     },
     "output_type": "display_data"
    }
   ],
   "source": [
    "for i in range(5):\n",
    "    plt.figure(figsize=(8, 4))\n",
    "    plt.subplot(1, 2, 1)\n",
    "    plt.title('QCD')\n",
    "    plt.imshow(qcd_images[i])\n",
    "    plt.subplot(1, 2, 2)\n",
    "    plt.title('top')\n",
    "    plt.imshow(top_images[i])\n",
    "    plt.tight_layout()\n",
    "    plt.show()"
   ]
  },
  {
   "cell_type": "code",
   "execution_count": 41,
   "id": "72e3ad61-1dd1-44aa-b779-d849158eb70f",
   "metadata": {},
   "outputs": [
    {
     "data": {
      "image/png": "[encoded data removed]",
      "text/plain": [
       "<Figure size 640x320 with 2 Axes>"
      ]
     },
     "metadata": {
      "needs_background": "light"
     },
     "output_type": "display_data"
    }
   ],
   "source": [
    "plt.figure(figsize=(8, 4))\n",
    "plt.subplot(1, 2, 1)\n",
    "plt.imshow(np.sum(qcd_images, axis=0))\n",
    "plt.title('Average QCD')\n",
    "\n",
    "plt.subplot(1, 2, 2)\n",
    "plt.imshow(np.sum(top_images, axis=0))\n",
    "plt.title('Average Top')\n",
    "\n",
    "plt.tight_layout()\n",
    "plt.show()"
   ]
  },
  {
   "cell_type": "code",
   "execution_count": 42,
   "id": "f05f33b2-6d74-438a-9f1b-e78ac9fcd205",
   "metadata": {},
   "outputs": [
    {
     "data": {
      "text/plain": [
       "(100000, 33, 33, 1)"
      ]
     },
     "execution_count": 42,
     "metadata": {},
     "output_type": "execute_result"
    }
   ],
   "source": [
    "top_images.shape"
   ]
  },
  {
   "cell_type": "code",
   "execution_count": null,
   "id": "b2c58d55-beb6-46b7-bf90-5e87a61b1032",
   "metadata": {},
   "outputs": [],
   "source": [
    "np.max(top_images[1])"
   ]
  },
  {
   "cell_type": "code",
   "execution_count": 43,
   "id": "3fe43eaf-5c8d-430d-9b51-44d512cdb5ba",
   "metadata": {},
   "outputs": [],
   "source": [
    "np.save('../data/top_tagging/smaller_raw/training_images.npy', training_images)\n",
    "np.save('../data/top_tagging/smaller_raw/val_images.npy', val_images)\n",
    "np.save('../data/top_tagging/smaller_raw/test_images.npy', test_images)"
   ]
  },
  {
   "cell_type": "code",
   "execution_count": null,
   "id": "c807e86d-f459-48a6-9fd6-5d0bc73a3325",
   "metadata": {},
   "outputs": [],
   "source": []
  }
 ],
 "metadata": {
  "kernelspec": {
   "display_name": "Python 3 (ipykernel)",
   "language": "python",
   "name": "python3"
  },
  "language_info": {
   "codemirror_mode": {
    "name": "ipython",
    "version": 3
   },
   "file_extension": ".py",
   "mimetype": "text/x-python",
   "name": "python",
   "nbconvert_exporter": "python",
   "pygments_lexer": "ipython3",
   "version": "3.9.7"
  }
 },
 "nbformat": 4,
 "nbformat_minor": 5
}
