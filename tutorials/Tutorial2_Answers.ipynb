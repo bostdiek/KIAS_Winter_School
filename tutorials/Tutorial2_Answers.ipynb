{
 "cells": [
  {
   "cell_type": "markdown",
   "metadata": {
    "toc": "true"
   },
   "source": [
    "# Table of Contents\n",
    " <p><div class=\"lev1 toc-item\"><a href=\"#Machine-learning-practice\" data-toc-modified-id=\"Machine-learning-practice-1\"><span class=\"toc-item-num\">1&nbsp;&nbsp;</span>Machine learning practice</a></div><div class=\"lev2 toc-item\"><a href=\"#Packages\" data-toc-modified-id=\"Packages-11\"><span class=\"toc-item-num\">1.1&nbsp;&nbsp;</span>Packages</a></div><div class=\"lev2 toc-item\"><a href=\"#Load-data\" data-toc-modified-id=\"Load-data-12\"><span class=\"toc-item-num\">1.2&nbsp;&nbsp;</span>Load data</a></div><div class=\"lev2 toc-item\"><a href=\"#Load-Keras-and-run-first-network\" data-toc-modified-id=\"Load-Keras-and-run-first-network-13\"><span class=\"toc-item-num\">1.3&nbsp;&nbsp;</span>Load Keras and run first network</a></div><div class=\"lev2 toc-item\"><a href=\"#Network-Metrics\" data-toc-modified-id=\"Network-Metrics-14\"><span class=\"toc-item-num\">1.4&nbsp;&nbsp;</span>Network Metrics</a></div><div class=\"lev1 toc-item\"><a href=\"#Physics-Example\" data-toc-modified-id=\"Physics-Example-2\"><span class=\"toc-item-num\">2&nbsp;&nbsp;</span>Physics Example</a></div><div class=\"lev2 toc-item\"><a href=\"#Another-helpful-python-package\" data-toc-modified-id=\"Another-helpful-python-package-21\"><span class=\"toc-item-num\">2.1&nbsp;&nbsp;</span>Another helpful python package</a></div><div class=\"lev2 toc-item\"><a href=\"#Build-the-combined-dataset\" data-toc-modified-id=\"Build-the-combined-dataset-22\"><span class=\"toc-item-num\">2.2&nbsp;&nbsp;</span>Build the combined dataset</a></div><div class=\"lev2 toc-item\"><a href=\"#Split-the-data-into-a-test-a-testing-and-training-set.\" data-toc-modified-id=\"Split-the-data-into-a-test-a-testing-and-training-set.-23\"><span class=\"toc-item-num\">2.3&nbsp;&nbsp;</span>Split the data into a test a testing and training set.</a></div><div class=\"lev2 toc-item\"><a href=\"#Build-and-train-a-network.\" data-toc-modified-id=\"Build-and-train-a-network.-24\"><span class=\"toc-item-num\">2.4&nbsp;&nbsp;</span>Build and train a network.</a></div><div class=\"lev1 toc-item\"><a href=\"#Normalizing-the-data\" data-toc-modified-id=\"Normalizing-the-data-3\"><span class=\"toc-item-num\">3&nbsp;&nbsp;</span>Normalizing the data</a></div><div class=\"lev2 toc-item\"><a href=\"#Build-and-fit-a-new-model\" data-toc-modified-id=\"Build-and-fit-a-new-model-31\"><span class=\"toc-item-num\">3.1&nbsp;&nbsp;</span>Build and fit a new model</a></div><div class=\"lev2 toc-item\"><a href=\"#Explore-training-methods\" data-toc-modified-id=\"Explore-training-methods-32\"><span class=\"toc-item-num\">3.2&nbsp;&nbsp;</span>Explore training methods</a></div><div class=\"lev2 toc-item\"><a href=\"#Network-architecture\" data-toc-modified-id=\"Network-architecture-33\"><span class=\"toc-item-num\">3.3&nbsp;&nbsp;</span>Network architecture</a></div><div class=\"lev2 toc-item\"><a href=\"#Longer-training\" data-toc-modified-id=\"Longer-training-34\"><span class=\"toc-item-num\">3.4&nbsp;&nbsp;</span>Longer training</a></div><div class=\"lev2 toc-item\"><a href=\"#Regularize-the-network\" data-toc-modified-id=\"Regularize-the-network-35\"><span class=\"toc-item-num\">3.5&nbsp;&nbsp;</span>Regularize the network</a></div><div class=\"lev1 toc-item\"><a href=\"#Different-representation-of-the-data\" data-toc-modified-id=\"Different-representation-of-the-data-4\"><span class=\"toc-item-num\">4&nbsp;&nbsp;</span>Different representation of the data</a></div><div class=\"lev2 toc-item\"><a href=\"#Neural-networks\" data-toc-modified-id=\"Neural-networks-41\"><span class=\"toc-item-num\">4.1&nbsp;&nbsp;</span>Neural networks</a></div>"
   ]
  },
  {
   "cell_type": "markdown",
   "metadata": {},
   "source": [
    "# Machine learning practice\n",
    "\n",
    "Welcome to the second tutorial. In the first session, we started with linear regression and built up to logistic regression. We saw that this form of machine learning is really just an optimization problem. We define a test metric to determine how good of a fit we have, and then we use gradient descent to find the minimum of the loss function.\n",
    "\n",
    "From this, we were able to build up to program a neural network from scratch! The hardest part of this was the back propagation, getting the gradients further back gets hard to keep track of everything. This is where some of the power of modern tools comes into play. Packages like [tensorflow](https://www.tensorflow.org/) and [pytorch](https://pytorch.org/) have an method to keep track of the gradients along the way, even for layers much more complicated that what we have used so far.\n",
    "\n",
    "The docker container we are using contains *tensorflow* and [keras](https://keras.io/), which is built on top of tensorflow (or some other systems) and makes building networks very easy. In the rest of this tutorial we will explore how to make simple networks in *Keras*. As this will be easier than before, we will have time to gain an understanding for:\n",
    "- Optimizers other than gradient descent\n",
    "- Adding depth instead of width\n",
    "- Different activation functions\n",
    "\n",
    "In addition, we will look at some of the *important/best* practices for machine learning. These include:\n",
    "- Metrics for comparing results\n",
    "- Train/Validate/Test sets\n",
    "- Preprocessing\n",
    "\n",
    "This is the first time I have used this tutorial. Please send bugs or typos to bostdiek@gmail.com\n",
    "\n",
    "## Packages\n",
    "First, lets import the packages we will use."
   ]
  },
  {
   "cell_type": "code",
   "execution_count": 1,
   "metadata": {
    "tags": []
   },
   "outputs": [],
   "source": [
    "# Allows for plotting within the notebook\n",
    "%matplotlib inline\n",
    "\n",
    "# Packages from last time\n",
    "import numpy as np\n",
    "import matplotlib.pyplot as plt\n",
    "\n",
    "# For organization later\n",
    "from collections import OrderedDict"
   ]
  },
  {
   "cell_type": "code",
   "execution_count": 2,
   "metadata": {
    "tags": []
   },
   "outputs": [],
   "source": [
    "# The commands make the plots look nice\n",
    "plt.rcParams.update({'font.family': 'cmr10',\n",
    "                     'font.size': 12,\n",
    "                     'font.serif': 'cmr10',\n",
    "                     'axes.unicode_minus': False,\n",
    "                     'axes.labelsize': 12,\n",
    "                     'figure.figsize': (3, 3),\n",
    "                     'figure.dpi': 80,\n",
    "                     'mathtext.fontset': 'cm',\n",
    "                     'mathtext.rm': 'serif',\n",
    "                     'xtick.direction': 'in',\n",
    "                     'ytick.direction': 'in',\n",
    "                     'xtick.top': True,\n",
    "                     'ytick.right': True,\n",
    "                     'axes.formatter.use_mathtext': True\n",
    "                     })"
   ]
  },
  {
   "cell_type": "markdown",
   "metadata": {},
   "source": [
    "## Load data\n",
    "\n",
    "As a very brief introduction to keras, we will use the same 2D data from last session."
   ]
  },
  {
   "cell_type": "code",
   "execution_count": 3,
   "metadata": {
    "tags": []
   },
   "outputs": [],
   "source": [
    "training = np.load('../data/tutorial_1_data/logistic_regression_training.npy')\n",
    "toy_X_Train = training[:, :2]\n",
    "toy_Y_Train = training[:, 2].reshape(-1, 1)  # makes it a vector\n",
    "\n",
    "validation = np.load('../data/tutorial_1_data/logistic_regression_validation.npy')\n",
    "toy_X_Val = validation[:, :2]\n",
    "toy_Y_Val = validation[:, 2].reshape(-1, 1)  # makes it a vector\n",
    "\n",
    "testing = np.load('../data/tutorial_1_data/logistic_regression_testing.npy')\n",
    "toy_X_Test = testing[:, :2]\n",
    "toy_Y_Test = testing[:, 2].reshape(-1, 1)  # makes it a vector"
   ]
  },
  {
   "cell_type": "markdown",
   "metadata": {},
   "source": [
    "## Load Keras and run first network\n",
    "Load the parts of the package we need"
   ]
  },
  {
   "cell_type": "code",
   "execution_count": 4,
   "metadata": {
    "collapsed": false,
    "jupyter": {
     "outputs_hidden": false
    }
   },
   "outputs": [],
   "source": [
    "from keras import Sequential    # This is the easiest method to build\n",
    "                                # a network, but not the most flexible\n",
    "    \n",
    "from keras.layers import Dense  # For layers which are fully connected"
   ]
  },
  {
   "cell_type": "markdown",
   "metadata": {},
   "source": [
    "Now build a model."
   ]
  },
  {
   "cell_type": "code",
   "execution_count": 5,
   "metadata": {
    "tags": []
   },
   "outputs": [
    {
     "name": "stderr",
     "output_type": "stream",
     "text": [
      "2021-12-14 20:18:02.284375: W tensorflow/stream_executor/platform/default/dso_loader.cc:64] Could not load dynamic library 'libcuda.so.1'; dlerror: libcuda.so.1: cannot open shared object file: No such file or directory\n",
      "2021-12-14 20:18:02.284473: W tensorflow/stream_executor/cuda/cuda_driver.cc:269] failed call to cuInit: UNKNOWN ERROR (303)\n",
      "2021-12-14 20:18:02.284513: I tensorflow/stream_executor/cuda/cuda_diagnostics.cc:156] kernel driver does not appear to be running on this host (dcf0898d7d0d): /proc/driver/nvidia/version does not exist\n",
      "2021-12-14 20:18:02.285005: I tensorflow/core/platform/cpu_feature_guard.cc:142] This TensorFlow binary is optimized with oneAPI Deep Neural Network Library (oneDNN) to use the following CPU instructions in performance-critical operations:  SSE4.1 SSE4.2 AVX AVX2 FMA\n",
      "To enable them in other operations, rebuild TensorFlow with the appropriate compiler flags.\n"
     ]
    }
   ],
   "source": [
    "model_0 = Sequential()\n",
    "\n",
    "# First hidden\n",
    "model_0.add(Dense(units=10,          # How many nodes\n",
    "                  activation='relu', # What activation to use\n",
    "                  input_dim=2        # Only needed for the first layer and\n",
    "                                     # sets the dimensionality of the data\n",
    "                 )\n",
    "           )\n",
    "\n",
    "# Output\n",
    "model_0.add(Dense(units=1,              # Only one answer\n",
    "                  activation='sigmoid'  # Map between 0 and 1\n",
    "                 )\n",
    "           )\n",
    "\n",
    "# Now compile the network and tell it\n",
    "# what loss function and optimizer to use\n",
    "model_0.compile(loss='binary_crossentropy', optimizer='sgd')"
   ]
  },
  {
   "cell_type": "markdown",
   "metadata": {},
   "source": [
    "**Note:** This serves as your example on building a network. You will have to generalize from this in the rest of the session."
   ]
  },
  {
   "cell_type": "markdown",
   "metadata": {},
   "source": [
    "SGD is stochastic gradient descent. Part of the 'stochastic' part is that the gradients are only computed on a small fraction of the dataset, instead of the whole dataset. This is the `batch_size` parameter that we will see below. See the website for the avilable [optimizers](https://keras.io/optimizers/) and [loss functions](https://keras.io/losses/).\n",
    "\n",
    "We can also print a summary of our network to make sure that it looks like what we wanted, and to count the free parameters of the model."
   ]
  },
  {
   "cell_type": "code",
   "execution_count": 6,
   "metadata": {
    "collapsed": false,
    "jupyter": {
     "outputs_hidden": false
    }
   },
   "outputs": [
    {
     "name": "stdout",
     "output_type": "stream",
     "text": [
      "Model: \"sequential\"\n",
      "_________________________________________________________________\n",
      "Layer (type)                 Output Shape              Param #   \n",
      "=================================================================\n",
      "dense (Dense)                (None, 10)                30        \n",
      "_________________________________________________________________\n",
      "dense_1 (Dense)              (None, 1)                 11        \n",
      "=================================================================\n",
      "Total params: 41\n",
      "Trainable params: 41\n",
      "Non-trainable params: 0\n",
      "_________________________________________________________________\n"
     ]
    }
   ],
   "source": [
    "model_0.summary()"
   ]
  },
  {
   "cell_type": "markdown",
   "metadata": {},
   "source": [
    "Now let's fit the data."
   ]
  },
  {
   "cell_type": "code",
   "execution_count": 7,
   "metadata": {
    "collapsed": false,
    "jupyter": {
     "outputs_hidden": false
    }
   },
   "outputs": [
    {
     "name": "stderr",
     "output_type": "stream",
     "text": [
      "2021-12-14 20:18:03.000551: I tensorflow/compiler/mlir/mlir_graph_optimization_pass.cc:185] None of the MLIR Optimization Passes are enabled (registered 2)\n"
     ]
    },
    {
     "name": "stdout",
     "output_type": "stream",
     "text": [
      "Epoch 1/500\n",
      "32/32 [==============================] - 1s 11ms/step - loss: 0.6661 - val_loss: 0.6659\n",
      "Epoch 2/500\n",
      "32/32 [==============================] - 0s 4ms/step - loss: 0.6559 - val_loss: 0.6547\n",
      "Epoch 3/500\n",
      "32/32 [==============================] - 0s 4ms/step - loss: 0.6470 - val_loss: 0.6432\n",
      "Epoch 4/500\n",
      "32/32 [==============================] - 0s 4ms/step - loss: 0.6381 - val_loss: 0.6327\n",
      "Epoch 5/500\n",
      "32/32 [==============================] - 0s 5ms/step - loss: 0.6294 - val_loss: 0.6239\n",
      "Epoch 6/500\n",
      "32/32 [==============================] - 0s 5ms/step - loss: 0.6218 - val_loss: 0.6162\n",
      "Epoch 7/500\n",
      "32/32 [==============================] - 0s 4ms/step - loss: 0.6146 - val_loss: 0.6087\n",
      "Epoch 8/500\n",
      "32/32 [==============================] - 0s 4ms/step - loss: 0.6071 - val_loss: 0.6031\n",
      "Epoch 9/500\n",
      "32/32 [==============================] - 0s 5ms/step - loss: 0.6002 - val_loss: 0.5970\n",
      "Epoch 10/500\n",
      "32/32 [==============================] - 0s 4ms/step - loss: 0.5933 - val_loss: 0.5907\n",
      "Epoch 11/500\n",
      "32/32 [==============================] - 0s 5ms/step - loss: 0.5867 - val_loss: 0.5851\n",
      "Epoch 12/500\n",
      "32/32 [==============================] - 0s 6ms/step - loss: 0.5804 - val_loss: 0.5789\n",
      "Epoch 13/500\n",
      "32/32 [==============================] - 0s 5ms/step - loss: 0.5739 - val_loss: 0.5731\n",
      "Epoch 14/500\n",
      "32/32 [==============================] - 0s 4ms/step - loss: 0.5674 - val_loss: 0.5669\n",
      "Epoch 15/500\n",
      "32/32 [==============================] - 0s 5ms/step - loss: 0.5616 - val_loss: 0.5615\n",
      "Epoch 16/500\n",
      "32/32 [==============================] - 0s 5ms/step - loss: 0.5556 - val_loss: 0.5563\n",
      "Epoch 17/500\n",
      "32/32 [==============================] - 0s 4ms/step - loss: 0.5495 - val_loss: 0.5508\n",
      "Epoch 18/500\n",
      "32/32 [==============================] - 0s 4ms/step - loss: 0.5439 - val_loss: 0.5456\n",
      "Epoch 19/500\n",
      "32/32 [==============================] - 0s 4ms/step - loss: 0.5384 - val_loss: 0.5401\n",
      "Epoch 20/500\n",
      "32/32 [==============================] - 0s 4ms/step - loss: 0.5322 - val_loss: 0.5342\n",
      "Epoch 21/500\n",
      "32/32 [==============================] - 0s 4ms/step - loss: 0.5266 - val_loss: 0.5298\n",
      "Epoch 22/500\n",
      "32/32 [==============================] - 0s 6ms/step - loss: 0.5210 - val_loss: 0.5233\n",
      "Epoch 23/500\n",
      "32/32 [==============================] - 0s 4ms/step - loss: 0.5152 - val_loss: 0.5183\n",
      "Epoch 24/500\n",
      "32/32 [==============================] - 0s 4ms/step - loss: 0.5102 - val_loss: 0.5123\n",
      "Epoch 25/500\n",
      "32/32 [==============================] - 0s 4ms/step - loss: 0.5042 - val_loss: 0.5081\n",
      "Epoch 26/500\n",
      "32/32 [==============================] - 0s 4ms/step - loss: 0.4987 - val_loss: 0.5034\n",
      "Epoch 27/500\n",
      "32/32 [==============================] - 0s 4ms/step - loss: 0.4938 - val_loss: 0.4977\n",
      "Epoch 28/500\n",
      "32/32 [==============================] - 0s 5ms/step - loss: 0.4884 - val_loss: 0.4925\n",
      "Epoch 29/500\n",
      "32/32 [==============================] - 0s 4ms/step - loss: 0.4832 - val_loss: 0.4868\n",
      "Epoch 30/500\n",
      "32/32 [==============================] - 0s 4ms/step - loss: 0.4779 - val_loss: 0.4830\n",
      "Epoch 31/500\n",
      "32/32 [==============================] - 0s 4ms/step - loss: 0.4734 - val_loss: 0.4769\n",
      "Epoch 32/500\n",
      "32/32 [==============================] - 0s 5ms/step - loss: 0.4671 - val_loss: 0.4741\n",
      "Epoch 33/500\n",
      "32/32 [==============================] - 0s 4ms/step - loss: 0.4628 - val_loss: 0.4685\n",
      "Epoch 34/500\n",
      "32/32 [==============================] - 0s 5ms/step - loss: 0.4576 - val_loss: 0.4637\n",
      "Epoch 35/500\n",
      "32/32 [==============================] - 0s 5ms/step - loss: 0.4530 - val_loss: 0.4592\n",
      "Epoch 36/500\n",
      "32/32 [==============================] - 0s 4ms/step - loss: 0.4483 - val_loss: 0.4549\n",
      "Epoch 37/500\n",
      "32/32 [==============================] - 0s 5ms/step - loss: 0.4437 - val_loss: 0.4507\n",
      "Epoch 38/500\n",
      "32/32 [==============================] - 0s 4ms/step - loss: 0.4392 - val_loss: 0.4455\n",
      "Epoch 39/500\n",
      "32/32 [==============================] - 0s 4ms/step - loss: 0.4343 - val_loss: 0.4405\n",
      "Epoch 40/500\n",
      "32/32 [==============================] - 0s 4ms/step - loss: 0.4297 - val_loss: 0.4360\n",
      "Epoch 41/500\n",
      "32/32 [==============================] - 0s 4ms/step - loss: 0.4248 - val_loss: 0.4323\n",
      "Epoch 42/500\n",
      "32/32 [==============================] - 0s 5ms/step - loss: 0.4202 - val_loss: 0.4275\n",
      "Epoch 43/500\n",
      "32/32 [==============================] - 0s 4ms/step - loss: 0.4153 - val_loss: 0.4243\n",
      "Epoch 44/500\n",
      "32/32 [==============================] - 0s 5ms/step - loss: 0.4111 - val_loss: 0.4204\n",
      "Epoch 45/500\n",
      "32/32 [==============================] - 0s 5ms/step - loss: 0.4066 - val_loss: 0.4169\n",
      "Epoch 46/500\n",
      "32/32 [==============================] - 0s 4ms/step - loss: 0.4026 - val_loss: 0.4138\n",
      "Epoch 47/500\n",
      "32/32 [==============================] - 0s 4ms/step - loss: 0.3982 - val_loss: 0.4103\n",
      "Epoch 48/500\n",
      "32/32 [==============================] - 0s 4ms/step - loss: 0.3945 - val_loss: 0.4060\n",
      "Epoch 49/500\n",
      "32/32 [==============================] - 0s 4ms/step - loss: 0.3904 - val_loss: 0.4022\n",
      "Epoch 50/500\n",
      "32/32 [==============================] - 0s 5ms/step - loss: 0.3869 - val_loss: 0.3995\n",
      "Epoch 51/500\n",
      "32/32 [==============================] - 0s 5ms/step - loss: 0.3827 - val_loss: 0.3962\n",
      "Epoch 52/500\n",
      "32/32 [==============================] - 0s 5ms/step - loss: 0.3794 - val_loss: 0.3921\n",
      "Epoch 53/500\n",
      "32/32 [==============================] - 0s 4ms/step - loss: 0.3756 - val_loss: 0.3889\n",
      "Epoch 54/500\n",
      "32/32 [==============================] - 0s 5ms/step - loss: 0.3715 - val_loss: 0.3850\n",
      "Epoch 55/500\n",
      "32/32 [==============================] - 0s 6ms/step - loss: 0.3679 - val_loss: 0.3823\n",
      "Epoch 56/500\n",
      "32/32 [==============================] - 0s 4ms/step - loss: 0.3639 - val_loss: 0.3787\n",
      "Epoch 57/500\n",
      "32/32 [==============================] - 0s 4ms/step - loss: 0.3613 - val_loss: 0.3756\n",
      "Epoch 58/500\n",
      "32/32 [==============================] - 0s 4ms/step - loss: 0.3571 - val_loss: 0.3718\n",
      "Epoch 59/500\n",
      "32/32 [==============================] - 0s 3ms/step - loss: 0.3543 - val_loss: 0.3685\n",
      "Epoch 60/500\n",
      "32/32 [==============================] - 0s 6ms/step - loss: 0.3509 - val_loss: 0.3665\n",
      "Epoch 61/500\n",
      "32/32 [==============================] - 0s 5ms/step - loss: 0.3479 - val_loss: 0.3634\n",
      "Epoch 62/500\n",
      "32/32 [==============================] - 0s 4ms/step - loss: 0.3452 - val_loss: 0.3586\n",
      "Epoch 63/500\n",
      "32/32 [==============================] - 0s 3ms/step - loss: 0.3414 - val_loss: 0.3566\n",
      "Epoch 64/500\n",
      "32/32 [==============================] - 0s 4ms/step - loss: 0.3392 - val_loss: 0.3535\n",
      "Epoch 65/500\n",
      "32/32 [==============================] - 0s 4ms/step - loss: 0.3359 - val_loss: 0.3525\n",
      "Epoch 66/500\n",
      "32/32 [==============================] - 0s 7ms/step - loss: 0.3340 - val_loss: 0.3494\n",
      "Epoch 67/500\n",
      "32/32 [==============================] - 0s 6ms/step - loss: 0.3310 - val_loss: 0.3472\n",
      "Epoch 68/500\n",
      "32/32 [==============================] - 0s 4ms/step - loss: 0.3289 - val_loss: 0.3449\n",
      "Epoch 69/500\n",
      "32/32 [==============================] - 0s 4ms/step - loss: 0.3261 - val_loss: 0.3449\n",
      "Epoch 70/500\n",
      "32/32 [==============================] - 0s 5ms/step - loss: 0.3246 - val_loss: 0.3417\n",
      "Epoch 71/500\n",
      "32/32 [==============================] - 0s 4ms/step - loss: 0.3222 - val_loss: 0.3388\n",
      "Epoch 72/500\n",
      "32/32 [==============================] - 0s 4ms/step - loss: 0.3195 - val_loss: 0.3362\n",
      "Epoch 73/500\n",
      "32/32 [==============================] - 0s 5ms/step - loss: 0.3178 - val_loss: 0.3354\n",
      "Epoch 74/500\n",
      "32/32 [==============================] - 0s 5ms/step - loss: 0.3161 - val_loss: 0.3342\n",
      "Epoch 75/500\n",
      "32/32 [==============================] - 0s 5ms/step - loss: 0.3142 - val_loss: 0.3311\n",
      "Epoch 76/500\n",
      "32/32 [==============================] - 0s 5ms/step - loss: 0.3120 - val_loss: 0.3300\n",
      "Epoch 77/500\n",
      "32/32 [==============================] - 0s 4ms/step - loss: 0.3112 - val_loss: 0.3311\n",
      "Epoch 78/500\n",
      "32/32 [==============================] - 0s 4ms/step - loss: 0.3094 - val_loss: 0.3257\n",
      "Epoch 79/500\n",
      "32/32 [==============================] - 0s 6ms/step - loss: 0.3068 - val_loss: 0.3227\n",
      "Epoch 80/500\n",
      "32/32 [==============================] - 0s 8ms/step - loss: 0.3051 - val_loss: 0.3237\n",
      "Epoch 81/500\n",
      "32/32 [==============================] - 0s 5ms/step - loss: 0.3048 - val_loss: 0.3211\n",
      "Epoch 82/500\n",
      "32/32 [==============================] - 0s 4ms/step - loss: 0.3026 - val_loss: 0.3194\n",
      "Epoch 83/500\n",
      "32/32 [==============================] - 0s 4ms/step - loss: 0.3001 - val_loss: 0.3181\n",
      "Epoch 84/500\n",
      "32/32 [==============================] - 0s 4ms/step - loss: 0.2997 - val_loss: 0.3178\n",
      "Epoch 85/500\n",
      "32/32 [==============================] - 0s 5ms/step - loss: 0.2981 - val_loss: 0.3156\n",
      "Epoch 86/500\n",
      "32/32 [==============================] - 0s 4ms/step - loss: 0.2968 - val_loss: 0.3138\n",
      "Epoch 87/500\n",
      "32/32 [==============================] - 0s 4ms/step - loss: 0.2954 - val_loss: 0.3150\n",
      "Epoch 88/500\n",
      "32/32 [==============================] - 0s 4ms/step - loss: 0.2951 - val_loss: 0.3111\n",
      "Epoch 89/500\n",
      "32/32 [==============================] - 0s 8ms/step - loss: 0.2938 - val_loss: 0.3113\n",
      "Epoch 90/500\n",
      "32/32 [==============================] - 0s 10ms/step - loss: 0.2916 - val_loss: 0.3084\n",
      "Epoch 91/500\n",
      "32/32 [==============================] - 1s 18ms/step - loss: 0.2911 - val_loss: 0.3096\n",
      "Epoch 92/500\n",
      "32/32 [==============================] - 0s 6ms/step - loss: 0.2900 - val_loss: 0.3090\n",
      "Epoch 93/500\n",
      "32/32 [==============================] - 0s 6ms/step - loss: 0.2886 - val_loss: 0.3092\n",
      "Epoch 94/500\n",
      "32/32 [==============================] - 0s 8ms/step - loss: 0.2877 - val_loss: 0.3107\n",
      "Epoch 95/500\n",
      "32/32 [==============================] - 0s 5ms/step - loss: 0.2870 - val_loss: 0.3077\n",
      "Epoch 96/500\n",
      "32/32 [==============================] - 0s 5ms/step - loss: 0.2861 - val_loss: 0.3031\n",
      "Epoch 97/500\n",
      "32/32 [==============================] - 0s 4ms/step - loss: 0.2836 - val_loss: 0.3021\n",
      "Epoch 98/500\n",
      "32/32 [==============================] - 0s 4ms/step - loss: 0.2833 - val_loss: 0.3032\n",
      "Epoch 99/500\n",
      "32/32 [==============================] - 0s 5ms/step - loss: 0.2819 - val_loss: 0.3008\n",
      "Epoch 100/500\n",
      "32/32 [==============================] - 0s 6ms/step - loss: 0.2813 - val_loss: 0.2984\n",
      "Epoch 101/500\n",
      "32/32 [==============================] - 0s 9ms/step - loss: 0.2807 - val_loss: 0.2968\n",
      "Epoch 102/500\n",
      "32/32 [==============================] - 0s 6ms/step - loss: 0.2794 - val_loss: 0.2957\n",
      "Epoch 103/500\n",
      "32/32 [==============================] - 0s 13ms/step - loss: 0.2783 - val_loss: 0.2963\n",
      "Epoch 104/500\n",
      "32/32 [==============================] - 0s 6ms/step - loss: 0.2770 - val_loss: 0.2936\n",
      "Epoch 105/500\n",
      "32/32 [==============================] - 0s 6ms/step - loss: 0.2766 - val_loss: 0.2961\n",
      "Epoch 106/500\n",
      "32/32 [==============================] - 0s 5ms/step - loss: 0.2753 - val_loss: 0.2946\n",
      "Epoch 107/500\n",
      "32/32 [==============================] - 0s 5ms/step - loss: 0.2755 - val_loss: 0.2923\n",
      "Epoch 108/500\n",
      "32/32 [==============================] - 0s 4ms/step - loss: 0.2741 - val_loss: 0.2906\n",
      "Epoch 109/500\n",
      "32/32 [==============================] - 0s 4ms/step - loss: 0.2730 - val_loss: 0.2908\n",
      "Epoch 110/500\n",
      "32/32 [==============================] - 0s 7ms/step - loss: 0.2731 - val_loss: 0.2902\n",
      "Epoch 111/500\n",
      "32/32 [==============================] - 0s 7ms/step - loss: 0.2717 - val_loss: 0.2894\n",
      "Epoch 112/500\n",
      "32/32 [==============================] - 0s 6ms/step - loss: 0.2717 - val_loss: 0.2894\n",
      "Epoch 113/500\n",
      "32/32 [==============================] - 0s 7ms/step - loss: 0.2705 - val_loss: 0.2888\n",
      "Epoch 114/500\n",
      "32/32 [==============================] - 0s 10ms/step - loss: 0.2703 - val_loss: 0.2889\n",
      "Epoch 115/500\n",
      "32/32 [==============================] - 0s 10ms/step - loss: 0.2695 - val_loss: 0.2884\n",
      "Epoch 116/500\n",
      "32/32 [==============================] - 0s 6ms/step - loss: 0.2679 - val_loss: 0.2880\n",
      "Epoch 117/500\n",
      "32/32 [==============================] - 0s 5ms/step - loss: 0.2687 - val_loss: 0.2861\n",
      "Epoch 118/500\n",
      "32/32 [==============================] - 0s 5ms/step - loss: 0.2674 - val_loss: 0.2944\n",
      "Epoch 119/500\n",
      "32/32 [==============================] - 0s 4ms/step - loss: 0.2669 - val_loss: 0.2831\n",
      "Epoch 120/500\n",
      "32/32 [==============================] - 0s 4ms/step - loss: 0.2661 - val_loss: 0.2854\n",
      "Epoch 121/500\n",
      "32/32 [==============================] - 0s 4ms/step - loss: 0.2655 - val_loss: 0.2843\n",
      "Epoch 122/500\n",
      "32/32 [==============================] - 0s 4ms/step - loss: 0.2647 - val_loss: 0.2854\n",
      "Epoch 123/500\n",
      "32/32 [==============================] - 1s 36ms/step - loss: 0.2640 - val_loss: 0.2825\n",
      "Epoch 124/500\n",
      "32/32 [==============================] - 0s 4ms/step - loss: 0.2638 - val_loss: 0.2816\n",
      "Epoch 125/500\n",
      "32/32 [==============================] - 0s 3ms/step - loss: 0.2635 - val_loss: 0.2812\n",
      "Epoch 126/500\n",
      "32/32 [==============================] - 0s 4ms/step - loss: 0.2629 - val_loss: 0.2814\n",
      "Epoch 127/500\n",
      "32/32 [==============================] - 0s 4ms/step - loss: 0.2623 - val_loss: 0.2785\n",
      "Epoch 128/500\n",
      "32/32 [==============================] - 1s 19ms/step - loss: 0.2613 - val_loss: 0.2783\n",
      "Epoch 129/500\n",
      "32/32 [==============================] - 0s 11ms/step - loss: 0.2610 - val_loss: 0.2781\n",
      "Epoch 130/500\n",
      "32/32 [==============================] - 0s 11ms/step - loss: 0.2612 - val_loss: 0.2792\n",
      "Epoch 131/500\n",
      "32/32 [==============================] - 0s 10ms/step - loss: 0.2598 - val_loss: 0.2809\n",
      "Epoch 132/500\n",
      "32/32 [==============================] - 0s 7ms/step - loss: 0.2604 - val_loss: 0.2752\n",
      "Epoch 133/500\n",
      "32/32 [==============================] - 0s 6ms/step - loss: 0.2588 - val_loss: 0.2752\n",
      "Epoch 134/500\n",
      "32/32 [==============================] - 0s 8ms/step - loss: 0.2587 - val_loss: 0.2772\n",
      "Epoch 135/500\n",
      "32/32 [==============================] - 0s 12ms/step - loss: 0.2580 - val_loss: 0.2764\n",
      "Epoch 136/500\n",
      "32/32 [==============================] - 0s 11ms/step - loss: 0.2581 - val_loss: 0.2781\n",
      "Epoch 137/500\n",
      "32/32 [==============================] - 0s 8ms/step - loss: 0.2582 - val_loss: 0.2739\n",
      "Epoch 138/500\n",
      "32/32 [==============================] - 0s 10ms/step - loss: 0.2572 - val_loss: 0.2723\n",
      "Epoch 139/500\n",
      "32/32 [==============================] - 0s 11ms/step - loss: 0.2563 - val_loss: 0.2712\n",
      "Epoch 140/500\n",
      "32/32 [==============================] - 0s 11ms/step - loss: 0.2566 - val_loss: 0.2719\n",
      "Epoch 141/500\n",
      "32/32 [==============================] - 0s 15ms/step - loss: 0.2562 - val_loss: 0.2712\n",
      "Epoch 142/500\n",
      "32/32 [==============================] - 0s 11ms/step - loss: 0.2553 - val_loss: 0.2740\n",
      "Epoch 143/500\n",
      "32/32 [==============================] - 0s 15ms/step - loss: 0.2551 - val_loss: 0.2716\n",
      "Epoch 144/500\n",
      "32/32 [==============================] - 1s 17ms/step - loss: 0.2548 - val_loss: 0.2736\n",
      "Epoch 145/500\n",
      "32/32 [==============================] - 1s 16ms/step - loss: 0.2541 - val_loss: 0.2711\n",
      "Epoch 146/500\n",
      "32/32 [==============================] - 1s 19ms/step - loss: 0.2537 - val_loss: 0.2687\n",
      "Epoch 147/500\n",
      "32/32 [==============================] - 1s 19ms/step - loss: 0.2543 - val_loss: 0.2689\n",
      "Epoch 148/500\n",
      "32/32 [==============================] - 0s 11ms/step - loss: 0.2533 - val_loss: 0.2681\n",
      "Epoch 149/500\n",
      "32/32 [==============================] - 1s 16ms/step - loss: 0.2525 - val_loss: 0.2674\n",
      "Epoch 150/500\n",
      "32/32 [==============================] - 0s 11ms/step - loss: 0.2526 - val_loss: 0.2688\n",
      "Epoch 151/500\n",
      "32/32 [==============================] - 0s 11ms/step - loss: 0.2509 - val_loss: 0.2701\n",
      "Epoch 152/500\n",
      "32/32 [==============================] - 1s 17ms/step - loss: 0.2512 - val_loss: 0.2699\n",
      "Epoch 153/500\n",
      "32/32 [==============================] - 1s 16ms/step - loss: 0.2521 - val_loss: 0.2680\n",
      "Epoch 154/500\n",
      "32/32 [==============================] - 0s 7ms/step - loss: 0.2507 - val_loss: 0.2681\n",
      "Epoch 155/500\n",
      "32/32 [==============================] - 0s 9ms/step - loss: 0.2505 - val_loss: 0.2701\n",
      "Epoch 156/500\n",
      "32/32 [==============================] - 0s 12ms/step - loss: 0.2500 - val_loss: 0.2685\n",
      "Epoch 157/500\n",
      "32/32 [==============================] - 0s 7ms/step - loss: 0.2503 - val_loss: 0.2687\n",
      "Epoch 158/500\n",
      "32/32 [==============================] - 0s 10ms/step - loss: 0.2492 - val_loss: 0.2698\n",
      "Epoch 159/500\n",
      "32/32 [==============================] - 0s 6ms/step - loss: 0.2493 - val_loss: 0.2673\n",
      "Epoch 160/500\n",
      "32/32 [==============================] - 0s 9ms/step - loss: 0.2483 - val_loss: 0.2702\n",
      "Epoch 161/500\n",
      "32/32 [==============================] - 0s 5ms/step - loss: 0.2491 - val_loss: 0.2777\n",
      "Epoch 162/500\n",
      "32/32 [==============================] - 0s 4ms/step - loss: 0.2499 - val_loss: 0.2678\n",
      "Epoch 163/500\n",
      "32/32 [==============================] - 0s 5ms/step - loss: 0.2488 - val_loss: 0.2641\n",
      "Epoch 164/500\n",
      "32/32 [==============================] - 0s 4ms/step - loss: 0.2476 - val_loss: 0.2813\n",
      "Epoch 165/500\n",
      "32/32 [==============================] - 0s 4ms/step - loss: 0.2485 - val_loss: 0.2696\n",
      "Epoch 166/500\n",
      "32/32 [==============================] - 0s 4ms/step - loss: 0.2487 - val_loss: 0.2680\n",
      "Epoch 167/500\n",
      "32/32 [==============================] - 0s 5ms/step - loss: 0.2473 - val_loss: 0.2681\n",
      "Epoch 168/500\n",
      "32/32 [==============================] - 0s 4ms/step - loss: 0.2464 - val_loss: 0.2677\n",
      "Epoch 169/500\n",
      "32/32 [==============================] - 0s 5ms/step - loss: 0.2461 - val_loss: 0.2651\n",
      "Epoch 170/500\n",
      "32/32 [==============================] - 0s 6ms/step - loss: 0.2468 - val_loss: 0.2650\n",
      "Epoch 171/500\n",
      "32/32 [==============================] - 0s 4ms/step - loss: 0.2455 - val_loss: 0.2635\n",
      "Epoch 172/500\n",
      "32/32 [==============================] - 0s 4ms/step - loss: 0.2463 - val_loss: 0.2625\n",
      "Epoch 173/500\n",
      "32/32 [==============================] - 0s 4ms/step - loss: 0.2451 - val_loss: 0.2658\n",
      "Epoch 174/500\n",
      "32/32 [==============================] - 0s 4ms/step - loss: 0.2460 - val_loss: 0.2605\n",
      "Epoch 175/500\n",
      "32/32 [==============================] - 0s 5ms/step - loss: 0.2453 - val_loss: 0.2629\n",
      "Epoch 176/500\n",
      "32/32 [==============================] - 0s 4ms/step - loss: 0.2442 - val_loss: 0.2628\n",
      "Epoch 177/500\n",
      "32/32 [==============================] - 0s 3ms/step - loss: 0.2450 - val_loss: 0.2623\n",
      "Epoch 178/500\n",
      "32/32 [==============================] - 0s 2ms/step - loss: 0.2448 - val_loss: 0.2628\n",
      "Epoch 179/500\n",
      "32/32 [==============================] - 0s 2ms/step - loss: 0.2442 - val_loss: 0.2612\n",
      "Epoch 180/500\n",
      "32/32 [==============================] - 0s 2ms/step - loss: 0.2439 - val_loss: 0.2589\n",
      "Epoch 181/500\n",
      "32/32 [==============================] - 0s 2ms/step - loss: 0.2432 - val_loss: 0.2624\n",
      "Epoch 182/500\n",
      "32/32 [==============================] - 0s 2ms/step - loss: 0.2431 - val_loss: 0.2639\n",
      "Epoch 183/500\n",
      "32/32 [==============================] - 0s 2ms/step - loss: 0.2430 - val_loss: 0.2666\n",
      "Epoch 184/500\n",
      "32/32 [==============================] - 0s 6ms/step - loss: 0.2430 - val_loss: 0.2629\n",
      "Epoch 185/500\n",
      "32/32 [==============================] - 0s 3ms/step - loss: 0.2432 - val_loss: 0.2620\n",
      "Epoch 186/500\n",
      "32/32 [==============================] - 0s 4ms/step - loss: 0.2434 - val_loss: 0.2620\n",
      "Epoch 187/500\n",
      "32/32 [==============================] - 0s 4ms/step - loss: 0.2432 - val_loss: 0.2614\n",
      "Epoch 188/500\n",
      "32/32 [==============================] - 0s 4ms/step - loss: 0.2420 - val_loss: 0.2608\n",
      "Epoch 189/500\n",
      "32/32 [==============================] - 0s 3ms/step - loss: 0.2417 - val_loss: 0.2607\n",
      "Epoch 190/500\n",
      "32/32 [==============================] - 0s 8ms/step - loss: 0.2416 - val_loss: 0.2627\n",
      "Epoch 191/500\n",
      "32/32 [==============================] - 0s 6ms/step - loss: 0.2430 - val_loss: 0.2600\n",
      "Epoch 192/500\n",
      "32/32 [==============================] - 0s 5ms/step - loss: 0.2419 - val_loss: 0.2579\n",
      "Epoch 193/500\n",
      "32/32 [==============================] - 0s 5ms/step - loss: 0.2419 - val_loss: 0.2585\n",
      "Epoch 194/500\n",
      "32/32 [==============================] - 0s 5ms/step - loss: 0.2416 - val_loss: 0.2571\n",
      "Epoch 195/500\n",
      "32/32 [==============================] - 0s 5ms/step - loss: 0.2414 - val_loss: 0.2579\n",
      "Epoch 196/500\n",
      "32/32 [==============================] - 0s 6ms/step - loss: 0.2412 - val_loss: 0.2586\n",
      "Epoch 197/500\n",
      "32/32 [==============================] - 0s 5ms/step - loss: 0.2397 - val_loss: 0.2650\n",
      "Epoch 198/500\n",
      "32/32 [==============================] - 0s 5ms/step - loss: 0.2405 - val_loss: 0.2572\n",
      "Epoch 199/500\n",
      "32/32 [==============================] - 0s 4ms/step - loss: 0.2408 - val_loss: 0.2594\n",
      "Epoch 200/500\n",
      "32/32 [==============================] - 0s 6ms/step - loss: 0.2404 - val_loss: 0.2578\n",
      "Epoch 201/500\n",
      "32/32 [==============================] - 0s 6ms/step - loss: 0.2405 - val_loss: 0.2557\n",
      "Epoch 202/500\n",
      "32/32 [==============================] - 0s 5ms/step - loss: 0.2399 - val_loss: 0.2558\n",
      "Epoch 203/500\n",
      "32/32 [==============================] - 0s 6ms/step - loss: 0.2402 - val_loss: 0.2556\n",
      "Epoch 204/500\n",
      "32/32 [==============================] - 0s 6ms/step - loss: 0.2397 - val_loss: 0.2585\n",
      "Epoch 205/500\n",
      "32/32 [==============================] - 0s 5ms/step - loss: 0.2397 - val_loss: 0.2562\n",
      "Epoch 206/500\n",
      "32/32 [==============================] - 0s 5ms/step - loss: 0.2382 - val_loss: 0.2601\n",
      "Epoch 207/500\n",
      "32/32 [==============================] - 0s 4ms/step - loss: 0.2371 - val_loss: 0.2586\n",
      "Epoch 208/500\n",
      "32/32 [==============================] - 0s 5ms/step - loss: 0.2399 - val_loss: 0.2543\n",
      "Epoch 209/500\n",
      "32/32 [==============================] - 0s 4ms/step - loss: 0.2390 - val_loss: 0.2610\n",
      "Epoch 210/500\n",
      "32/32 [==============================] - 0s 4ms/step - loss: 0.2392 - val_loss: 0.2540\n",
      "Epoch 211/500\n",
      "32/32 [==============================] - 0s 5ms/step - loss: 0.2382 - val_loss: 0.2590\n",
      "Epoch 212/500\n",
      "32/32 [==============================] - 0s 4ms/step - loss: 0.2392 - val_loss: 0.2562\n",
      "Epoch 213/500\n",
      "32/32 [==============================] - 0s 4ms/step - loss: 0.2382 - val_loss: 0.2561\n",
      "Epoch 214/500\n",
      "32/32 [==============================] - 0s 4ms/step - loss: 0.2391 - val_loss: 0.2579\n",
      "Epoch 215/500\n",
      "32/32 [==============================] - 0s 5ms/step - loss: 0.2380 - val_loss: 0.2573\n",
      "Epoch 216/500\n",
      "32/32 [==============================] - 0s 4ms/step - loss: 0.2375 - val_loss: 0.2560\n",
      "Epoch 217/500\n",
      "32/32 [==============================] - 0s 4ms/step - loss: 0.2372 - val_loss: 0.2556\n",
      "Epoch 218/500\n",
      "32/32 [==============================] - 0s 4ms/step - loss: 0.2379 - val_loss: 0.2562\n",
      "Epoch 219/500\n",
      "32/32 [==============================] - 0s 4ms/step - loss: 0.2390 - val_loss: 0.2545\n",
      "Epoch 220/500\n",
      "32/32 [==============================] - 0s 4ms/step - loss: 0.2384 - val_loss: 0.2564\n",
      "Epoch 221/500\n",
      "32/32 [==============================] - 0s 5ms/step - loss: 0.2386 - val_loss: 0.2571\n",
      "Epoch 222/500\n",
      "32/32 [==============================] - 0s 4ms/step - loss: 0.2374 - val_loss: 0.2560\n",
      "Epoch 223/500\n",
      "32/32 [==============================] - 0s 4ms/step - loss: 0.2362 - val_loss: 0.2553\n",
      "Epoch 224/500\n",
      "32/32 [==============================] - 0s 7ms/step - loss: 0.2375 - val_loss: 0.2578\n",
      "Epoch 225/500\n",
      "32/32 [==============================] - 0s 4ms/step - loss: 0.2363 - val_loss: 0.2565\n",
      "Epoch 226/500\n",
      "32/32 [==============================] - 0s 4ms/step - loss: 0.2366 - val_loss: 0.2545\n",
      "Epoch 227/500\n",
      "32/32 [==============================] - 0s 4ms/step - loss: 0.2366 - val_loss: 0.2610\n",
      "Epoch 228/500\n",
      "32/32 [==============================] - 0s 4ms/step - loss: 0.2359 - val_loss: 0.2620\n",
      "Epoch 229/500\n",
      "32/32 [==============================] - 0s 4ms/step - loss: 0.2370 - val_loss: 0.2548\n",
      "Epoch 230/500\n",
      "32/32 [==============================] - 0s 4ms/step - loss: 0.2353 - val_loss: 0.2531\n",
      "Epoch 231/500\n",
      "32/32 [==============================] - 0s 4ms/step - loss: 0.2367 - val_loss: 0.2696\n",
      "Epoch 232/500\n",
      "32/32 [==============================] - 0s 4ms/step - loss: 0.2386 - val_loss: 0.2530\n",
      "Epoch 233/500\n",
      "32/32 [==============================] - 0s 5ms/step - loss: 0.2353 - val_loss: 0.2581\n",
      "Epoch 234/500\n",
      "32/32 [==============================] - 0s 4ms/step - loss: 0.2357 - val_loss: 0.2539\n",
      "Epoch 235/500\n",
      "32/32 [==============================] - 0s 4ms/step - loss: 0.2354 - val_loss: 0.2575\n",
      "Epoch 236/500\n",
      "32/32 [==============================] - 0s 5ms/step - loss: 0.2372 - val_loss: 0.2529\n",
      "Epoch 237/500\n",
      "32/32 [==============================] - 0s 4ms/step - loss: 0.2350 - val_loss: 0.2608\n",
      "Epoch 238/500\n",
      "32/32 [==============================] - 0s 5ms/step - loss: 0.2371 - val_loss: 0.2529\n",
      "Epoch 239/500\n",
      "32/32 [==============================] - 0s 3ms/step - loss: 0.2357 - val_loss: 0.2567\n",
      "Epoch 240/500\n",
      "32/32 [==============================] - 0s 4ms/step - loss: 0.2333 - val_loss: 0.2593\n",
      "Epoch 241/500\n",
      "32/32 [==============================] - 0s 5ms/step - loss: 0.2356 - val_loss: 0.2570\n",
      "Epoch 242/500\n",
      "32/32 [==============================] - 0s 5ms/step - loss: 0.2352 - val_loss: 0.2539\n",
      "Epoch 243/500\n",
      "32/32 [==============================] - 0s 4ms/step - loss: 0.2344 - val_loss: 0.2538\n",
      "Epoch 244/500\n",
      "32/32 [==============================] - 0s 7ms/step - loss: 0.2354 - val_loss: 0.2512\n",
      "Epoch 245/500\n",
      "32/32 [==============================] - 0s 5ms/step - loss: 0.2347 - val_loss: 0.2533\n",
      "Epoch 246/500\n",
      "32/32 [==============================] - 0s 3ms/step - loss: 0.2351 - val_loss: 0.2525\n",
      "Epoch 247/500\n",
      "32/32 [==============================] - 0s 4ms/step - loss: 0.2347 - val_loss: 0.2521\n",
      "Epoch 248/500\n",
      "32/32 [==============================] - 0s 4ms/step - loss: 0.2343 - val_loss: 0.2561\n",
      "Epoch 249/500\n",
      "32/32 [==============================] - 0s 4ms/step - loss: 0.2336 - val_loss: 0.2557\n",
      "Epoch 250/500\n",
      "32/32 [==============================] - 0s 4ms/step - loss: 0.2349 - val_loss: 0.2540\n",
      "Epoch 251/500\n",
      "32/32 [==============================] - 0s 6ms/step - loss: 0.2344 - val_loss: 0.2574\n",
      "Epoch 252/500\n",
      "32/32 [==============================] - 0s 4ms/step - loss: 0.2338 - val_loss: 0.2655\n",
      "Epoch 253/500\n",
      "32/32 [==============================] - 0s 4ms/step - loss: 0.2353 - val_loss: 0.2514\n",
      "Epoch 254/500\n",
      "32/32 [==============================] - 0s 4ms/step - loss: 0.2344 - val_loss: 0.2514\n",
      "Epoch 255/500\n",
      "32/32 [==============================] - 0s 4ms/step - loss: 0.2327 - val_loss: 0.2558\n",
      "Epoch 256/500\n",
      "32/32 [==============================] - 0s 4ms/step - loss: 0.2341 - val_loss: 0.2499\n",
      "Epoch 257/500\n",
      "32/32 [==============================] - 0s 4ms/step - loss: 0.2339 - val_loss: 0.2517\n",
      "Epoch 258/500\n",
      "32/32 [==============================] - 0s 5ms/step - loss: 0.2336 - val_loss: 0.2537\n",
      "Epoch 259/500\n",
      "32/32 [==============================] - 0s 3ms/step - loss: 0.2336 - val_loss: 0.2511\n",
      "Epoch 260/500\n",
      "32/32 [==============================] - 0s 4ms/step - loss: 0.2328 - val_loss: 0.2510\n",
      "Epoch 261/500\n",
      "32/32 [==============================] - 0s 3ms/step - loss: 0.2334 - val_loss: 0.2527\n",
      "Epoch 262/500\n",
      "32/32 [==============================] - 0s 4ms/step - loss: 0.2347 - val_loss: 0.2571\n",
      "Epoch 263/500\n",
      "32/32 [==============================] - 0s 5ms/step - loss: 0.2322 - val_loss: 0.2536\n",
      "Epoch 264/500\n",
      "32/32 [==============================] - 0s 5ms/step - loss: 0.2334 - val_loss: 0.2534\n",
      "Epoch 265/500\n",
      "32/32 [==============================] - 0s 5ms/step - loss: 0.2334 - val_loss: 0.2539\n",
      "Epoch 266/500\n",
      "32/32 [==============================] - 0s 4ms/step - loss: 0.2334 - val_loss: 0.2500\n",
      "Epoch 267/500\n",
      "32/32 [==============================] - 0s 4ms/step - loss: 0.2327 - val_loss: 0.2531\n",
      "Epoch 268/500\n",
      "32/32 [==============================] - 0s 4ms/step - loss: 0.2330 - val_loss: 0.2518\n",
      "Epoch 269/500\n",
      "32/32 [==============================] - 0s 5ms/step - loss: 0.2338 - val_loss: 0.2499\n",
      "Epoch 270/500\n",
      "32/32 [==============================] - 0s 5ms/step - loss: 0.2326 - val_loss: 0.2534\n",
      "Epoch 271/500\n",
      "32/32 [==============================] - 0s 4ms/step - loss: 0.2329 - val_loss: 0.2517\n",
      "Epoch 272/500\n",
      "32/32 [==============================] - 0s 4ms/step - loss: 0.2332 - val_loss: 0.2518\n",
      "Epoch 273/500\n",
      "32/32 [==============================] - 0s 4ms/step - loss: 0.2334 - val_loss: 0.2514\n",
      "Epoch 274/500\n",
      "32/32 [==============================] - 0s 5ms/step - loss: 0.2306 - val_loss: 0.2518\n",
      "Epoch 275/500\n",
      "32/32 [==============================] - 0s 6ms/step - loss: 0.2321 - val_loss: 0.2547\n",
      "Epoch 276/500\n",
      "32/32 [==============================] - 0s 4ms/step - loss: 0.2333 - val_loss: 0.2528\n",
      "Epoch 277/500\n",
      "32/32 [==============================] - 0s 4ms/step - loss: 0.2316 - val_loss: 0.2552\n",
      "Epoch 278/500\n",
      "32/32 [==============================] - 0s 4ms/step - loss: 0.2322 - val_loss: 0.2482\n",
      "Epoch 279/500\n",
      "32/32 [==============================] - 0s 3ms/step - loss: 0.2330 - val_loss: 0.2489\n",
      "Epoch 280/500\n",
      "32/32 [==============================] - 0s 6ms/step - loss: 0.2322 - val_loss: 0.2524\n",
      "Epoch 281/500\n",
      "32/32 [==============================] - 0s 5ms/step - loss: 0.2327 - val_loss: 0.2511\n",
      "Epoch 282/500\n",
      "32/32 [==============================] - 0s 5ms/step - loss: 0.2320 - val_loss: 0.2492\n",
      "Epoch 283/500\n",
      "32/32 [==============================] - 0s 5ms/step - loss: 0.2310 - val_loss: 0.2481\n",
      "Epoch 284/500\n",
      "32/32 [==============================] - 0s 5ms/step - loss: 0.2323 - val_loss: 0.2524\n",
      "Epoch 285/500\n",
      "32/32 [==============================] - 0s 4ms/step - loss: 0.2319 - val_loss: 0.2482\n",
      "Epoch 286/500\n",
      "32/32 [==============================] - 0s 4ms/step - loss: 0.2308 - val_loss: 0.2547\n",
      "Epoch 287/500\n",
      "32/32 [==============================] - 0s 6ms/step - loss: 0.2319 - val_loss: 0.2512\n",
      "Epoch 288/500\n",
      "32/32 [==============================] - 0s 5ms/step - loss: 0.2313 - val_loss: 0.2616\n",
      "Epoch 289/500\n",
      "32/32 [==============================] - 0s 4ms/step - loss: 0.2331 - val_loss: 0.2512\n",
      "Epoch 290/500\n",
      "32/32 [==============================] - 0s 4ms/step - loss: 0.2314 - val_loss: 0.2520\n",
      "Epoch 291/500\n",
      "32/32 [==============================] - 0s 4ms/step - loss: 0.2319 - val_loss: 0.2478\n",
      "Epoch 292/500\n",
      "32/32 [==============================] - 0s 3ms/step - loss: 0.2308 - val_loss: 0.2499\n",
      "Epoch 293/500\n",
      "32/32 [==============================] - 0s 5ms/step - loss: 0.2308 - val_loss: 0.2517\n",
      "Epoch 294/500\n",
      "32/32 [==============================] - 0s 7ms/step - loss: 0.2319 - val_loss: 0.2526\n",
      "Epoch 295/500\n",
      "32/32 [==============================] - 0s 4ms/step - loss: 0.2313 - val_loss: 0.2484\n",
      "Epoch 296/500\n",
      "32/32 [==============================] - 1s 38ms/step - loss: 0.2319 - val_loss: 0.2491\n",
      "Epoch 297/500\n",
      "32/32 [==============================] - 0s 5ms/step - loss: 0.2310 - val_loss: 0.2486\n",
      "Epoch 298/500\n",
      "32/32 [==============================] - 0s 9ms/step - loss: 0.2306 - val_loss: 0.2477\n",
      "Epoch 299/500\n",
      "32/32 [==============================] - 0s 6ms/step - loss: 0.2310 - val_loss: 0.2493\n",
      "Epoch 300/500\n",
      "32/32 [==============================] - 0s 4ms/step - loss: 0.2318 - val_loss: 0.2546\n",
      "Epoch 301/500\n",
      "32/32 [==============================] - 0s 6ms/step - loss: 0.2322 - val_loss: 0.2525\n",
      "Epoch 302/500\n",
      "32/32 [==============================] - 0s 5ms/step - loss: 0.2315 - val_loss: 0.2502\n",
      "Epoch 303/500\n",
      "32/32 [==============================] - 0s 4ms/step - loss: 0.2315 - val_loss: 0.2490\n",
      "Epoch 304/500\n",
      "32/32 [==============================] - 0s 4ms/step - loss: 0.2304 - val_loss: 0.2506\n",
      "Epoch 305/500\n",
      "32/32 [==============================] - 0s 4ms/step - loss: 0.2306 - val_loss: 0.2536\n",
      "Epoch 306/500\n",
      "32/32 [==============================] - 0s 5ms/step - loss: 0.2309 - val_loss: 0.2518\n",
      "Epoch 307/500\n",
      "32/32 [==============================] - 0s 4ms/step - loss: 0.2315 - val_loss: 0.2470\n",
      "Epoch 308/500\n",
      "32/32 [==============================] - 0s 4ms/step - loss: 0.2308 - val_loss: 0.2510\n",
      "Epoch 309/500\n",
      "32/32 [==============================] - 0s 4ms/step - loss: 0.2297 - val_loss: 0.2510\n",
      "Epoch 310/500\n",
      "32/32 [==============================] - 0s 4ms/step - loss: 0.2303 - val_loss: 0.2486\n",
      "Epoch 311/500\n",
      "32/32 [==============================] - 0s 5ms/step - loss: 0.2298 - val_loss: 0.2511\n",
      "Epoch 312/500\n",
      "32/32 [==============================] - 0s 4ms/step - loss: 0.2298 - val_loss: 0.2506\n",
      "Epoch 313/500\n",
      "32/32 [==============================] - 0s 6ms/step - loss: 0.2298 - val_loss: 0.2555\n",
      "Epoch 314/500\n",
      "32/32 [==============================] - 0s 5ms/step - loss: 0.2313 - val_loss: 0.2478\n",
      "Epoch 315/500\n",
      "32/32 [==============================] - 0s 5ms/step - loss: 0.2302 - val_loss: 0.2493\n",
      "Epoch 316/500\n",
      "32/32 [==============================] - 0s 5ms/step - loss: 0.2306 - val_loss: 0.2501\n",
      "Epoch 317/500\n",
      "32/32 [==============================] - 0s 4ms/step - loss: 0.2305 - val_loss: 0.2498\n",
      "Epoch 318/500\n",
      "32/32 [==============================] - 0s 4ms/step - loss: 0.2307 - val_loss: 0.2508\n",
      "Epoch 319/500\n",
      "32/32 [==============================] - 0s 4ms/step - loss: 0.2302 - val_loss: 0.2514\n",
      "Epoch 320/500\n",
      "32/32 [==============================] - 0s 5ms/step - loss: 0.2306 - val_loss: 0.2548\n",
      "Epoch 321/500\n",
      "32/32 [==============================] - 0s 4ms/step - loss: 0.2292 - val_loss: 0.2493\n",
      "Epoch 322/500\n",
      "32/32 [==============================] - 0s 4ms/step - loss: 0.2306 - val_loss: 0.2482\n",
      "Epoch 323/500\n",
      "32/32 [==============================] - 0s 4ms/step - loss: 0.2301 - val_loss: 0.2504\n",
      "Epoch 324/500\n",
      "32/32 [==============================] - 0s 4ms/step - loss: 0.2294 - val_loss: 0.2513\n",
      "Epoch 325/500\n",
      "32/32 [==============================] - 0s 5ms/step - loss: 0.2301 - val_loss: 0.2498\n",
      "Epoch 326/500\n",
      "32/32 [==============================] - 0s 5ms/step - loss: 0.2295 - val_loss: 0.2512\n",
      "Epoch 327/500\n",
      "32/32 [==============================] - 0s 5ms/step - loss: 0.2293 - val_loss: 0.2516\n",
      "Epoch 328/500\n",
      "32/32 [==============================] - 0s 5ms/step - loss: 0.2299 - val_loss: 0.2529\n",
      "Epoch 329/500\n",
      "32/32 [==============================] - 0s 4ms/step - loss: 0.2310 - val_loss: 0.2478\n",
      "Epoch 330/500\n",
      "32/32 [==============================] - 0s 4ms/step - loss: 0.2287 - val_loss: 0.2531\n",
      "Epoch 331/500\n",
      "32/32 [==============================] - 0s 6ms/step - loss: 0.2296 - val_loss: 0.2567\n",
      "Epoch 332/500\n",
      "32/32 [==============================] - 0s 4ms/step - loss: 0.2301 - val_loss: 0.2493\n",
      "Epoch 333/500\n",
      "32/32 [==============================] - 0s 6ms/step - loss: 0.2299 - val_loss: 0.2491\n",
      "Epoch 334/500\n",
      "32/32 [==============================] - 0s 3ms/step - loss: 0.2294 - val_loss: 0.2554\n",
      "Epoch 335/500\n",
      "32/32 [==============================] - 0s 4ms/step - loss: 0.2306 - val_loss: 0.2476\n",
      "Epoch 336/500\n",
      "32/32 [==============================] - 0s 5ms/step - loss: 0.2297 - val_loss: 0.2483\n",
      "Epoch 337/500\n",
      "32/32 [==============================] - 0s 4ms/step - loss: 0.2287 - val_loss: 0.2476\n",
      "Epoch 338/500\n",
      "32/32 [==============================] - 0s 4ms/step - loss: 0.2299 - val_loss: 0.2478\n",
      "Epoch 339/500\n",
      "32/32 [==============================] - 0s 4ms/step - loss: 0.2293 - val_loss: 0.2549\n",
      "Epoch 340/500\n",
      "32/32 [==============================] - 0s 4ms/step - loss: 0.2296 - val_loss: 0.2509\n",
      "Epoch 341/500\n",
      "32/32 [==============================] - 0s 5ms/step - loss: 0.2288 - val_loss: 0.2470\n",
      "Epoch 342/500\n",
      "32/32 [==============================] - 0s 4ms/step - loss: 0.2275 - val_loss: 0.2473\n",
      "Epoch 343/500\n",
      "32/32 [==============================] - 0s 5ms/step - loss: 0.2286 - val_loss: 0.2556\n",
      "Epoch 344/500\n",
      "32/32 [==============================] - 0s 5ms/step - loss: 0.2306 - val_loss: 0.2532\n",
      "Epoch 345/500\n",
      "32/32 [==============================] - 0s 4ms/step - loss: 0.2290 - val_loss: 0.2529\n",
      "Epoch 346/500\n",
      "32/32 [==============================] - 0s 4ms/step - loss: 0.2270 - val_loss: 0.2537\n",
      "Epoch 347/500\n",
      "32/32 [==============================] - 0s 4ms/step - loss: 0.2286 - val_loss: 0.2537\n",
      "Epoch 348/500\n",
      "32/32 [==============================] - 0s 4ms/step - loss: 0.2299 - val_loss: 0.2528\n",
      "Epoch 349/500\n",
      "32/32 [==============================] - 0s 4ms/step - loss: 0.2280 - val_loss: 0.2515\n",
      "Epoch 350/500\n",
      "32/32 [==============================] - 0s 5ms/step - loss: 0.2296 - val_loss: 0.2517\n",
      "Epoch 351/500\n",
      "32/32 [==============================] - 0s 4ms/step - loss: 0.2288 - val_loss: 0.2522\n",
      "Epoch 352/500\n",
      "32/32 [==============================] - 0s 4ms/step - loss: 0.2291 - val_loss: 0.2507\n",
      "Epoch 353/500\n",
      "32/32 [==============================] - 0s 4ms/step - loss: 0.2290 - val_loss: 0.2474\n",
      "Epoch 354/500\n",
      "32/32 [==============================] - 0s 4ms/step - loss: 0.2276 - val_loss: 0.2542\n",
      "Epoch 355/500\n",
      "32/32 [==============================] - 0s 4ms/step - loss: 0.2309 - val_loss: 0.2509\n",
      "Epoch 356/500\n",
      "32/32 [==============================] - 0s 4ms/step - loss: 0.2286 - val_loss: 0.2525\n",
      "Epoch 357/500\n",
      "32/32 [==============================] - 0s 4ms/step - loss: 0.2302 - val_loss: 0.2570\n",
      "Epoch 358/500\n",
      "32/32 [==============================] - 0s 5ms/step - loss: 0.2290 - val_loss: 0.2532\n",
      "Epoch 359/500\n",
      "32/32 [==============================] - 0s 5ms/step - loss: 0.2291 - val_loss: 0.2510\n",
      "Epoch 360/500\n",
      "32/32 [==============================] - 0s 4ms/step - loss: 0.2284 - val_loss: 0.2477\n",
      "Epoch 361/500\n",
      "32/32 [==============================] - 0s 4ms/step - loss: 0.2292 - val_loss: 0.2497\n",
      "Epoch 362/500\n",
      "32/32 [==============================] - 0s 5ms/step - loss: 0.2310 - val_loss: 0.2486\n",
      "Epoch 363/500\n",
      "32/32 [==============================] - 0s 5ms/step - loss: 0.2283 - val_loss: 0.2515\n",
      "Epoch 364/500\n",
      "32/32 [==============================] - 0s 4ms/step - loss: 0.2290 - val_loss: 0.2500\n",
      "Epoch 365/500\n",
      "32/32 [==============================] - 0s 5ms/step - loss: 0.2281 - val_loss: 0.2459\n",
      "Epoch 366/500\n",
      "32/32 [==============================] - 0s 4ms/step - loss: 0.2294 - val_loss: 0.2504\n",
      "Epoch 367/500\n",
      "32/32 [==============================] - 0s 3ms/step - loss: 0.2289 - val_loss: 0.2480\n",
      "Epoch 368/500\n",
      "32/32 [==============================] - 0s 5ms/step - loss: 0.2289 - val_loss: 0.2528\n",
      "Epoch 369/500\n",
      "32/32 [==============================] - 0s 4ms/step - loss: 0.2291 - val_loss: 0.2548\n",
      "Epoch 370/500\n",
      "32/32 [==============================] - 0s 3ms/step - loss: 0.2274 - val_loss: 0.2519\n",
      "Epoch 371/500\n",
      "32/32 [==============================] - 0s 4ms/step - loss: 0.2280 - val_loss: 0.2510\n",
      "Epoch 372/500\n",
      "32/32 [==============================] - 0s 3ms/step - loss: 0.2286 - val_loss: 0.2507\n",
      "Epoch 373/500\n",
      "32/32 [==============================] - 0s 4ms/step - loss: 0.2279 - val_loss: 0.2489\n",
      "Epoch 374/500\n",
      "32/32 [==============================] - 0s 4ms/step - loss: 0.2283 - val_loss: 0.2518\n",
      "Epoch 375/500\n",
      "32/32 [==============================] - 0s 4ms/step - loss: 0.2281 - val_loss: 0.2514\n",
      "Epoch 376/500\n",
      "32/32 [==============================] - 0s 4ms/step - loss: 0.2284 - val_loss: 0.2631\n",
      "Epoch 377/500\n",
      "32/32 [==============================] - 0s 5ms/step - loss: 0.2299 - val_loss: 0.2525\n",
      "Epoch 378/500\n",
      "32/32 [==============================] - 0s 8ms/step - loss: 0.2291 - val_loss: 0.2628\n",
      "Epoch 379/500\n",
      "32/32 [==============================] - 0s 5ms/step - loss: 0.2301 - val_loss: 0.2536\n",
      "Epoch 380/500\n",
      "32/32 [==============================] - 0s 4ms/step - loss: 0.2282 - val_loss: 0.2517\n",
      "Epoch 381/500\n",
      "32/32 [==============================] - 0s 5ms/step - loss: 0.2276 - val_loss: 0.2504\n",
      "Epoch 382/500\n",
      "32/32 [==============================] - 0s 5ms/step - loss: 0.2277 - val_loss: 0.2574\n",
      "Epoch 383/500\n",
      "32/32 [==============================] - 0s 5ms/step - loss: 0.2297 - val_loss: 0.2491\n",
      "Epoch 384/500\n",
      "32/32 [==============================] - 0s 3ms/step - loss: 0.2285 - val_loss: 0.2597\n",
      "Epoch 385/500\n",
      "32/32 [==============================] - 0s 4ms/step - loss: 0.2288 - val_loss: 0.2499\n",
      "Epoch 386/500\n",
      "32/32 [==============================] - 0s 4ms/step - loss: 0.2280 - val_loss: 0.2609\n",
      "Epoch 387/500\n",
      "32/32 [==============================] - 0s 4ms/step - loss: 0.2299 - val_loss: 0.2524\n",
      "Epoch 388/500\n",
      "32/32 [==============================] - 0s 4ms/step - loss: 0.2293 - val_loss: 0.2507\n",
      "Epoch 389/500\n",
      "32/32 [==============================] - 0s 5ms/step - loss: 0.2275 - val_loss: 0.2618\n",
      "Epoch 390/500\n",
      "32/32 [==============================] - 0s 4ms/step - loss: 0.2298 - val_loss: 0.2561\n",
      "Epoch 391/500\n",
      "32/32 [==============================] - 0s 4ms/step - loss: 0.2282 - val_loss: 0.2515\n",
      "Epoch 392/500\n",
      "32/32 [==============================] - 0s 5ms/step - loss: 0.2289 - val_loss: 0.2485\n",
      "Epoch 393/500\n",
      "32/32 [==============================] - 0s 5ms/step - loss: 0.2277 - val_loss: 0.2520\n",
      "Epoch 394/500\n",
      "32/32 [==============================] - 0s 5ms/step - loss: 0.2267 - val_loss: 0.2484\n",
      "Epoch 395/500\n",
      "32/32 [==============================] - 0s 3ms/step - loss: 0.2279 - val_loss: 0.2544\n",
      "Epoch 396/500\n",
      "32/32 [==============================] - 0s 4ms/step - loss: 0.2282 - val_loss: 0.2512\n",
      "Epoch 397/500\n",
      "32/32 [==============================] - 0s 4ms/step - loss: 0.2283 - val_loss: 0.2514\n",
      "Epoch 398/500\n",
      "32/32 [==============================] - 0s 4ms/step - loss: 0.2255 - val_loss: 0.2545\n",
      "Epoch 399/500\n",
      "32/32 [==============================] - 0s 5ms/step - loss: 0.2296 - val_loss: 0.2509\n",
      "Epoch 400/500\n",
      "32/32 [==============================] - 0s 5ms/step - loss: 0.2279 - val_loss: 0.2484\n",
      "Epoch 401/500\n",
      "32/32 [==============================] - 0s 5ms/step - loss: 0.2280 - val_loss: 0.2515\n",
      "Epoch 402/500\n",
      "32/32 [==============================] - 0s 5ms/step - loss: 0.2301 - val_loss: 0.2536\n",
      "Epoch 403/500\n",
      "32/32 [==============================] - 0s 4ms/step - loss: 0.2275 - val_loss: 0.2512\n",
      "Epoch 404/500\n",
      "32/32 [==============================] - 0s 4ms/step - loss: 0.2259 - val_loss: 0.2545\n",
      "Epoch 405/500\n",
      "32/32 [==============================] - 0s 6ms/step - loss: 0.2283 - val_loss: 0.2515\n",
      "Epoch 406/500\n",
      "32/32 [==============================] - 0s 4ms/step - loss: 0.2287 - val_loss: 0.2475\n",
      "Epoch 407/500\n",
      "32/32 [==============================] - 0s 5ms/step - loss: 0.2282 - val_loss: 0.2476\n",
      "Epoch 408/500\n",
      "32/32 [==============================] - 0s 3ms/step - loss: 0.2273 - val_loss: 0.2541\n",
      "Epoch 409/500\n",
      "32/32 [==============================] - 0s 5ms/step - loss: 0.2269 - val_loss: 0.2660\n",
      "Epoch 410/500\n",
      "32/32 [==============================] - 0s 5ms/step - loss: 0.2273 - val_loss: 0.2507\n",
      "Epoch 411/500\n",
      "32/32 [==============================] - 0s 4ms/step - loss: 0.2259 - val_loss: 0.2545\n",
      "Epoch 412/500\n",
      "32/32 [==============================] - 0s 4ms/step - loss: 0.2279 - val_loss: 0.2513\n",
      "Epoch 413/500\n",
      "32/32 [==============================] - 0s 4ms/step - loss: 0.2273 - val_loss: 0.2547\n",
      "Epoch 414/500\n",
      "32/32 [==============================] - 0s 5ms/step - loss: 0.2281 - val_loss: 0.2526\n",
      "Epoch 415/500\n",
      "32/32 [==============================] - 0s 5ms/step - loss: 0.2268 - val_loss: 0.2498\n",
      "Epoch 416/500\n",
      "32/32 [==============================] - 0s 4ms/step - loss: 0.2275 - val_loss: 0.2572\n",
      "Epoch 417/500\n",
      "32/32 [==============================] - 0s 4ms/step - loss: 0.2268 - val_loss: 0.2464\n",
      "Epoch 418/500\n",
      "32/32 [==============================] - 0s 4ms/step - loss: 0.2271 - val_loss: 0.2457\n",
      "Epoch 419/500\n",
      "32/32 [==============================] - 0s 5ms/step - loss: 0.2287 - val_loss: 0.2496\n",
      "Epoch 420/500\n",
      "32/32 [==============================] - 0s 4ms/step - loss: 0.2281 - val_loss: 0.2496\n",
      "Epoch 421/500\n",
      "32/32 [==============================] - 0s 5ms/step - loss: 0.2272 - val_loss: 0.2602\n",
      "Epoch 422/500\n",
      "32/32 [==============================] - 0s 4ms/step - loss: 0.2281 - val_loss: 0.2530\n",
      "Epoch 423/500\n",
      "32/32 [==============================] - 0s 3ms/step - loss: 0.2287 - val_loss: 0.2495\n",
      "Epoch 424/500\n",
      "32/32 [==============================] - 0s 4ms/step - loss: 0.2285 - val_loss: 0.2531\n",
      "Epoch 425/500\n",
      "32/32 [==============================] - 0s 5ms/step - loss: 0.2277 - val_loss: 0.2544\n",
      "Epoch 426/500\n",
      "32/32 [==============================] - 0s 4ms/step - loss: 0.2281 - val_loss: 0.2529\n",
      "Epoch 427/500\n",
      "32/32 [==============================] - 0s 3ms/step - loss: 0.2297 - val_loss: 0.2537\n",
      "Epoch 428/500\n",
      "32/32 [==============================] - 0s 4ms/step - loss: 0.2269 - val_loss: 0.2521\n",
      "Epoch 429/500\n",
      "32/32 [==============================] - 0s 4ms/step - loss: 0.2272 - val_loss: 0.2521\n",
      "Epoch 430/500\n",
      "32/32 [==============================] - 0s 3ms/step - loss: 0.2278 - val_loss: 0.2543\n",
      "Epoch 431/500\n",
      "32/32 [==============================] - 0s 5ms/step - loss: 0.2276 - val_loss: 0.2495\n",
      "Epoch 432/500\n",
      "32/32 [==============================] - 0s 4ms/step - loss: 0.2293 - val_loss: 0.2498\n",
      "Epoch 433/500\n",
      "32/32 [==============================] - 0s 4ms/step - loss: 0.2271 - val_loss: 0.2502\n",
      "Epoch 434/500\n",
      "32/32 [==============================] - 0s 8ms/step - loss: 0.2268 - val_loss: 0.2522\n",
      "Epoch 435/500\n",
      "32/32 [==============================] - 0s 4ms/step - loss: 0.2273 - val_loss: 0.2461\n",
      "Epoch 436/500\n",
      "32/32 [==============================] - 0s 4ms/step - loss: 0.2272 - val_loss: 0.2477\n",
      "Epoch 437/500\n",
      "32/32 [==============================] - 0s 5ms/step - loss: 0.2272 - val_loss: 0.2537\n",
      "Epoch 438/500\n",
      "32/32 [==============================] - 0s 8ms/step - loss: 0.2272 - val_loss: 0.2517\n",
      "Epoch 439/500\n",
      "32/32 [==============================] - 0s 4ms/step - loss: 0.2267 - val_loss: 0.2520\n",
      "Epoch 440/500\n",
      "32/32 [==============================] - 0s 4ms/step - loss: 0.2281 - val_loss: 0.2537\n",
      "Epoch 441/500\n",
      "32/32 [==============================] - 0s 4ms/step - loss: 0.2274 - val_loss: 0.2484\n",
      "Epoch 442/500\n",
      "32/32 [==============================] - 0s 4ms/step - loss: 0.2279 - val_loss: 0.2508\n",
      "Epoch 443/500\n",
      "32/32 [==============================] - 0s 4ms/step - loss: 0.2279 - val_loss: 0.2542\n",
      "Epoch 444/500\n",
      "32/32 [==============================] - 0s 4ms/step - loss: 0.2282 - val_loss: 0.2493\n",
      "Epoch 445/500\n",
      "32/32 [==============================] - 0s 4ms/step - loss: 0.2271 - val_loss: 0.2522\n",
      "Epoch 446/500\n",
      "32/32 [==============================] - 0s 4ms/step - loss: 0.2260 - val_loss: 0.2558\n",
      "Epoch 447/500\n",
      "32/32 [==============================] - 0s 4ms/step - loss: 0.2280 - val_loss: 0.2519\n",
      "Epoch 448/500\n",
      "32/32 [==============================] - 0s 4ms/step - loss: 0.2262 - val_loss: 0.2561\n",
      "Epoch 449/500\n",
      "32/32 [==============================] - 0s 5ms/step - loss: 0.2266 - val_loss: 0.2515\n",
      "Epoch 450/500\n",
      "32/32 [==============================] - 0s 3ms/step - loss: 0.2279 - val_loss: 0.2510\n",
      "Epoch 451/500\n",
      "32/32 [==============================] - 0s 4ms/step - loss: 0.2271 - val_loss: 0.2526\n",
      "Epoch 452/500\n",
      "32/32 [==============================] - 0s 4ms/step - loss: 0.2247 - val_loss: 0.2582\n",
      "Epoch 453/500\n",
      "32/32 [==============================] - 0s 3ms/step - loss: 0.2285 - val_loss: 0.2492\n",
      "Epoch 454/500\n",
      "32/32 [==============================] - 0s 4ms/step - loss: 0.2267 - val_loss: 0.2512\n",
      "Epoch 455/500\n",
      "32/32 [==============================] - 0s 6ms/step - loss: 0.2295 - val_loss: 0.2492\n",
      "Epoch 456/500\n",
      "32/32 [==============================] - 0s 5ms/step - loss: 0.2280 - val_loss: 0.2511\n",
      "Epoch 457/500\n",
      "32/32 [==============================] - 0s 5ms/step - loss: 0.2263 - val_loss: 0.2517\n",
      "Epoch 458/500\n",
      "32/32 [==============================] - 0s 3ms/step - loss: 0.2265 - val_loss: 0.2527\n",
      "Epoch 459/500\n",
      "32/32 [==============================] - 0s 5ms/step - loss: 0.2271 - val_loss: 0.2589\n",
      "Epoch 460/500\n",
      "32/32 [==============================] - 0s 3ms/step - loss: 0.2261 - val_loss: 0.2535\n",
      "Epoch 461/500\n",
      "32/32 [==============================] - 0s 5ms/step - loss: 0.2272 - val_loss: 0.2562\n",
      "Epoch 462/500\n",
      "32/32 [==============================] - 0s 4ms/step - loss: 0.2277 - val_loss: 0.2494\n",
      "Epoch 463/500\n",
      "32/32 [==============================] - 0s 4ms/step - loss: 0.2264 - val_loss: 0.2530\n",
      "Epoch 464/500\n",
      "32/32 [==============================] - 0s 4ms/step - loss: 0.2280 - val_loss: 0.2552\n",
      "Epoch 465/500\n",
      "32/32 [==============================] - 0s 4ms/step - loss: 0.2272 - val_loss: 0.2546\n",
      "Epoch 466/500\n",
      "32/32 [==============================] - 0s 3ms/step - loss: 0.2285 - val_loss: 0.2792\n",
      "Epoch 467/500\n",
      "32/32 [==============================] - 0s 4ms/step - loss: 0.2295 - val_loss: 0.2536\n",
      "Epoch 468/500\n",
      "32/32 [==============================] - 0s 4ms/step - loss: 0.2267 - val_loss: 0.2544\n",
      "Epoch 469/500\n",
      "32/32 [==============================] - 0s 4ms/step - loss: 0.2284 - val_loss: 0.2536\n",
      "Epoch 470/500\n",
      "32/32 [==============================] - 0s 4ms/step - loss: 0.2267 - val_loss: 0.2515\n",
      "Epoch 471/500\n",
      "32/32 [==============================] - 0s 4ms/step - loss: 0.2275 - val_loss: 0.2526\n",
      "Epoch 472/500\n",
      "32/32 [==============================] - 0s 5ms/step - loss: 0.2268 - val_loss: 0.2502\n",
      "Epoch 473/500\n",
      "32/32 [==============================] - 0s 3ms/step - loss: 0.2243 - val_loss: 0.2534\n",
      "Epoch 474/500\n",
      "32/32 [==============================] - 0s 5ms/step - loss: 0.2268 - val_loss: 0.2506\n",
      "Epoch 475/500\n",
      "32/32 [==============================] - 0s 4ms/step - loss: 0.2268 - val_loss: 0.2579\n",
      "Epoch 476/500\n",
      "32/32 [==============================] - 0s 4ms/step - loss: 0.2264 - val_loss: 0.2562\n",
      "Epoch 477/500\n",
      "32/32 [==============================] - 0s 5ms/step - loss: 0.2265 - val_loss: 0.2601\n",
      "Epoch 478/500\n",
      "32/32 [==============================] - 0s 4ms/step - loss: 0.2286 - val_loss: 0.2502\n",
      "Epoch 479/500\n",
      "32/32 [==============================] - ETA: 0s - loss: 0.213 - 0s 4ms/step - loss: 0.2268 - val_loss: 0.2517\n",
      "Epoch 480/500\n",
      "32/32 [==============================] - 0s 5ms/step - loss: 0.2281 - val_loss: 0.2522\n",
      "Epoch 481/500\n",
      "32/32 [==============================] - 0s 5ms/step - loss: 0.2274 - val_loss: 0.2651\n",
      "Epoch 482/500\n",
      "32/32 [==============================] - 0s 4ms/step - loss: 0.2273 - val_loss: 0.2567\n",
      "Epoch 483/500\n",
      "32/32 [==============================] - 0s 4ms/step - loss: 0.2275 - val_loss: 0.2533\n",
      "Epoch 484/500\n",
      "32/32 [==============================] - 0s 5ms/step - loss: 0.2274 - val_loss: 0.2537\n",
      "Epoch 485/500\n",
      "32/32 [==============================] - 0s 4ms/step - loss: 0.2275 - val_loss: 0.2522\n",
      "Epoch 486/500\n",
      "32/32 [==============================] - 0s 4ms/step - loss: 0.2264 - val_loss: 0.2555\n",
      "Epoch 487/500\n",
      "32/32 [==============================] - 0s 3ms/step - loss: 0.2272 - val_loss: 0.2513\n",
      "Epoch 488/500\n",
      "32/32 [==============================] - 0s 6ms/step - loss: 0.2273 - val_loss: 0.2540\n",
      "Epoch 489/500\n",
      "32/32 [==============================] - 0s 3ms/step - loss: 0.2278 - val_loss: 0.2517\n",
      "Epoch 490/500\n",
      "32/32 [==============================] - 0s 4ms/step - loss: 0.2263 - val_loss: 0.2542\n",
      "Epoch 491/500\n",
      "32/32 [==============================] - 0s 4ms/step - loss: 0.2268 - val_loss: 0.2475\n",
      "Epoch 492/500\n",
      "32/32 [==============================] - 0s 5ms/step - loss: 0.2269 - val_loss: 0.2546\n",
      "Epoch 493/500\n",
      "32/32 [==============================] - 0s 7ms/step - loss: 0.2256 - val_loss: 0.2504\n",
      "Epoch 494/500\n",
      "32/32 [==============================] - 0s 5ms/step - loss: 0.2247 - val_loss: 0.2609\n",
      "Epoch 495/500\n",
      "32/32 [==============================] - 0s 5ms/step - loss: 0.2288 - val_loss: 0.2550\n",
      "Epoch 496/500\n",
      "32/32 [==============================] - 0s 5ms/step - loss: 0.2267 - val_loss: 0.2655\n",
      "Epoch 497/500\n",
      "32/32 [==============================] - 0s 5ms/step - loss: 0.2273 - val_loss: 0.2512\n",
      "Epoch 498/500\n",
      "32/32 [==============================] - 0s 5ms/step - loss: 0.2274 - val_loss: 0.2525\n",
      "Epoch 499/500\n",
      "32/32 [==============================] - 0s 5ms/step - loss: 0.2269 - val_loss: 0.2680\n",
      "Epoch 500/500\n",
      "32/32 [==============================] - 0s 4ms/step - loss: 0.2269 - val_loss: 0.2557\n"
     ]
    }
   ],
   "source": [
    "history_0 = model_0.fit(x=toy_X_Train,  # The input data\n",
    "                        y=toy_Y_Train,  # The labels we want to predict\n",
    "                        epochs=500,     # How long to train\n",
    "                        batch_size=32,  # How many events to use to compute the gradient\n",
    "                        validation_data=(toy_X_Val, toy_Y_Val), # the data and labels of the validation set\n",
    "                        verbose=True    # To print out how the training is going\n",
    "                       )"
   ]
  },
  {
   "cell_type": "markdown",
   "metadata": {},
   "source": [
    "That's all it took, much easier than before! Now we plot the losses on the validation and training sets like we did before, to make sure that we are not over-fitting the data. These are returned as when calling `model.fit()` which is why we set it equal to a new variable."
   ]
  },
  {
   "cell_type": "code",
   "execution_count": 8,
   "metadata": {
    "collapsed": false,
    "jupyter": {
     "outputs_hidden": false
    }
   },
   "outputs": [
    {
     "data": {
      "image/png": "[encoded data removed]",
      "text/plain": [
       "<Figure size 240x240 with 1 Axes>"
      ]
     },
     "metadata": {
      "needs_background": "light"
     },
     "output_type": "display_data"
    }
   ],
   "source": [
    "plt.plot(history_0.history['loss'], label='Training')\n",
    "plt.plot(history_0.history['val_loss'], label='Validation')\n",
    "plt.xlabel('Epoch')\n",
    "plt.ylabel('BCE')\n",
    "plt.legend()\n",
    "plt.show()"
   ]
  },
  {
   "cell_type": "markdown",
   "metadata": {},
   "source": [
    "Both of the losses are similar, so we are not overfitting. Notice that there is more noise that last tutorial, this is because of the batches. The gradient can sometimes move us in the wrong direction because we are only taking a subset of the data each time. However, each *epoch*, or iteration through the data, now updates the paramters more times. (The length of the dataset divided by the batch size). With this, it takes less iterations."
   ]
  },
  {
   "cell_type": "markdown",
   "metadata": {},
   "source": [
    "## Network Metrics\n",
    "The loss is clearly one way to determine which model is better. However, in physics we want to know what the efficiency of a cut is, how much background is cut out, etc. We will use the **Test** data for this. The *Validation* data could be used for this, because it was not explicitly trained on. However, we often use the validation data as a way to stop training early, in which case the network is not entirely independent from it. Metrics comparing results should **always** be on same independent data if possible.\n",
    "\n",
    "The first metric we will look at is the Receiver Operating Characteristic (ROC) curve. To get this, we first need to get the predictions for the network on our test data.\n",
    "\n",
    "**Exercise**: Use look up how to use the `predict` function of our model. Make a get a prediction for each event in the test dataset. (Hint, use model_0.predict)"
   ]
  },
  {
   "cell_type": "code",
   "execution_count": 9,
   "metadata": {
    "tags": []
   },
   "outputs": [],
   "source": [
    "### Enter code here ###\n",
    "preds_model_0 = model_0.predict(toy_X_Test, verbose=False)\n",
    "### End code here ###"
   ]
  },
  {
   "cell_type": "markdown",
   "metadata": {},
   "source": [
    "Lets plot these results, first splitting into the signal and background cases."
   ]
  },
  {
   "cell_type": "code",
   "execution_count": 10,
   "metadata": {
    "collapsed": false,
    "jupyter": {
     "outputs_hidden": false
    }
   },
   "outputs": [
    {
     "data": {
      "image/png": "[encoded data removed]",
      "text/plain": [
       "<Figure size 240x240 with 1 Axes>"
      ]
     },
     "metadata": {
      "needs_background": "light"
     },
     "output_type": "display_data"
    }
   ],
   "source": [
    "TestSigs = preds_model_0[toy_Y_Test == 1]\n",
    "TestBack = preds_model_0[toy_Y_Test == 0]\n",
    "\n",
    "plt.hist(TestBack, histtype='step',  # density='True',\n",
    "         bins=20, range=(0, 1), label='Background')\n",
    "plt.hist(TestSigs, histtype='step',  # density='True',\n",
    "         bins=20, range=(0, 1), label='Signal')\n",
    "plt.xlabel('Network output')\n",
    "plt.ylabel('Events/bin')\n",
    "plt.yscale('log')\n",
    "plt.xlim(0, 1)\n",
    "plt.minorticks_on()\n",
    "\n",
    "plt.legend(loc='upper center', frameon=False)\n",
    "plt.show()"
   ]
  },
  {
   "cell_type": "markdown",
   "metadata": {},
   "source": [
    "As expected, the background events are clustered around 0 and the signal events are clustered around 1. Imagine cutting the data, and only the datapoints with a score larger than a certin number. If we start the cut at 0, all of the events make it through, so we have a signal efficiency $\\epsilon_S$ and a background efficiency $\\epsilon_B$ equal to 1. In the opposite extreme, we could only take events with a score larger than 1, in which case no events pass, thus $\\epsilon_S = \\epsilon_B = 0$. As we scan the value of the cut, $\\epsilon_S$ and $\\epsilon_B$ will work from 0 to 1, plotting these parametrically defines the ROC Curve. If $\\epsilon_S=\\epsilon_B$ everywhere, our model is never gaining an advantage over random guessing.\n",
    "\n",
    "To compute the ROC curve, we will use part of scikit-learn."
   ]
  },
  {
   "cell_type": "code",
   "execution_count": 11,
   "metadata": {
    "tags": []
   },
   "outputs": [],
   "source": [
    "from sklearn.metrics import roc_curve, auc"
   ]
  },
  {
   "cell_type": "markdown",
   "metadata": {},
   "source": [
    "**Exercise:** Compute the ROC curve. (Hint, to bring up the doc string, run a cell with a question mark, as shown below). We should only need to supply y_true and y_score. The other arguments we can leave as default."
   ]
  },
  {
   "cell_type": "code",
   "execution_count": 12,
   "metadata": {
    "tags": []
   },
   "outputs": [
    {
     "data": {
      "text/plain": [
       "\u001b[0;31mSignature:\u001b[0m\n",
       "\u001b[0mroc_curve\u001b[0m\u001b[0;34m(\u001b[0m\u001b[0;34m\u001b[0m\n",
       "\u001b[0;34m\u001b[0m    \u001b[0my_true\u001b[0m\u001b[0;34m,\u001b[0m\u001b[0;34m\u001b[0m\n",
       "\u001b[0;34m\u001b[0m    \u001b[0my_score\u001b[0m\u001b[0;34m,\u001b[0m\u001b[0;34m\u001b[0m\n",
       "\u001b[0;34m\u001b[0m    \u001b[0;34m*\u001b[0m\u001b[0;34m,\u001b[0m\u001b[0;34m\u001b[0m\n",
       "\u001b[0;34m\u001b[0m    \u001b[0mpos_label\u001b[0m\u001b[0;34m=\u001b[0m\u001b[0;32mNone\u001b[0m\u001b[0;34m,\u001b[0m\u001b[0;34m\u001b[0m\n",
       "\u001b[0;34m\u001b[0m    \u001b[0msample_weight\u001b[0m\u001b[0;34m=\u001b[0m\u001b[0;32mNone\u001b[0m\u001b[0;34m,\u001b[0m\u001b[0;34m\u001b[0m\n",
       "\u001b[0;34m\u001b[0m    \u001b[0mdrop_intermediate\u001b[0m\u001b[0;34m=\u001b[0m\u001b[0;32mTrue\u001b[0m\u001b[0;34m,\u001b[0m\u001b[0;34m\u001b[0m\n",
       "\u001b[0;34m\u001b[0m\u001b[0;34m)\u001b[0m\u001b[0;34m\u001b[0m\u001b[0;34m\u001b[0m\u001b[0m\n",
       "\u001b[0;31mDocstring:\u001b[0m\n",
       "Compute Receiver operating characteristic (ROC).\n",
       "\n",
       "Note: this implementation is restricted to the binary classification task.\n",
       "\n",
       "Read more in the :ref:`User Guide <roc_metrics>`.\n",
       "\n",
       "Parameters\n",
       "----------\n",
       "y_true : ndarray of shape (n_samples,)\n",
       "    True binary labels. If labels are not either {-1, 1} or {0, 1}, then\n",
       "    pos_label should be explicitly given.\n",
       "\n",
       "y_score : ndarray of shape (n_samples,)\n",
       "    Target scores, can either be probability estimates of the positive\n",
       "    class, confidence values, or non-thresholded measure of decisions\n",
       "    (as returned by \"decision_function\" on some classifiers).\n",
       "\n",
       "pos_label : int or str, default=None\n",
       "    The label of the positive class.\n",
       "    When ``pos_label=None``, if `y_true` is in {-1, 1} or {0, 1},\n",
       "    ``pos_label`` is set to 1, otherwise an error will be raised.\n",
       "\n",
       "sample_weight : array-like of shape (n_samples,), default=None\n",
       "    Sample weights.\n",
       "\n",
       "drop_intermediate : bool, default=True\n",
       "    Whether to drop some suboptimal thresholds which would not appear\n",
       "    on a plotted ROC curve. This is useful in order to create lighter\n",
       "    ROC curves.\n",
       "\n",
       "    .. versionadded:: 0.17\n",
       "       parameter *drop_intermediate*.\n",
       "\n",
       "Returns\n",
       "-------\n",
       "fpr : ndarray of shape (>2,)\n",
       "    Increasing false positive rates such that element i is the false\n",
       "    positive rate of predictions with score >= `thresholds[i]`.\n",
       "\n",
       "tpr : ndarray of shape (>2,)\n",
       "    Increasing true positive rates such that element `i` is the true\n",
       "    positive rate of predictions with score >= `thresholds[i]`.\n",
       "\n",
       "thresholds : ndarray of shape = (n_thresholds,)\n",
       "    Decreasing thresholds on the decision function used to compute\n",
       "    fpr and tpr. `thresholds[0]` represents no instances being predicted\n",
       "    and is arbitrarily set to `max(y_score) + 1`.\n",
       "\n",
       "See Also\n",
       "--------\n",
       "RocCurveDisplay.from_estimator : Plot Receiver Operating Characteristic\n",
       "    (ROC) curve given an estimator and some data.\n",
       "RocCurveDisplay.from_predictions : Plot Receiver Operating Characteristic\n",
       "    (ROC) curve given the true and predicted values.\n",
       "det_curve: Compute error rates for different probability thresholds.\n",
       "roc_auc_score : Compute the area under the ROC curve.\n",
       "\n",
       "Notes\n",
       "-----\n",
       "Since the thresholds are sorted from low to high values, they\n",
       "are reversed upon returning them to ensure they correspond to both ``fpr``\n",
       "and ``tpr``, which are sorted in reversed order during their calculation.\n",
       "\n",
       "References\n",
       "----------\n",
       ".. [1] `Wikipedia entry for the Receiver operating characteristic\n",
       "        <https://en.wikipedia.org/wiki/Receiver_operating_characteristic>`_\n",
       "\n",
       ".. [2] Fawcett T. An introduction to ROC analysis[J]. Pattern Recognition\n",
       "       Letters, 2006, 27(8):861-874.\n",
       "\n",
       "Examples\n",
       "--------\n",
       ">>> import numpy as np\n",
       ">>> from sklearn import metrics\n",
       ">>> y = np.array([1, 1, 2, 2])\n",
       ">>> scores = np.array([0.1, 0.4, 0.35, 0.8])\n",
       ">>> fpr, tpr, thresholds = metrics.roc_curve(y, scores, pos_label=2)\n",
       ">>> fpr\n",
       "array([0. , 0. , 0.5, 0.5, 1. ])\n",
       ">>> tpr\n",
       "array([0. , 0.5, 0.5, 1. , 1. ])\n",
       ">>> thresholds\n",
       "array([1.8 , 0.8 , 0.4 , 0.35, 0.1 ])\n",
       "\u001b[0;31mFile:\u001b[0m      /opt/conda/lib/python3.9/site-packages/sklearn/metrics/_ranking.py\n",
       "\u001b[0;31mType:\u001b[0m      function\n"
      ]
     },
     "metadata": {},
     "output_type": "display_data"
    }
   ],
   "source": [
    "roc_curve?"
   ]
  },
  {
   "cell_type": "code",
   "execution_count": 13,
   "metadata": {
    "tags": []
   },
   "outputs": [],
   "source": [
    "### Enter code here ###\n",
    "fpr_model_0, tpr_model_0, thresholds_model_0 = roc_curve(y_true=toy_Y_Test,\n",
    "                                                         y_score=preds_model_0\n",
    "                                                        )\n",
    "### End code here ###"
   ]
  },
  {
   "cell_type": "markdown",
   "metadata": {},
   "source": [
    "Now make the plot. The fpr is the *False positive rate* which is the same thing as $\\epsilon_B$. The tpr is *True positie rate* which is $\\epsilon_S$."
   ]
  },
  {
   "cell_type": "code",
   "execution_count": 14,
   "metadata": {
    "collapsed": false,
    "jupyter": {
     "outputs_hidden": false
    }
   },
   "outputs": [
    {
     "data": {
      "image/png": "[encoded data removed]",
      "text/plain": [
       "<Figure size 240x240 with 1 Axes>"
      ]
     },
     "metadata": {
      "needs_background": "light"
     },
     "output_type": "display_data"
    }
   ],
   "source": [
    "#Plot the epsilon_S along the y axis and epsilon_B along the x\n",
    "plt.plot(fpr_model_0, tpr_model_0)\n",
    "plt.plot([0,1], [0, 1], ls=':', color='k')  # interpolating between all events and no events\n",
    "plt.xlabel(r'$\\epsilon_B$')\n",
    "plt.ylabel(r'$\\epsilon_S$')\n",
    "plt.show()"
   ]
  },
  {
   "cell_type": "markdown",
   "metadata": {},
   "source": [
    "A perfect classifier would be able to get all of the signal events $\\epsilon_S=1$ and none of the background $\\epsilon_B=0$. Curves that are much above the dotted line are good classifier. Another metric related to these is the **Area under the curve** or (AUC). An AUC of 1 is perfect, while an AUC of 0.5 is random guessing. The AUC can be computed easily within `scikit-learn`."
   ]
  },
  {
   "cell_type": "markdown",
   "metadata": {},
   "source": [
    "**Exercise:** Compute the area under the curve using `auc`."
   ]
  },
  {
   "cell_type": "code",
   "execution_count": 15,
   "metadata": {
    "collapsed": false,
    "jupyter": {
     "outputs_hidden": false
    }
   },
   "outputs": [
    {
     "name": "stdout",
     "output_type": "stream",
     "text": [
      "The area under the ROC curve is 0.969\n"
     ]
    }
   ],
   "source": [
    "### Enter code here ###\n",
    "auc_model_0 = auc(fpr_model_0, tpr_model_0)\n",
    "### End code here ###\n",
    "\n",
    "print('The area under the ROC curve is {0:.3f}'.format(auc_model_0))"
   ]
  },
  {
   "cell_type": "markdown",
   "metadata": {},
   "source": [
    "The AUC is a good metric, because it scans accross the efficiencies. However, it is dominated by the values at large $\\epsilon_B$. In cutting out SM background at the LHC, we often need to cut out lots of background. The other metric we will use is the amount of background rejection at a signal efficiency of 0.7. There are a few ways that we can find this, but one of the easiest is to make an interpolating function."
   ]
  },
  {
   "cell_type": "code",
   "execution_count": 16,
   "metadata": {
    "tags": []
   },
   "outputs": [],
   "source": [
    "from scipy.interpolate import interp1d"
   ]
  },
  {
   "cell_type": "markdown",
   "metadata": {},
   "source": [
    "**Exercise:** Make an interpolating function to be able to compute the false positive rate for any true positive rate."
   ]
  },
  {
   "cell_type": "code",
   "execution_count": 17,
   "metadata": {
    "tags": []
   },
   "outputs": [
    {
     "data": {
      "text/plain": [
       "\u001b[0;31mInit signature:\u001b[0m\n",
       "\u001b[0minterp1d\u001b[0m\u001b[0;34m(\u001b[0m\u001b[0;34m\u001b[0m\n",
       "\u001b[0;34m\u001b[0m    \u001b[0mx\u001b[0m\u001b[0;34m,\u001b[0m\u001b[0;34m\u001b[0m\n",
       "\u001b[0;34m\u001b[0m    \u001b[0my\u001b[0m\u001b[0;34m,\u001b[0m\u001b[0;34m\u001b[0m\n",
       "\u001b[0;34m\u001b[0m    \u001b[0mkind\u001b[0m\u001b[0;34m=\u001b[0m\u001b[0;34m'linear'\u001b[0m\u001b[0;34m,\u001b[0m\u001b[0;34m\u001b[0m\n",
       "\u001b[0;34m\u001b[0m    \u001b[0maxis\u001b[0m\u001b[0;34m=\u001b[0m\u001b[0;34m-\u001b[0m\u001b[0;36m1\u001b[0m\u001b[0;34m,\u001b[0m\u001b[0;34m\u001b[0m\n",
       "\u001b[0;34m\u001b[0m    \u001b[0mcopy\u001b[0m\u001b[0;34m=\u001b[0m\u001b[0;32mTrue\u001b[0m\u001b[0;34m,\u001b[0m\u001b[0;34m\u001b[0m\n",
       "\u001b[0;34m\u001b[0m    \u001b[0mbounds_error\u001b[0m\u001b[0;34m=\u001b[0m\u001b[0;32mNone\u001b[0m\u001b[0;34m,\u001b[0m\u001b[0;34m\u001b[0m\n",
       "\u001b[0;34m\u001b[0m    \u001b[0mfill_value\u001b[0m\u001b[0;34m=\u001b[0m\u001b[0mnan\u001b[0m\u001b[0;34m,\u001b[0m\u001b[0;34m\u001b[0m\n",
       "\u001b[0;34m\u001b[0m    \u001b[0massume_sorted\u001b[0m\u001b[0;34m=\u001b[0m\u001b[0;32mFalse\u001b[0m\u001b[0;34m,\u001b[0m\u001b[0;34m\u001b[0m\n",
       "\u001b[0;34m\u001b[0m\u001b[0;34m)\u001b[0m\u001b[0;34m\u001b[0m\u001b[0;34m\u001b[0m\u001b[0m\n",
       "\u001b[0;31mDocstring:\u001b[0m     \n",
       "Interpolate a 1-D function.\n",
       "\n",
       "`x` and `y` are arrays of values used to approximate some function f:\n",
       "``y = f(x)``. This class returns a function whose call method uses\n",
       "interpolation to find the value of new points.\n",
       "\n",
       "Parameters\n",
       "----------\n",
       "x : (N,) array_like\n",
       "    A 1-D array of real values.\n",
       "y : (...,N,...) array_like\n",
       "    A N-D array of real values. The length of `y` along the interpolation\n",
       "    axis must be equal to the length of `x`.\n",
       "kind : str or int, optional\n",
       "    Specifies the kind of interpolation as a string or as an integer\n",
       "    specifying the order of the spline interpolator to use.\n",
       "    The string has to be one of 'linear', 'nearest', 'nearest-up', 'zero',\n",
       "    'slinear', 'quadratic', 'cubic', 'previous', or 'next'. 'zero',\n",
       "    'slinear', 'quadratic' and 'cubic' refer to a spline interpolation of\n",
       "    zeroth, first, second or third order; 'previous' and 'next' simply\n",
       "    return the previous or next value of the point; 'nearest-up' and\n",
       "    'nearest' differ when interpolating half-integers (e.g. 0.5, 1.5)\n",
       "    in that 'nearest-up' rounds up and 'nearest' rounds down. Default\n",
       "    is 'linear'.\n",
       "axis : int, optional\n",
       "    Specifies the axis of `y` along which to interpolate.\n",
       "    Interpolation defaults to the last axis of `y`.\n",
       "copy : bool, optional\n",
       "    If True, the class makes internal copies of x and y.\n",
       "    If False, references to `x` and `y` are used. The default is to copy.\n",
       "bounds_error : bool, optional\n",
       "    If True, a ValueError is raised any time interpolation is attempted on\n",
       "    a value outside of the range of x (where extrapolation is\n",
       "    necessary). If False, out of bounds values are assigned `fill_value`.\n",
       "    By default, an error is raised unless ``fill_value=\"extrapolate\"``.\n",
       "fill_value : array-like or (array-like, array_like) or \"extrapolate\", optional\n",
       "    - if a ndarray (or float), this value will be used to fill in for\n",
       "      requested points outside of the data range. If not provided, then\n",
       "      the default is NaN. The array-like must broadcast properly to the\n",
       "      dimensions of the non-interpolation axes.\n",
       "    - If a two-element tuple, then the first element is used as a\n",
       "      fill value for ``x_new < x[0]`` and the second element is used for\n",
       "      ``x_new > x[-1]``. Anything that is not a 2-element tuple (e.g.,\n",
       "      list or ndarray, regardless of shape) is taken to be a single\n",
       "      array-like argument meant to be used for both bounds as\n",
       "      ``below, above = fill_value, fill_value``.\n",
       "\n",
       "      .. versionadded:: 0.17.0\n",
       "    - If \"extrapolate\", then points outside the data range will be\n",
       "      extrapolated.\n",
       "\n",
       "      .. versionadded:: 0.17.0\n",
       "assume_sorted : bool, optional\n",
       "    If False, values of `x` can be in any order and they are sorted first.\n",
       "    If True, `x` has to be an array of monotonically increasing values.\n",
       "\n",
       "Attributes\n",
       "----------\n",
       "fill_value\n",
       "\n",
       "Methods\n",
       "-------\n",
       "__call__\n",
       "\n",
       "See Also\n",
       "--------\n",
       "splrep, splev\n",
       "    Spline interpolation/smoothing based on FITPACK.\n",
       "UnivariateSpline : An object-oriented wrapper of the FITPACK routines.\n",
       "interp2d : 2-D interpolation\n",
       "\n",
       "Notes\n",
       "-----\n",
       "Calling `interp1d` with NaNs present in input values results in\n",
       "undefined behaviour.\n",
       "\n",
       "Input values `x` and `y` must be convertible to `float` values like\n",
       "`int` or `float`.\n",
       "\n",
       "If the values in `x` are not unique, the resulting behavior is\n",
       "undefined and specific to the choice of `kind`, i.e., changing\n",
       "`kind` will change the behavior for duplicates.\n",
       "\n",
       "\n",
       "Examples\n",
       "--------\n",
       ">>> import matplotlib.pyplot as plt\n",
       ">>> from scipy import interpolate\n",
       ">>> x = np.arange(0, 10)\n",
       ">>> y = np.exp(-x/3.0)\n",
       ">>> f = interpolate.interp1d(x, y)\n",
       "\n",
       ">>> xnew = np.arange(0, 9, 0.1)\n",
       ">>> ynew = f(xnew)   # use interpolation function returned by `interp1d`\n",
       ">>> plt.plot(x, y, 'o', xnew, ynew, '-')\n",
       ">>> plt.show()\n",
       "\u001b[0;31mInit docstring:\u001b[0m Initialize a 1-D linear interpolation class.\n",
       "\u001b[0;31mFile:\u001b[0m           /opt/conda/lib/python3.9/site-packages/scipy/interpolate/interpolate.py\n",
       "\u001b[0;31mType:\u001b[0m           type\n",
       "\u001b[0;31mSubclasses:\u001b[0m     \n"
      ]
     },
     "metadata": {},
     "output_type": "display_data"
    }
   ],
   "source": [
    "?interp1d\n",
    "# Hint: We should only need to supply x and y, leave the rest of the arguments as their default values"
   ]
  },
  {
   "cell_type": "code",
   "execution_count": 18,
   "metadata": {
    "collapsed": false,
    "jupyter": {
     "outputs_hidden": false
    }
   },
   "outputs": [
    {
     "name": "stdout",
     "output_type": "stream",
     "text": [
      "The e_B at a fixed e_S=0.7: 8.097e-03\n"
     ]
    }
   ],
   "source": [
    "### Enter code here ###\n",
    "background_eff = interp1d(tpr_model_0, fpr_model_0)\n",
    "### End code here ###\n",
    "\n",
    "# Now we use the function to get the background efficiency at a\n",
    "# fixed signal efficiency of 0.7\n",
    "background_at_sig_70 = background_eff(0.7)\n",
    "print('The e_B at a fixed e_S=0.7' + ': {0:.3e}'.format(background_at_sig_70))"
   ]
  },
  {
   "cell_type": "markdown",
   "metadata": {},
   "source": [
    "Because this is a small number, we can invert it. We can also plot the ROC curve with the signal efficiency on the $x$ axis, and invert the background efficiency."
   ]
  },
  {
   "cell_type": "code",
   "execution_count": 19,
   "metadata": {
    "collapsed": false,
    "jupyter": {
     "outputs_hidden": false
    }
   },
   "outputs": [
    {
     "name": "stderr",
     "output_type": "stream",
     "text": [
      "/tmp/ipykernel_2589/2161194579.py:2: RuntimeWarning: divide by zero encountered in true_divide\n",
      "  1/fpr_model_0,\n"
     ]
    },
    {
     "data": {
      "image/png": "[encoded data removed]",
      "text/plain": [
       "<Figure size 240x240 with 1 Axes>"
      ]
     },
     "metadata": {
      "needs_background": "light"
     },
     "output_type": "display_data"
    }
   ],
   "source": [
    "plt.plot(tpr_model_0,\n",
    "         1/fpr_model_0,\n",
    "         label='{0:.1f}'.format(1/background_at_sig_70)\n",
    "        )\n",
    "plt.xlabel('$\\epsilon_{S}$')\n",
    "plt.ylabel('$1/\\epsilon_{B}$')\n",
    "plt.xlim(0,1)\n",
    "plt.yscale('log')\n",
    "plt.legend()\n",
    "plt.show()"
   ]
  },
  {
   "cell_type": "markdown",
   "metadata": {},
   "source": [
    "This toy dataset does not have very large test set, so we cannot get great metrics. When you design a study, this needs to be kept in mind. Your test set needs to be large enough."
   ]
  },
  {
   "cell_type": "markdown",
   "metadata": {},
   "source": [
    "# Physics Example"
   ]
  },
  {
   "cell_type": "markdown",
   "metadata": {},
   "source": [
    "Now that we have seen the basics on how to use `Keras` and how to compute metrics on our models, let's move to a physics example. In the `tutorial_2_data` are events generated with Sherpa which are di-gluon and di-quark (parton-level) events from 13 TeV proton-proton collisions. We then analyzed the resulting files by clustering the final-state particles with the anti-kt alogithm. The consituents which have been clustered into the jet with the largest transverse momentum are then put into a comma seperated file. Each row of the file is the hardest jet in each event. The columns are the $p_T$, $\\eta$, and $\\phi$ of up to 10 consituents. Note that we are treating the particles as massless. If there are less than 10 constituents, we fill its place with 0. Finally, the last column is a 0 for the gluons and a 1 for the quarks. Our goal is to make a classifier to distinguish the quarks from the gluons."
   ]
  },
  {
   "cell_type": "markdown",
   "metadata": {},
   "source": [
    "**Note:** We only have around 25000 samples for each jet type. For deep learning, it would be better to have much larger samples. While the results we get below may not look like deep learning is buying us anything, I hope that you at least get something from the concepts that we are looking at."
   ]
  },
  {
   "cell_type": "markdown",
   "metadata": {},
   "source": [
    "## Another helpful python package\n",
    "To load the csv files, I will use the pandas package. I find it very helpful, but don't make the most use of it in this tutorial. "
   ]
  },
  {
   "cell_type": "code",
   "execution_count": 20,
   "metadata": {
    "tags": []
   },
   "outputs": [],
   "source": [
    "import pandas as pd"
   ]
  },
  {
   "cell_type": "code",
   "execution_count": 21,
   "metadata": {
    "collapsed": false,
    "jupyter": {
     "outputs_hidden": false
    }
   },
   "outputs": [
    {
     "name": "stdout",
     "output_type": "stream",
     "text": [
      "['pt_0', 'eta_0', 'phi_0', 'pt_1', 'eta_1', 'phi_1', 'pt_2', 'eta_2', 'phi_2', 'pt_3', 'eta_3', 'phi_3', 'pt_4', 'eta_4', 'phi_4', 'pt_5', 'eta_5', 'phi_5', 'pt_6', 'eta_6', 'phi_6', 'pt_7', 'eta_7', 'phi_7', 'pt_8', 'eta_8', 'phi_8', 'pt_9', 'eta_9', 'phi_9', 'label']\n"
     ]
    }
   ],
   "source": [
    "# This cell just gets the names for the columns of the csv files\n",
    "mynames = []\n",
    "for i in range(10):\n",
    "    mynames.append('pt_' + str(i))\n",
    "    mynames.append('eta_' + str(i))\n",
    "    mynames.append('phi_' + str(i))\n",
    "mynames.append('label')\n",
    "print(mynames)"
   ]
  },
  {
   "cell_type": "code",
   "execution_count": 22,
   "metadata": {
    "collapsed": false,
    "jupyter": {
     "outputs_hidden": false
    }
   },
   "outputs": [],
   "source": [
    "gluons = pd.read_csv('../data/tutorial_2_data/gluons.csv',\n",
    "                     names=mynames\n",
    "                    )\n",
    "quarks = pd.read_csv('../data/tutorial_2_data/quarks.csv',\n",
    "                     names=mynames\n",
    "                    )"
   ]
  },
  {
   "cell_type": "markdown",
   "metadata": {},
   "source": [
    "One nice feature of pandas is the .describe() method."
   ]
  },
  {
   "cell_type": "code",
   "execution_count": 23,
   "metadata": {
    "collapsed": false,
    "jupyter": {
     "outputs_hidden": false
    }
   },
   "outputs": [
    {
     "data": {
      "text/html": [
       "<div>\n",
       "<style scoped>\n",
       "    .dataframe tbody tr th:only-of-type {\n",
       "        vertical-align: middle;\n",
       "    }\n",
       "\n",
       "    .dataframe tbody tr th {\n",
       "        vertical-align: top;\n",
       "    }\n",
       "\n",
       "    .dataframe thead th {\n",
       "        text-align: right;\n",
       "    }\n",
       "</style>\n",
       "<table border=\"1\" class=\"dataframe\">\n",
       "  <thead>\n",
       "    <tr style=\"text-align: right;\">\n",
       "      <th></th>\n",
       "      <th>pt_0</th>\n",
       "      <th>eta_0</th>\n",
       "      <th>phi_0</th>\n",
       "      <th>pt_1</th>\n",
       "      <th>eta_1</th>\n",
       "      <th>phi_1</th>\n",
       "      <th>pt_2</th>\n",
       "      <th>eta_2</th>\n",
       "      <th>phi_2</th>\n",
       "      <th>pt_3</th>\n",
       "      <th>...</th>\n",
       "      <th>pt_7</th>\n",
       "      <th>eta_7</th>\n",
       "      <th>phi_7</th>\n",
       "      <th>pt_8</th>\n",
       "      <th>eta_8</th>\n",
       "      <th>phi_8</th>\n",
       "      <th>pt_9</th>\n",
       "      <th>eta_9</th>\n",
       "      <th>phi_9</th>\n",
       "      <th>label</th>\n",
       "    </tr>\n",
       "  </thead>\n",
       "  <tbody>\n",
       "    <tr>\n",
       "      <th>count</th>\n",
       "      <td>24998.000000</td>\n",
       "      <td>24998.000000</td>\n",
       "      <td>24998.000000</td>\n",
       "      <td>24998.000000</td>\n",
       "      <td>24998.000000</td>\n",
       "      <td>24998.000000</td>\n",
       "      <td>24998.000000</td>\n",
       "      <td>24998.000000</td>\n",
       "      <td>24998.000000</td>\n",
       "      <td>24998.000000</td>\n",
       "      <td>...</td>\n",
       "      <td>24998.000000</td>\n",
       "      <td>24998.000000</td>\n",
       "      <td>24998.000000</td>\n",
       "      <td>24998.000000</td>\n",
       "      <td>24998.000000</td>\n",
       "      <td>24998.000000</td>\n",
       "      <td>24998.000000</td>\n",
       "      <td>24998.000000</td>\n",
       "      <td>24998.000000</td>\n",
       "      <td>24998.0</td>\n",
       "    </tr>\n",
       "    <tr>\n",
       "      <th>mean</th>\n",
       "      <td>99.868124</td>\n",
       "      <td>-0.010417</td>\n",
       "      <td>0.000399</td>\n",
       "      <td>23.525718</td>\n",
       "      <td>-0.012556</td>\n",
       "      <td>-0.006846</td>\n",
       "      <td>8.651830</td>\n",
       "      <td>-0.009058</td>\n",
       "      <td>-0.011884</td>\n",
       "      <td>3.407782</td>\n",
       "      <td>...</td>\n",
       "      <td>0.068018</td>\n",
       "      <td>-0.000107</td>\n",
       "      <td>-0.001076</td>\n",
       "      <td>0.026844</td>\n",
       "      <td>-0.000500</td>\n",
       "      <td>0.000104</td>\n",
       "      <td>0.010418</td>\n",
       "      <td>0.000171</td>\n",
       "      <td>0.000186</td>\n",
       "      <td>1.0</td>\n",
       "    </tr>\n",
       "    <tr>\n",
       "      <th>std</th>\n",
       "      <td>43.845549</td>\n",
       "      <td>1.766024</td>\n",
       "      <td>1.819094</td>\n",
       "      <td>19.830798</td>\n",
       "      <td>1.645306</td>\n",
       "      <td>1.699246</td>\n",
       "      <td>10.760894</td>\n",
       "      <td>1.398809</td>\n",
       "      <td>1.450463</td>\n",
       "      <td>6.244984</td>\n",
       "      <td>...</td>\n",
       "      <td>0.660311</td>\n",
       "      <td>0.213323</td>\n",
       "      <td>0.230865</td>\n",
       "      <td>0.393201</td>\n",
       "      <td>0.136412</td>\n",
       "      <td>0.149426</td>\n",
       "      <td>0.241607</td>\n",
       "      <td>0.085856</td>\n",
       "      <td>0.095780</td>\n",
       "      <td>0.0</td>\n",
       "    </tr>\n",
       "    <tr>\n",
       "      <th>min</th>\n",
       "      <td>17.598162</td>\n",
       "      <td>-4.480908</td>\n",
       "      <td>-3.141352</td>\n",
       "      <td>0.000000</td>\n",
       "      <td>-4.487581</td>\n",
       "      <td>-3.141240</td>\n",
       "      <td>0.000000</td>\n",
       "      <td>-4.635915</td>\n",
       "      <td>-3.140442</td>\n",
       "      <td>0.000000</td>\n",
       "      <td>...</td>\n",
       "      <td>0.000000</td>\n",
       "      <td>-4.345793</td>\n",
       "      <td>-3.121720</td>\n",
       "      <td>0.000000</td>\n",
       "      <td>-3.787738</td>\n",
       "      <td>-3.102648</td>\n",
       "      <td>0.000000</td>\n",
       "      <td>-3.372562</td>\n",
       "      <td>-3.096406</td>\n",
       "      <td>1.0</td>\n",
       "    </tr>\n",
       "    <tr>\n",
       "      <th>25%</th>\n",
       "      <td>70.650691</td>\n",
       "      <td>-1.358023</td>\n",
       "      <td>-1.588945</td>\n",
       "      <td>7.779437</td>\n",
       "      <td>-1.143050</td>\n",
       "      <td>-1.371102</td>\n",
       "      <td>0.000000</td>\n",
       "      <td>-0.560769</td>\n",
       "      <td>-0.698150</td>\n",
       "      <td>0.000000</td>\n",
       "      <td>...</td>\n",
       "      <td>0.000000</td>\n",
       "      <td>0.000000</td>\n",
       "      <td>0.000000</td>\n",
       "      <td>0.000000</td>\n",
       "      <td>0.000000</td>\n",
       "      <td>0.000000</td>\n",
       "      <td>0.000000</td>\n",
       "      <td>0.000000</td>\n",
       "      <td>0.000000</td>\n",
       "      <td>1.0</td>\n",
       "    </tr>\n",
       "    <tr>\n",
       "      <th>50%</th>\n",
       "      <td>95.472117</td>\n",
       "      <td>-0.012948</td>\n",
       "      <td>0.003044</td>\n",
       "      <td>20.736032</td>\n",
       "      <td>0.000000</td>\n",
       "      <td>0.000000</td>\n",
       "      <td>5.012954</td>\n",
       "      <td>0.000000</td>\n",
       "      <td>0.000000</td>\n",
       "      <td>0.000000</td>\n",
       "      <td>...</td>\n",
       "      <td>0.000000</td>\n",
       "      <td>0.000000</td>\n",
       "      <td>0.000000</td>\n",
       "      <td>0.000000</td>\n",
       "      <td>0.000000</td>\n",
       "      <td>0.000000</td>\n",
       "      <td>0.000000</td>\n",
       "      <td>0.000000</td>\n",
       "      <td>0.000000</td>\n",
       "      <td>1.0</td>\n",
       "    </tr>\n",
       "    <tr>\n",
       "      <th>75%</th>\n",
       "      <td>118.606856</td>\n",
       "      <td>1.346902</td>\n",
       "      <td>1.564922</td>\n",
       "      <td>34.999105</td>\n",
       "      <td>1.117069</td>\n",
       "      <td>1.332775</td>\n",
       "      <td>14.139171</td>\n",
       "      <td>0.529091</td>\n",
       "      <td>0.658381</td>\n",
       "      <td>4.918974</td>\n",
       "      <td>...</td>\n",
       "      <td>0.000000</td>\n",
       "      <td>0.000000</td>\n",
       "      <td>0.000000</td>\n",
       "      <td>0.000000</td>\n",
       "      <td>0.000000</td>\n",
       "      <td>0.000000</td>\n",
       "      <td>0.000000</td>\n",
       "      <td>0.000000</td>\n",
       "      <td>0.000000</td>\n",
       "      <td>1.0</td>\n",
       "    </tr>\n",
       "    <tr>\n",
       "      <th>max</th>\n",
       "      <td>888.779880</td>\n",
       "      <td>4.379363</td>\n",
       "      <td>3.141509</td>\n",
       "      <td>268.655967</td>\n",
       "      <td>4.460436</td>\n",
       "      <td>3.141411</td>\n",
       "      <td>131.884957</td>\n",
       "      <td>4.575803</td>\n",
       "      <td>3.141124</td>\n",
       "      <td>106.924806</td>\n",
       "      <td>...</td>\n",
       "      <td>23.683514</td>\n",
       "      <td>3.337376</td>\n",
       "      <td>3.134425</td>\n",
       "      <td>21.560405</td>\n",
       "      <td>3.285336</td>\n",
       "      <td>3.125994</td>\n",
       "      <td>12.848270</td>\n",
       "      <td>3.275494</td>\n",
       "      <td>2.979879</td>\n",
       "      <td>1.0</td>\n",
       "    </tr>\n",
       "  </tbody>\n",
       "</table>\n",
       "<p>8 rows × 31 columns</p>\n",
       "</div>"
      ],
      "text/plain": [
       "               pt_0         eta_0         phi_0          pt_1         eta_1  \\\n",
       "count  24998.000000  24998.000000  24998.000000  24998.000000  24998.000000   \n",
       "mean      99.868124     -0.010417      0.000399     23.525718     -0.012556   \n",
       "std       43.845549      1.766024      1.819094     19.830798      1.645306   \n",
       "min       17.598162     -4.480908     -3.141352      0.000000     -4.487581   \n",
       "25%       70.650691     -1.358023     -1.588945      7.779437     -1.143050   \n",
       "50%       95.472117     -0.012948      0.003044     20.736032      0.000000   \n",
       "75%      118.606856      1.346902      1.564922     34.999105      1.117069   \n",
       "max      888.779880      4.379363      3.141509    268.655967      4.460436   \n",
       "\n",
       "              phi_1          pt_2         eta_2         phi_2          pt_3  \\\n",
       "count  24998.000000  24998.000000  24998.000000  24998.000000  24998.000000   \n",
       "mean      -0.006846      8.651830     -0.009058     -0.011884      3.407782   \n",
       "std        1.699246     10.760894      1.398809      1.450463      6.244984   \n",
       "min       -3.141240      0.000000     -4.635915     -3.140442      0.000000   \n",
       "25%       -1.371102      0.000000     -0.560769     -0.698150      0.000000   \n",
       "50%        0.000000      5.012954      0.000000      0.000000      0.000000   \n",
       "75%        1.332775     14.139171      0.529091      0.658381      4.918974   \n",
       "max        3.141411    131.884957      4.575803      3.141124    106.924806   \n",
       "\n",
       "       ...          pt_7         eta_7         phi_7          pt_8  \\\n",
       "count  ...  24998.000000  24998.000000  24998.000000  24998.000000   \n",
       "mean   ...      0.068018     -0.000107     -0.001076      0.026844   \n",
       "std    ...      0.660311      0.213323      0.230865      0.393201   \n",
       "min    ...      0.000000     -4.345793     -3.121720      0.000000   \n",
       "25%    ...      0.000000      0.000000      0.000000      0.000000   \n",
       "50%    ...      0.000000      0.000000      0.000000      0.000000   \n",
       "75%    ...      0.000000      0.000000      0.000000      0.000000   \n",
       "max    ...     23.683514      3.337376      3.134425     21.560405   \n",
       "\n",
       "              eta_8         phi_8          pt_9         eta_9         phi_9  \\\n",
       "count  24998.000000  24998.000000  24998.000000  24998.000000  24998.000000   \n",
       "mean      -0.000500      0.000104      0.010418      0.000171      0.000186   \n",
       "std        0.136412      0.149426      0.241607      0.085856      0.095780   \n",
       "min       -3.787738     -3.102648      0.000000     -3.372562     -3.096406   \n",
       "25%        0.000000      0.000000      0.000000      0.000000      0.000000   \n",
       "50%        0.000000      0.000000      0.000000      0.000000      0.000000   \n",
       "75%        0.000000      0.000000      0.000000      0.000000      0.000000   \n",
       "max        3.285336      3.125994     12.848270      3.275494      2.979879   \n",
       "\n",
       "         label  \n",
       "count  24998.0  \n",
       "mean       1.0  \n",
       "std        0.0  \n",
       "min        1.0  \n",
       "25%        1.0  \n",
       "50%        1.0  \n",
       "75%        1.0  \n",
       "max        1.0  \n",
       "\n",
       "[8 rows x 31 columns]"
      ]
     },
     "execution_count": 23,
     "metadata": {},
     "output_type": "execute_result"
    }
   ],
   "source": [
    "quarks.describe()"
   ]
  },
  {
   "cell_type": "code",
   "execution_count": 24,
   "metadata": {
    "collapsed": false,
    "jupyter": {
     "outputs_hidden": false
    }
   },
   "outputs": [
    {
     "data": {
      "text/html": [
       "<div>\n",
       "<style scoped>\n",
       "    .dataframe tbody tr th:only-of-type {\n",
       "        vertical-align: middle;\n",
       "    }\n",
       "\n",
       "    .dataframe tbody tr th {\n",
       "        vertical-align: top;\n",
       "    }\n",
       "\n",
       "    .dataframe thead th {\n",
       "        text-align: right;\n",
       "    }\n",
       "</style>\n",
       "<table border=\"1\" class=\"dataframe\">\n",
       "  <thead>\n",
       "    <tr style=\"text-align: right;\">\n",
       "      <th></th>\n",
       "      <th>pt_0</th>\n",
       "      <th>eta_0</th>\n",
       "      <th>phi_0</th>\n",
       "      <th>pt_1</th>\n",
       "      <th>eta_1</th>\n",
       "      <th>phi_1</th>\n",
       "      <th>pt_2</th>\n",
       "      <th>eta_2</th>\n",
       "      <th>phi_2</th>\n",
       "      <th>pt_3</th>\n",
       "      <th>...</th>\n",
       "      <th>pt_7</th>\n",
       "      <th>eta_7</th>\n",
       "      <th>phi_7</th>\n",
       "      <th>pt_8</th>\n",
       "      <th>eta_8</th>\n",
       "      <th>phi_8</th>\n",
       "      <th>pt_9</th>\n",
       "      <th>eta_9</th>\n",
       "      <th>phi_9</th>\n",
       "      <th>label</th>\n",
       "    </tr>\n",
       "  </thead>\n",
       "  <tbody>\n",
       "    <tr>\n",
       "      <th>count</th>\n",
       "      <td>24982.000000</td>\n",
       "      <td>24982.000000</td>\n",
       "      <td>24982.000000</td>\n",
       "      <td>24982.000000</td>\n",
       "      <td>24982.000000</td>\n",
       "      <td>24982.000000</td>\n",
       "      <td>24982.000000</td>\n",
       "      <td>24982.000000</td>\n",
       "      <td>24982.000000</td>\n",
       "      <td>24982.000000</td>\n",
       "      <td>...</td>\n",
       "      <td>24982.000000</td>\n",
       "      <td>24982.000000</td>\n",
       "      <td>24982.000000</td>\n",
       "      <td>24982.000000</td>\n",
       "      <td>24982.000000</td>\n",
       "      <td>24982.000000</td>\n",
       "      <td>24982.000000</td>\n",
       "      <td>24982.000000</td>\n",
       "      <td>24982.000000</td>\n",
       "      <td>24982.0</td>\n",
       "    </tr>\n",
       "    <tr>\n",
       "      <th>mean</th>\n",
       "      <td>73.085944</td>\n",
       "      <td>-0.005345</td>\n",
       "      <td>-0.014350</td>\n",
       "      <td>27.699384</td>\n",
       "      <td>-0.002868</td>\n",
       "      <td>-0.019085</td>\n",
       "      <td>13.364000</td>\n",
       "      <td>-0.004848</td>\n",
       "      <td>-0.007669</td>\n",
       "      <td>6.869738</td>\n",
       "      <td>...</td>\n",
       "      <td>0.312741</td>\n",
       "      <td>-0.000982</td>\n",
       "      <td>0.004935</td>\n",
       "      <td>0.131143</td>\n",
       "      <td>-0.001356</td>\n",
       "      <td>0.000129</td>\n",
       "      <td>0.056025</td>\n",
       "      <td>-0.000718</td>\n",
       "      <td>-0.000153</td>\n",
       "      <td>0.0</td>\n",
       "    </tr>\n",
       "    <tr>\n",
       "      <th>std</th>\n",
       "      <td>32.280898</td>\n",
       "      <td>1.440855</td>\n",
       "      <td>1.810752</td>\n",
       "      <td>15.614267</td>\n",
       "      <td>1.427400</td>\n",
       "      <td>1.791003</td>\n",
       "      <td>9.980091</td>\n",
       "      <td>1.360511</td>\n",
       "      <td>1.709085</td>\n",
       "      <td>6.955630</td>\n",
       "      <td>...</td>\n",
       "      <td>1.318021</td>\n",
       "      <td>0.409706</td>\n",
       "      <td>0.512490</td>\n",
       "      <td>0.841415</td>\n",
       "      <td>0.267222</td>\n",
       "      <td>0.343923</td>\n",
       "      <td>0.535684</td>\n",
       "      <td>0.168689</td>\n",
       "      <td>0.235015</td>\n",
       "      <td>0.0</td>\n",
       "    </tr>\n",
       "    <tr>\n",
       "      <th>min</th>\n",
       "      <td>12.380358</td>\n",
       "      <td>-4.390647</td>\n",
       "      <td>-3.141467</td>\n",
       "      <td>0.000000</td>\n",
       "      <td>-4.336327</td>\n",
       "      <td>-3.141561</td>\n",
       "      <td>0.000000</td>\n",
       "      <td>-4.823828</td>\n",
       "      <td>-3.141469</td>\n",
       "      <td>0.000000</td>\n",
       "      <td>...</td>\n",
       "      <td>0.000000</td>\n",
       "      <td>-4.171449</td>\n",
       "      <td>-3.141365</td>\n",
       "      <td>0.000000</td>\n",
       "      <td>-4.280714</td>\n",
       "      <td>-3.138935</td>\n",
       "      <td>0.000000</td>\n",
       "      <td>-3.764882</td>\n",
       "      <td>-3.131926</td>\n",
       "      <td>0.0</td>\n",
       "    </tr>\n",
       "    <tr>\n",
       "      <th>25%</th>\n",
       "      <td>49.942399</td>\n",
       "      <td>-1.053616</td>\n",
       "      <td>-1.596487</td>\n",
       "      <td>17.136536</td>\n",
       "      <td>-1.033446</td>\n",
       "      <td>-1.562080</td>\n",
       "      <td>5.996546</td>\n",
       "      <td>-0.907810</td>\n",
       "      <td>-1.395777</td>\n",
       "      <td>0.000000</td>\n",
       "      <td>...</td>\n",
       "      <td>0.000000</td>\n",
       "      <td>0.000000</td>\n",
       "      <td>0.000000</td>\n",
       "      <td>0.000000</td>\n",
       "      <td>0.000000</td>\n",
       "      <td>0.000000</td>\n",
       "      <td>0.000000</td>\n",
       "      <td>0.000000</td>\n",
       "      <td>0.000000</td>\n",
       "      <td>0.0</td>\n",
       "    </tr>\n",
       "    <tr>\n",
       "      <th>50%</th>\n",
       "      <td>67.255419</td>\n",
       "      <td>-0.007617</td>\n",
       "      <td>-0.015355</td>\n",
       "      <td>26.132121</td>\n",
       "      <td>0.000000</td>\n",
       "      <td>0.000000</td>\n",
       "      <td>12.340809</td>\n",
       "      <td>0.000000</td>\n",
       "      <td>0.000000</td>\n",
       "      <td>5.606093</td>\n",
       "      <td>...</td>\n",
       "      <td>0.000000</td>\n",
       "      <td>0.000000</td>\n",
       "      <td>0.000000</td>\n",
       "      <td>0.000000</td>\n",
       "      <td>0.000000</td>\n",
       "      <td>0.000000</td>\n",
       "      <td>0.000000</td>\n",
       "      <td>0.000000</td>\n",
       "      <td>0.000000</td>\n",
       "      <td>0.0</td>\n",
       "    </tr>\n",
       "    <tr>\n",
       "      <th>75%</th>\n",
       "      <td>90.016092</td>\n",
       "      <td>1.045290</td>\n",
       "      <td>1.551206</td>\n",
       "      <td>36.228966</td>\n",
       "      <td>1.024281</td>\n",
       "      <td>1.512338</td>\n",
       "      <td>19.096888</td>\n",
       "      <td>0.896650</td>\n",
       "      <td>1.359821</td>\n",
       "      <td>10.918754</td>\n",
       "      <td>...</td>\n",
       "      <td>0.000000</td>\n",
       "      <td>0.000000</td>\n",
       "      <td>0.000000</td>\n",
       "      <td>0.000000</td>\n",
       "      <td>0.000000</td>\n",
       "      <td>0.000000</td>\n",
       "      <td>0.000000</td>\n",
       "      <td>0.000000</td>\n",
       "      <td>0.000000</td>\n",
       "      <td>0.0</td>\n",
       "    </tr>\n",
       "    <tr>\n",
       "      <th>max</th>\n",
       "      <td>436.024955</td>\n",
       "      <td>4.393805</td>\n",
       "      <td>3.140952</td>\n",
       "      <td>188.794698</td>\n",
       "      <td>4.487917</td>\n",
       "      <td>3.141457</td>\n",
       "      <td>121.194215</td>\n",
       "      <td>4.698933</td>\n",
       "      <td>3.141503</td>\n",
       "      <td>75.580034</td>\n",
       "      <td>...</td>\n",
       "      <td>28.503468</td>\n",
       "      <td>3.791294</td>\n",
       "      <td>3.137696</td>\n",
       "      <td>25.507687</td>\n",
       "      <td>3.613124</td>\n",
       "      <td>3.127503</td>\n",
       "      <td>19.139419</td>\n",
       "      <td>3.784662</td>\n",
       "      <td>3.133118</td>\n",
       "      <td>0.0</td>\n",
       "    </tr>\n",
       "  </tbody>\n",
       "</table>\n",
       "<p>8 rows × 31 columns</p>\n",
       "</div>"
      ],
      "text/plain": [
       "               pt_0         eta_0         phi_0          pt_1         eta_1  \\\n",
       "count  24982.000000  24982.000000  24982.000000  24982.000000  24982.000000   \n",
       "mean      73.085944     -0.005345     -0.014350     27.699384     -0.002868   \n",
       "std       32.280898      1.440855      1.810752     15.614267      1.427400   \n",
       "min       12.380358     -4.390647     -3.141467      0.000000     -4.336327   \n",
       "25%       49.942399     -1.053616     -1.596487     17.136536     -1.033446   \n",
       "50%       67.255419     -0.007617     -0.015355     26.132121      0.000000   \n",
       "75%       90.016092      1.045290      1.551206     36.228966      1.024281   \n",
       "max      436.024955      4.393805      3.140952    188.794698      4.487917   \n",
       "\n",
       "              phi_1          pt_2         eta_2         phi_2          pt_3  \\\n",
       "count  24982.000000  24982.000000  24982.000000  24982.000000  24982.000000   \n",
       "mean      -0.019085     13.364000     -0.004848     -0.007669      6.869738   \n",
       "std        1.791003      9.980091      1.360511      1.709085      6.955630   \n",
       "min       -3.141561      0.000000     -4.823828     -3.141469      0.000000   \n",
       "25%       -1.562080      5.996546     -0.907810     -1.395777      0.000000   \n",
       "50%        0.000000     12.340809      0.000000      0.000000      5.606093   \n",
       "75%        1.512338     19.096888      0.896650      1.359821     10.918754   \n",
       "max        3.141457    121.194215      4.698933      3.141503     75.580034   \n",
       "\n",
       "       ...          pt_7         eta_7         phi_7          pt_8  \\\n",
       "count  ...  24982.000000  24982.000000  24982.000000  24982.000000   \n",
       "mean   ...      0.312741     -0.000982      0.004935      0.131143   \n",
       "std    ...      1.318021      0.409706      0.512490      0.841415   \n",
       "min    ...      0.000000     -4.171449     -3.141365      0.000000   \n",
       "25%    ...      0.000000      0.000000      0.000000      0.000000   \n",
       "50%    ...      0.000000      0.000000      0.000000      0.000000   \n",
       "75%    ...      0.000000      0.000000      0.000000      0.000000   \n",
       "max    ...     28.503468      3.791294      3.137696     25.507687   \n",
       "\n",
       "              eta_8         phi_8          pt_9         eta_9         phi_9  \\\n",
       "count  24982.000000  24982.000000  24982.000000  24982.000000  24982.000000   \n",
       "mean      -0.001356      0.000129      0.056025     -0.000718     -0.000153   \n",
       "std        0.267222      0.343923      0.535684      0.168689      0.235015   \n",
       "min       -4.280714     -3.138935      0.000000     -3.764882     -3.131926   \n",
       "25%        0.000000      0.000000      0.000000      0.000000      0.000000   \n",
       "50%        0.000000      0.000000      0.000000      0.000000      0.000000   \n",
       "75%        0.000000      0.000000      0.000000      0.000000      0.000000   \n",
       "max        3.613124      3.127503     19.139419      3.784662      3.133118   \n",
       "\n",
       "         label  \n",
       "count  24982.0  \n",
       "mean       0.0  \n",
       "std        0.0  \n",
       "min        0.0  \n",
       "25%        0.0  \n",
       "50%        0.0  \n",
       "75%        0.0  \n",
       "max        0.0  \n",
       "\n",
       "[8 rows x 31 columns]"
      ]
     },
     "execution_count": 24,
     "metadata": {},
     "output_type": "execute_result"
    }
   ],
   "source": [
    "gluons.describe()"
   ]
  },
  {
   "cell_type": "markdown",
   "metadata": {},
   "source": [
    "Examine the dataset. Plot the distributions of the $p_T$, $\\eta$, and $\\phi$ for the 10 different consituents of the quark and gluon jets."
   ]
  },
  {
   "cell_type": "code",
   "execution_count": 25,
   "metadata": {
    "collapsed": false,
    "jupyter": {
     "outputs_hidden": false
    }
   },
   "outputs": [
    {
     "name": "stderr",
     "output_type": "stream",
     "text": [
      "Font 'default' does not have a glyph for '\\\\times' [U+d7], substituting with a dummy symbol.\n",
      "Font 'default' does not have a glyph for '\\\\times' [U+d7], substituting with a dummy symbol.\n",
      "Font 'default' does not have a glyph for '\\\\times' [U+d7], substituting with a dummy symbol.\n",
      "Font 'default' does not have a glyph for '\\\\times' [U+d7], substituting with a dummy symbol.\n",
      "Font 'default' does not have a glyph for '\\\\times' [U+d7], substituting with a dummy symbol.\n",
      "Font 'default' does not have a glyph for '\\\\times' [U+d7], substituting with a dummy symbol.\n",
      "Font 'default' does not have a glyph for '\\\\times' [U+d7], substituting with a dummy symbol.\n",
      "Font 'default' does not have a glyph for '\\\\times' [U+d7], substituting with a dummy symbol.\n",
      "Font 'default' does not have a glyph for '\\\\times' [U+d7], substituting with a dummy symbol.\n",
      "Font 'default' does not have a glyph for '\\\\times' [U+d7], substituting with a dummy symbol.\n",
      "Font 'default' does not have a glyph for '\\\\times' [U+d7], substituting with a dummy symbol.\n",
      "Font 'default' does not have a glyph for '\\\\times' [U+d7], substituting with a dummy symbol.\n",
      "Font 'default' does not have a glyph for '\\\\times' [U+d7], substituting with a dummy symbol.\n",
      "Font 'default' does not have a glyph for '\\\\times' [U+d7], substituting with a dummy symbol.\n",
      "Font 'default' does not have a glyph for '\\\\times' [U+d7], substituting with a dummy symbol.\n",
      "Font 'default' does not have a glyph for '\\\\times' [U+d7], substituting with a dummy symbol.\n",
      "Font 'default' does not have a glyph for '\\\\times' [U+d7], substituting with a dummy symbol.\n",
      "Font 'default' does not have a glyph for '\\\\times' [U+d7], substituting with a dummy symbol.\n"
     ]
    },
    {
     "data": {
      "image/png": "[encoded data removed]",
      "text/plain": [
       "<Figure size 720x240 with 3 Axes>"
      ]
     },
     "metadata": {
      "needs_background": "light"
     },
     "output_type": "display_data"
    },
    {
     "data": {
      "image/png": "[encoded data removed]",
      "text/plain": [
       "<Figure size 720x240 with 3 Axes>"
      ]
     },
     "metadata": {
      "needs_background": "light"
     },
     "output_type": "display_data"
    },
    {
     "data": {
      "image/png": "[encoded data removed]",
      "text/plain": [
       "<Figure size 720x240 with 3 Axes>"
      ]
     },
     "metadata": {
      "needs_background": "light"
     },
     "output_type": "display_data"
    },
    {
     "data": {
      "image/png": "[encoded data removed]",
      "text/plain": [
       "<Figure size 720x240 with 3 Axes>"
      ]
     },
     "metadata": {
      "needs_background": "light"
     },
     "output_type": "display_data"
    },
    {
     "data": {
      "image/png": "[encoded data removed]",
      "text/plain": [
       "<Figure size 720x240 with 3 Axes>"
      ]
     },
     "metadata": {
      "needs_background": "light"
     },
     "output_type": "display_data"
    },
    {
     "data": {
      "image/png": "[encoded data removed]",
      "text/plain": [
       "<Figure size 720x240 with 3 Axes>"
      ]
     },
     "metadata": {
      "needs_background": "light"
     },
     "output_type": "display_data"
    },
    {
     "data": {
      "image/png": "[encoded data removed]",
      "text/plain": [
       "<Figure size 720x240 with 3 Axes>"
      ]
     },
     "metadata": {
      "needs_background": "light"
     },
     "output_type": "display_data"
    },
    {
     "data": {
      "image/png": "[encoded data removed]",
      "text/plain": [
       "<Figure size 720x240 with 3 Axes>"
      ]
     },
     "metadata": {
      "needs_background": "light"
     },
     "output_type": "display_data"
    },
    {
     "data": {
      "image/png": "[encoded data removed]",
      "text/plain": [
       "<Figure size 720x240 with 3 Axes>"
      ]
     },
     "metadata": {
      "needs_background": "light"
     },
     "output_type": "display_data"
    },
    {
     "data": {
      "image/png": "[encoded data removed]",
      "text/plain": [
       "<Figure size 720x240 with 3 Axes>"
      ]
     },
     "metadata": {
      "needs_background": "light"
     },
     "output_type": "display_data"
    },
    {
     "data": {
      "text/plain": [
       "<Figure size 720x240 with 0 Axes>"
      ]
     },
     "metadata": {},
     "output_type": "display_data"
    }
   ],
   "source": [
    "plt.figure(figsize=(9, 3))\n",
    "for name in mynames:\n",
    "    if 'pt' in name:\n",
    "        plt.subplot(1, 3, 1)\n",
    "        h, bins, _ = plt.hist(gluons[name], histtype='step', bins=100)\n",
    "        plt.hist(quarks[name], histtype='step', bins=bins)\n",
    "        plt.plot([], [], color='C0', label='Gluon')\n",
    "        plt.plot([], [], color='C1', label='Quark')\n",
    "        plt.xlabel('$p_T$ [GeV]')\n",
    "        plt.ylabel('Arb.')\n",
    "        plt.title('Consituent {0}'.format(name.split('_')[-1]))\n",
    "        plt.yscale('log')\n",
    "        plt.legend(loc='best', frameon=False, fontsize=10)\n",
    "        \n",
    "    if 'eta' in name:\n",
    "        plt.subplot(1, 3, 2)\n",
    "        h, bins, _ = plt.hist(gluons[name], histtype='step', bins=100, range=(-2, 2))\n",
    "        plt.hist(quarks[name], histtype='step', bins=bins)\n",
    "        plt.plot([], [], color='C0', label='Gluon')\n",
    "        plt.plot([], [], color='C1', label='Quark')\n",
    "        plt.xlabel('$\\eta$')\n",
    "        plt.ylabel('Arb.')\n",
    "        plt.title('Consituent {0}'.format(name.split('_')[-1]))\n",
    "        plt.yscale('log')\n",
    "        \n",
    "    if 'phi' in name:\n",
    "        plt.subplot(1, 3, 3)\n",
    "        h, bins, _ = plt.hist(gluons[name], histtype='step', bins=100, range=(-np.pi, np.pi))\n",
    "        plt.hist(quarks[name], histtype='step', bins=bins)\n",
    "        plt.plot([], [], color='C0', label='Gluon')\n",
    "        plt.plot([], [], color='C1', label='Quark')\n",
    "        plt.xlabel('$\\phi$')\n",
    "        plt.xticks([-np.pi, -np.pi/2, 0, np.pi/2, np.pi],\n",
    "                   ['$-\\pi$', '$-\\pi/2$', '0', '$\\pi/2$', '$\\pi$']\n",
    "                  )\n",
    "        plt.ylabel('Arb.')\n",
    "        plt.title('Consituent {0}'.format(name.split('_')[-1]))\n",
    "        plt.yscale('log')\n",
    "        plt.minorticks_on()\n",
    "        \n",
    "        plt.tight_layout(w_pad=2)\n",
    "        plt.show()\n",
    "        plt.figure(figsize=(9, 3))\n"
   ]
  },
  {
   "cell_type": "markdown",
   "metadata": {},
   "source": [
    "There are definitely differences in some of these distributions. Noticeably, the quark jets tend to have fewer constituents, so there are more events in the `0` bin, because of the way we zero padded for empty events. Now let's put the two sets together into a single dataset so that we can feed it into a neural network."
   ]
  },
  {
   "cell_type": "markdown",
   "metadata": {},
   "source": [
    "## Build the combined dataset\n",
    "Our data is currently in two different pandas DataFrame objects. To run the events through a neural network for training, we need to combined them. \n",
    "Use `np.vstack()` to combine the quark and gluon arrays into a single array."
   ]
  },
  {
   "cell_type": "code",
   "execution_count": 26,
   "metadata": {},
   "outputs": [
    {
     "data": {
      "text/plain": [
       "\u001b[0;31mSignature:\u001b[0m \u001b[0mnp\u001b[0m\u001b[0;34m.\u001b[0m\u001b[0mvstack\u001b[0m\u001b[0;34m(\u001b[0m\u001b[0mtup\u001b[0m\u001b[0;34m)\u001b[0m\u001b[0;34m\u001b[0m\u001b[0;34m\u001b[0m\u001b[0m\n",
       "\u001b[0;31mDocstring:\u001b[0m\n",
       "Stack arrays in sequence vertically (row wise).\n",
       "\n",
       "This is equivalent to concatenation along the first axis after 1-D arrays\n",
       "of shape `(N,)` have been reshaped to `(1,N)`. Rebuilds arrays divided by\n",
       "`vsplit`.\n",
       "\n",
       "This function makes most sense for arrays with up to 3 dimensions. For\n",
       "instance, for pixel-data with a height (first axis), width (second axis),\n",
       "and r/g/b channels (third axis). The functions `concatenate`, `stack` and\n",
       "`block` provide more general stacking and concatenation operations.\n",
       "\n",
       "Parameters\n",
       "----------\n",
       "tup : sequence of ndarrays\n",
       "    The arrays must have the same shape along all but the first axis.\n",
       "    1-D arrays must have the same length.\n",
       "\n",
       "Returns\n",
       "-------\n",
       "stacked : ndarray\n",
       "    The array formed by stacking the given arrays, will be at least 2-D.\n",
       "\n",
       "See Also\n",
       "--------\n",
       "concatenate : Join a sequence of arrays along an existing axis.\n",
       "stack : Join a sequence of arrays along a new axis.\n",
       "block : Assemble an nd-array from nested lists of blocks.\n",
       "hstack : Stack arrays in sequence horizontally (column wise).\n",
       "dstack : Stack arrays in sequence depth wise (along third axis).\n",
       "column_stack : Stack 1-D arrays as columns into a 2-D array.\n",
       "vsplit : Split an array into multiple sub-arrays vertically (row-wise).\n",
       "\n",
       "Examples\n",
       "--------\n",
       ">>> a = np.array([1, 2, 3])\n",
       ">>> b = np.array([2, 3, 4])\n",
       ">>> np.vstack((a,b))\n",
       "array([[1, 2, 3],\n",
       "       [2, 3, 4]])\n",
       "\n",
       ">>> a = np.array([[1], [2], [3]])\n",
       ">>> b = np.array([[2], [3], [4]])\n",
       ">>> np.vstack((a,b))\n",
       "array([[1],\n",
       "       [2],\n",
       "       [3],\n",
       "       [2],\n",
       "       [3],\n",
       "       [4]])\n",
       "\u001b[0;31mFile:\u001b[0m      /opt/conda/lib/python3.9/site-packages/numpy/core/shape_base.py\n",
       "\u001b[0;31mType:\u001b[0m      function\n"
      ]
     },
     "metadata": {},
     "output_type": "display_data"
    }
   ],
   "source": [
    "np.vstack?"
   ]
  },
  {
   "cell_type": "code",
   "execution_count": 27,
   "metadata": {},
   "outputs": [],
   "source": [
    "### Enter code here ###\n",
    "Combined = np.vstack([quarks, gluons])\n",
    "### End code here ###"
   ]
  },
  {
   "cell_type": "markdown",
   "metadata": {},
   "source": [
    "Lets print the shape to see that it makes sense. Do we have the same number of columns as we had before?"
   ]
  },
  {
   "cell_type": "code",
   "execution_count": 28,
   "metadata": {
    "collapsed": false,
    "jupyter": {
     "outputs_hidden": false
    }
   },
   "outputs": [
    {
     "data": {
      "text/plain": [
       "(49980, 31)"
      ]
     },
     "execution_count": 28,
     "metadata": {},
     "output_type": "execute_result"
    }
   ],
   "source": [
    "Combined.shape"
   ]
  },
  {
   "cell_type": "markdown",
   "metadata": {},
   "source": [
    "You should have the second dimension of the shape be 31. This is split between the 30 inputs and the 1 label. Now we  strip off the label and the data into seperate arrays."
   ]
  },
  {
   "cell_type": "code",
   "execution_count": 29,
   "metadata": {
    "collapsed": false,
    "jupyter": {
     "outputs_hidden": false
    }
   },
   "outputs": [
    {
     "name": "stdout",
     "output_type": "stream",
     "text": [
      "(49980, 30) (49980, 1)\n"
     ]
    }
   ],
   "source": [
    "X_data = Combined[:, :-1]\n",
    "Y_data = Combined[:, -1].reshape(-1, 1)\n",
    "\n",
    "print(X_data.shape, Y_data.shape)"
   ]
  },
  {
   "cell_type": "markdown",
   "metadata": {},
   "source": [
    "## Split the data into a test a testing and training set.\n",
    "Now all of our data is in one array. This would work, but we want an independent test set, which we do not train on. To do this in a very easy way, we will use part of the scikit-learn package."
   ]
  },
  {
   "cell_type": "code",
   "execution_count": 30,
   "metadata": {},
   "outputs": [],
   "source": [
    "from sklearn.model_selection import train_test_split"
   ]
  },
  {
   "cell_type": "code",
   "execution_count": 31,
   "metadata": {},
   "outputs": [
    {
     "data": {
      "text/plain": [
       "\u001b[0;31mSignature:\u001b[0m\n",
       "\u001b[0mtrain_test_split\u001b[0m\u001b[0;34m(\u001b[0m\u001b[0;34m\u001b[0m\n",
       "\u001b[0;34m\u001b[0m    \u001b[0;34m*\u001b[0m\u001b[0marrays\u001b[0m\u001b[0;34m,\u001b[0m\u001b[0;34m\u001b[0m\n",
       "\u001b[0;34m\u001b[0m    \u001b[0mtest_size\u001b[0m\u001b[0;34m=\u001b[0m\u001b[0;32mNone\u001b[0m\u001b[0;34m,\u001b[0m\u001b[0;34m\u001b[0m\n",
       "\u001b[0;34m\u001b[0m    \u001b[0mtrain_size\u001b[0m\u001b[0;34m=\u001b[0m\u001b[0;32mNone\u001b[0m\u001b[0;34m,\u001b[0m\u001b[0;34m\u001b[0m\n",
       "\u001b[0;34m\u001b[0m    \u001b[0mrandom_state\u001b[0m\u001b[0;34m=\u001b[0m\u001b[0;32mNone\u001b[0m\u001b[0;34m,\u001b[0m\u001b[0;34m\u001b[0m\n",
       "\u001b[0;34m\u001b[0m    \u001b[0mshuffle\u001b[0m\u001b[0;34m=\u001b[0m\u001b[0;32mTrue\u001b[0m\u001b[0;34m,\u001b[0m\u001b[0;34m\u001b[0m\n",
       "\u001b[0;34m\u001b[0m    \u001b[0mstratify\u001b[0m\u001b[0;34m=\u001b[0m\u001b[0;32mNone\u001b[0m\u001b[0;34m,\u001b[0m\u001b[0;34m\u001b[0m\n",
       "\u001b[0;34m\u001b[0m\u001b[0;34m)\u001b[0m\u001b[0;34m\u001b[0m\u001b[0;34m\u001b[0m\u001b[0m\n",
       "\u001b[0;31mDocstring:\u001b[0m\n",
       "Split arrays or matrices into random train and test subsets\n",
       "\n",
       "Quick utility that wraps input validation and\n",
       "``next(ShuffleSplit().split(X, y))`` and application to input data\n",
       "into a single call for splitting (and optionally subsampling) data in a\n",
       "oneliner.\n",
       "\n",
       "Read more in the :ref:`User Guide <cross_validation>`.\n",
       "\n",
       "Parameters\n",
       "----------\n",
       "*arrays : sequence of indexables with same length / shape[0]\n",
       "    Allowed inputs are lists, numpy arrays, scipy-sparse\n",
       "    matrices or pandas dataframes.\n",
       "\n",
       "test_size : float or int, default=None\n",
       "    If float, should be between 0.0 and 1.0 and represent the proportion\n",
       "    of the dataset to include in the test split. If int, represents the\n",
       "    absolute number of test samples. If None, the value is set to the\n",
       "    complement of the train size. If ``train_size`` is also None, it will\n",
       "    be set to 0.25.\n",
       "\n",
       "train_size : float or int, default=None\n",
       "    If float, should be between 0.0 and 1.0 and represent the\n",
       "    proportion of the dataset to include in the train split. If\n",
       "    int, represents the absolute number of train samples. If None,\n",
       "    the value is automatically set to the complement of the test size.\n",
       "\n",
       "random_state : int, RandomState instance or None, default=None\n",
       "    Controls the shuffling applied to the data before applying the split.\n",
       "    Pass an int for reproducible output across multiple function calls.\n",
       "    See :term:`Glossary <random_state>`.\n",
       "\n",
       "\n",
       "shuffle : bool, default=True\n",
       "    Whether or not to shuffle the data before splitting. If shuffle=False\n",
       "    then stratify must be None.\n",
       "\n",
       "stratify : array-like, default=None\n",
       "    If not None, data is split in a stratified fashion, using this as\n",
       "    the class labels.\n",
       "    Read more in the :ref:`User Guide <stratification>`.\n",
       "\n",
       "Returns\n",
       "-------\n",
       "splitting : list, length=2 * len(arrays)\n",
       "    List containing train-test split of inputs.\n",
       "\n",
       "    .. versionadded:: 0.16\n",
       "        If the input is sparse, the output will be a\n",
       "        ``scipy.sparse.csr_matrix``. Else, output type is the same as the\n",
       "        input type.\n",
       "\n",
       "Examples\n",
       "--------\n",
       ">>> import numpy as np\n",
       ">>> from sklearn.model_selection import train_test_split\n",
       ">>> X, y = np.arange(10).reshape((5, 2)), range(5)\n",
       ">>> X\n",
       "array([[0, 1],\n",
       "       [2, 3],\n",
       "       [4, 5],\n",
       "       [6, 7],\n",
       "       [8, 9]])\n",
       ">>> list(y)\n",
       "[0, 1, 2, 3, 4]\n",
       "\n",
       ">>> X_train, X_test, y_train, y_test = train_test_split(\n",
       "...     X, y, test_size=0.33, random_state=42)\n",
       "...\n",
       ">>> X_train\n",
       "array([[4, 5],\n",
       "       [0, 1],\n",
       "       [6, 7]])\n",
       ">>> y_train\n",
       "[2, 0, 3]\n",
       ">>> X_test\n",
       "array([[2, 3],\n",
       "       [8, 9]])\n",
       ">>> y_test\n",
       "[1, 4]\n",
       "\n",
       ">>> train_test_split(y, shuffle=False)\n",
       "[[0, 1, 2], [3, 4]]\n",
       "\u001b[0;31mFile:\u001b[0m      /opt/conda/lib/python3.9/site-packages/sklearn/model_selection/_split.py\n",
       "\u001b[0;31mType:\u001b[0m      function\n"
      ]
     },
     "metadata": {},
     "output_type": "display_data"
    }
   ],
   "source": [
    "train_test_split?"
   ]
  },
  {
   "cell_type": "markdown",
   "metadata": {},
   "source": [
    "**Exercise:** Split the data into a testing a training set. Make the test set have 10% of the data."
   ]
  },
  {
   "cell_type": "code",
   "execution_count": 32,
   "metadata": {},
   "outputs": [],
   "source": [
    "### Enter code here ###\n",
    "X_train, X_test, y_train, y_test = train_test_split(X_data, Y_data, test_size=0.1, random_state=42)\n",
    "### End code here ###"
   ]
  },
  {
   "cell_type": "markdown",
   "metadata": {},
   "source": [
    "Verify that the data (marked by X) has the same number of columns. Make sure both X_train and y_train have the same number of rows, and similarly for the test data."
   ]
  },
  {
   "cell_type": "code",
   "execution_count": 33,
   "metadata": {
    "collapsed": false,
    "jupyter": {
     "outputs_hidden": false
    }
   },
   "outputs": [
    {
     "name": "stdout",
     "output_type": "stream",
     "text": [
      "(44982, 30)\n",
      "(44982, 1)\n",
      "(4998, 30)\n",
      "(4998, 1)\n"
     ]
    }
   ],
   "source": [
    "print(X_train.shape)\n",
    "print(y_train.shape)\n",
    "\n",
    "print(X_test.shape)\n",
    "print(y_test.shape)"
   ]
  },
  {
   "cell_type": "markdown",
   "metadata": {},
   "source": [
    "## Build and train a network.\n",
    "Make a network which has 1 hidden layer which uses either a `relu` or `tanh` activation. As our data is 30 dimensional, let's first try using 50 nodes on the hidden layer. Then have an output layer with 1 node, using a sigmoid activation. Compile the network using the binary cross entropy loss function and the stochastic gradient descent optimizer.\n",
    "\n",
    "**Exercise:** Finish building and compiling the model below. "
   ]
  },
  {
   "cell_type": "code",
   "execution_count": 34,
   "metadata": {
    "collapsed": false,
    "jupyter": {
     "outputs_hidden": false
    }
   },
   "outputs": [
    {
     "name": "stdout",
     "output_type": "stream",
     "text": [
      "Model: \"sequential_1\"\n",
      "_________________________________________________________________\n",
      "Layer (type)                 Output Shape              Param #   \n",
      "=================================================================\n",
      "dense_2 (Dense)              (None, 50)                1550      \n",
      "_________________________________________________________________\n",
      "dense_3 (Dense)              (None, 1)                 51        \n",
      "=================================================================\n",
      "Total params: 1,601\n",
      "Trainable params: 1,601\n",
      "Non-trainable params: 0\n",
      "_________________________________________________________________\n"
     ]
    }
   ],
   "source": [
    "### Enter code here ###\n",
    "model_1 = Sequential()\n",
    "model_1.add(Dense(50, input_dim=30, activation='relu'))\n",
    "model_1.add(Dense(1, activation='sigmoid'))\n",
    "model_1.compile(loss='binary_crossentropy', optimizer='sgd')\n",
    "### End code here ###\n",
    "    \n",
    "# Print a summary of your model\n",
    "model_1.summary()"
   ]
  },
  {
   "cell_type": "markdown",
   "metadata": {},
   "source": [
    "Now that we have the model built. Let's fit it.\n",
    "\n",
    "**Exercise:** Use model_1.fit to train the model. Train for 10 epochs and use validation split of 10%. Note that we haven't used this option before, so I have include that here, but will not in the future.\n",
    "\n",
    "Hint: This model should not train well. Do not be afraid if it doesn't work. This is part of the process."
   ]
  },
  {
   "cell_type": "code",
   "execution_count": 35,
   "metadata": {
    "collapsed": false,
    "jupyter": {
     "outputs_hidden": false
    }
   },
   "outputs": [
    {
     "name": "stdout",
     "output_type": "stream",
     "text": [
      "Epoch 1/15\n",
      "1266/1266 [==============================] - 3s 2ms/step - loss: 0.6756 - val_loss: 0.6174\n",
      "Epoch 2/15\n",
      "1266/1266 [==============================] - 5s 4ms/step - loss: 0.6141 - val_loss: 0.6329\n",
      "Epoch 3/15\n",
      "1266/1266 [==============================] - 3s 2ms/step - loss: 0.6099 - val_loss: 0.6434\n",
      "Epoch 4/15\n",
      "1266/1266 [==============================] - 3s 2ms/step - loss: 0.6078 - val_loss: 0.6143\n",
      "Epoch 5/15\n",
      "1266/1266 [==============================] - 3s 2ms/step - loss: 0.6060 - val_loss: 0.6443\n",
      "Epoch 6/15\n",
      "1266/1266 [==============================] - 4s 3ms/step - loss: 0.6048 - val_loss: 0.6265\n",
      "Epoch 7/15\n",
      "1266/1266 [==============================] - 3s 2ms/step - loss: 0.6035 - val_loss: 0.6286\n",
      "Epoch 8/15\n",
      "1266/1266 [==============================] - 3s 2ms/step - loss: 0.6022 - val_loss: 0.6938\n",
      "Epoch 9/15\n",
      "1266/1266 [==============================] - 3s 2ms/step - loss: 0.6030 - val_loss: 0.6077\n",
      "Epoch 10/15\n",
      "1266/1266 [==============================] - 3s 2ms/step - loss: 0.6017 - val_loss: 0.6765\n",
      "Epoch 11/15\n",
      "1266/1266 [==============================] - 3s 2ms/step - loss: 0.6013 - val_loss: 0.6585\n",
      "Epoch 12/15\n",
      "1266/1266 [==============================] - 3s 2ms/step - loss: 0.5999 - val_loss: 0.6408\n",
      "Epoch 13/15\n",
      "1266/1266 [==============================] - 5s 4ms/step - loss: 0.5994 - val_loss: 0.6487\n",
      "Epoch 14/15\n",
      "1266/1266 [==============================] - 2s 2ms/step - loss: 0.6000 - val_loss: 0.6025\n",
      "Epoch 15/15\n",
      "1266/1266 [==============================] - 3s 2ms/step - loss: 0.5994 - val_loss: 0.6990\n"
     ]
    },
    {
     "data": {
      "text/plain": [
       "<keras.callbacks.History at 0x7f023fa1a070>"
      ]
     },
     "execution_count": 35,
     "metadata": {},
     "output_type": "execute_result"
    }
   ],
   "source": [
    "### Enter code here ###\n",
    "model_1.fit(X_train, y_train,\n",
    "            validation_split=0.1,\n",
    "            epochs=15\n",
    "           )\n",
    "### End code here ###"
   ]
  },
  {
   "cell_type": "markdown",
   "metadata": {},
   "source": [
    "Notice that the loss did not seem to decrease as we were training. This doesn't seem good! To make sure, lets see how the test set does.\n",
    "\n",
    "**Exercise:**\n",
    "Compute the predictions and then tthe ROC curve and AUC for model_1."
   ]
  },
  {
   "cell_type": "code",
   "execution_count": 36,
   "metadata": {},
   "outputs": [],
   "source": [
    "### Enter code here ###\n",
    "preds_model_1 = model_1.predict(X_test)\n",
    "fpr_model_1, tpr_model_1, thresholds_model_1 = roc_curve(y_true=y_test, y_score=preds_model_1)\n",
    "auc_model_1 = auc(fpr_model_1, tpr_model_1)\n",
    "### End code here ###"
   ]
  },
  {
   "cell_type": "markdown",
   "metadata": {},
   "source": [
    "And now we plot the result."
   ]
  },
  {
   "cell_type": "code",
   "execution_count": 37,
   "metadata": {
    "collapsed": false,
    "jupyter": {
     "outputs_hidden": false
    }
   },
   "outputs": [
    {
     "data": {
      "image/png": "[encoded data removed]",
      "text/plain": [
       "<Figure size 240x240 with 1 Axes>"
      ]
     },
     "metadata": {
      "needs_background": "light"
     },
     "output_type": "display_data"
    },
    {
     "name": "stdout",
     "output_type": "stream",
     "text": [
      "The AUC is 0.73\n"
     ]
    }
   ],
   "source": [
    "plt.plot(fpr_model_1, tpr_model_1, label='qvq model 1')\n",
    "plt.xlabel('$\\epsilon_B$')\n",
    "plt.ylabel('$\\epsilon_S$')\n",
    "plt.legend(loc='best', frameon=False)\n",
    "plt.show()\n",
    "\n",
    "print('The AUC is {0:0.2f}'.format(auc_model_1))"
   ]
  },
  {
   "cell_type": "markdown",
   "metadata": {},
   "source": [
    "This confirms what we thought! The network does not seem to be able to figure anything out about this dataset. Part of this has to do with the different scales of our data, let's explore this more in the next section.\n",
    "\n",
    "# Normalizing the data\n",
    "If we go back and look at the distributions of the input data, we notice that the ranges of the values are very different, especially the transvere momenta. Trying to find the minimum of the loss is much harder when the scales and the variance of the data is very different. To account for this, we normalize the data. There are many ways to do this, but one common way is to individually subtract the mean of each obsesrvable and then divide by the variance. Thus each input variable will have 0 mean and unit variance. Another common method is to scale the data such that the min is at 0 and the max is at 1. \n",
    "\n",
    "Both of these methods distort the data, and break Lorentz invariance. There is some research into making networks (and scaling) which respect physics invariant, but we can get good classifiers without worrying about this. \n",
    "\n",
    "For now, let use the 0 mean and unit variance. We can compute this ourselves, or use the `sklearn.preprocessing.StandardScaler`"
   ]
  },
  {
   "cell_type": "code",
   "execution_count": 38,
   "metadata": {},
   "outputs": [],
   "source": [
    "from sklearn.preprocessing import StandardScaler"
   ]
  },
  {
   "cell_type": "code",
   "execution_count": 39,
   "metadata": {},
   "outputs": [
    {
     "data": {
      "text/plain": [
       "\u001b[0;31mInit signature:\u001b[0m \u001b[0mStandardScaler\u001b[0m\u001b[0;34m(\u001b[0m\u001b[0;34m*\u001b[0m\u001b[0;34m,\u001b[0m \u001b[0mcopy\u001b[0m\u001b[0;34m=\u001b[0m\u001b[0;32mTrue\u001b[0m\u001b[0;34m,\u001b[0m \u001b[0mwith_mean\u001b[0m\u001b[0;34m=\u001b[0m\u001b[0;32mTrue\u001b[0m\u001b[0;34m,\u001b[0m \u001b[0mwith_std\u001b[0m\u001b[0;34m=\u001b[0m\u001b[0;32mTrue\u001b[0m\u001b[0;34m)\u001b[0m\u001b[0;34m\u001b[0m\u001b[0;34m\u001b[0m\u001b[0m\n",
       "\u001b[0;31mDocstring:\u001b[0m     \n",
       "Standardize features by removing the mean and scaling to unit variance.\n",
       "\n",
       "The standard score of a sample `x` is calculated as:\n",
       "\n",
       "    z = (x - u) / s\n",
       "\n",
       "where `u` is the mean of the training samples or zero if `with_mean=False`,\n",
       "and `s` is the standard deviation of the training samples or one if\n",
       "`with_std=False`.\n",
       "\n",
       "Centering and scaling happen independently on each feature by computing\n",
       "the relevant statistics on the samples in the training set. Mean and\n",
       "standard deviation are then stored to be used on later data using\n",
       ":meth:`transform`.\n",
       "\n",
       "Standardization of a dataset is a common requirement for many\n",
       "machine learning estimators: they might behave badly if the\n",
       "individual features do not more or less look like standard normally\n",
       "distributed data (e.g. Gaussian with 0 mean and unit variance).\n",
       "\n",
       "For instance many elements used in the objective function of\n",
       "a learning algorithm (such as the RBF kernel of Support Vector\n",
       "Machines or the L1 and L2 regularizers of linear models) assume that\n",
       "all features are centered around 0 and have variance in the same\n",
       "order. If a feature has a variance that is orders of magnitude larger\n",
       "that others, it might dominate the objective function and make the\n",
       "estimator unable to learn from other features correctly as expected.\n",
       "\n",
       "This scaler can also be applied to sparse CSR or CSC matrices by passing\n",
       "`with_mean=False` to avoid breaking the sparsity structure of the data.\n",
       "\n",
       "Read more in the :ref:`User Guide <preprocessing_scaler>`.\n",
       "\n",
       "Parameters\n",
       "----------\n",
       "copy : bool, default=True\n",
       "    If False, try to avoid a copy and do inplace scaling instead.\n",
       "    This is not guaranteed to always work inplace; e.g. if the data is\n",
       "    not a NumPy array or scipy.sparse CSR matrix, a copy may still be\n",
       "    returned.\n",
       "\n",
       "with_mean : bool, default=True\n",
       "    If True, center the data before scaling.\n",
       "    This does not work (and will raise an exception) when attempted on\n",
       "    sparse matrices, because centering them entails building a dense\n",
       "    matrix which in common use cases is likely to be too large to fit in\n",
       "    memory.\n",
       "\n",
       "with_std : bool, default=True\n",
       "    If True, scale the data to unit variance (or equivalently,\n",
       "    unit standard deviation).\n",
       "\n",
       "Attributes\n",
       "----------\n",
       "scale_ : ndarray of shape (n_features,) or None\n",
       "    Per feature relative scaling of the data to achieve zero mean and unit\n",
       "    variance. Generally this is calculated using `np.sqrt(var_)`. If a\n",
       "    variance is zero, we can't achieve unit variance, and the data is left\n",
       "    as-is, giving a scaling factor of 1. `scale_` is equal to `None`\n",
       "    when `with_std=False`.\n",
       "\n",
       "    .. versionadded:: 0.17\n",
       "       *scale_*\n",
       "\n",
       "mean_ : ndarray of shape (n_features,) or None\n",
       "    The mean value for each feature in the training set.\n",
       "    Equal to ``None`` when ``with_mean=False``.\n",
       "\n",
       "var_ : ndarray of shape (n_features,) or None\n",
       "    The variance for each feature in the training set. Used to compute\n",
       "    `scale_`. Equal to ``None`` when ``with_std=False``.\n",
       "\n",
       "n_features_in_ : int\n",
       "    Number of features seen during :term:`fit`.\n",
       "\n",
       "    .. versionadded:: 0.24\n",
       "\n",
       "feature_names_in_ : ndarray of shape (`n_features_in_`,)\n",
       "    Names of features seen during :term:`fit`. Defined only when `X`\n",
       "    has feature names that are all strings.\n",
       "\n",
       "    .. versionadded:: 1.0\n",
       "\n",
       "n_samples_seen_ : int or ndarray of shape (n_features,)\n",
       "    The number of samples processed by the estimator for each feature.\n",
       "    If there are no missing samples, the ``n_samples_seen`` will be an\n",
       "    integer, otherwise it will be an array of dtype int. If\n",
       "    `sample_weights` are used it will be a float (if no missing data)\n",
       "    or an array of dtype float that sums the weights seen so far.\n",
       "    Will be reset on new calls to fit, but increments across\n",
       "    ``partial_fit`` calls.\n",
       "\n",
       "See Also\n",
       "--------\n",
       "scale : Equivalent function without the estimator API.\n",
       "\n",
       ":class:`~sklearn.decomposition.PCA` : Further removes the linear\n",
       "    correlation across features with 'whiten=True'.\n",
       "\n",
       "Notes\n",
       "-----\n",
       "NaNs are treated as missing values: disregarded in fit, and maintained in\n",
       "transform.\n",
       "\n",
       "We use a biased estimator for the standard deviation, equivalent to\n",
       "`numpy.std(x, ddof=0)`. Note that the choice of `ddof` is unlikely to\n",
       "affect model performance.\n",
       "\n",
       "For a comparison of the different scalers, transformers, and normalizers,\n",
       "see :ref:`examples/preprocessing/plot_all_scaling.py\n",
       "<sphx_glr_auto_examples_preprocessing_plot_all_scaling.py>`.\n",
       "\n",
       "Examples\n",
       "--------\n",
       ">>> from sklearn.preprocessing import StandardScaler\n",
       ">>> data = [[0, 0], [0, 0], [1, 1], [1, 1]]\n",
       ">>> scaler = StandardScaler()\n",
       ">>> print(scaler.fit(data))\n",
       "StandardScaler()\n",
       ">>> print(scaler.mean_)\n",
       "[0.5 0.5]\n",
       ">>> print(scaler.transform(data))\n",
       "[[-1. -1.]\n",
       " [-1. -1.]\n",
       " [ 1.  1.]\n",
       " [ 1.  1.]]\n",
       ">>> print(scaler.transform([[2, 2]]))\n",
       "[[3. 3.]]\n",
       "\u001b[0;31mFile:\u001b[0m           /opt/conda/lib/python3.9/site-packages/sklearn/preprocessing/_data.py\n",
       "\u001b[0;31mType:\u001b[0m           type\n",
       "\u001b[0;31mSubclasses:\u001b[0m     \n"
      ]
     },
     "metadata": {},
     "output_type": "display_data"
    }
   ],
   "source": [
    "StandardScaler?"
   ]
  },
  {
   "cell_type": "code",
   "execution_count": 40,
   "metadata": {},
   "outputs": [],
   "source": [
    "SS = StandardScaler()"
   ]
  },
  {
   "cell_type": "code",
   "execution_count": 41,
   "metadata": {},
   "outputs": [],
   "source": [
    "X_train_scaled = SS.fit_transform(X_train)\n",
    "X_test_scaled = SS.transform(X_test)"
   ]
  },
  {
   "cell_type": "markdown",
   "metadata": {},
   "source": [
    "## Build and fit a new model"
   ]
  },
  {
   "cell_type": "markdown",
   "metadata": {},
   "source": [
    "Setting all of the different random number generators to the same values is actually very hard within Keras/Tensorflow/Numpy. Because of this, exact reproducibility is not possible. To **really** trust our results, the best thing would be to retrain many times and compute means and variances of our results. For time we will not do that here. \n",
    "\n",
    "**NOTE:** Your results may differ from what the discussion around it says because of this. I have tried to write in in a way that you can generalize, but please let me know if something does not make sense"
   ]
  },
  {
   "cell_type": "markdown",
   "metadata": {},
   "source": [
    "We will now build an identical network to our previous one. We give it a different name so we can compare with the old results."
   ]
  },
  {
   "cell_type": "code",
   "execution_count": 42,
   "metadata": {
    "collapsed": false,
    "jupyter": {
     "outputs_hidden": false
    }
   },
   "outputs": [
    {
     "name": "stdout",
     "output_type": "stream",
     "text": [
      "Model: \"sequential_2\"\n",
      "_________________________________________________________________\n",
      "Layer (type)                 Output Shape              Param #   \n",
      "=================================================================\n",
      "dense_4 (Dense)              (None, 50)                1550      \n",
      "_________________________________________________________________\n",
      "dense_5 (Dense)              (None, 1)                 51        \n",
      "=================================================================\n",
      "Total params: 1,601\n",
      "Trainable params: 1,601\n",
      "Non-trainable params: 0\n",
      "_________________________________________________________________\n"
     ]
    }
   ],
   "source": [
    "### Enter code here ###\n",
    "model_2 = Sequential()\n",
    "model_2.add(Dense(50, activation='relu', input_dim=X_train.shape[1]))\n",
    "model_2.add(Dense(1, activation='sigmoid'))\n",
    "model_2.compile(loss='binary_crossentropy', optimizer='sgd')\n",
    "### End code here ###\n",
    "\n",
    "model_2.summary()"
   ]
  },
  {
   "cell_type": "markdown",
   "metadata": {},
   "source": [
    "**Exercise:** Now fit the network using the scaled data which we just computed. Use 15 epochs for now."
   ]
  },
  {
   "cell_type": "code",
   "execution_count": 43,
   "metadata": {
    "collapsed": false,
    "jupyter": {
     "outputs_hidden": false
    }
   },
   "outputs": [
    {
     "name": "stdout",
     "output_type": "stream",
     "text": [
      "Epoch 1/15\n",
      "1266/1266 [==============================] - 8s 6ms/step - loss: 0.6333 - val_loss: 0.6104\n",
      "Epoch 2/15\n",
      "1266/1266 [==============================] - 4s 3ms/step - loss: 0.6000 - val_loss: 0.6024\n",
      "Epoch 3/15\n",
      "1266/1266 [==============================] - 4s 3ms/step - loss: 0.5941 - val_loss: 0.5967\n",
      "Epoch 4/15\n",
      "1266/1266 [==============================] - 2s 2ms/step - loss: 0.5904 - val_loss: 0.5946\n",
      "Epoch 5/15\n",
      "1266/1266 [==============================] - 2s 2ms/step - loss: 0.5880 - val_loss: 0.5943\n",
      "Epoch 6/15\n",
      "1266/1266 [==============================] - 3s 2ms/step - loss: 0.5859 - val_loss: 0.5918\n",
      "Epoch 7/15\n",
      "1266/1266 [==============================] - 2s 2ms/step - loss: 0.5844 - val_loss: 0.5894\n",
      "Epoch 8/15\n",
      "1266/1266 [==============================] - 2s 2ms/step - loss: 0.5830 - val_loss: 0.5903\n",
      "Epoch 9/15\n",
      "1266/1266 [==============================] - 3s 2ms/step - loss: 0.5818 - val_loss: 0.5900\n",
      "Epoch 10/15\n",
      "1266/1266 [==============================] - 3s 2ms/step - loss: 0.5808 - val_loss: 0.5885\n",
      "Epoch 11/15\n",
      "1266/1266 [==============================] - 3s 2ms/step - loss: 0.5801 - val_loss: 0.5882\n",
      "Epoch 12/15\n",
      "1266/1266 [==============================] - 3s 2ms/step - loss: 0.5793 - val_loss: 0.5871\n",
      "Epoch 13/15\n",
      "1266/1266 [==============================] - 3s 2ms/step - loss: 0.5787 - val_loss: 0.5869\n",
      "Epoch 14/15\n",
      "1266/1266 [==============================] - 2s 2ms/step - loss: 0.5781 - val_loss: 0.5886\n",
      "Epoch 15/15\n",
      "1266/1266 [==============================] - 6s 5ms/step - loss: 0.5773 - val_loss: 0.5862\n"
     ]
    }
   ],
   "source": [
    "history_2 = model_2.fit(X_train_scaled, y_train,\n",
    "                        validation_split=0.1,\n",
    "                        epochs=15\n",
    "                       )"
   ]
  },
  {
   "cell_type": "markdown",
   "metadata": {},
   "source": [
    "Now we plot the histories."
   ]
  },
  {
   "cell_type": "code",
   "execution_count": 44,
   "metadata": {
    "collapsed": false,
    "jupyter": {
     "outputs_hidden": false
    }
   },
   "outputs": [
    {
     "data": {
      "image/png": "[encoded data removed]",
      "text/plain": [
       "<Figure size 240x240 with 1 Axes>"
      ]
     },
     "metadata": {
      "needs_background": "light"
     },
     "output_type": "display_data"
    }
   ],
   "source": [
    "plt.plot(history_2.history['loss'], label='Training')\n",
    "plt.plot(history_2.history['val_loss'], label='Validation')\n",
    "plt.xlabel('Epoch')\n",
    "plt.ylabel('Loss')\n",
    "plt.legend(loc='best')\n",
    "plt.title('SGD - normalized')\n",
    "plt.show()"
   ]
  },
  {
   "cell_type": "markdown",
   "metadata": {},
   "source": [
    "There are a few things to note from this.\n",
    "\n",
    "1. The training loss has not stopped going down, so we should really train for more than 15 epochs. However, right now we are just testing things out, and this gives us an idea for how the model is doing.\n",
    "2. This is the first time we have seen the training and validation loss being different. This shows that we are slightly over fitting the data. This is not necessarily a big deal at this point, but something to look out for. If we trained for longer and the training loss got further and further from the validation loss, we would want to do something to fix this. Methods to do this are called *regularization*, and can include adding extra terms to the loss so that individual network weights cannot get to big ([l1 or l2](https://keras.io/regularizers/) regularization) or randomly ignoring certain nodes during training ([dropout](https://keras.io/layers/core/#dropout)). \n",
    "\n",
    "  Another way to compete against over-fitting is to get more data. You can test this by instead fitting on a very small amount of data. You should see the losses diverge then.\n",
    "\n",
    "Even though we are slightly over-fitting, and the training has not reached its asymptote, lets compute the test metrics."
   ]
  },
  {
   "cell_type": "code",
   "execution_count": 45,
   "metadata": {},
   "outputs": [],
   "source": [
    "preds_model_2 = model_2.predict(X_test_scaled)\n",
    "fpr_model_2, tpr_model_2, thresholds_model_2 = roc_curve(y_true=y_test, y_score=preds_model_2)\n",
    "auc_model_2 = auc(fpr_model_2, tpr_model_2)"
   ]
  },
  {
   "cell_type": "code",
   "execution_count": 46,
   "metadata": {
    "collapsed": false,
    "jupyter": {
     "outputs_hidden": false
    }
   },
   "outputs": [
    {
     "name": "stdout",
     "output_type": "stream",
     "text": [
      "The $\\epsilon_B$ at a fixed $\\epsilon_S=0.5$: 1.430e-01\n"
     ]
    }
   ],
   "source": [
    "from scipy.interpolate import interp1d\n",
    "\n",
    "background_eff_2 = interp1d(tpr_model_2, fpr_model_2)\n",
    "background_at_sig_50_2 = background_eff_2(0.5)\n",
    "print('The $\\epsilon_B$ at a fixed $\\epsilon_S=0.5$' + ': {0:.3e}'.format(background_at_sig_50_2))"
   ]
  },
  {
   "cell_type": "code",
   "execution_count": 47,
   "metadata": {
    "collapsed": false,
    "jupyter": {
     "outputs_hidden": false
    }
   },
   "outputs": [
    {
     "data": {
      "image/png": "[encoded data removed]",
      "text/plain": [
       "<Figure size 480x240 with 2 Axes>"
      ]
     },
     "metadata": {
      "needs_background": "light"
     },
     "output_type": "display_data"
    },
    {
     "name": "stdout",
     "output_type": "stream",
     "text": [
      "The AUC is 0.7641\n"
     ]
    }
   ],
   "source": [
    "plt.figure(figsize=(6, 3))\n",
    "\n",
    "plt.subplot(1, 2, 1)\n",
    "plt.hist(preds_model_2[y_test == 0], range=(0, 1), bins=50, histtype='step', color='C2')\n",
    "plt.hist(preds_model_2[y_test == 1], range=(0, 1), bins=50, histtype='step', color='C3')\n",
    "plt.xlim(0, 1)\n",
    "plt.plot([], [], color='C2', label='gluon')\n",
    "plt.plot([], [], color='C3', label='quark')\n",
    "plt.legend(loc='best', frameon=False)\n",
    "plt.xlabel('Network output')\n",
    "plt.ylabel('Jets / bin')\n",
    "\n",
    "plt.subplot(1, 2, 2)\n",
    "plt.plot(fpr_model_1, tpr_model_1, label='model 1')\n",
    "plt.plot(fpr_model_2, tpr_model_2, label='(scaled data)')\n",
    "plt.xlabel('$\\epsilon_B$')\n",
    "plt.ylabel('$\\epsilon_S$')\n",
    "plt.legend(loc=('best'), frameon=False)\n",
    "\n",
    "plt.tight_layout(w_pad=2)\n",
    "plt.show()\n",
    "\n",
    "print('The AUC is {0:0.4f}'.format(auc_model_2))"
   ]
  },
  {
   "cell_type": "code",
   "execution_count": null,
   "metadata": {
    "collapsed": false,
    "jupyter": {
     "outputs_hidden": false
    }
   },
   "outputs": [],
   "source": [
    "# plt.plot(tpr_model_1, 1/fpr_model_1,  label='qvq model 1')\n",
    "plt.plot(tpr_model_2, 1/fpr_model_2, label='qvg model 2 (scaled data)')\n",
    "plt.ylabel('$1/\\epsilon_B$')\n",
    "plt.xlabel('$\\epsilon_S$')\n",
    "plt.yscale('log')\n",
    "plt.xlim(0, 1)\n",
    "plt.legend(loc=(1.05,0.2), frameon=False)\n",
    "plt.show()\n",
    "\n",
    "print('The 1 / epsilon_B at a fixed e_S=0.5' + ': {0:.2f}'.format(1/background_at_sig_50_2))"
   ]
  },
  {
   "cell_type": "markdown",
   "metadata": {},
   "source": [
    "From this, we see that we are getting a predictive model. Normalizing the data made a huge difference! Without normalizing, the network couldn't even start to train. The normalized model does better on the training data, and it also generalizes to the test data. We are able to split the quark and gluon jets. We will now cycle through some different options to see if we can do better."
   ]
  },
  {
   "cell_type": "markdown",
   "metadata": {},
   "source": [
    "## Explore training methods\n",
    "Stochastic gradient descent is what we worked out last time, where each update to the model parameters is in the direction of the gradient at that point. However, there are other methods, which keep 'momentum' as the optimizer rolls down the hill of the loss potential. We can use these easily because keras has the optimizers built in."
   ]
  },
  {
   "cell_type": "markdown",
   "metadata": {},
   "source": [
    "**Exercise:** Add a network to the dictionary for each training method."
   ]
  },
  {
   "cell_type": "code",
   "execution_count": 49,
   "metadata": {
    "collapsed": false,
    "jupyter": {
     "outputs_hidden": false
    }
   },
   "outputs": [
    {
     "name": "stdout",
     "output_type": "stream",
     "text": [
      "Using rmsprop\n",
      "Epoch 1/15\n",
      "1266/1266 [==============================] - 4s 2ms/step - loss: 0.6033 - val_loss: 0.5988\n",
      "Epoch 2/15\n",
      "1266/1266 [==============================] - 3s 2ms/step - loss: 0.5877 - val_loss: 0.5932\n",
      "Epoch 3/15\n",
      "1266/1266 [==============================] - 3s 2ms/step - loss: 0.5830 - val_loss: 0.5874\n",
      "Epoch 4/15\n",
      "1266/1266 [==============================] - 3s 2ms/step - loss: 0.5805 - val_loss: 0.5904\n",
      "Epoch 5/15\n",
      "1266/1266 [==============================] - 3s 2ms/step - loss: 0.5795 - val_loss: 0.5847\n",
      "Epoch 6/15\n",
      "1266/1266 [==============================] - 3s 2ms/step - loss: 0.5775 - val_loss: 0.5894\n",
      "Epoch 7/15\n",
      "1266/1266 [==============================] - 2s 2ms/step - loss: 0.5771 - val_loss: 0.5865\n",
      "Epoch 8/15\n",
      "1266/1266 [==============================] - 3s 3ms/step - loss: 0.5754 - val_loss: 0.5855\n",
      "Epoch 9/15\n",
      "1266/1266 [==============================] - 4s 3ms/step - loss: 0.5747 - val_loss: 0.5832\n",
      "Epoch 10/15\n",
      "1266/1266 [==============================] - 4s 3ms/step - loss: 0.5740 - val_loss: 0.5908\n",
      "Epoch 11/15\n",
      "1266/1266 [==============================] - 3s 2ms/step - loss: 0.5740 - val_loss: 0.5825\n",
      "Epoch 12/15\n",
      "1266/1266 [==============================] - 3s 3ms/step - loss: 0.5734 - val_loss: 0.5842\n",
      "Epoch 13/15\n",
      "1266/1266 [==============================] - 4s 3ms/step - loss: 0.5723 - val_loss: 0.5887\n",
      "Epoch 14/15\n",
      "1266/1266 [==============================] - 4s 3ms/step - loss: 0.5724 - val_loss: 0.5838\n",
      "Epoch 15/15\n",
      "1266/1266 [==============================] - 3s 2ms/step - loss: 0.5723 - val_loss: 0.5820\n",
      "Using adam\n",
      "Epoch 1/15\n",
      "1266/1266 [==============================] - 4s 3ms/step - loss: 0.6027 - val_loss: 0.5937\n",
      "Epoch 2/15\n",
      "1266/1266 [==============================] - 4s 3ms/step - loss: 0.5851 - val_loss: 0.5864\n",
      "Epoch 3/15\n",
      "1266/1266 [==============================] - 3s 3ms/step - loss: 0.5815 - val_loss: 0.5853\n",
      "Epoch 4/15\n",
      "1266/1266 [==============================] - 3s 3ms/step - loss: 0.5788 - val_loss: 0.5859\n",
      "Epoch 5/15\n",
      "1266/1266 [==============================] - 3s 2ms/step - loss: 0.5772 - val_loss: 0.5834\n",
      "Epoch 6/15\n",
      "1266/1266 [==============================] - 3s 3ms/step - loss: 0.5753 - val_loss: 0.5895\n",
      "Epoch 7/15\n",
      "1266/1266 [==============================] - 3s 3ms/step - loss: 0.5743 - val_loss: 0.5846\n",
      "Epoch 8/15\n",
      "1266/1266 [==============================] - 3s 2ms/step - loss: 0.5730 - val_loss: 0.5812\n",
      "Epoch 9/15\n",
      "1266/1266 [==============================] - 3s 3ms/step - loss: 0.5721 - val_loss: 0.5810\n",
      "Epoch 10/15\n",
      "1266/1266 [==============================] - 3s 3ms/step - loss: 0.5712 - val_loss: 0.5846\n",
      "Epoch 11/15\n",
      "1266/1266 [==============================] - 4s 3ms/step - loss: 0.5704 - val_loss: 0.5804\n",
      "Epoch 12/15\n",
      "1266/1266 [==============================] - 4s 3ms/step - loss: 0.5700 - val_loss: 0.5852\n",
      "Epoch 13/15\n",
      "1266/1266 [==============================] - 3s 2ms/step - loss: 0.5692 - val_loss: 0.5812\n",
      "Epoch 14/15\n",
      "1266/1266 [==============================] - 3s 3ms/step - loss: 0.5692 - val_loss: 0.5800\n",
      "Epoch 15/15\n",
      "1266/1266 [==============================] - 5s 4ms/step - loss: 0.5684 - val_loss: 0.5828\n"
     ]
    }
   ],
   "source": [
    "trainining_methods=['rmsprop', 'adam']\n",
    "\n",
    "# Make python dictionaries to save our results\n",
    "training_method_models = {}\n",
    "training_histories = {}\n",
    "\n",
    "for method in trainining_methods:\n",
    "    print('Using ' + method)\n",
    "    \n",
    "    ### Enter code here ###\n",
    "    temp_model =  Sequential()\n",
    "    temp_model.add(Dense(50, activation='relu', input_dim=X_train_scaled.shape[1]))\n",
    "    temp_model.add(Dense(1, activation='sigmoid'))\n",
    "    temp_model.compile(loss='binary_crossentropy',\n",
    "                       optimizer=method)\n",
    "    \n",
    "    # Fit the model\n",
    "    temp_history = temp_model.fit(X_train_scaled, y_train,\n",
    "                                  validation_split=0.1,\n",
    "                                  epochs=15)\n",
    "    ### End code here ###\n",
    "    \n",
    "    # Now put the model into the dictionary\n",
    "    training_method_models[method] = temp_model\n",
    "    \n",
    "    # Now train the model\n",
    "    training_histories[method] = temp_history"
   ]
  },
  {
   "cell_type": "markdown",
   "metadata": {},
   "source": [
    "Plot the comparisons of loss of the training methods."
   ]
  },
  {
   "cell_type": "code",
   "execution_count": 50,
   "metadata": {
    "collapsed": false,
    "jupyter": {
     "outputs_hidden": false
    }
   },
   "outputs": [
    {
     "data": {
      "image/png": "[encoded data removed]",
      "text/plain": [
       "<Figure size 240x240 with 1 Axes>"
      ]
     },
     "metadata": {
      "needs_background": "light"
     },
     "output_type": "display_data"
    }
   ],
   "source": [
    "plt.plot(history_2.history['loss'], color='C0', label='SGD')\n",
    "plt.plot(training_histories['rmsprop'].history['loss'], color='C1', label='RMSprop')\n",
    "plt.plot(training_histories['adam'].history['loss'], color='C2', label='Adam')\n",
    "\n",
    "plt.plot(training_histories['rmsprop'].history['val_loss'], color='C1', ls=':')\n",
    "plt.plot(training_histories['adam'].history['val_loss'], color='C2', ls=':')\n",
    "plt.plot(history_2.history['val_loss'], color='C0', ls=':')\n",
    "\n",
    "plt.xlabel('Epoch')\n",
    "plt.ylabel('Loss')\n",
    "plt.legend(loc='best')\n",
    "# plt.title('SGD - normalized')\n",
    "plt.show()"
   ]
  },
  {
   "cell_type": "markdown",
   "metadata": {},
   "source": [
    "Note that on the training data, Adam and RMSPROP do better than SGD. In general, SGD will eventually converge to the minimum, but it is slower than other alogrithms. The most popular optimizer to use currently is Adam. It is also important to note that is the methods doing better on the training sample do not always do better on the validation data. Again, all of the validation losses are still improving, so training is still making the model do better on data it hasn't seen yet."
   ]
  },
  {
   "cell_type": "markdown",
   "metadata": {},
   "source": [
    "Now we want to compute our test metrics. We will again add these to dictionaries so that they are easy to call later.\n",
    "\n",
    "**Exercise:** Compute the test metrics"
   ]
  },
  {
   "cell_type": "code",
   "execution_count": 51,
   "metadata": {},
   "outputs": [],
   "source": [
    "preds_methods = {}\n",
    "fpr_methods = {}\n",
    "tpr_methods = {}\n",
    "thresholds_methods = {}\n",
    "auc_methods = {}\n",
    "working_point_methods = {}\n",
    "\n",
    "for method in trainining_methods:\n",
    "    \n",
    "    # Get the trained model from our models dictionary\n",
    "    tmp_model = training_method_models[method]\n",
    "    \n",
    "    ### Enter code here ###\n",
    "    tmp_preds = tmp_model.predict(X_test_scaled)\n",
    "    tmp_fpr, tmp_tpr, tmp_thresholds = roc_curve(y_true=y_test, y_score = tmp_preds)\n",
    "    tmp_auc = auc(tmp_fpr, tmp_tpr)\n",
    "    ### End code here ###\n",
    "    \n",
    "    # Fill in the different result dictionaries\n",
    "    preds_methods[method] = tmp_preds\n",
    "    fpr_methods[method] = tmp_fpr\n",
    "    tpr_methods[method] = tmp_tpr\n",
    "    thresholds_methods[method] = tmp_thresholds\n",
    "    auc_methods[method] = tmp_auc\n",
    "    \n",
    "    # Now compute the working point at a signal efficiency of 0.5\n",
    "    ### Enter code here ###\n",
    "    tmp_background_eff = interp1d(tmp_tpr, tmp_fpr)\n",
    "    tmp_working_point = tmp_background_eff(0.5)\n",
    "    ### End code here \n",
    "    \n",
    "    # Fill in the dictionary\n",
    "    working_point_methods[method] = tmp_working_point"
   ]
  },
  {
   "cell_type": "markdown",
   "metadata": {},
   "source": [
    "Plot the ROC curves"
   ]
  },
  {
   "cell_type": "code",
   "execution_count": 52,
   "metadata": {
    "collapsed": false,
    "jupyter": {
     "outputs_hidden": false
    }
   },
   "outputs": [
    {
     "name": "stderr",
     "output_type": "stream",
     "text": [
      "/tmp/ipykernel_2589/3654174252.py:1: RuntimeWarning: divide by zero encountered in true_divide\n",
      "  plt.plot(tpr_model_2, 1/fpr_model_2, label='SGD')\n",
      "/tmp/ipykernel_2589/3654174252.py:2: RuntimeWarning: divide by zero encountered in true_divide\n",
      "  plt.plot(tpr_methods['rmsprop'], 1/fpr_methods['rmsprop'], label='rmsprop')\n",
      "/tmp/ipykernel_2589/3654174252.py:3: RuntimeWarning: divide by zero encountered in true_divide\n",
      "  plt.plot(tpr_methods['adam'], 1/fpr_methods['adam'], label='adam')\n"
     ]
    },
    {
     "data": {
      "image/png": "[encoded data removed]",
      "text/plain": [
       "<Figure size 240x240 with 1 Axes>"
      ]
     },
     "metadata": {
      "needs_background": "light"
     },
     "output_type": "display_data"
    },
    {
     "name": "stdout",
     "output_type": "stream",
     "text": [
      "SGD: 1 / epsilon_B at a fixed e_S=0.5: 6.99\n",
      "SGD: AUC=0.7641\n",
      "\n",
      "RMSProp: 1 / epsilon_B at a fixed e_S=0.5: 7.54\n",
      "RMSProp: AUC=0.7716\n",
      "\n",
      "Adam: 1 / epsilon_B at a fixed e_S=0.5: 7.61\n",
      "Adam: AUC=0.7718\n"
     ]
    }
   ],
   "source": [
    "plt.plot(tpr_model_2, 1/fpr_model_2, label='SGD')\n",
    "plt.plot(tpr_methods['rmsprop'], 1/fpr_methods['rmsprop'], label='rmsprop')\n",
    "plt.plot(tpr_methods['adam'], 1/fpr_methods['adam'], label='adam')\n",
    "plt.ylabel('$1/\\epsilon_B$')\n",
    "plt.xlabel('$\\epsilon_S$')\n",
    "plt.yscale('log')\n",
    "plt.xlim(0, 1)\n",
    "plt.ylim(1, 50)\n",
    "plt.legend(loc=(1.05,0.3), frameon=False)\n",
    "plt.show()\n",
    "\n",
    "print('SGD: 1 / epsilon_B at a fixed e_S=0.5' + ': {0:.2f}'.format(1/background_at_sig_50_2))\n",
    "print('SGD: AUC={0:.4f}'.format(auc_model_2))\n",
    "print('')\n",
    "print('RMSProp: 1 / epsilon_B at a fixed e_S=0.5' + ': {0:.2f}'.format(1/working_point_methods['rmsprop']))\n",
    "print('RMSProp: AUC={0:.4f}'.format(auc_methods['rmsprop']))\n",
    "print('')\n",
    "print('Adam: 1 / epsilon_B at a fixed e_S=0.5' + ': {0:.2f}'.format(1/working_point_methods['adam']))\n",
    "print('Adam: AUC={0:.4f}'.format(auc_methods['adam']))"
   ]
  },
  {
   "cell_type": "markdown",
   "metadata": {},
   "source": [
    "From this, it doesn't appear that any of the optimizers works particularly better on the test set. The best one at the working point is Adam. Up to now, we have left the architecture of the network fixed, but have changed the data (normalized it) and changed the optimizers. Now let's see if we can get a better score by either adding width to the hidden layer or by making the network deeper."
   ]
  },
  {
   "cell_type": "markdown",
   "metadata": {},
   "source": [
    "## Network architecture\n",
    "Now we explore the differnt network shapes. I will put this into a dictionary which we can scan over easily. For now, just build and compile the network, but don't train it yet."
   ]
  },
  {
   "cell_type": "code",
   "execution_count": 53,
   "metadata": {},
   "outputs": [],
   "source": [
    "archs = OrderedDict()\n",
    "\n",
    "# Smaller nodes per layer, but more layers\n",
    "\n",
    "# The name of the model tells me how many nodes per dense layer\n",
    "# 1 hidden layer\n",
    "tmp_model = Sequential()\n",
    "tmp_model.add(Dense(50, input_dim=X_train_scaled.shape[1], activation='relu'))\n",
    "tmp_model.add(Dense(1, activation='sigmoid'))\n",
    "tmp_model.compile(loss='binary_crossentropy', optimizer='adam')\n",
    "archs['D50D1'] = tmp_model\n",
    "\n",
    "# 2 hidden layers\n",
    "tmp_model = Sequential()\n",
    "tmp_model.add(Dense(50, input_dim=X_train_scaled.shape[1], activation='relu'))\n",
    "tmp_model.add(Dense(50, activation='relu'))\n",
    "tmp_model.add(Dense(1, activation='sigmoid'))\n",
    "tmp_model.compile(loss='binary_crossentropy', optimizer='adam')\n",
    "archs['D50D50D1'] = tmp_model\n",
    "\n",
    "# 3 hidden layers\n",
    "## Follow the same pattern\n",
    "### Enter code here ###\n",
    "tmp_model = Sequential()\n",
    "tmp_model.add(Dense(50, input_dim=X_train_scaled.shape[1], activation='relu'))\n",
    "tmp_model.add(Dense(50, activation='relu'))\n",
    "tmp_model.add(Dense(50, activation='relu'))\n",
    "tmp_model.add(Dense(1, activation='sigmoid'))\n",
    "tmp_model.compile(loss='binary_crossentropy', optimizer='adam')\n",
    "archs['D50D50D50D1'] = tmp_model\n",
    "### Enter code here ###\n",
    "\n",
    "# 4 hidden layers\n",
    "## Follow the same pattern\n",
    "### Enter code here ###\n",
    "tmp_model = Sequential()\n",
    "tmp_model.add(Dense(50, input_dim=X_train_scaled.shape[1], activation='relu'))\n",
    "tmp_model.add(Dense(50, activation='relu'))\n",
    "tmp_model.add(Dense(50, activation='relu'))\n",
    "tmp_model.add(Dense(50, activation='relu'))\n",
    "tmp_model.add(Dense(1, activation='sigmoid'))\n",
    "tmp_model.compile(loss='binary_crossentropy', optimizer='adam')\n",
    "archs['D50D50D50D50D1'] = tmp_model\n",
    "### Enter code here ###\n",
    "\n",
    "# Now we change the style, instead of going deeper, lets test a single layer with differnt number of nodes.\n",
    "\n",
    "# 1 hidden layer - 10 Nodes\n",
    "tmp_model = Sequential()\n",
    "tmp_model.add(Dense(10, input_dim=X_train_scaled.shape[1], activation='relu'))\n",
    "tmp_model.add(Dense(1, activation='sigmoid'))\n",
    "tmp_model.compile(loss='binary_crossentropy', optimizer='adam')\n",
    "archs['D10D1'] = tmp_model\n",
    "\n",
    "# 1 hidden layer - 20 Nodes\n",
    "## Follow the same pattern\n",
    "### Enter code here ###\n",
    "tmp_model = Sequential()\n",
    "tmp_model.add(Dense(20, input_dim=X_train_scaled.shape[1], activation='relu'))\n",
    "tmp_model.add(Dense(1, activation='sigmoid'))\n",
    "tmp_model.compile(loss='binary_crossentropy', optimizer='adam')\n",
    "archs['D20D1'] = tmp_model\n",
    "### Enter code here ###\n",
    "\n",
    "# 1 hidden layer - 100 Nodes\n",
    "## Follow the same pattern\n",
    "### Enter code here ###\n",
    "tmp_model = Sequential()\n",
    "tmp_model.add(Dense(100, input_dim=X_train_scaled.shape[1], activation='relu'))\n",
    "tmp_model.add(Dense(1, activation='sigmoid'))\n",
    "tmp_model.compile(loss='binary_crossentropy', optimizer='adam')\n",
    "archs['D100D1'] = tmp_model\n",
    "### Enter code here ###\n",
    "\n",
    "# 1 hidden layer - 500 Nodes\n",
    "## Follow the same pattern\n",
    "### Enter code here ###\n",
    "tmp_model = Sequential()\n",
    "tmp_model.add(Dense(500, input_dim=X_train_scaled.shape[1], activation='relu'))\n",
    "tmp_model.add(Dense(1, activation='sigmoid'))\n",
    "tmp_model.compile(loss='binary_crossentropy', optimizer='adam')\n",
    "archs['D500D1'] = tmp_model\n",
    "### Enter code here ###\n",
    "\n",
    "# 1 hidden layer - 1000 Nodes\n",
    "## Follow the same pattern\n",
    "### Enter code here ###\n",
    "tmp_model = Sequential()\n",
    "tmp_model.add(Dense(1000, input_dim=X_train_scaled.shape[1], activation='relu'))\n",
    "tmp_model.add(Dense(1, activation='sigmoid'))\n",
    "tmp_model.compile(loss='binary_crossentropy', optimizer='adam')\n",
    "archs['D1000D1'] = tmp_model\n",
    "### Enter code here ###\n",
    "\n",
    "# 1 hidden layer - 10000 Nodes\n",
    "## Follow the same pattern\n",
    "### Enter code here ###\n",
    "tmp_model = Sequential()\n",
    "tmp_model.add(Dense(10000, input_dim=X_train_scaled.shape[1], activation='relu'))\n",
    "tmp_model.add(Dense(1, activation='sigmoid'))\n",
    "tmp_model.compile(loss='binary_crossentropy', optimizer='adam')\n",
    "archs['D10000D1'] = tmp_model\n",
    "### Enter code here ###"
   ]
  },
  {
   "cell_type": "markdown",
   "metadata": {},
   "source": [
    "Now we can scan over the models in our dictionary and train them is a single loop."
   ]
  },
  {
   "cell_type": "code",
   "execution_count": 54,
   "metadata": {
    "collapsed": false,
    "jupyter": {
     "outputs_hidden": false
    }
   },
   "outputs": [
    {
     "name": "stdout",
     "output_type": "stream",
     "text": [
      "Model: \"sequential_5\"\n",
      "_________________________________________________________________\n",
      "Layer (type)                 Output Shape              Param #   \n",
      "=================================================================\n",
      "dense_10 (Dense)             (None, 50)                1550      \n",
      "_________________________________________________________________\n",
      "dense_11 (Dense)             (None, 1)                 51        \n",
      "=================================================================\n",
      "Total params: 1,601\n",
      "Trainable params: 1,601\n",
      "Non-trainable params: 0\n",
      "_________________________________________________________________\n",
      "Epoch 1/15\n",
      "1266/1266 - 3s - loss: 0.6031 - val_loss: 0.5983\n",
      "Epoch 2/15\n",
      "1266/1266 - 2s - loss: 0.5859 - val_loss: 0.5877\n",
      "Epoch 3/15\n",
      "1266/1266 - 4s - loss: 0.5815 - val_loss: 0.5871\n",
      "Epoch 4/15\n",
      "1266/1266 - 3s - loss: 0.5791 - val_loss: 0.5833\n",
      "Epoch 5/15\n",
      "1266/1266 - 3s - loss: 0.5772 - val_loss: 0.5842\n",
      "Epoch 6/15\n",
      "1266/1266 - 5s - loss: 0.5755 - val_loss: 0.5833\n",
      "Epoch 7/15\n",
      "1266/1266 - 4s - loss: 0.5745 - val_loss: 0.5824\n",
      "Epoch 8/15\n",
      "1266/1266 - 3s - loss: 0.5731 - val_loss: 0.5823\n",
      "Epoch 9/15\n",
      "1266/1266 - 2s - loss: 0.5725 - val_loss: 0.5816\n",
      "Epoch 10/15\n",
      "1266/1266 - 2s - loss: 0.5716 - val_loss: 0.5820\n",
      "Epoch 11/15\n",
      "1266/1266 - 2s - loss: 0.5707 - val_loss: 0.5845\n",
      "Epoch 12/15\n",
      "1266/1266 - 3s - loss: 0.5703 - val_loss: 0.5797\n",
      "Epoch 13/15\n",
      "1266/1266 - 2s - loss: 0.5695 - val_loss: 0.5842\n",
      "Epoch 14/15\n",
      "1266/1266 - 2s - loss: 0.5691 - val_loss: 0.5796\n",
      "Epoch 15/15\n",
      "1266/1266 - 2s - loss: 0.5688 - val_loss: 0.5793\n",
      "Model: \"sequential_6\"\n",
      "_________________________________________________________________\n",
      "Layer (type)                 Output Shape              Param #   \n",
      "=================================================================\n",
      "dense_12 (Dense)             (None, 50)                1550      \n",
      "_________________________________________________________________\n",
      "dense_13 (Dense)             (None, 50)                2550      \n",
      "_________________________________________________________________\n",
      "dense_14 (Dense)             (None, 1)                 51        \n",
      "=================================================================\n",
      "Total params: 4,151\n",
      "Trainable params: 4,151\n",
      "Non-trainable params: 0\n",
      "_________________________________________________________________\n",
      "Epoch 1/15\n",
      "1266/1266 - 4s - loss: 0.5949 - val_loss: 0.5927\n",
      "Epoch 2/15\n",
      "1266/1266 - 2s - loss: 0.5802 - val_loss: 0.5889\n",
      "Epoch 3/15\n",
      "1266/1266 - 2s - loss: 0.5765 - val_loss: 0.5847\n",
      "Epoch 4/15\n",
      "1266/1266 - 3s - loss: 0.5734 - val_loss: 0.5840\n",
      "Epoch 5/15\n",
      "1266/1266 - 3s - loss: 0.5719 - val_loss: 0.5879\n",
      "Epoch 6/15\n",
      "1266/1266 - 2s - loss: 0.5705 - val_loss: 0.5832\n",
      "Epoch 7/15\n",
      "1266/1266 - 2s - loss: 0.5693 - val_loss: 0.5845\n",
      "Epoch 8/15\n",
      "1266/1266 - 5s - loss: 0.5678 - val_loss: 0.5801\n",
      "Epoch 9/15\n",
      "1266/1266 - 6s - loss: 0.5669 - val_loss: 0.5814\n",
      "Epoch 10/15\n",
      "1266/1266 - 2s - loss: 0.5664 - val_loss: 0.5860\n",
      "Epoch 11/15\n",
      "1266/1266 - 2s - loss: 0.5655 - val_loss: 0.5840\n",
      "Epoch 12/15\n",
      "1266/1266 - 3s - loss: 0.5651 - val_loss: 0.5820\n",
      "Epoch 13/15\n",
      "1266/1266 - 3s - loss: 0.5644 - val_loss: 0.5837\n",
      "Epoch 14/15\n",
      "1266/1266 - 4s - loss: 0.5634 - val_loss: 0.5833\n",
      "Epoch 15/15\n",
      "1266/1266 - 6s - loss: 0.5620 - val_loss: 0.5838\n",
      "Model: \"sequential_7\"\n",
      "_________________________________________________________________\n",
      "Layer (type)                 Output Shape              Param #   \n",
      "=================================================================\n",
      "dense_15 (Dense)             (None, 50)                1550      \n",
      "_________________________________________________________________\n",
      "dense_16 (Dense)             (None, 50)                2550      \n",
      "_________________________________________________________________\n",
      "dense_17 (Dense)             (None, 50)                2550      \n",
      "_________________________________________________________________\n",
      "dense_18 (Dense)             (None, 1)                 51        \n",
      "=================================================================\n",
      "Total params: 6,701\n",
      "Trainable params: 6,701\n",
      "Non-trainable params: 0\n",
      "_________________________________________________________________\n",
      "Epoch 1/15\n",
      "1266/1266 - 5s - loss: 0.5953 - val_loss: 0.5877\n",
      "Epoch 2/15\n",
      "1266/1266 - 7s - loss: 0.5792 - val_loss: 0.5867\n",
      "Epoch 3/15\n",
      "1266/1266 - 4s - loss: 0.5757 - val_loss: 0.5855\n",
      "Epoch 4/15\n",
      "1266/1266 - 6s - loss: 0.5735 - val_loss: 0.5822\n",
      "Epoch 5/15\n",
      "1266/1266 - 4s - loss: 0.5713 - val_loss: 0.5819\n",
      "Epoch 6/15\n",
      "1266/1266 - 5s - loss: 0.5703 - val_loss: 0.5874\n",
      "Epoch 7/15\n",
      "1266/1266 - 3s - loss: 0.5687 - val_loss: 0.5851\n",
      "Epoch 8/15\n",
      "1266/1266 - 3s - loss: 0.5681 - val_loss: 0.5872\n",
      "Epoch 9/15\n",
      "1266/1266 - 3s - loss: 0.5666 - val_loss: 0.5866\n",
      "Epoch 10/15\n",
      "1266/1266 - 5s - loss: 0.5660 - val_loss: 0.5842\n",
      "Epoch 11/15\n",
      "1266/1266 - 7s - loss: 0.5651 - val_loss: 0.5844\n",
      "Epoch 12/15\n",
      "1266/1266 - 3s - loss: 0.5638 - val_loss: 0.5851\n",
      "Epoch 13/15\n",
      "1266/1266 - 3s - loss: 0.5632 - val_loss: 0.5822\n",
      "Epoch 14/15\n",
      "1266/1266 - 3s - loss: 0.5618 - val_loss: 0.5870\n",
      "Epoch 15/15\n",
      "1266/1266 - 4s - loss: 0.5604 - val_loss: 0.5829\n",
      "Model: \"sequential_8\"\n",
      "_________________________________________________________________\n",
      "Layer (type)                 Output Shape              Param #   \n",
      "=================================================================\n",
      "dense_19 (Dense)             (None, 50)                1550      \n",
      "_________________________________________________________________\n",
      "dense_20 (Dense)             (None, 50)                2550      \n",
      "_________________________________________________________________\n",
      "dense_21 (Dense)             (None, 50)                2550      \n",
      "_________________________________________________________________\n",
      "dense_22 (Dense)             (None, 50)                2550      \n",
      "_________________________________________________________________\n",
      "dense_23 (Dense)             (None, 1)                 51        \n",
      "=================================================================\n",
      "Total params: 9,251\n",
      "Trainable params: 9,251\n",
      "Non-trainable params: 0\n",
      "_________________________________________________________________\n",
      "Epoch 1/15\n",
      "1266/1266 - 4s - loss: 0.5970 - val_loss: 0.6082\n",
      "Epoch 2/15\n",
      "1266/1266 - 3s - loss: 0.5805 - val_loss: 0.5911\n",
      "Epoch 3/15\n",
      "1266/1266 - 4s - loss: 0.5770 - val_loss: 0.5845\n",
      "Epoch 4/15\n",
      "1266/1266 - 11s - loss: 0.5738 - val_loss: 0.5804\n",
      "Epoch 5/15\n",
      "1266/1266 - 5s - loss: 0.5732 - val_loss: 0.5840\n",
      "Epoch 6/15\n",
      "1266/1266 - 6s - loss: 0.5710 - val_loss: 0.5904\n",
      "Epoch 7/15\n",
      "1266/1266 - 4s - loss: 0.5692 - val_loss: 0.5831\n",
      "Epoch 8/15\n",
      "1266/1266 - 4s - loss: 0.5686 - val_loss: 0.5802\n",
      "Epoch 9/15\n",
      "1266/1266 - 5s - loss: 0.5671 - val_loss: 0.5826\n",
      "Epoch 10/15\n",
      "1266/1266 - 3s - loss: 0.5658 - val_loss: 0.5829\n",
      "Epoch 11/15\n",
      "1266/1266 - 3s - loss: 0.5642 - val_loss: 0.5842\n",
      "Epoch 12/15\n",
      "1266/1266 - 3s - loss: 0.5637 - val_loss: 0.5780\n",
      "Epoch 13/15\n",
      "1266/1266 - 4s - loss: 0.5624 - val_loss: 0.5839\n",
      "Epoch 14/15\n",
      "1266/1266 - 4s - loss: 0.5616 - val_loss: 0.5824\n",
      "Epoch 15/15\n",
      "1266/1266 - 3s - loss: 0.5602 - val_loss: 0.5854\n",
      "Model: \"sequential_9\"\n",
      "_________________________________________________________________\n",
      "Layer (type)                 Output Shape              Param #   \n",
      "=================================================================\n",
      "dense_24 (Dense)             (None, 10)                310       \n",
      "_________________________________________________________________\n",
      "dense_25 (Dense)             (None, 1)                 11        \n",
      "=================================================================\n",
      "Total params: 321\n",
      "Trainable params: 321\n",
      "Non-trainable params: 0\n",
      "_________________________________________________________________\n",
      "Epoch 1/15\n",
      "1266/1266 - 3s - loss: 0.6249 - val_loss: 0.6045\n",
      "Epoch 2/15\n",
      "1266/1266 - 2s - loss: 0.5933 - val_loss: 0.5969\n",
      "Epoch 3/15\n",
      "1266/1266 - 2s - loss: 0.5878 - val_loss: 0.5947\n",
      "Epoch 4/15\n",
      "1266/1266 - 2s - loss: 0.5851 - val_loss: 0.5928\n",
      "Epoch 5/15\n",
      "1266/1266 - 2s - loss: 0.5834 - val_loss: 0.5905\n",
      "Epoch 6/15\n",
      "1266/1266 - 2s - loss: 0.5823 - val_loss: 0.5895\n",
      "Epoch 7/15\n",
      "1266/1266 - 2s - loss: 0.5811 - val_loss: 0.5907\n",
      "Epoch 8/15\n",
      "1266/1266 - 2s - loss: 0.5801 - val_loss: 0.5894\n",
      "Epoch 9/15\n",
      "1266/1266 - 2s - loss: 0.5793 - val_loss: 0.5890\n",
      "Epoch 10/15\n",
      "1266/1266 - 3s - loss: 0.5787 - val_loss: 0.5904\n",
      "Epoch 11/15\n",
      "1266/1266 - 2s - loss: 0.5781 - val_loss: 0.5880\n",
      "Epoch 12/15\n",
      "1266/1266 - 2s - loss: 0.5775 - val_loss: 0.5877\n",
      "Epoch 13/15\n",
      "1266/1266 - 4s - loss: 0.5772 - val_loss: 0.5870\n",
      "Epoch 14/15\n",
      "1266/1266 - 3s - loss: 0.5764 - val_loss: 0.5861\n",
      "Epoch 15/15\n",
      "1266/1266 - 5s - loss: 0.5767 - val_loss: 0.5858\n",
      "Model: \"sequential_10\"\n",
      "_________________________________________________________________\n",
      "Layer (type)                 Output Shape              Param #   \n",
      "=================================================================\n",
      "dense_26 (Dense)             (None, 20)                620       \n",
      "_________________________________________________________________\n",
      "dense_27 (Dense)             (None, 1)                 21        \n",
      "=================================================================\n",
      "Total params: 641\n",
      "Trainable params: 641\n",
      "Non-trainable params: 0\n",
      "_________________________________________________________________\n",
      "Epoch 1/15\n",
      "1266/1266 - 4s - loss: 0.6160 - val_loss: 0.6003\n",
      "Epoch 2/15\n",
      "1266/1266 - 3s - loss: 0.5902 - val_loss: 0.5938\n",
      "Epoch 3/15\n",
      "1266/1266 - 2s - loss: 0.5847 - val_loss: 0.5895\n",
      "Epoch 4/15\n",
      "1266/1266 - 3s - loss: 0.5820 - val_loss: 0.5874\n",
      "Epoch 5/15\n",
      "1266/1266 - 4s - loss: 0.5801 - val_loss: 0.5843\n",
      "Epoch 6/15\n",
      "1266/1266 - 3s - loss: 0.5786 - val_loss: 0.5833\n",
      "Epoch 7/15\n",
      "1266/1266 - 3s - loss: 0.5770 - val_loss: 0.5857\n",
      "Epoch 8/15\n",
      "1266/1266 - 2s - loss: 0.5757 - val_loss: 0.5859\n",
      "Epoch 9/15\n",
      "1266/1266 - 3s - loss: 0.5747 - val_loss: 0.5851\n",
      "Epoch 10/15\n",
      "1266/1266 - 3s - loss: 0.5739 - val_loss: 0.5832\n",
      "Epoch 11/15\n",
      "1266/1266 - 4s - loss: 0.5731 - val_loss: 0.5809\n",
      "Epoch 12/15\n",
      "1266/1266 - 4s - loss: 0.5722 - val_loss: 0.5835\n",
      "Epoch 13/15\n",
      "1266/1266 - 4s - loss: 0.5719 - val_loss: 0.5808\n",
      "Epoch 14/15\n",
      "1266/1266 - 3s - loss: 0.5714 - val_loss: 0.5817\n",
      "Epoch 15/15\n",
      "1266/1266 - 3s - loss: 0.5706 - val_loss: 0.5804\n",
      "Model: \"sequential_11\"\n",
      "_________________________________________________________________\n",
      "Layer (type)                 Output Shape              Param #   \n",
      "=================================================================\n",
      "dense_28 (Dense)             (None, 100)               3100      \n",
      "_________________________________________________________________\n",
      "dense_29 (Dense)             (None, 1)                 101       \n",
      "=================================================================\n",
      "Total params: 3,201\n",
      "Trainable params: 3,201\n",
      "Non-trainable params: 0\n",
      "_________________________________________________________________\n",
      "Epoch 1/15\n",
      "1266/1266 - 4s - loss: 0.6000 - val_loss: 0.5967\n",
      "Epoch 2/15\n",
      "1266/1266 - 4s - loss: 0.5848 - val_loss: 0.5892\n",
      "Epoch 3/15\n",
      "1266/1266 - 3s - loss: 0.5805 - val_loss: 0.5883\n",
      "Epoch 4/15\n",
      "1266/1266 - 4s - loss: 0.5781 - val_loss: 0.5835\n",
      "Epoch 5/15\n",
      "1266/1266 - 4s - loss: 0.5763 - val_loss: 0.5853\n",
      "Epoch 6/15\n",
      "1266/1266 - 2s - loss: 0.5746 - val_loss: 0.5870\n",
      "Epoch 7/15\n",
      "1266/1266 - 3s - loss: 0.5730 - val_loss: 0.5868\n",
      "Epoch 8/15\n",
      "1266/1266 - 2s - loss: 0.5719 - val_loss: 0.5839\n",
      "Epoch 9/15\n",
      "1266/1266 - 2s - loss: 0.5717 - val_loss: 0.5832\n",
      "Epoch 10/15\n",
      "1266/1266 - 2s - loss: 0.5707 - val_loss: 0.5825\n",
      "Epoch 11/15\n",
      "1266/1266 - 3s - loss: 0.5701 - val_loss: 0.5837\n",
      "Epoch 12/15\n",
      "1266/1266 - 2s - loss: 0.5692 - val_loss: 0.5833\n",
      "Epoch 13/15\n",
      "1266/1266 - 2s - loss: 0.5682 - val_loss: 0.5791\n",
      "Epoch 14/15\n",
      "1266/1266 - 5s - loss: 0.5685 - val_loss: 0.5840\n",
      "Epoch 15/15\n",
      "1266/1266 - 4s - loss: 0.5682 - val_loss: 0.5827\n",
      "Model: \"sequential_12\"\n",
      "_________________________________________________________________\n",
      "Layer (type)                 Output Shape              Param #   \n",
      "=================================================================\n",
      "dense_30 (Dense)             (None, 500)               15500     \n",
      "_________________________________________________________________\n",
      "dense_31 (Dense)             (None, 1)                 501       \n",
      "=================================================================\n",
      "Total params: 16,001\n",
      "Trainable params: 16,001\n",
      "Non-trainable params: 0\n",
      "_________________________________________________________________\n",
      "Epoch 1/15\n",
      "1266/1266 - 5s - loss: 0.5957 - val_loss: 0.5934\n",
      "Epoch 2/15\n",
      "1266/1266 - 4s - loss: 0.5844 - val_loss: 0.5861\n",
      "Epoch 3/15\n",
      "1266/1266 - 4s - loss: 0.5793 - val_loss: 0.5836\n",
      "Epoch 4/15\n",
      "1266/1266 - 4s - loss: 0.5773 - val_loss: 0.5853\n",
      "Epoch 5/15\n",
      "1266/1266 - 3s - loss: 0.5748 - val_loss: 0.5854\n",
      "Epoch 6/15\n",
      "1266/1266 - 3s - loss: 0.5734 - val_loss: 0.5837\n",
      "Epoch 7/15\n",
      "1266/1266 - 4s - loss: 0.5722 - val_loss: 0.5877\n",
      "Epoch 8/15\n",
      "1266/1266 - 4s - loss: 0.5714 - val_loss: 0.5839\n",
      "Epoch 9/15\n",
      "1266/1266 - 3s - loss: 0.5698 - val_loss: 0.5821\n",
      "Epoch 10/15\n",
      "1266/1266 - 3s - loss: 0.5697 - val_loss: 0.5820\n",
      "Epoch 11/15\n",
      "1266/1266 - 3s - loss: 0.5686 - val_loss: 0.5806\n",
      "Epoch 12/15\n",
      "1266/1266 - 3s - loss: 0.5682 - val_loss: 0.5844\n",
      "Epoch 13/15\n",
      "1266/1266 - 3s - loss: 0.5677 - val_loss: 0.5813\n",
      "Epoch 14/15\n",
      "1266/1266 - 3s - loss: 0.5669 - val_loss: 0.5854\n",
      "Epoch 15/15\n",
      "1266/1266 - 3s - loss: 0.5667 - val_loss: 0.5847\n",
      "Model: \"sequential_13\"\n",
      "_________________________________________________________________\n",
      "Layer (type)                 Output Shape              Param #   \n",
      "=================================================================\n",
      "dense_32 (Dense)             (None, 1000)              31000     \n",
      "_________________________________________________________________\n",
      "dense_33 (Dense)             (None, 1)                 1001      \n",
      "=================================================================\n",
      "Total params: 32,001\n",
      "Trainable params: 32,001\n",
      "Non-trainable params: 0\n",
      "_________________________________________________________________\n",
      "Epoch 1/15\n",
      "1266/1266 - 5s - loss: 0.5972 - val_loss: 0.6013\n",
      "Epoch 2/15\n",
      "1266/1266 - 5s - loss: 0.5836 - val_loss: 0.5912\n",
      "Epoch 3/15\n",
      "1266/1266 - 6s - loss: 0.5792 - val_loss: 0.5834\n",
      "Epoch 4/15\n",
      "1266/1266 - 5s - loss: 0.5769 - val_loss: 0.5909\n",
      "Epoch 5/15\n",
      "1266/1266 - 4s - loss: 0.5748 - val_loss: 0.5903\n",
      "Epoch 6/15\n",
      "1266/1266 - 4s - loss: 0.5737 - val_loss: 0.5804\n",
      "Epoch 7/15\n",
      "1266/1266 - 3s - loss: 0.5723 - val_loss: 0.5835\n",
      "Epoch 8/15\n",
      "1266/1266 - 5s - loss: 0.5716 - val_loss: 0.5798\n",
      "Epoch 9/15\n",
      "1266/1266 - 5s - loss: 0.5711 - val_loss: 0.5826\n",
      "Epoch 10/15\n",
      "1266/1266 - 5s - loss: 0.5700 - val_loss: 0.5804\n",
      "Epoch 11/15\n",
      "1266/1266 - 4s - loss: 0.5702 - val_loss: 0.5782\n",
      "Epoch 12/15\n",
      "1266/1266 - 4s - loss: 0.5687 - val_loss: 0.5888\n",
      "Epoch 13/15\n",
      "1266/1266 - 4s - loss: 0.5682 - val_loss: 0.5851\n",
      "Epoch 14/15\n",
      "1266/1266 - 4s - loss: 0.5676 - val_loss: 0.5837\n",
      "Epoch 15/15\n",
      "1266/1266 - 5s - loss: 0.5674 - val_loss: 0.5795\n",
      "Model: \"sequential_14\"\n",
      "_________________________________________________________________\n",
      "Layer (type)                 Output Shape              Param #   \n",
      "=================================================================\n",
      "dense_34 (Dense)             (None, 10000)             310000    \n",
      "_________________________________________________________________\n",
      "dense_35 (Dense)             (None, 1)                 10001     \n",
      "=================================================================\n",
      "Total params: 320,001\n",
      "Trainable params: 320,001\n",
      "Non-trainable params: 0\n",
      "_________________________________________________________________\n",
      "Epoch 1/15\n",
      "1266/1266 - 12s - loss: 0.6008 - val_loss: 0.5918\n",
      "Epoch 2/15\n",
      "1266/1266 - 12s - loss: 0.5882 - val_loss: 0.5893\n",
      "Epoch 3/15\n",
      "1266/1266 - 11s - loss: 0.5835 - val_loss: 0.5874\n",
      "Epoch 4/15\n",
      "1266/1266 - 8s - loss: 0.5813 - val_loss: 0.5865\n",
      "Epoch 5/15\n",
      "1266/1266 - 9s - loss: 0.5803 - val_loss: 0.5830\n",
      "Epoch 6/15\n",
      "1266/1266 - 8s - loss: 0.5787 - val_loss: 0.5853\n",
      "Epoch 7/15\n",
      "1266/1266 - 7s - loss: 0.5778 - val_loss: 0.5817\n",
      "Epoch 8/15\n",
      "1266/1266 - 7s - loss: 0.5771 - val_loss: 0.5819\n",
      "Epoch 9/15\n",
      "1266/1266 - 8s - loss: 0.5763 - val_loss: 0.5820\n",
      "Epoch 10/15\n",
      "1266/1266 - 10s - loss: 0.5765 - val_loss: 0.5835\n",
      "Epoch 11/15\n",
      "1266/1266 - 9s - loss: 0.5743 - val_loss: 0.5839\n",
      "Epoch 12/15\n",
      "1266/1266 - 8s - loss: 0.5737 - val_loss: 0.5934\n",
      "Epoch 13/15\n",
      "1266/1266 - 10s - loss: 0.5721 - val_loss: 0.5923\n",
      "Epoch 14/15\n",
      "1266/1266 - 8s - loss: 0.5719 - val_loss: 0.5900\n",
      "Epoch 15/15\n",
      "1266/1266 - 9s - loss: 0.5716 - val_loss: 0.5880\n"
     ]
    }
   ],
   "source": [
    "for model in archs:\n",
    "    archs[model].summary()\n",
    "    training_histories[model] = archs[model].fit(X_train_scaled, y_train,\n",
    "                                                  validation_split=0.1,\n",
    "                                                  epochs=15,\n",
    "                                                  verbose=2\n",
    "                                                 )"
   ]
  },
  {
   "cell_type": "markdown",
   "metadata": {},
   "source": [
    "Now plot the losses. Because we have so many models we are comparing, I am going to put the training and validation data on different panels."
   ]
  },
  {
   "cell_type": "code",
   "execution_count": 55,
   "metadata": {
    "collapsed": false,
    "jupyter": {
     "outputs_hidden": false
    }
   },
   "outputs": [
    {
     "data": {
      "image/png": "[encoded data removed]",
      "text/plain": [
       "<Figure size 640x320 with 2 Axes>"
      ]
     },
     "metadata": {
      "needs_background": "light"
     },
     "output_type": "display_data"
    }
   ],
   "source": [
    "plt.figure(figsize=(8, 4))\n",
    "for i, model in enumerate(archs):\n",
    "    if i > 3:\n",
    "        myls = '--'\n",
    "    else:\n",
    "        myls = '-'\n",
    "    color = 'C{0}'.format(i)\n",
    "    ax1 = plt.subplot(1, 2, 1)\n",
    "    plt.plot(training_histories[model].history['loss'], color=color, ls=myls)\n",
    "    plt.title('Training')\n",
    "    plt.ylabel('Loss')\n",
    "    plt.xlabel('Epoch')\n",
    "    \n",
    "    ax2 = plt.subplot(1, 2, 2, sharey=ax1)\n",
    "    plt.plot(training_histories[model].history['val_loss'], color=color, label=model, ls=myls)\n",
    "    plt.legend(loc=(1.05, 0.1))\n",
    "    plt.title('Validation')\n",
    "    plt.ylabel('Loss')\n",
    "    plt.xlabel('Epoch')\n",
    "    \n",
    "plt.show()"
   ]
  },
  {
   "cell_type": "markdown",
   "metadata": {},
   "source": [
    "The shallow but wide networks are shown with dashed lines. The models which do best on the *training* data are the deep networks. Again, all of the networks are having a problem genralizing, which could be fixed with more data or attempts to regularlize.\n",
    "\n",
    "Now compute the test metrics"
   ]
  },
  {
   "cell_type": "code",
   "execution_count": 56,
   "metadata": {},
   "outputs": [],
   "source": [
    "preds_archs = {}\n",
    "fpr_archs = {}\n",
    "tpr_archs = {}\n",
    "thresholds_archs = {}\n",
    "auc_archs = {}\n",
    "working_point_archs = {}\n",
    "\n",
    "for model in archs:\n",
    "    preds_archs[model] = archs[model].predict(X_test_scaled)\n",
    "    fpr_archs[model], tpr_archs[model], thresholds_archs[model] = roc_curve(y_true=y_test,\n",
    "                                                                            y_score=preds_archs[model])\n",
    "    auc_archs[model] = auc(fpr_archs[model], tpr_archs[model])\n",
    "    \n",
    "    background_eff = interp1d(tpr_archs[model], fpr_archs[model])\n",
    "    working_point_archs[model] = background_eff(0.5)"
   ]
  },
  {
   "cell_type": "code",
   "execution_count": 57,
   "metadata": {
    "collapsed": false,
    "jupyter": {
     "outputs_hidden": false
    }
   },
   "outputs": [
    {
     "name": "stderr",
     "output_type": "stream",
     "text": [
      "/tmp/ipykernel_2589/2241385385.py:6: RuntimeWarning: divide by zero encountered in true_divide\n",
      "  plt.plot(tpr_archs[model], 1/fpr_archs[model], label=model, ls=myls)\n",
      "/tmp/ipykernel_2589/2241385385.py:6: RuntimeWarning: divide by zero encountered in true_divide\n",
      "  plt.plot(tpr_archs[model], 1/fpr_archs[model], label=model, ls=myls)\n",
      "/tmp/ipykernel_2589/2241385385.py:6: RuntimeWarning: divide by zero encountered in true_divide\n",
      "  plt.plot(tpr_archs[model], 1/fpr_archs[model], label=model, ls=myls)\n",
      "/tmp/ipykernel_2589/2241385385.py:6: RuntimeWarning: divide by zero encountered in true_divide\n",
      "  plt.plot(tpr_archs[model], 1/fpr_archs[model], label=model, ls=myls)\n",
      "/tmp/ipykernel_2589/2241385385.py:6: RuntimeWarning: divide by zero encountered in true_divide\n",
      "  plt.plot(tpr_archs[model], 1/fpr_archs[model], label=model, ls=myls)\n",
      "/tmp/ipykernel_2589/2241385385.py:6: RuntimeWarning: divide by zero encountered in true_divide\n",
      "  plt.plot(tpr_archs[model], 1/fpr_archs[model], label=model, ls=myls)\n",
      "/tmp/ipykernel_2589/2241385385.py:6: RuntimeWarning: divide by zero encountered in true_divide\n",
      "  plt.plot(tpr_archs[model], 1/fpr_archs[model], label=model, ls=myls)\n",
      "/tmp/ipykernel_2589/2241385385.py:6: RuntimeWarning: divide by zero encountered in true_divide\n",
      "  plt.plot(tpr_archs[model], 1/fpr_archs[model], label=model, ls=myls)\n",
      "/tmp/ipykernel_2589/2241385385.py:6: RuntimeWarning: divide by zero encountered in true_divide\n",
      "  plt.plot(tpr_archs[model], 1/fpr_archs[model], label=model, ls=myls)\n",
      "/tmp/ipykernel_2589/2241385385.py:6: RuntimeWarning: divide by zero encountered in true_divide\n",
      "  plt.plot(tpr_archs[model], 1/fpr_archs[model], label=model, ls=myls)\n"
     ]
    },
    {
     "name": "stdout",
     "output_type": "stream",
     "text": [
      "D50D1: 1/ e_B at a fixed e_S=0.5: 7.383\n",
      "\t\tAUC=0.768\n",
      "D50D50D1: 1/ e_B at a fixed e_S=0.5: 7.093\n",
      "\t\tAUC=0.765\n",
      "D50D50D50D1: 1/ e_B at a fixed e_S=0.5: 7.817\n",
      "\t\tAUC=0.768\n",
      "D50D50D50D50D1: 1/ e_B at a fixed e_S=0.5: 7.628\n",
      "\t\tAUC=0.770\n",
      "D10D1: 1/ e_B at a fixed e_S=0.5: 7.014\n",
      "\t\tAUC=0.765\n",
      "D20D1: 1/ e_B at a fixed e_S=0.5: 7.153\n",
      "\t\tAUC=0.771\n",
      "D100D1: 1/ e_B at a fixed e_S=0.5: 7.256\n",
      "\t\tAUC=0.767\n",
      "D500D1: 1/ e_B at a fixed e_S=0.5: 7.605\n",
      "\t\tAUC=0.770\n",
      "D1000D1: 1/ e_B at a fixed e_S=0.5: 7.277\n",
      "\t\tAUC=0.770\n",
      "D10000D1: 1/ e_B at a fixed e_S=0.5: 7.405\n",
      "\t\tAUC=0.766\n"
     ]
    },
    {
     "data": {
      "image/png": "[encoded data removed]",
      "text/plain": [
       "<Figure size 240x240 with 1 Axes>"
      ]
     },
     "metadata": {
      "needs_background": "light"
     },
     "output_type": "display_data"
    }
   ],
   "source": [
    "for i, model in enumerate(archs):\n",
    "    if i > 3:\n",
    "        myls = '--'\n",
    "    else:\n",
    "        myls = '-'\n",
    "    plt.plot(tpr_archs[model], 1/fpr_archs[model], label=model, ls=myls)\n",
    "    print(model + ': 1/ e_B at a fixed e_S=0.5' + ': {0:.3f}'.format(1/working_point_archs[model])),\n",
    "    print('\\t\\tAUC={0:.3f}'.format(auc_archs[model]))\n",
    "plt.ylabel('$1/\\epsilon_B$')\n",
    "plt.xlabel('$\\epsilon_S$')\n",
    "plt.yscale('log')\n",
    "plt.xlim(0, 1)\n",
    "plt.legend(loc=(1.05,0.), frameon=False)\n",
    "plt.show()"
   ]
  },
  {
   "cell_type": "markdown",
   "metadata": {},
   "source": [
    "Note that there is still not much difference in the results. This is, again, in part due to the size of our samples. \n",
    "Currently, these metrics would suggest using the model which is wider, rather than deeper. However, we should really run things many times and average over our results. I wouldn't actually think these difference are statistically meaningfull at this point. If you results are different than mine, it wouldn't surprise me."
   ]
  },
  {
   "cell_type": "markdown",
   "metadata": {},
   "source": [
    "## Longer training\n",
    "As we looked at the loss histories, we see that the models are sill improving. This implies that we should not have stopped training. How do we know how many epochs to use?\n",
    "\n",
    "One way to do the is to watch the validation loss. If it has stopped improving, we can lower the learning rate so that smaller steps are taken. If we do this a couple of times, we should get a very descent classifier.\n",
    "Look up `keras.callbacks.EarlyStopping` and `keras.callbacks.ReduceLROnPlateau`. We are also going to explicity load the Adam optimizer and tell it the learning rate to start at."
   ]
  },
  {
   "cell_type": "code",
   "execution_count": 59,
   "metadata": {},
   "outputs": [],
   "source": [
    "from keras.callbacks import EarlyStopping, ReduceLROnPlateau\n",
    "from tensorflow.keras.optimizers import Adam"
   ]
  },
  {
   "cell_type": "code",
   "execution_count": 60,
   "metadata": {},
   "outputs": [
    {
     "data": {
      "text/plain": [
       "\u001b[0;31mInit signature:\u001b[0m\n",
       "\u001b[0mEarlyStopping\u001b[0m\u001b[0;34m(\u001b[0m\u001b[0;34m\u001b[0m\n",
       "\u001b[0;34m\u001b[0m    \u001b[0mmonitor\u001b[0m\u001b[0;34m=\u001b[0m\u001b[0;34m'val_loss'\u001b[0m\u001b[0;34m,\u001b[0m\u001b[0;34m\u001b[0m\n",
       "\u001b[0;34m\u001b[0m    \u001b[0mmin_delta\u001b[0m\u001b[0;34m=\u001b[0m\u001b[0;36m0\u001b[0m\u001b[0;34m,\u001b[0m\u001b[0;34m\u001b[0m\n",
       "\u001b[0;34m\u001b[0m    \u001b[0mpatience\u001b[0m\u001b[0;34m=\u001b[0m\u001b[0;36m0\u001b[0m\u001b[0;34m,\u001b[0m\u001b[0;34m\u001b[0m\n",
       "\u001b[0;34m\u001b[0m    \u001b[0mverbose\u001b[0m\u001b[0;34m=\u001b[0m\u001b[0;36m0\u001b[0m\u001b[0;34m,\u001b[0m\u001b[0;34m\u001b[0m\n",
       "\u001b[0;34m\u001b[0m    \u001b[0mmode\u001b[0m\u001b[0;34m=\u001b[0m\u001b[0;34m'auto'\u001b[0m\u001b[0;34m,\u001b[0m\u001b[0;34m\u001b[0m\n",
       "\u001b[0;34m\u001b[0m    \u001b[0mbaseline\u001b[0m\u001b[0;34m=\u001b[0m\u001b[0;32mNone\u001b[0m\u001b[0;34m,\u001b[0m\u001b[0;34m\u001b[0m\n",
       "\u001b[0;34m\u001b[0m    \u001b[0mrestore_best_weights\u001b[0m\u001b[0;34m=\u001b[0m\u001b[0;32mFalse\u001b[0m\u001b[0;34m,\u001b[0m\u001b[0;34m\u001b[0m\n",
       "\u001b[0;34m\u001b[0m\u001b[0;34m)\u001b[0m\u001b[0;34m\u001b[0m\u001b[0;34m\u001b[0m\u001b[0m\n",
       "\u001b[0;31mDocstring:\u001b[0m     \n",
       "Stop training when a monitored metric has stopped improving.\n",
       "\n",
       "Assuming the goal of a training is to minimize the loss. With this, the\n",
       "metric to be monitored would be `'loss'`, and mode would be `'min'`. A\n",
       "`model.fit()` training loop will check at end of every epoch whether\n",
       "the loss is no longer decreasing, considering the `min_delta` and\n",
       "`patience` if applicable. Once it's found no longer decreasing,\n",
       "`model.stop_training` is marked True and the training terminates.\n",
       "\n",
       "The quantity to be monitored needs to be available in `logs` dict.\n",
       "To make it so, pass the loss or metrics at `model.compile()`.\n",
       "\n",
       "Args:\n",
       "  monitor: Quantity to be monitored.\n",
       "  min_delta: Minimum change in the monitored quantity\n",
       "      to qualify as an improvement, i.e. an absolute\n",
       "      change of less than min_delta, will count as no\n",
       "      improvement.\n",
       "  patience: Number of epochs with no improvement\n",
       "      after which training will be stopped.\n",
       "  verbose: verbosity mode.\n",
       "  mode: One of `{\"auto\", \"min\", \"max\"}`. In `min` mode,\n",
       "      training will stop when the quantity\n",
       "      monitored has stopped decreasing; in `\"max\"`\n",
       "      mode it will stop when the quantity\n",
       "      monitored has stopped increasing; in `\"auto\"`\n",
       "      mode, the direction is automatically inferred\n",
       "      from the name of the monitored quantity.\n",
       "  baseline: Baseline value for the monitored quantity.\n",
       "      Training will stop if the model doesn't show improvement over the\n",
       "      baseline.\n",
       "  restore_best_weights: Whether to restore model weights from\n",
       "      the epoch with the best value of the monitored quantity.\n",
       "      If False, the model weights obtained at the last step of\n",
       "      training are used. An epoch will be restored regardless\n",
       "      of the performance relative to the `baseline`. If no epoch\n",
       "      improves on `baseline`, training will run for `patience`\n",
       "      epochs and restore weights from the best epoch in that set.\n",
       "\n",
       "Example:\n",
       "\n",
       ">>> callback = tf.keras.callbacks.EarlyStopping(monitor='loss', patience=3)\n",
       ">>> # This callback will stop the training when there is no improvement in\n",
       ">>> # the loss for three consecutive epochs.\n",
       ">>> model = tf.keras.models.Sequential([tf.keras.layers.Dense(10)])\n",
       ">>> model.compile(tf.keras.optimizers.SGD(), loss='mse')\n",
       ">>> history = model.fit(np.arange(100).reshape(5, 20), np.zeros(5),\n",
       "...                     epochs=10, batch_size=1, callbacks=[callback],\n",
       "...                     verbose=0)\n",
       ">>> len(history.history['loss'])  # Only 4 epochs are run.\n",
       "4\n",
       "\u001b[0;31mFile:\u001b[0m           /opt/conda/lib/python3.9/site-packages/keras/callbacks.py\n",
       "\u001b[0;31mType:\u001b[0m           type\n",
       "\u001b[0;31mSubclasses:\u001b[0m     \n"
      ]
     },
     "metadata": {},
     "output_type": "display_data"
    }
   ],
   "source": [
    "EarlyStopping?"
   ]
  },
  {
   "cell_type": "code",
   "execution_count": 61,
   "metadata": {},
   "outputs": [
    {
     "data": {
      "text/plain": [
       "\u001b[0;31mInit signature:\u001b[0m\n",
       "\u001b[0mReduceLROnPlateau\u001b[0m\u001b[0;34m(\u001b[0m\u001b[0;34m\u001b[0m\n",
       "\u001b[0;34m\u001b[0m    \u001b[0mmonitor\u001b[0m\u001b[0;34m=\u001b[0m\u001b[0;34m'val_loss'\u001b[0m\u001b[0;34m,\u001b[0m\u001b[0;34m\u001b[0m\n",
       "\u001b[0;34m\u001b[0m    \u001b[0mfactor\u001b[0m\u001b[0;34m=\u001b[0m\u001b[0;36m0.1\u001b[0m\u001b[0;34m,\u001b[0m\u001b[0;34m\u001b[0m\n",
       "\u001b[0;34m\u001b[0m    \u001b[0mpatience\u001b[0m\u001b[0;34m=\u001b[0m\u001b[0;36m10\u001b[0m\u001b[0;34m,\u001b[0m\u001b[0;34m\u001b[0m\n",
       "\u001b[0;34m\u001b[0m    \u001b[0mverbose\u001b[0m\u001b[0;34m=\u001b[0m\u001b[0;36m0\u001b[0m\u001b[0;34m,\u001b[0m\u001b[0;34m\u001b[0m\n",
       "\u001b[0;34m\u001b[0m    \u001b[0mmode\u001b[0m\u001b[0;34m=\u001b[0m\u001b[0;34m'auto'\u001b[0m\u001b[0;34m,\u001b[0m\u001b[0;34m\u001b[0m\n",
       "\u001b[0;34m\u001b[0m    \u001b[0mmin_delta\u001b[0m\u001b[0;34m=\u001b[0m\u001b[0;36m0.0001\u001b[0m\u001b[0;34m,\u001b[0m\u001b[0;34m\u001b[0m\n",
       "\u001b[0;34m\u001b[0m    \u001b[0mcooldown\u001b[0m\u001b[0;34m=\u001b[0m\u001b[0;36m0\u001b[0m\u001b[0;34m,\u001b[0m\u001b[0;34m\u001b[0m\n",
       "\u001b[0;34m\u001b[0m    \u001b[0mmin_lr\u001b[0m\u001b[0;34m=\u001b[0m\u001b[0;36m0\u001b[0m\u001b[0;34m,\u001b[0m\u001b[0;34m\u001b[0m\n",
       "\u001b[0;34m\u001b[0m    \u001b[0;34m**\u001b[0m\u001b[0mkwargs\u001b[0m\u001b[0;34m,\u001b[0m\u001b[0;34m\u001b[0m\n",
       "\u001b[0;34m\u001b[0m\u001b[0;34m)\u001b[0m\u001b[0;34m\u001b[0m\u001b[0;34m\u001b[0m\u001b[0m\n",
       "\u001b[0;31mDocstring:\u001b[0m     \n",
       "Reduce learning rate when a metric has stopped improving.\n",
       "\n",
       "Models often benefit from reducing the learning rate by a factor\n",
       "of 2-10 once learning stagnates. This callback monitors a\n",
       "quantity and if no improvement is seen for a 'patience' number\n",
       "of epochs, the learning rate is reduced.\n",
       "\n",
       "Example:\n",
       "\n",
       "```python\n",
       "reduce_lr = ReduceLROnPlateau(monitor='val_loss', factor=0.2,\n",
       "                              patience=5, min_lr=0.001)\n",
       "model.fit(X_train, Y_train, callbacks=[reduce_lr])\n",
       "```\n",
       "\n",
       "Args:\n",
       "    monitor: quantity to be monitored.\n",
       "    factor: factor by which the learning rate will be reduced.\n",
       "      `new_lr = lr * factor`.\n",
       "    patience: number of epochs with no improvement after which learning rate\n",
       "      will be reduced.\n",
       "    verbose: int. 0: quiet, 1: update messages.\n",
       "    mode: one of `{'auto', 'min', 'max'}`. In `'min'` mode,\n",
       "      the learning rate will be reduced when the\n",
       "      quantity monitored has stopped decreasing; in `'max'` mode it will be\n",
       "      reduced when the quantity monitored has stopped increasing; in `'auto'`\n",
       "      mode, the direction is automatically inferred from the name of the\n",
       "      monitored quantity.\n",
       "    min_delta: threshold for measuring the new optimum, to only focus on\n",
       "      significant changes.\n",
       "    cooldown: number of epochs to wait before resuming normal operation after\n",
       "      lr has been reduced.\n",
       "    min_lr: lower bound on the learning rate.\n",
       "\u001b[0;31mFile:\u001b[0m           /opt/conda/lib/python3.9/site-packages/keras/callbacks.py\n",
       "\u001b[0;31mType:\u001b[0m           type\n",
       "\u001b[0;31mSubclasses:\u001b[0m     \n"
      ]
     },
     "metadata": {},
     "output_type": "display_data"
    }
   ],
   "source": [
    "ReduceLROnPlateau?"
   ]
  },
  {
   "cell_type": "code",
   "execution_count": 62,
   "metadata": {
    "collapsed": false,
    "jupyter": {
     "outputs_hidden": false
    }
   },
   "outputs": [],
   "source": [
    "es = EarlyStopping(patience=15,                # If the validation loss has not improved for 15 epochs, stop training\n",
    "                   restore_best_weights=True,  # When we stop, go back to when it generalized to the validation data the best\n",
    "                   verbose=1)\n",
    "\n",
    "reduce_rate = ReduceLROnPlateau(patience=5, # If the validation loss has not improved for 5 epochs, lower the rate\n",
    "                                factor=0.5, # cut the rate in half\n",
    "                                verbose=1,  # Tell us when this happens\n",
    "                                min_lr=1e-5 # If the learning rate is too small, the updates don't do very much\n",
    "                               )\n",
    "my_callbacks = [es, reduce_rate]"
   ]
  },
  {
   "cell_type": "markdown",
   "metadata": {},
   "source": [
    "Pick your favorite model from above. Add that to the dictionary with a name of 'Final'. "
   ]
  },
  {
   "cell_type": "code",
   "execution_count": 64,
   "metadata": {},
   "outputs": [],
   "source": [
    "### Enter code here ###\n",
    "tmp_model = Sequential()\n",
    "tmp_model.add(Dense(50, input_dim=X_train.shape[1], activation='relu'))\n",
    "tmp_model.add(Dense(50, activation='relu'))\n",
    "tmp_model.add(Dense(50, activation='relu'))\n",
    "tmp_model.add(Dense(50, activation='relu'))\n",
    "tmp_model.add(Dense(1, activation='sigmoid'))\n",
    "### End code here ###\n",
    "\n",
    "# Now we compile, where we tell Adam where to start at.\n",
    "tmp_model.compile(loss='binary_crossentropy', optimizer=Adam(learning_rate=1e-3))\n",
    "archs['EarlyStopping'] = tmp_model "
   ]
  },
  {
   "cell_type": "code",
   "execution_count": 65,
   "metadata": {
    "collapsed": false,
    "jupyter": {
     "outputs_hidden": false
    }
   },
   "outputs": [
    {
     "name": "stdout",
     "output_type": "stream",
     "text": [
      "Epoch 1/200\n",
      "1266/1266 [==============================] - 6s 4ms/step - loss: 0.6258 - val_loss: 0.6095\n",
      "Epoch 2/200\n",
      "1266/1266 [==============================] - 6s 5ms/step - loss: 0.6051 - val_loss: 0.6095\n",
      "Epoch 3/200\n",
      "1266/1266 [==============================] - 10s 8ms/step - loss: 0.5987 - val_loss: 0.5955\n",
      "Epoch 4/200\n",
      "1266/1266 [==============================] - 8s 6ms/step - loss: 0.5916 - val_loss: 0.5926\n",
      "Epoch 5/200\n",
      "1266/1266 [==============================] - 4s 3ms/step - loss: 0.5897 - val_loss: 0.5920\n",
      "Epoch 6/200\n",
      "1266/1266 [==============================] - 4s 3ms/step - loss: 0.5857 - val_loss: 0.5963\n",
      "Epoch 7/200\n",
      "1266/1266 [==============================] - 5s 4ms/step - loss: 0.5835 - val_loss: 0.5861\n",
      "Epoch 8/200\n",
      "1266/1266 [==============================] - 4s 3ms/step - loss: 0.5815 - val_loss: 0.5854\n",
      "Epoch 9/200\n",
      "1266/1266 [==============================] - 5s 4ms/step - loss: 0.5809 - val_loss: 0.5844\n",
      "Epoch 10/200\n",
      "1266/1266 [==============================] - 5s 4ms/step - loss: 0.5789 - val_loss: 0.5839\n",
      "Epoch 11/200\n",
      "1266/1266 [==============================] - 4s 3ms/step - loss: 0.5782 - val_loss: 0.5821\n",
      "Epoch 12/200\n",
      "1266/1266 [==============================] - 7s 5ms/step - loss: 0.5773 - val_loss: 0.5822\n",
      "Epoch 13/200\n",
      "1266/1266 [==============================] - 5s 4ms/step - loss: 0.5757 - val_loss: 0.5873\n",
      "Epoch 14/200\n",
      "1266/1266 [==============================] - 6s 5ms/step - loss: 0.5757 - val_loss: 0.5821\n",
      "Epoch 15/200\n",
      "1266/1266 [==============================] - 6s 5ms/step - loss: 0.5746 - val_loss: 0.5864\n",
      "Epoch 16/200\n",
      "1266/1266 [==============================] - 6s 5ms/step - loss: 0.5753 - val_loss: 0.5837\n",
      "\n",
      "Epoch 00016: ReduceLROnPlateau reducing learning rate to 0.0005000000237487257.\n",
      "Epoch 17/200\n",
      "1266/1266 [==============================] - 5s 4ms/step - loss: 0.5698 - val_loss: 0.5817\n",
      "Epoch 18/200\n",
      "1266/1266 [==============================] - 7s 5ms/step - loss: 0.5696 - val_loss: 0.5887\n",
      "Epoch 19/200\n",
      "1266/1266 [==============================] - 7s 5ms/step - loss: 0.5686 - val_loss: 0.5843\n",
      "Epoch 20/200\n",
      "1266/1266 [==============================] - 5s 4ms/step - loss: 0.5680 - val_loss: 0.5842\n",
      "Epoch 21/200\n",
      "1266/1266 [==============================] - 6s 5ms/step - loss: 0.5679 - val_loss: 0.5830\n",
      "Epoch 22/200\n",
      "1266/1266 [==============================] - 5s 4ms/step - loss: 0.5675 - val_loss: 0.5831\n",
      "\n",
      "Epoch 00022: ReduceLROnPlateau reducing learning rate to 0.0002500000118743628.\n",
      "Epoch 23/200\n",
      "1266/1266 [==============================] - 4s 3ms/step - loss: 0.5639 - val_loss: 0.5840\n",
      "Epoch 24/200\n",
      "1266/1266 [==============================] - 6s 5ms/step - loss: 0.5632 - val_loss: 0.5835\n",
      "Epoch 25/200\n",
      "1266/1266 [==============================] - 10s 8ms/step - loss: 0.5630 - val_loss: 0.5846\n",
      "Epoch 26/200\n",
      "1266/1266 [==============================] - 5s 4ms/step - loss: 0.5623 - val_loss: 0.5839\n",
      "Epoch 27/200\n",
      "1266/1266 [==============================] - 4s 3ms/step - loss: 0.5617 - val_loss: 0.5855\n",
      "\n",
      "Epoch 00027: ReduceLROnPlateau reducing learning rate to 0.0001250000059371814.\n",
      "Epoch 28/200\n",
      "1266/1266 [==============================] - 4s 3ms/step - loss: 0.5597 - val_loss: 0.5871\n",
      "Epoch 29/200\n",
      "1266/1266 [==============================] - 4s 3ms/step - loss: 0.5593 - val_loss: 0.5864\n",
      "Epoch 30/200\n",
      "1266/1266 [==============================] - 4s 4ms/step - loss: 0.5587 - val_loss: 0.5888\n",
      "Epoch 31/200\n",
      "1266/1266 [==============================] - 4s 3ms/step - loss: 0.5588 - val_loss: 0.5897\n",
      "Epoch 32/200\n",
      "1266/1266 [==============================] - 4s 3ms/step - loss: 0.5585 - val_loss: 0.5897\n",
      "Restoring model weights from the end of the best epoch.\n",
      "\n",
      "Epoch 00032: ReduceLROnPlateau reducing learning rate to 6.25000029685907e-05.\n",
      "Epoch 00032: early stopping\n"
     ]
    }
   ],
   "source": [
    "training_histories['EarlyStopping'] = archs['EarlyStopping'].fit(X_train, y_train,\n",
    "                                                                 validation_split=0.1,\n",
    "                                                                 epochs=200,\n",
    "                                                                 callbacks=my_callbacks,\n",
    "                                                                 verbose=1\n",
    "                                                                )"
   ]
  },
  {
   "cell_type": "code",
   "execution_count": 66,
   "metadata": {
    "collapsed": false,
    "jupyter": {
     "outputs_hidden": false
    }
   },
   "outputs": [
    {
     "data": {
      "text/plain": [
       "<matplotlib.legend.Legend at 0x7f0225413370>"
      ]
     },
     "execution_count": 66,
     "metadata": {},
     "output_type": "execute_result"
    },
    {
     "data": {
      "image/png": "[encoded data removed]",
      "text/plain": [
       "<Figure size 240x240 with 1 Axes>"
      ]
     },
     "metadata": {
      "needs_background": "light"
     },
     "output_type": "display_data"
    }
   ],
   "source": [
    "plt.plot(training_histories['EarlyStopping'].history['loss'], color='C0', label='Final')\n",
    "plt.plot(training_histories['EarlyStopping'].history['val_loss'], color='C0', ls=':')\n",
    "plt.legend(loc=(1.05, 0.1))"
   ]
  },
  {
   "cell_type": "code",
   "execution_count": 67,
   "metadata": {},
   "outputs": [],
   "source": [
    "for model in ['EarlyStopping']:\n",
    "    preds_archs[model] = archs[model].predict(X_test)\n",
    "    fpr_archs[model], tpr_archs[model], thresholds_archs[model] = roc_curve(y_true=y_test,\n",
    "                                                                            y_score=preds_archs[model])\n",
    "    auc_archs[model] = auc(fpr_archs[model], tpr_archs[model])\n",
    "    \n",
    "    background_eff = interp1d(tpr_archs[model], fpr_archs[model])\n",
    "    working_point_archs[model] = background_eff(0.5)"
   ]
  },
  {
   "cell_type": "markdown",
   "metadata": {},
   "source": [
    "Now lets compare the the model with a short train time. Add the string name of your model to the array."
   ]
  },
  {
   "cell_type": "code",
   "execution_count": 68,
   "metadata": {},
   "outputs": [],
   "source": [
    "my_compare = ['D50D50D50D50D1',  # put your model comparison name in here\n",
    "              'EarlyStopping']"
   ]
  },
  {
   "cell_type": "code",
   "execution_count": 69,
   "metadata": {
    "collapsed": false,
    "jupyter": {
     "outputs_hidden": false
    }
   },
   "outputs": [
    {
     "name": "stderr",
     "output_type": "stream",
     "text": [
      "/tmp/ipykernel_2589/1228150309.py:2: RuntimeWarning: divide by zero encountered in true_divide\n",
      "  plt.plot(tpr_archs[model], 1/fpr_archs[model], label=model)\n",
      "/tmp/ipykernel_2589/1228150309.py:2: RuntimeWarning: divide by zero encountered in true_divide\n",
      "  plt.plot(tpr_archs[model], 1/fpr_archs[model], label=model)\n"
     ]
    },
    {
     "name": "stdout",
     "output_type": "stream",
     "text": [
      "D50D50D50D50D1: 1/ e_B at a fixed e_S=0.5: 7.63\n",
      "D50D50D50D50D1: AUC=7.701e-01\n",
      "\n",
      "EarlyStopping: 1/ e_B at a fixed e_S=0.5: 7.09\n",
      "EarlyStopping: AUC=7.697e-01\n",
      "\n"
     ]
    },
    {
     "data": {
      "image/png": "[encoded data removed]",
      "text/plain": [
       "<Figure size 240x240 with 1 Axes>"
      ]
     },
     "metadata": {
      "needs_background": "light"
     },
     "output_type": "display_data"
    }
   ],
   "source": [
    "for model in my_compare:\n",
    "    plt.plot(tpr_archs[model], 1/fpr_archs[model], label=model)\n",
    "    print(model + ': 1/ e_B at a fixed e_S=0.5' + ': {0:.2f}'.format(1 / working_point_archs[model]))\n",
    "    print(model + ': AUC=' + '{0:.3e}'.format(auc_archs[model]))\n",
    "    print('')\n",
    "plt.ylabel('$1/\\epsilon_B$')\n",
    "plt.xlabel('$\\epsilon_S$')\n",
    "plt.yscale('log')\n",
    "plt.xlim(0, 1)\n",
    "plt.legend(loc=(1.05,0.3), frameon=False)\n",
    "plt.show()\n"
   ]
  },
  {
   "cell_type": "markdown",
   "metadata": {},
   "source": [
    "This again makes it look like training longer is not helping, but this is coming from our over fitting of the data. It is time to reugularize our network!\n",
    "\n",
    "## Regularize the network\n",
    "One way of regularizing is to add a term to the loss function which is propotional to the each parameter (or weight), or the parameter squared. Then the gradient of the whole loss function wants to drive the weights to smaller values. It isn't intuitive, but this helps it to not make large weights just to fit specific events, but it has to work on a more broad set of features.\n",
    "\n",
    "The other method, which is becoming much more popuar, is dropout. In the training step, we randomly remove some of the connections between nodes. This makes some of the pathways between the input and the output stop. Each time we update the network, the dropped out connections are randomly chosen. This again makes it generalize. This adds a hyperparameter to the model (the rate at which we randomly drop connections)."
   ]
  },
  {
   "cell_type": "code",
   "execution_count": 70,
   "metadata": {},
   "outputs": [],
   "source": [
    "from keras.layers import Dropout"
   ]
  },
  {
   "cell_type": "code",
   "execution_count": 71,
   "metadata": {
    "collapsed": false,
    "jupyter": {
     "outputs_hidden": false
    }
   },
   "outputs": [
    {
     "name": "stderr",
     "output_type": "stream",
     "text": [
      "/opt/conda/lib/python3.9/site-packages/keras/optimizer_v2/optimizer_v2.py:355: UserWarning: The `lr` argument is deprecated, use `learning_rate` instead.\n",
      "  warnings.warn(\n"
     ]
    },
    {
     "name": "stdout",
     "output_type": "stream",
     "text": [
      "Model: \"sequential_17\"\n",
      "_________________________________________________________________\n",
      "Layer (type)                 Output Shape              Param #   \n",
      "=================================================================\n",
      "dense_46 (Dense)             (None, 50)                1550      \n",
      "_________________________________________________________________\n",
      "dropout (Dropout)            (None, 50)                0         \n",
      "_________________________________________________________________\n",
      "dense_47 (Dense)             (None, 50)                2550      \n",
      "_________________________________________________________________\n",
      "dropout_1 (Dropout)          (None, 50)                0         \n",
      "_________________________________________________________________\n",
      "dense_48 (Dense)             (None, 50)                2550      \n",
      "_________________________________________________________________\n",
      "dropout_2 (Dropout)          (None, 50)                0         \n",
      "_________________________________________________________________\n",
      "dense_49 (Dense)             (None, 50)                2550      \n",
      "_________________________________________________________________\n",
      "dropout_3 (Dropout)          (None, 50)                0         \n",
      "_________________________________________________________________\n",
      "dense_50 (Dense)             (None, 1)                 51        \n",
      "=================================================================\n",
      "Total params: 9,251\n",
      "Trainable params: 9,251\n",
      "Non-trainable params: 0\n",
      "_________________________________________________________________\n",
      "Epoch 1/100\n",
      "1266/1266 [==============================] - 6s 4ms/step - loss: 0.6786 - val_loss: 0.6370\n",
      "Epoch 2/100\n",
      "1266/1266 [==============================] - 5s 4ms/step - loss: 0.6322 - val_loss: 0.6144\n",
      "Epoch 3/100\n",
      "1266/1266 [==============================] - 5s 4ms/step - loss: 0.6191 - val_loss: 0.6127\n",
      "Epoch 4/100\n",
      "1266/1266 [==============================] - 5s 4ms/step - loss: 0.6126 - val_loss: 0.6073\n",
      "Epoch 5/100\n",
      "1266/1266 [==============================] - 7s 6ms/step - loss: 0.6096 - val_loss: 0.6060\n",
      "Epoch 6/100\n",
      "1266/1266 [==============================] - 5s 4ms/step - loss: 0.6053 - val_loss: 0.6011\n",
      "Epoch 7/100\n",
      "1266/1266 [==============================] - 5s 4ms/step - loss: 0.6031 - val_loss: 0.5961\n",
      "Epoch 8/100\n",
      "1266/1266 [==============================] - 5s 4ms/step - loss: 0.6002 - val_loss: 0.5988\n",
      "Epoch 9/100\n",
      "1266/1266 [==============================] - 9s 7ms/step - loss: 0.6016 - val_loss: 0.5937\n",
      "Epoch 10/100\n",
      "1266/1266 [==============================] - 6s 5ms/step - loss: 0.6013 - val_loss: 0.5932\n",
      "Epoch 11/100\n",
      "1266/1266 [==============================] - 5s 4ms/step - loss: 0.5986 - val_loss: 0.5993\n",
      "Epoch 12/100\n",
      "1266/1266 [==============================] - 4s 3ms/step - loss: 0.5984 - val_loss: 0.5935\n",
      "Epoch 13/100\n",
      "1266/1266 [==============================] - 5s 4ms/step - loss: 0.5993 - val_loss: 0.5942\n",
      "Epoch 14/100\n",
      "1266/1266 [==============================] - 5s 4ms/step - loss: 0.5983 - val_loss: 0.5950\n",
      "Epoch 15/100\n",
      "1266/1266 [==============================] - 9s 7ms/step - loss: 0.5965 - val_loss: 0.5917\n",
      "Epoch 16/100\n",
      "1266/1266 [==============================] - 8s 6ms/step - loss: 0.5958 - val_loss: 0.5938\n",
      "Epoch 17/100\n",
      "1266/1266 [==============================] - 10s 8ms/step - loss: 0.5950 - val_loss: 0.5911\n",
      "Epoch 18/100\n",
      "1266/1266 [==============================] - 8s 7ms/step - loss: 0.5955 - val_loss: 0.5907\n",
      "Epoch 19/100\n",
      "1266/1266 [==============================] - 8s 6ms/step - loss: 0.5941 - val_loss: 0.5874\n",
      "Epoch 20/100\n",
      "1266/1266 [==============================] - 9s 7ms/step - loss: 0.5938 - val_loss: 0.5892\n",
      "Epoch 21/100\n",
      "1266/1266 [==============================] - 7s 5ms/step - loss: 0.5933 - val_loss: 0.5925\n",
      "Epoch 22/100\n",
      "1266/1266 [==============================] - 7s 6ms/step - loss: 0.5944 - val_loss: 0.5905\n",
      "Epoch 23/100\n",
      "1266/1266 [==============================] - 6s 5ms/step - loss: 0.5937 - val_loss: 0.5905\n",
      "Epoch 24/100\n",
      "1266/1266 [==============================] - 6s 5ms/step - loss: 0.5930 - val_loss: 0.5895\n",
      "\n",
      "Epoch 00024: ReduceLROnPlateau reducing learning rate to 0.0005000000237487257.\n",
      "Epoch 25/100\n",
      "1266/1266 [==============================] - 4s 4ms/step - loss: 0.5933 - val_loss: 0.5888\n",
      "Epoch 26/100\n",
      "1266/1266 [==============================] - 4s 3ms/step - loss: 0.5904 - val_loss: 0.5892\n",
      "Epoch 27/100\n",
      "1266/1266 [==============================] - 7s 6ms/step - loss: 0.5905 - val_loss: 0.5888\n",
      "Epoch 28/100\n",
      "1266/1266 [==============================] - 11s 9ms/step - loss: 0.5899 - val_loss: 0.5864\n",
      "Epoch 29/100\n",
      "1266/1266 [==============================] - 9s 7ms/step - loss: 0.5883 - val_loss: 0.5907\n",
      "Epoch 30/100\n",
      "1266/1266 [==============================] - 5s 4ms/step - loss: 0.5890 - val_loss: 0.5893\n",
      "Epoch 31/100\n",
      "1266/1266 [==============================] - 7s 5ms/step - loss: 0.5898 - val_loss: 0.5872\n",
      "Epoch 32/100\n",
      "1266/1266 [==============================] - 7s 6ms/step - loss: 0.5877 - val_loss: 0.5859\n",
      "Epoch 33/100\n",
      "1266/1266 [==============================] - 8s 7ms/step - loss: 0.5884 - val_loss: 0.5888\n",
      "Epoch 34/100\n",
      "1266/1266 [==============================] - 7s 6ms/step - loss: 0.5896 - val_loss: 0.5907\n",
      "Epoch 35/100\n",
      "1266/1266 [==============================] - 6s 5ms/step - loss: 0.5891 - val_loss: 0.5874\n",
      "Epoch 36/100\n",
      "1266/1266 [==============================] - 6s 5ms/step - loss: 0.5883 - val_loss: 0.5868\n",
      "Epoch 37/100\n",
      "1266/1266 [==============================] - 7s 5ms/step - loss: 0.5880 - val_loss: 0.5861\n",
      "\n",
      "Epoch 00037: ReduceLROnPlateau reducing learning rate to 0.0002500000118743628.\n",
      "Epoch 38/100\n",
      "1266/1266 [==============================] - 5s 4ms/step - loss: 0.5854 - val_loss: 0.5882\n",
      "Epoch 39/100\n",
      "1266/1266 [==============================] - 7s 5ms/step - loss: 0.5854 - val_loss: 0.5856\n",
      "Epoch 40/100\n",
      "1266/1266 [==============================] - 6s 5ms/step - loss: 0.5850 - val_loss: 0.5869\n",
      "Epoch 41/100\n",
      "1266/1266 [==============================] - 5s 4ms/step - loss: 0.5870 - val_loss: 0.5858\n",
      "Epoch 42/100\n",
      "1266/1266 [==============================] - 5s 4ms/step - loss: 0.5866 - val_loss: 0.5861\n",
      "Epoch 43/100\n",
      "1266/1266 [==============================] - 5s 4ms/step - loss: 0.5843 - val_loss: 0.5870\n",
      "Epoch 44/100\n",
      "1266/1266 [==============================] - 5s 4ms/step - loss: 0.5854 - val_loss: 0.5853\n",
      "Epoch 45/100\n",
      "1266/1266 [==============================] - 5s 4ms/step - loss: 0.5859 - val_loss: 0.5864\n",
      "Epoch 46/100\n",
      "1266/1266 [==============================] - 5s 4ms/step - loss: 0.5849 - val_loss: 0.5867\n",
      "Epoch 47/100\n",
      "1266/1266 [==============================] - 5s 4ms/step - loss: 0.5838 - val_loss: 0.5851\n",
      "Epoch 48/100\n",
      "1266/1266 [==============================] - 5s 4ms/step - loss: 0.5856 - val_loss: 0.5875\n",
      "Epoch 49/100\n",
      "1266/1266 [==============================] - 6s 5ms/step - loss: 0.5839 - val_loss: 0.5888\n",
      "Epoch 50/100\n",
      "1266/1266 [==============================] - 6s 5ms/step - loss: 0.5844 - val_loss: 0.5860\n",
      "Epoch 51/100\n",
      "1266/1266 [==============================] - 4s 3ms/step - loss: 0.5837 - val_loss: 0.5853\n",
      "Epoch 52/100\n",
      "1266/1266 [==============================] - 4s 3ms/step - loss: 0.5849 - val_loss: 0.5845\n",
      "Epoch 53/100\n",
      "1266/1266 [==============================] - 4s 3ms/step - loss: 0.5851 - val_loss: 0.5855\n",
      "Epoch 54/100\n",
      "1266/1266 [==============================] - 4s 3ms/step - loss: 0.5843 - val_loss: 0.5860\n",
      "Epoch 55/100\n",
      "1266/1266 [==============================] - 5s 4ms/step - loss: 0.5853 - val_loss: 0.5857\n",
      "Epoch 56/100\n",
      "1266/1266 [==============================] - 4s 3ms/step - loss: 0.5842 - val_loss: 0.5849\n",
      "Epoch 57/100\n",
      "1266/1266 [==============================] - 5s 4ms/step - loss: 0.5832 - val_loss: 0.5863\n",
      "\n",
      "Epoch 00057: ReduceLROnPlateau reducing learning rate to 0.0001250000059371814.\n",
      "Epoch 58/100\n",
      "1266/1266 [==============================] - 4s 4ms/step - loss: 0.5842 - val_loss: 0.5861\n",
      "Epoch 59/100\n",
      "1266/1266 [==============================] - 4s 4ms/step - loss: 0.5836 - val_loss: 0.5861\n",
      "Epoch 60/100\n",
      "1266/1266 [==============================] - 4s 3ms/step - loss: 0.5836 - val_loss: 0.5862\n",
      "Epoch 61/100\n",
      "1266/1266 [==============================] - 6s 4ms/step - loss: 0.5827 - val_loss: 0.5851\n",
      "Epoch 62/100\n",
      "1266/1266 [==============================] - 4s 3ms/step - loss: 0.5820 - val_loss: 0.5862\n",
      "\n",
      "Epoch 00062: ReduceLROnPlateau reducing learning rate to 6.25000029685907e-05.\n",
      "Epoch 63/100\n",
      "1266/1266 [==============================] - 4s 4ms/step - loss: 0.5825 - val_loss: 0.5856\n",
      "Epoch 64/100\n",
      "1266/1266 [==============================] - 4s 3ms/step - loss: 0.5832 - val_loss: 0.5852\n",
      "Epoch 65/100\n",
      "1266/1266 [==============================] - 4s 4ms/step - loss: 0.5826 - val_loss: 0.5849\n",
      "Epoch 66/100\n",
      "1266/1266 [==============================] - 4s 3ms/step - loss: 0.5829 - val_loss: 0.5855\n",
      "Epoch 67/100\n",
      "1266/1266 [==============================] - 4s 3ms/step - loss: 0.5828 - val_loss: 0.5855\n",
      "Restoring model weights from the end of the best epoch.\n",
      "\n",
      "Epoch 00067: ReduceLROnPlateau reducing learning rate to 3.125000148429535e-05.\n",
      "Epoch 00067: early stopping\n"
     ]
    }
   ],
   "source": [
    "tmp_model = Sequential()\n",
    "tmp_model.add(Dense(50, activation='relu', input_dim=X_train_scaled.shape[1]))\n",
    "tmp_model.add(Dropout(0.5))\n",
    "tmp_model.add(Dense(50, activation='relu'))\n",
    "tmp_model.add(Dropout(0.5))\n",
    "tmp_model.add(Dense(50, activation='relu'))\n",
    "tmp_model.add(Dropout(0.5))\n",
    "tmp_model.add(Dense(50, activation='relu'))\n",
    "tmp_model.add(Dropout(0.5))\n",
    "tmp_model.add(Dense(1, activation='sigmoid'))\n",
    "tmp_model.compile(loss='binary_crossentropy', optimizer=Adam(lr=1e-3))\n",
    "archs['Dropout'] = tmp_model\n",
    "archs['Dropout'].summary()\n",
    "\n",
    "tmp_hist = tmp_model.fit(X_train_scaled, y_train,\n",
    "                         validation_split=0.1,\n",
    "                         epochs=100,\n",
    "                         callbacks=my_callbacks,\n",
    "                         verbose=1\n",
    "                        )\n",
    "\n",
    "training_histories['Dropout'] = tmp_hist"
   ]
  },
  {
   "cell_type": "markdown",
   "metadata": {},
   "source": [
    "You should notice that our val_loss is much closer to the loss for a long time. Let's plot this compared to the EarlyStopping model."
   ]
  },
  {
   "cell_type": "code",
   "execution_count": 72,
   "metadata": {
    "collapsed": false,
    "jupyter": {
     "outputs_hidden": false
    }
   },
   "outputs": [
    {
     "data": {
      "text/plain": [
       "<matplotlib.legend.Legend at 0x7f02247e9850>"
      ]
     },
     "execution_count": 72,
     "metadata": {},
     "output_type": "execute_result"
    },
    {
     "data": {
      "image/png": "[encoded data removed]",
      "text/plain": [
       "<Figure size 240x240 with 1 Axes>"
      ]
     },
     "metadata": {
      "needs_background": "light"
     },
     "output_type": "display_data"
    }
   ],
   "source": [
    "plt.plot(training_histories['EarlyStopping'].history['loss'], color='C0', label='Final')\n",
    "plt.plot(training_histories['EarlyStopping'].history['val_loss'], color='C0', ls=':')\n",
    "plt.plot(training_histories['Dropout'].history['loss'], color='C1', label='Dropout')\n",
    "plt.plot(training_histories['Dropout'].history['val_loss'], color='C1', ls=':')\n",
    "\n",
    "plt.legend(loc=(1.05, 0.1))"
   ]
  },
  {
   "cell_type": "markdown",
   "metadata": {},
   "source": [
    " How do the losses compare when we use dropout?\n",
    " \n",
    " **Optional Exercise:** Go back and change the dropout rates to see what their effects on the results.\n",
    " \n",
    " Finally, compute the metrics."
   ]
  },
  {
   "cell_type": "code",
   "execution_count": 73,
   "metadata": {},
   "outputs": [],
   "source": [
    "preds_archs['Dropout'] = tmp_model.predict(X_test_scaled)\n",
    "fpr_archs['Dropout'], tpr_archs['Dropout'], thresholds_archs['Dropout'] = roc_curve(y_true=y_test,\n",
    "                                                                        y_score=preds_archs['Dropout'])\n",
    "auc_archs['Dropout'] = auc(fpr_archs['Dropout'], tpr_archs['Dropout'])\n",
    "\n",
    "background_eff = interp1d(tpr_archs['Dropout'], fpr_archs['Dropout'])\n",
    "working_point_archs['Dropout'] = background_eff(0.5)"
   ]
  },
  {
   "cell_type": "code",
   "execution_count": 74,
   "metadata": {
    "collapsed": false,
    "jupyter": {
     "outputs_hidden": false
    }
   },
   "outputs": [
    {
     "name": "stderr",
     "output_type": "stream",
     "text": [
      "/tmp/ipykernel_2589/3121500017.py:3: RuntimeWarning: divide by zero encountered in true_divide\n",
      "  plt.plot(tpr_archs[model], 1/fpr_archs[model], label=model)\n",
      "/tmp/ipykernel_2589/3121500017.py:3: RuntimeWarning: divide by zero encountered in true_divide\n",
      "  plt.plot(tpr_archs[model], 1/fpr_archs[model], label=model)\n",
      "/tmp/ipykernel_2589/3121500017.py:3: RuntimeWarning: divide by zero encountered in true_divide\n",
      "  plt.plot(tpr_archs[model], 1/fpr_archs[model], label=model)\n"
     ]
    },
    {
     "name": "stdout",
     "output_type": "stream",
     "text": [
      "D50D50D50D50D1:1/e_B at a fixed e_S=0.5: 7.63\n",
      "D50D50D50D50D1: AUC=7.701e-01\n",
      "EarlyStopping:1/e_B at a fixed e_S=0.5: 7.09\n",
      "EarlyStopping: AUC=7.697e-01\n",
      "Dropout:1/e_B at a fixed e_S=0.5: 7.36\n",
      "Dropout: AUC=7.678e-01\n"
     ]
    },
    {
     "data": {
      "image/png": "[encoded data removed]",
      "text/plain": [
       "<Figure size 240x240 with 1 Axes>"
      ]
     },
     "metadata": {
      "needs_background": "light"
     },
     "output_type": "display_data"
    }
   ],
   "source": [
    "my_compare.append('Dropout')\n",
    "for model in my_compare:\n",
    "    plt.plot(tpr_archs[model], 1/fpr_archs[model], label=model)\n",
    "    print(model + ':1/e_B at a fixed e_S=0.5' + ': {0:.2f}'.format(1/working_point_archs[model]))\n",
    "    print(model + ': AUC=' + '{0:.3e}'.format(auc_archs[model]))\n",
    "\n",
    "plt.ylabel('$1/\\epsilon_B$')\n",
    "plt.xlabel('$\\epsilon_S$')\n",
    "plt.yscale('log')\n",
    "plt.xlim(0, 1)\n",
    "plt.legend(loc=(1.05,0.3), frameon=False)\n",
    "plt.show()"
   ]
  },
  {
   "cell_type": "markdown",
   "metadata": {},
   "source": [
    "Our model generalizes better than before, but the results have not really improved. We seem to be reaching the limit for the data we have."
   ]
  },
  {
   "cell_type": "markdown",
   "metadata": {},
   "source": [
    "# Different representation of the data\n",
    "\n",
    "Now we can check to see we can get the same performance with a smarter representation of the data. We will use the basis from [How much information is in a jet](https://arxiv.org/abs/1704.08249). We will use [pyjet](https://github.com/scikit-hep/pyjet) which is built on top of [fastjet](http://fastjet.fr/) to recluster our jets. Using the exclusive jets feature will allow us to pick the axis to compare against.\n",
    "\n",
    "The next section does not have many comments, but will be updated later."
   ]
  },
  {
   "cell_type": "code",
   "execution_count": 75,
   "metadata": {},
   "outputs": [],
   "source": [
    "from pyjet import cluster,DTYPE_PTEPM"
   ]
  },
  {
   "cell_type": "markdown",
   "metadata": {},
   "source": [
    "To get the n-subjettiness, we will need to compute the $\\Delta R = \\sqrt{\\Delta\\phi^2 + \\Delta \\eta^2}$."
   ]
  },
  {
   "cell_type": "code",
   "execution_count": 76,
   "metadata": {},
   "outputs": [],
   "source": [
    "def DeltaPhi(obj_1, obj_2):\n",
    "    '''\n",
    "    Calculates the delta phi, with values between -pi and pi\n",
    "    inputs should be a list with a length of 3\n",
    "    \n",
    "    arguments:\n",
    "    obj_1 = [pt, eta, phi]\n",
    "    obj_2 = [pt, eta, phi]\n",
    "    \n",
    "    returns:\n",
    "    deltaphi -- float for the angular distance\n",
    "    '''\n",
    "    pt1, eta1, phi1 = obj_1\n",
    "    pt2, eta2, phi2 = obj_2\n",
    "    deltaphi = phi1 - phi2\n",
    "    if deltaphi > np.pi:\n",
    "        deltaphi = (-2 * np.pi) + deltaphi\n",
    "    return deltaphi\n",
    "\n",
    "\n",
    "def DeltaR(obj_1, obj_2):\n",
    "    '''\n",
    "    Calculates the delta R\n",
    "    inputs should be a list with a length of 3\n",
    "    obj_1 = [pt, eta, phi]\n",
    "    obj_2 = [pt, eta, phi]\n",
    "    '''\n",
    "    pt1, eta1, phi1 = obj_1\n",
    "    pt2, eta2, phi2 = obj_2\n",
    "    dr = np.sqrt(np.square(eta1 - eta2) + np.square(DeltaPhi(obj_1, obj_2)))\n",
    "    return dr"
   ]
  },
  {
   "cell_type": "code",
   "execution_count": 77,
   "metadata": {},
   "outputs": [],
   "source": [
    "def NSubjettiness(constituents, axes, beta, jetpt):\n",
    "    '''\n",
    "    Computes the n-subjettines\n",
    "    \n",
    "    Arguments:\n",
    "    constituents -- an array of pseudovectors\n",
    "    axes -- an array of pseudovectors\n",
    "    jetpt -- the overall transverse momentum of the jet\n",
    "        \n",
    "    Returns:\n",
    "    tau[0.5] -- n-subjets with the power of 0.5\n",
    "    tau[1] -- n-subjets with the power of 1\n",
    "    tau[2] -- n-subjets with the power of 2\n",
    "    '''\n",
    "    tau = {0.5: 0.0,\n",
    "           1: 0.0,\n",
    "           2: 0.0\n",
    "           }  # starting values for different betas\n",
    "    for particle in constituents:\n",
    "        for beta in [0.5, 1, 2]:\n",
    "            dr = np.min([np.power(DeltaR([particle.pt, particle.eta, particle.phi],\n",
    "                                         [axis.pt, axis.eta, axis.phi]), beta) for axis in axes])\n",
    "            tau[beta] += particle.pt * dr\n",
    "    for beta in [0.5, 1, 2]:\n",
    "        tau[beta] = tau[beta] / jetpt\n",
    "\n",
    "    return tau[0.5], tau[1], tau[2]"
   ]
  },
  {
   "cell_type": "code",
   "execution_count": 78,
   "metadata": {
    "collapsed": false,
    "jupyter": {
     "outputs_hidden": false
    }
   },
   "outputs": [
    {
     "data": {
      "text/plain": [
       "(44982, 30)"
      ]
     },
     "execution_count": 78,
     "metadata": {},
     "output_type": "execute_result"
    }
   ],
   "source": [
    "X_train.shape"
   ]
  },
  {
   "cell_type": "code",
   "execution_count": 79,
   "metadata": {},
   "outputs": [],
   "source": [
    "pseudojets_input = np.zeros(len([x for x in X_train[i][::3] if x > 0]), dtype=DTYPE_PTEPM)"
   ]
  },
  {
   "cell_type": "code",
   "execution_count": 80,
   "metadata": {},
   "outputs": [],
   "source": [
    "NSubjettinessData = []\n",
    "\n",
    "for jet_consituents in X_train:\n",
    "    pseudojets_input = np.zeros(len([x for x in jet_consituents[::3] if x > 0]), dtype=DTYPE_PTEPM)\n",
    "    \n",
    "    for j in range(pseudojets_input.shape[0]):\n",
    "        if (jet_consituents[j*3] > 0):  # if the pT bigger than 0\n",
    "            pseudojets_input[j]['pT'] = jet_consituents[j*3]\n",
    "            pseudojets_input[j]['eta'] = jet_consituents[j*3+1]\n",
    "            pseudojets_input[j]['phi'] = jet_consituents[j*3+2]\n",
    "\n",
    "    sequence = cluster(pseudojets_input, R=1, p=1)\n",
    "    jet = sequence.exclusive_jets(1)[0]\n",
    "    NSubjet = {}\n",
    "    for pronginess in range(1, 5):\n",
    "        # undo the clustering to a specific number of jets\n",
    "        if len(jet.constituents()) > pronginess:\n",
    "            axes = sequence.exclusive_jets(pronginess)\n",
    "            nsubjettiness = NSubjettiness(jet.constituents(), axes,\n",
    "                                          pronginess, jet.pt\n",
    "                                         )\n",
    "            NSubjet['{0}_0.5'.format(pronginess)] = nsubjettiness[0]\n",
    "            NSubjet['{0}_1'.format(pronginess)] = nsubjettiness[1]\n",
    "            NSubjet['{0}_2'.format(pronginess)] = nsubjettiness[2]\n",
    "        else:\n",
    "            NSubjet['{0}_0.5'.format(pronginess)] = 0\n",
    "            NSubjet['{0}_1'.format(pronginess)] = 0\n",
    "            NSubjet['{0}_2'.format(pronginess)] = 0\n",
    "            \n",
    "    tmp_entry = [jet.pt,\n",
    "                 NSubjet['1_0.5'], NSubjet['1_1'], NSubjet['1_2'],\n",
    "                 NSubjet['2_0.5'], NSubjet['2_1'], NSubjet['2_2'],\n",
    "                 NSubjet['3_0.5'], NSubjet['3_1'], NSubjet['3_2'],\n",
    "                 NSubjet['4_1'], NSubjet['4_2']\n",
    "                ]\n",
    "    NSubjettinessData.append(tmp_entry)\n",
    "NSubjettinessData = np.array(NSubjettinessData)"
   ]
  },
  {
   "cell_type": "code",
   "execution_count": 81,
   "metadata": {
    "collapsed": false,
    "jupyter": {
     "outputs_hidden": false
    }
   },
   "outputs": [
    {
     "data": {
      "text/plain": [
       "(44982, 12)"
      ]
     },
     "execution_count": 81,
     "metadata": {},
     "output_type": "execute_result"
    }
   ],
   "source": [
    "NSubjettinessData.shape"
   ]
  },
  {
   "cell_type": "code",
   "execution_count": 82,
   "metadata": {},
   "outputs": [],
   "source": [
    "NSubjettinessTestData = []\n",
    "\n",
    "for jet_consituents in X_test:\n",
    "    pseudojets_input = np.zeros(len([x for x in jet_consituents[::3] if x > 0]), dtype=DTYPE_PTEPM)\n",
    "    \n",
    "    for j in range(pseudojets_input.shape[0]):\n",
    "        if (jet_consituents[j*3] > 0):  # if the pT bigger than 0\n",
    "            pseudojets_input[j]['pT'] = jet_consituents[j*3]\n",
    "            pseudojets_input[j]['eta'] = jet_consituents[j*3+1]\n",
    "            pseudojets_input[j]['phi'] = jet_consituents[j*3+2]\n",
    "\n",
    "    sequence = cluster(pseudojets_input, R=1, p=1)\n",
    "    jet = sequence.exclusive_jets(1)[0]\n",
    "    NSubjet = {}\n",
    "    for pronginess in range(1, 5):\n",
    "        # undo the clustering to a specific number of jets\n",
    "        if len(jet.constituents()) > pronginess:\n",
    "            axes = sequence.exclusive_jets(pronginess)\n",
    "            nsubjettiness = NSubjettiness(jet.constituents(), axes,\n",
    "                                          pronginess, jet.pt\n",
    "                                         )\n",
    "            NSubjet['{0}_0.5'.format(pronginess)] = nsubjettiness[0]\n",
    "            NSubjet['{0}_1'.format(pronginess)] = nsubjettiness[1]\n",
    "            NSubjet['{0}_2'.format(pronginess)] = nsubjettiness[2]\n",
    "        else:\n",
    "            NSubjet['{0}_0.5'.format(pronginess)] = 0\n",
    "            NSubjet['{0}_1'.format(pronginess)] = 0\n",
    "            NSubjet['{0}_2'.format(pronginess)] = 0\n",
    "            \n",
    "    tmp_entry = [jet.pt,\n",
    "                 NSubjet['1_0.5'], NSubjet['1_1'], NSubjet['1_2'],\n",
    "                 NSubjet['2_0.5'], NSubjet['2_1'], NSubjet['2_2'],\n",
    "                 NSubjet['3_0.5'], NSubjet['3_1'], NSubjet['3_2'],\n",
    "                 NSubjet['4_1'], NSubjet['4_2']\n",
    "                ]\n",
    "    NSubjettinessTestData.append(tmp_entry)\n",
    "NSubjettinessTestData = np.array(NSubjettinessTestData)"
   ]
  },
  {
   "cell_type": "code",
   "execution_count": 83,
   "metadata": {
    "collapsed": false,
    "jupyter": {
     "outputs_hidden": false
    }
   },
   "outputs": [
    {
     "data": {
      "text/plain": [
       "(4998, 12)"
      ]
     },
     "execution_count": 83,
     "metadata": {},
     "output_type": "execute_result"
    }
   ],
   "source": [
    "NSubjettinessTestData.shape"
   ]
  },
  {
   "cell_type": "markdown",
   "metadata": {},
   "source": [
    "Now lets rescale the data and fit some networks again."
   ]
  },
  {
   "cell_type": "code",
   "execution_count": 84,
   "metadata": {},
   "outputs": [],
   "source": [
    "SS_NSubJet = StandardScaler()\n",
    "X_Train_NSubJet = SS.fit_transform(NSubjettinessData)\n",
    "X_Test_NSubJet = SS.transform(NSubjettinessTestData)"
   ]
  },
  {
   "cell_type": "markdown",
   "metadata": {},
   "source": [
    "## Neural networks\n",
    "Now our input data is only 12 dimensional. Lets try starting with a smaller network."
   ]
  },
  {
   "cell_type": "code",
   "execution_count": 90,
   "metadata": {},
   "outputs": [],
   "source": [
    "model_subjet = Sequential()\n",
    "model_subjet.add(Dense(25, input_dim=12, activation='relu'))\n",
    "model_subjet.add(Dropout(0.1))\n",
    "model_subjet.add(Dense(25, activation='relu'))\n",
    "model_subjet.add(Dropout(0.1))\n",
    "model_subjet.add(Dense(25, activation='relu'))\n",
    "model_subjet.add(Dropout(0.1))\n",
    "model_subjet.add(Dense(1, activation='sigmoid'))\n",
    "\n",
    "model_subjet.compile(loss='binary_crossentropy', optimizer='adam')"
   ]
  },
  {
   "cell_type": "code",
   "execution_count": 91,
   "metadata": {
    "collapsed": false,
    "jupyter": {
     "outputs_hidden": false
    }
   },
   "outputs": [
    {
     "name": "stdout",
     "output_type": "stream",
     "text": [
      "Model: \"sequential_19\"\n",
      "_________________________________________________________________\n",
      "Layer (type)                 Output Shape              Param #   \n",
      "=================================================================\n",
      "dense_55 (Dense)             (None, 25)                325       \n",
      "_________________________________________________________________\n",
      "dropout_4 (Dropout)          (None, 25)                0         \n",
      "_________________________________________________________________\n",
      "dense_56 (Dense)             (None, 25)                650       \n",
      "_________________________________________________________________\n",
      "dropout_5 (Dropout)          (None, 25)                0         \n",
      "_________________________________________________________________\n",
      "dense_57 (Dense)             (None, 25)                650       \n",
      "_________________________________________________________________\n",
      "dropout_6 (Dropout)          (None, 25)                0         \n",
      "_________________________________________________________________\n",
      "dense_58 (Dense)             (None, 1)                 26        \n",
      "=================================================================\n",
      "Total params: 1,651\n",
      "Trainable params: 1,651\n",
      "Non-trainable params: 0\n",
      "_________________________________________________________________\n"
     ]
    }
   ],
   "source": [
    "model_subjet.summary()"
   ]
  },
  {
   "cell_type": "markdown",
   "metadata": {},
   "source": [
    "Now fit the data"
   ]
  },
  {
   "cell_type": "code",
   "execution_count": 92,
   "metadata": {
    "collapsed": false,
    "jupyter": {
     "outputs_hidden": false
    }
   },
   "outputs": [
    {
     "name": "stdout",
     "output_type": "stream",
     "text": [
      "Epoch 1/100\n",
      "1266/1266 - 3s - loss: 0.6018 - val_loss: 0.6015\n",
      "Epoch 2/100\n",
      "1266/1266 - 4s - loss: 0.5909 - val_loss: 0.6011\n",
      "Epoch 3/100\n",
      "1266/1266 - 4s - loss: 0.5900 - val_loss: 0.5982\n",
      "Epoch 4/100\n",
      "1266/1266 - 3s - loss: 0.5887 - val_loss: 0.5989\n",
      "Epoch 5/100\n",
      "1266/1266 - 3s - loss: 0.5872 - val_loss: 0.5958\n",
      "Epoch 6/100\n",
      "1266/1266 - 3s - loss: 0.5865 - val_loss: 0.6007\n",
      "Epoch 7/100\n",
      "1266/1266 - 3s - loss: 0.5865 - val_loss: 0.5948\n",
      "Epoch 8/100\n",
      "1266/1266 - 3s - loss: 0.5871 - val_loss: 0.5956\n",
      "Epoch 9/100\n",
      "1266/1266 - 3s - loss: 0.5859 - val_loss: 0.5992\n",
      "Epoch 10/100\n",
      "1266/1266 - 3s - loss: 0.5850 - val_loss: 0.5970\n",
      "Epoch 11/100\n",
      "1266/1266 - 3s - loss: 0.5855 - val_loss: 0.5978\n",
      "Epoch 12/100\n",
      "1266/1266 - 3s - loss: 0.5847 - val_loss: 0.6004\n",
      "\n",
      "Epoch 00012: ReduceLROnPlateau reducing learning rate to 0.0005000000237487257.\n",
      "Epoch 13/100\n",
      "1266/1266 - 3s - loss: 0.5850 - val_loss: 0.5955\n",
      "Epoch 14/100\n",
      "1266/1266 - 3s - loss: 0.5835 - val_loss: 0.5956\n",
      "Epoch 15/100\n",
      "1266/1266 - 4s - loss: 0.5845 - val_loss: 0.5949\n",
      "Epoch 16/100\n",
      "1266/1266 - 3s - loss: 0.5837 - val_loss: 0.5959\n",
      "Epoch 17/100\n",
      "1266/1266 - 3s - loss: 0.5837 - val_loss: 0.5956\n",
      "\n",
      "Epoch 00017: ReduceLROnPlateau reducing learning rate to 0.0002500000118743628.\n",
      "Epoch 18/100\n",
      "1266/1266 - 3s - loss: 0.5825 - val_loss: 0.5954\n",
      "Epoch 19/100\n",
      "1266/1266 - 3s - loss: 0.5834 - val_loss: 0.5948\n",
      "Epoch 20/100\n",
      "1266/1266 - 3s - loss: 0.5824 - val_loss: 0.5947\n",
      "Epoch 21/100\n",
      "1266/1266 - 3s - loss: 0.5829 - val_loss: 0.5958\n",
      "Epoch 22/100\n",
      "1266/1266 - 3s - loss: 0.5826 - val_loss: 0.5956\n",
      "Epoch 23/100\n",
      "1266/1266 - 3s - loss: 0.5832 - val_loss: 0.5950\n",
      "Epoch 24/100\n",
      "1266/1266 - 3s - loss: 0.5826 - val_loss: 0.5957\n",
      "Epoch 25/100\n",
      "1266/1266 - 3s - loss: 0.5817 - val_loss: 0.5958\n",
      "\n",
      "Epoch 00025: ReduceLROnPlateau reducing learning rate to 0.0001250000059371814.\n",
      "Epoch 26/100\n",
      "1266/1266 - 3s - loss: 0.5828 - val_loss: 0.5962\n",
      "Epoch 27/100\n",
      "1266/1266 - 3s - loss: 0.5824 - val_loss: 0.5954\n",
      "Epoch 28/100\n",
      "1266/1266 - 3s - loss: 0.5824 - val_loss: 0.5959\n",
      "Epoch 29/100\n",
      "1266/1266 - 3s - loss: 0.5826 - val_loss: 0.5950\n",
      "Epoch 30/100\n",
      "1266/1266 - 3s - loss: 0.5827 - val_loss: 0.5959\n",
      "\n",
      "Epoch 00030: ReduceLROnPlateau reducing learning rate to 6.25000029685907e-05.\n",
      "Epoch 31/100\n",
      "1266/1266 - 3s - loss: 0.5820 - val_loss: 0.5958\n",
      "Epoch 32/100\n",
      "1266/1266 - 3s - loss: 0.5813 - val_loss: 0.5951\n",
      "Epoch 33/100\n",
      "1266/1266 - 3s - loss: 0.5821 - val_loss: 0.5952\n",
      "Epoch 34/100\n",
      "1266/1266 - 4s - loss: 0.5817 - val_loss: 0.5952\n",
      "Epoch 35/100\n",
      "1266/1266 - 3s - loss: 0.5818 - val_loss: 0.5952\n",
      "Restoring model weights from the end of the best epoch.\n",
      "\n",
      "Epoch 00035: ReduceLROnPlateau reducing learning rate to 3.125000148429535e-05.\n",
      "Epoch 00035: early stopping\n"
     ]
    }
   ],
   "source": [
    "hist_model_subjet = model_subjet.fit(X_Train_NSubJet,\n",
    "                                     y_train,\n",
    "                                     validation_split=0.1,\n",
    "                                     epochs=100,\n",
    "                                     verbose=2,\n",
    "                                     callbacks=my_callbacks\n",
    "                                    )"
   ]
  },
  {
   "cell_type": "markdown",
   "metadata": {},
   "source": [
    "Make the predictions and compute the metrics."
   ]
  },
  {
   "cell_type": "code",
   "execution_count": 93,
   "metadata": {},
   "outputs": [],
   "source": [
    "preds_sub = model_subjet.predict(X_Test_NSubJet)\n",
    "fpr_sub, tpr_sub, thresholds_sub = roc_curve(y_true=y_test,\n",
    "                                             y_score=preds_sub)\n",
    "auc_sub = auc(fpr_sub, tpr_sub)\n",
    "background_eff = interp1d(tpr_sub, fpr_sub)\n",
    "working_point_sub = background_eff(0.5)"
   ]
  },
  {
   "cell_type": "code",
   "execution_count": 94,
   "metadata": {
    "collapsed": false,
    "jupyter": {
     "outputs_hidden": false
    }
   },
   "outputs": [
    {
     "data": {
      "image/png": "[encoded data removed]",
      "text/plain": [
       "<Figure size 240x240 with 1 Axes>"
      ]
     },
     "metadata": {
      "needs_background": "light"
     },
     "output_type": "display_data"
    }
   ],
   "source": [
    "plt.plot(training_histories['EarlyStopping'].history['loss'], color='C0', label='Final')\n",
    "plt.plot(training_histories['EarlyStopping'].history['val_loss'], color='C0', ls=':')\n",
    "plt.plot(training_histories['Dropout'].history['loss'], color='C1', label='Dropout')\n",
    "plt.plot(training_histories['Dropout'].history['val_loss'], color='C1', ls=':')\n",
    "\n",
    "plt.plot(hist_model_subjet.history['loss'], color='C2', label='Subjets')\n",
    "plt.plot(hist_model_subjet.history['val_loss'], color='C2', ls=':')\n",
    "\n",
    "\n",
    "plt.legend(loc=(1.05, 0.1))\n",
    "plt.show()"
   ]
  },
  {
   "cell_type": "code",
   "execution_count": null,
   "metadata": {
    "collapsed": true,
    "jupyter": {
     "outputs_hidden": true
    }
   },
   "outputs": [],
   "source": []
  },
  {
   "cell_type": "code",
   "execution_count": null,
   "metadata": {
    "collapsed": true,
    "jupyter": {
     "outputs_hidden": true
    }
   },
   "outputs": [],
   "source": []
  },
  {
   "cell_type": "code",
   "execution_count": null,
   "metadata": {},
   "outputs": [],
   "source": []
  }
 ],
 "metadata": {
  "anaconda-cloud": {},
  "kernelspec": {
   "display_name": "Python 3 (ipykernel)",
   "language": "python",
   "name": "python3"
  },
  "language_info": {
   "codemirror_mode": {
    "name": "ipython",
    "version": 3
   },
   "file_extension": ".py",
   "mimetype": "text/x-python",
   "name": "python",
   "nbconvert_exporter": "python",
   "pygments_lexer": "ipython3",
   "version": "3.9.7"
  },
  "toc": {
   "colors": {
    "hover_highlight": "#DAA520",
    "navigate_num": "#000000",
    "navigate_text": "#333333",
    "running_highlight": "#FF0000",
    "selected_highlight": "#FFD700",
    "sidebar_border": "#EEEEEE",
    "wrapper_background": "#FFFFFF"
   },
   "moveMenuLeft": true,
   "nav_menu": {
    "height": "336px",
    "width": "252px"
   },
   "navigate_menu": true,
   "number_sections": true,
   "sideBar": true,
   "threshold": 4,
   "toc_cell": true,
   "toc_section_display": "block",
   "toc_window_display": true,
   "widenNotebook": false
  }
 },
 "nbformat": 4,
 "nbformat_minor": 4
}
