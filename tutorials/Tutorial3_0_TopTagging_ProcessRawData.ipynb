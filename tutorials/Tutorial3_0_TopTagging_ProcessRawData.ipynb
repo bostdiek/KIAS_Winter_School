{
 "cells": [
  {
   "cell_type": "markdown",
   "id": "e98ea532-43f6-4590-90cf-2edb698ef8c3",
   "metadata": {},
   "source": [
    "# Raw data for top tagging\n",
    "This notebook reads in the intial data (1.2 million events) and reduces the size to fit on a laptop.\n",
    "\n",
    "The original data can be found [at this link](https://desycloud.desy.de/index.php/s/llbX3zpLhazgPJ6), with a description [here](https://docs.google.com/document/d/1Hcuc6LBxZNX16zjEGeq16DAzspkDC4nDTyjMp1bWHRo/edit).\n",
    "\n",
    "Download the data and put it into the `data/top_tagging/raw/` directory."
   ]
  },
  {
   "cell_type": "code",
   "execution_count": 1,
   "id": "ac66940b-55a1-4fc6-89b7-47c6e548c463",
   "metadata": {},
   "outputs": [],
   "source": [
    "import pandas as pd\n",
    "import numpy as np"
   ]
  },
  {
   "cell_type": "markdown",
   "id": "151200e3-d336-4dc8-96c1-758b20853be2",
   "metadata": {},
   "source": [
    "**Description**\n",
    "\n",
    " * 14 TeV, hadronic tops for signal, qcd diets background, delphes ATLAS detector card with pythia \n",
    " * No MPI/pile-up included\n",
    " * We cluster particle-flow entries (produced by Delphes E-flow) into anti-kT 0.8 jets in the pT range [550,650]\n",
    " * All top jets are matched to a parton-level top within ∆R = 0.8, and to all top decay partons within 0.8\n",
    " * We also require |eta|_jet < 2\n",
    " * The leading 200 jet constituent four-momenta are stored, with zero-padding for jets with fewer than 200 (actually this is most of them, so maybe this could be lowered)\n",
    " * Constituents are sorted by pT, with the highest pT one first\n",
    " * The truth top four-momentum is stored as truth_px etc.\n",
    " * A flag (1 for top, 0 for QCD) is kept for each jet. It is called is_signal_new\n",
    " * The variable \"ttv\" (= test/train/validation) is kept for each jet. It indicates to which dataset the jet belongs. It is redundant as the different sets are already distributed as different files.\n"
   ]
  },
  {
   "cell_type": "markdown",
   "id": "a924d785-bdb1-4371-b8d2-f3f9e8fee844",
   "metadata": {},
   "source": [
    "## Training Data"
   ]
  },
  {
   "cell_type": "code",
   "execution_count": 2,
   "id": "ded4fd63-5820-417a-ad4f-d63a5b1e2f7b",
   "metadata": {},
   "outputs": [],
   "source": [
    "input_filename = \"../data/top_tagging/raw/train.h5\"\n",
    "store = pd.read_hdf(input_filename, key='table')"
   ]
  },
  {
   "cell_type": "code",
   "execution_count": 3,
   "id": "c598aaf2-6e67-4263-88eb-0988616300be",
   "metadata": {},
   "outputs": [],
   "source": [
    "qcd = store[store['is_signal_new']==0]\n",
    "tops = store[store['is_signal_new']==1]"
   ]
  },
  {
   "cell_type": "code",
   "execution_count": 4,
   "id": "cca97603-b4fb-4d23-86a0-b86a2fb82af5",
   "metadata": {},
   "outputs": [
    {
     "data": {
      "text/html": [
       "<div>\n",
       "<style scoped>\n",
       "    .dataframe tbody tr th:only-of-type {\n",
       "        vertical-align: middle;\n",
       "    }\n",
       "\n",
       "    .dataframe tbody tr th {\n",
       "        vertical-align: top;\n",
       "    }\n",
       "\n",
       "    .dataframe thead th {\n",
       "        text-align: right;\n",
       "    }\n",
       "</style>\n",
       "<table border=\"1\" class=\"dataframe\">\n",
       "  <thead>\n",
       "    <tr style=\"text-align: right;\">\n",
       "      <th></th>\n",
       "      <th>E_0</th>\n",
       "      <th>PX_0</th>\n",
       "      <th>PY_0</th>\n",
       "      <th>PZ_0</th>\n",
       "      <th>E_1</th>\n",
       "      <th>PX_1</th>\n",
       "      <th>PY_1</th>\n",
       "      <th>PZ_1</th>\n",
       "      <th>E_2</th>\n",
       "      <th>PX_2</th>\n",
       "      <th>...</th>\n",
       "      <th>E_199</th>\n",
       "      <th>PX_199</th>\n",
       "      <th>PY_199</th>\n",
       "      <th>PZ_199</th>\n",
       "      <th>truthE</th>\n",
       "      <th>truthPX</th>\n",
       "      <th>truthPY</th>\n",
       "      <th>truthPZ</th>\n",
       "      <th>ttv</th>\n",
       "      <th>is_signal_new</th>\n",
       "    </tr>\n",
       "  </thead>\n",
       "  <tbody>\n",
       "    <tr>\n",
       "      <th>375</th>\n",
       "      <td>474.071136</td>\n",
       "      <td>-250.347031</td>\n",
       "      <td>-223.651962</td>\n",
       "      <td>-334.738098</td>\n",
       "      <td>103.236237</td>\n",
       "      <td>-48.866222</td>\n",
       "      <td>-56.790775</td>\n",
       "      <td>-71.025490</td>\n",
       "      <td>105.255569</td>\n",
       "      <td>-55.415001</td>\n",
       "      <td>...</td>\n",
       "      <td>0.0</td>\n",
       "      <td>0.0</td>\n",
       "      <td>0.0</td>\n",
       "      <td>0.0</td>\n",
       "      <td>0.0</td>\n",
       "      <td>0.0</td>\n",
       "      <td>0.0</td>\n",
       "      <td>0.0</td>\n",
       "      <td>0</td>\n",
       "      <td>0</td>\n",
       "    </tr>\n",
       "    <tr>\n",
       "      <th>377</th>\n",
       "      <td>150.504532</td>\n",
       "      <td>120.062393</td>\n",
       "      <td>76.852005</td>\n",
       "      <td>-48.274265</td>\n",
       "      <td>82.257057</td>\n",
       "      <td>63.801739</td>\n",
       "      <td>42.754807</td>\n",
       "      <td>-29.454842</td>\n",
       "      <td>48.573559</td>\n",
       "      <td>36.763199</td>\n",
       "      <td>...</td>\n",
       "      <td>0.0</td>\n",
       "      <td>0.0</td>\n",
       "      <td>0.0</td>\n",
       "      <td>0.0</td>\n",
       "      <td>0.0</td>\n",
       "      <td>0.0</td>\n",
       "      <td>0.0</td>\n",
       "      <td>0.0</td>\n",
       "      <td>0</td>\n",
       "      <td>0</td>\n",
       "    </tr>\n",
       "    <tr>\n",
       "      <th>378</th>\n",
       "      <td>251.645386</td>\n",
       "      <td>10.427651</td>\n",
       "      <td>-147.573746</td>\n",
       "      <td>203.564880</td>\n",
       "      <td>104.147797</td>\n",
       "      <td>10.718256</td>\n",
       "      <td>-54.497948</td>\n",
       "      <td>88.101395</td>\n",
       "      <td>78.043213</td>\n",
       "      <td>5.724113</td>\n",
       "      <td>...</td>\n",
       "      <td>0.0</td>\n",
       "      <td>0.0</td>\n",
       "      <td>0.0</td>\n",
       "      <td>0.0</td>\n",
       "      <td>0.0</td>\n",
       "      <td>0.0</td>\n",
       "      <td>0.0</td>\n",
       "      <td>0.0</td>\n",
       "      <td>0</td>\n",
       "      <td>0</td>\n",
       "    </tr>\n",
       "    <tr>\n",
       "      <th>379</th>\n",
       "      <td>451.566132</td>\n",
       "      <td>129.885437</td>\n",
       "      <td>-99.066292</td>\n",
       "      <td>-420.984100</td>\n",
       "      <td>208.410919</td>\n",
       "      <td>59.033958</td>\n",
       "      <td>-46.177090</td>\n",
       "      <td>-194.467941</td>\n",
       "      <td>190.183304</td>\n",
       "      <td>54.069675</td>\n",
       "      <td>...</td>\n",
       "      <td>0.0</td>\n",
       "      <td>0.0</td>\n",
       "      <td>0.0</td>\n",
       "      <td>0.0</td>\n",
       "      <td>0.0</td>\n",
       "      <td>0.0</td>\n",
       "      <td>0.0</td>\n",
       "      <td>0.0</td>\n",
       "      <td>0</td>\n",
       "      <td>0</td>\n",
       "    </tr>\n",
       "    <tr>\n",
       "      <th>380</th>\n",
       "      <td>399.093903</td>\n",
       "      <td>-168.432083</td>\n",
       "      <td>-47.205597</td>\n",
       "      <td>-358.717438</td>\n",
       "      <td>273.691956</td>\n",
       "      <td>-121.926941</td>\n",
       "      <td>-30.803854</td>\n",
       "      <td>-243.088928</td>\n",
       "      <td>152.837219</td>\n",
       "      <td>-44.400204</td>\n",
       "      <td>...</td>\n",
       "      <td>0.0</td>\n",
       "      <td>0.0</td>\n",
       "      <td>0.0</td>\n",
       "      <td>0.0</td>\n",
       "      <td>0.0</td>\n",
       "      <td>0.0</td>\n",
       "      <td>0.0</td>\n",
       "      <td>0.0</td>\n",
       "      <td>0</td>\n",
       "      <td>0</td>\n",
       "    </tr>\n",
       "  </tbody>\n",
       "</table>\n",
       "<p>5 rows × 806 columns</p>\n",
       "</div>"
      ],
      "text/plain": [
       "            E_0        PX_0        PY_0        PZ_0         E_1        PX_1  \\\n",
       "375  474.071136 -250.347031 -223.651962 -334.738098  103.236237  -48.866222   \n",
       "377  150.504532  120.062393   76.852005  -48.274265   82.257057   63.801739   \n",
       "378  251.645386   10.427651 -147.573746  203.564880  104.147797   10.718256   \n",
       "379  451.566132  129.885437  -99.066292 -420.984100  208.410919   59.033958   \n",
       "380  399.093903 -168.432083  -47.205597 -358.717438  273.691956 -121.926941   \n",
       "\n",
       "          PY_1        PZ_1         E_2       PX_2  ...  E_199  PX_199  PY_199  \\\n",
       "375 -56.790775  -71.025490  105.255569 -55.415001  ...    0.0     0.0     0.0   \n",
       "377  42.754807  -29.454842   48.573559  36.763199  ...    0.0     0.0     0.0   \n",
       "378 -54.497948   88.101395   78.043213   5.724113  ...    0.0     0.0     0.0   \n",
       "379 -46.177090 -194.467941  190.183304  54.069675  ...    0.0     0.0     0.0   \n",
       "380 -30.803854 -243.088928  152.837219 -44.400204  ...    0.0     0.0     0.0   \n",
       "\n",
       "     PZ_199  truthE  truthPX  truthPY  truthPZ  ttv  is_signal_new  \n",
       "375     0.0     0.0      0.0      0.0      0.0    0              0  \n",
       "377     0.0     0.0      0.0      0.0      0.0    0              0  \n",
       "378     0.0     0.0      0.0      0.0      0.0    0              0  \n",
       "379     0.0     0.0      0.0      0.0      0.0    0              0  \n",
       "380     0.0     0.0      0.0      0.0      0.0    0              0  \n",
       "\n",
       "[5 rows x 806 columns]"
      ]
     },
     "execution_count": 4,
     "metadata": {},
     "output_type": "execute_result"
    }
   ],
   "source": [
    "qcd.head(5)"
   ]
  },
  {
   "cell_type": "code",
   "execution_count": 5,
   "id": "936be38f-0630-4544-85cb-c5c33bf0f22b",
   "metadata": {},
   "outputs": [],
   "source": [
    "del(store)"
   ]
  },
  {
   "cell_type": "markdown",
   "id": "32b020e1-45c4-45c6-a575-4bb32b47049b",
   "metadata": {},
   "source": [
    "The data has 4 vectors for up to 200 particles for each jet, with zero padding. Therefore, take the first 800 elements of the data, and reshape into a 3D array (number of jets, particle number, 4 vector element)."
   ]
  },
  {
   "cell_type": "code",
   "execution_count": 6,
   "id": "cf1bc8bb-ce1d-4e47-8ece-da08b3453b78",
   "metadata": {},
   "outputs": [],
   "source": [
    "qcd = (qcd.to_numpy()[:100000, :400]).reshape(-1,100,4)\n",
    "tops = (tops.to_numpy()[:100000, :400]).reshape(-1,100,4)"
   ]
  },
  {
   "cell_type": "code",
   "execution_count": 7,
   "id": "0666411b-8f91-44b2-9a8b-39d4d9a2d2a1",
   "metadata": {},
   "outputs": [
    {
     "name": "stdout",
     "output_type": "stream",
     "text": [
      "(100000, 100, 4) (100000, 100, 4)\n"
     ]
    }
   ],
   "source": [
    "print(qcd.shape, tops.shape)"
   ]
  },
  {
   "cell_type": "code",
   "execution_count": 8,
   "id": "8d6707d5-7506-45e7-ac0c-15f86e3cb660",
   "metadata": {},
   "outputs": [
    {
     "data": {
      "text/plain": [
       "56.71727"
      ]
     },
     "execution_count": 8,
     "metadata": {},
     "output_type": "execute_result"
    }
   ],
   "source": [
    "np.sum(qcd[:,:,0]==0) / (10000000) * 100"
   ]
  },
  {
   "cell_type": "code",
   "execution_count": 9,
   "id": "add0029e-bed2-4648-a99c-b0ba22d591f5",
   "metadata": {},
   "outputs": [
    {
     "name": "stdout",
     "output_type": "stream",
     "text": [
      "(200000, 100, 4)\n"
     ]
    }
   ],
   "source": [
    "events = np.vstack([qcd, tops])\n",
    "print(events.shape)"
   ]
  },
  {
   "cell_type": "code",
   "execution_count": 10,
   "id": "45d00486-c538-4b4c-9e37-698636bc8948",
   "metadata": {},
   "outputs": [
    {
     "name": "stdout",
     "output_type": "stream",
     "text": [
      "(200000, 1)\n"
     ]
    }
   ],
   "source": [
    "labels = np.hstack([np.zeros(qcd.shape[0]), np.ones(tops.shape[0])]).reshape(-1, 1)\n",
    "print(labels.shape)"
   ]
  },
  {
   "cell_type": "code",
   "execution_count": 11,
   "id": "7f83ceed-d522-4199-bdca-44a8c33ffb8a",
   "metadata": {},
   "outputs": [
    {
     "name": "stdout",
     "output_type": "stream",
     "text": [
      "[117102  98098 169714 147773 134709 117878  89898 117212 173934 180284]\n"
     ]
    }
   ],
   "source": [
    "indices = np.arange(events.shape[0])\n",
    "np.random.shuffle(indices)\n",
    "print(indices[:10])"
   ]
  },
  {
   "cell_type": "code",
   "execution_count": 12,
   "id": "7aa949b3-c225-470b-8ee5-06ae00b973c3",
   "metadata": {},
   "outputs": [],
   "source": [
    "events = events[indices]\n",
    "labels = labels[indices]"
   ]
  },
  {
   "cell_type": "code",
   "execution_count": 13,
   "id": "51844a14-d3ec-494a-8536-1bf7e9a7e6f1",
   "metadata": {},
   "outputs": [],
   "source": [
    "np.save('../data/top_tagging/smaller_raw/training_events.npy', events)\n",
    "np.save('../data/top_tagging/smaller_raw/training_labels.npy', labels)"
   ]
  },
  {
   "cell_type": "code",
   "execution_count": 14,
   "id": "8c1943fb-0b13-41a7-9b3c-552994379e92",
   "metadata": {},
   "outputs": [],
   "source": [
    "del(qcd)\n",
    "del(tops)"
   ]
  },
  {
   "cell_type": "code",
   "execution_count": 15,
   "id": "d76859de-a62f-4ae6-8d51-fb990f885203",
   "metadata": {},
   "outputs": [],
   "source": [
    "del(events)\n",
    "del(labels)"
   ]
  },
  {
   "cell_type": "markdown",
   "id": "97b4d3f3-4f2a-4dc9-8b4d-ec0205055388",
   "metadata": {},
   "source": [
    "## Validation"
   ]
  },
  {
   "cell_type": "code",
   "execution_count": 16,
   "id": "dabb7220-da94-4c6b-8b0a-4069c0ee2531",
   "metadata": {},
   "outputs": [],
   "source": [
    "input_filename = \"../data/top_tagging/raw/val.h5\"\n",
    "store = pd.read_hdf(input_filename, key='table')"
   ]
  },
  {
   "cell_type": "code",
   "execution_count": 17,
   "id": "7621c3bf-a75c-4956-83b6-6de0dc2e6b39",
   "metadata": {},
   "outputs": [],
   "source": [
    "qcd = store[store['is_signal_new']==0]\n",
    "tops = store[store['is_signal_new']==1]"
   ]
  },
  {
   "cell_type": "code",
   "execution_count": 18,
   "id": "34d779a3-6657-41df-bf46-4ca9caab360d",
   "metadata": {},
   "outputs": [],
   "source": [
    "del(store)"
   ]
  },
  {
   "cell_type": "code",
   "execution_count": 19,
   "id": "6b98f1df-203b-4e2e-9efd-b11d7c25e09d",
   "metadata": {},
   "outputs": [],
   "source": [
    "qcd = (qcd.to_numpy()[:10000, :400]).reshape(-1,100,4)\n",
    "tops = (tops.to_numpy()[:10000, :400]).reshape(-1,100,4)"
   ]
  },
  {
   "cell_type": "code",
   "execution_count": 20,
   "id": "f1a2ed5d-e3d2-4892-af78-87b05888ac15",
   "metadata": {},
   "outputs": [
    {
     "name": "stdout",
     "output_type": "stream",
     "text": [
      "(10000, 100, 4) (10000, 100, 4)\n"
     ]
    }
   ],
   "source": [
    "print(qcd.shape, tops.shape)"
   ]
  },
  {
   "cell_type": "code",
   "execution_count": 21,
   "id": "326619e1-b15a-4b54-8985-c3e3d47a8b7c",
   "metadata": {},
   "outputs": [
    {
     "name": "stdout",
     "output_type": "stream",
     "text": [
      "(20000, 100, 4)\n",
      "(20000, 1)\n"
     ]
    }
   ],
   "source": [
    "events = np.vstack([qcd, tops])\n",
    "print(events.shape)\n",
    "labels = np.hstack([np.zeros(qcd.shape[0]), np.ones(tops.shape[0])]).reshape(-1, 1)\n",
    "print(labels.shape)"
   ]
  },
  {
   "cell_type": "code",
   "execution_count": 22,
   "id": "daa7d773-9f1e-4d19-8ca8-b57227d6b5ce",
   "metadata": {},
   "outputs": [
    {
     "name": "stdout",
     "output_type": "stream",
     "text": [
      "[ 5791  1139 10795  7938 17057  1178  1059 11671 18467  7179]\n"
     ]
    }
   ],
   "source": [
    "indices = np.arange(events.shape[0])\n",
    "np.random.shuffle(indices)\n",
    "print(indices[:10])"
   ]
  },
  {
   "cell_type": "code",
   "execution_count": 23,
   "id": "3bd95c55-bdef-4c8f-9bc9-3289b111267a",
   "metadata": {},
   "outputs": [],
   "source": [
    "events = events[indices]\n",
    "labels = labels[indices]"
   ]
  },
  {
   "cell_type": "code",
   "execution_count": 24,
   "id": "3a1ccd73-7f2d-4ea7-b1e6-164423c43dc1",
   "metadata": {},
   "outputs": [],
   "source": [
    "np.save('../data/top_tagging/smaller_raw/val_events.npy', events)\n",
    "np.save('../data/top_tagging/smaller_raw/val_labels.npy', labels)"
   ]
  },
  {
   "cell_type": "markdown",
   "id": "08c7680f-a2ff-4807-a109-0e89fe083110",
   "metadata": {},
   "source": [
    "## Testing"
   ]
  },
  {
   "cell_type": "code",
   "execution_count": 25,
   "id": "c53487f2-1c20-4143-96c4-402e1a8c9681",
   "metadata": {},
   "outputs": [],
   "source": [
    "input_filename = \"../data/top_tagging/raw/test.h5\"\n",
    "store = pd.read_hdf(input_filename, key='table')"
   ]
  },
  {
   "cell_type": "code",
   "execution_count": 26,
   "id": "12fdcb0e-2647-46c0-98ef-60a77d100fc3",
   "metadata": {},
   "outputs": [],
   "source": [
    "qcd = store[store['is_signal_new']==0]\n",
    "tops = store[store['is_signal_new']==1]\n",
    "del(store)"
   ]
  },
  {
   "cell_type": "code",
   "execution_count": 27,
   "id": "00ffea8a-e511-4355-a45a-7ef79f54df1e",
   "metadata": {},
   "outputs": [],
   "source": [
    "qcd = (qcd.to_numpy()[:10000, :400]).reshape(-1,100,4)\n",
    "tops = (tops.to_numpy()[:10000, :400]).reshape(-1,100,4)"
   ]
  },
  {
   "cell_type": "code",
   "execution_count": 28,
   "id": "1d2ca47c-380c-4e66-bde5-62ecf9c593b5",
   "metadata": {},
   "outputs": [
    {
     "name": "stdout",
     "output_type": "stream",
     "text": [
      "(20000, 100, 4)\n",
      "(20000, 1)\n"
     ]
    }
   ],
   "source": [
    "events = np.vstack([qcd, tops])\n",
    "print(events.shape)\n",
    "labels = np.hstack([np.zeros(qcd.shape[0]), np.ones(tops.shape[0])]).reshape(-1, 1)\n",
    "print(labels.shape)"
   ]
  },
  {
   "cell_type": "code",
   "execution_count": 29,
   "id": "446261fb-05bd-470e-b6b1-a40102ac0e22",
   "metadata": {},
   "outputs": [
    {
     "name": "stdout",
     "output_type": "stream",
     "text": [
      "[ 6405 16595  9808 19505  9057 15569  6160 12649  2459 12423]\n"
     ]
    }
   ],
   "source": [
    "indices = np.arange(events.shape[0])\n",
    "np.random.shuffle(indices)\n",
    "print(indices[:10])"
   ]
  },
  {
   "cell_type": "code",
   "execution_count": 30,
   "id": "01110f5f-6410-45d7-9955-c5537cb51894",
   "metadata": {},
   "outputs": [],
   "source": [
    "events = events[indices]\n",
    "labels = labels[indices]"
   ]
  },
  {
   "cell_type": "code",
   "execution_count": 31,
   "id": "0316dde8-a0af-412a-a9ce-53126a52be22",
   "metadata": {},
   "outputs": [],
   "source": [
    "np.save('../data/top_tagging/smaller_raw/test_events.npy', events)\n",
    "np.save('../data/top_tagging/smaller_raw/test_labels.npy', labels)"
   ]
  },
  {
   "cell_type": "code",
   "execution_count": null,
   "id": "1b1657f3-1aff-4feb-9871-d7dc096f3dd7",
   "metadata": {},
   "outputs": [],
   "source": []
  }
 ],
 "metadata": {
  "kernelspec": {
   "display_name": "Python 3 (ipykernel)",
   "language": "python",
   "name": "python3"
  },
  "language_info": {
   "codemirror_mode": {
    "name": "ipython",
    "version": 3
   },
   "file_extension": ".py",
   "mimetype": "text/x-python",
   "name": "python",
   "nbconvert_exporter": "python",
   "pygments_lexer": "ipython3",
   "version": "3.9.7"
  }
 },
 "nbformat": 4,
 "nbformat_minor": 5
}
